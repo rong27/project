{
 "cells": [
  {
   "cell_type": "markdown",
   "metadata": {},
   "source": [
    "# How to find similar documents using word2vec model"
   ]
  },
  {
   "cell_type": "markdown",
   "metadata": {},
   "source": [
    "# Read news dataset"
   ]
  },
  {
   "cell_type": "code",
   "execution_count": 1,
   "metadata": {},
   "outputs": [],
   "source": [
    "import pandas as pd"
   ]
  },
  {
   "cell_type": "code",
   "execution_count": 2,
   "metadata": {},
   "outputs": [],
   "source": [
    "df = pd.read_csv('preprocessed_news_218posts.csv', sep='|')"
   ]
  },
  {
   "cell_type": "markdown",
   "metadata": {},
   "source": [
    "# Get latest categorical news for displaying on django website"
   ]
  },
  {
   "cell_type": "code",
   "execution_count": 3,
   "metadata": {
    "scrolled": true
   },
   "outputs": [
    {
     "data": {
      "text/plain": [
       "'aipl_20220929_1'"
      ]
     },
     "execution_count": 3,
     "metadata": {},
     "output_type": "execute_result"
    }
   ],
   "source": [
    "df.iloc[0].item_id"
   ]
  },
  {
   "cell_type": "code",
   "execution_count": 4,
   "metadata": {},
   "outputs": [],
   "source": [
    "cate = '娛樂'\n",
    "df_cate = df[df.category == cate]"
   ]
  },
  {
   "cell_type": "code",
   "execution_count": 5,
   "metadata": {},
   "outputs": [
    {
     "data": {
      "text/plain": [
       "item_id                                                  amov_20220929_1\n",
       "date                                                          2022-09-29\n",
       "title                                              紀曉君當天兵媽太自然  曝戲外愛對女兒耍寶\n",
       "content                歌手紀曉君和演員姚坤君在茁劇場新戲「誰說媽媽像月亮」是小情侶的冤家媽媽們，兩人今天在媒體茶敘...\n",
       "sentiment                                                            1.0\n",
       "summary                ['」紀曉君在「誰說媽媽像月亮」是名常對兒子搗亂的天兵媽媽', '歌手紀曉君和演員姚坤君在茁...\n",
       "top_key_freq           [('紀曉君', 14), ('媽媽', 10), ('姚坤君', 6), ('老師', 5...\n",
       "tokens                 ['歌手', '紀曉君', '和', '演員', '姚坤君', '在', '茁劇場', '新...\n",
       "tokens_rm_stopwords    ['歌手', '紀曉君', '演員', '姚坤君', '茁劇場', '媽媽', '月亮', ...\n",
       "entities               {(147, 150, 'PERSON', '紀曉君'), (37, 38, 'CARDIN...\n",
       "token_pos              [('歌手', 'Na'), ('紀曉君', 'Nb'), ('和', 'Caa'), ('...\n",
       "link                   https://www.cna.com.tw/news/amov/202209290356....\n",
       "photo_link             https://imgcdn.cna.com.tw/www/WebPhotos/200/20...\n",
       "category                                                              娛樂\n",
       "Name: 100, dtype: object"
      ]
     },
     "execution_count": 5,
     "metadata": {},
     "output_type": "execute_result"
    }
   ],
   "source": [
    "df_cate.iloc[0]"
   ]
  },
  {
   "cell_type": "markdown",
   "metadata": {},
   "source": [
    "## Define function: get_cate_latest_news()"
   ]
  },
  {
   "cell_type": "code",
   "execution_count": 6,
   "metadata": {},
   "outputs": [],
   "source": [
    "#-- Given a category, get the latest news\n",
    "def get_cate_latest_news(cate):\n",
    "    items = []\n",
    "    df_cate = df[df.category == cate]\n",
    "\n",
    "    # get the last news (the latest news)\n",
    "    df_cate = df_cate.tail(5)  # Only 5 pieces\n",
    "    # only return 10 news\n",
    "\n",
    "    for i in range( len(df_cate)):\n",
    "        item_id = df_cate.iloc[i].item_id    \n",
    "        title = df_cate.iloc[i].title\n",
    "        content = df_cate.iloc[i].content\n",
    "        category = df_cate.iloc[i].category\n",
    "        link = df_cate.iloc[i].link\n",
    "        photo_link = df_cate.iloc[i].photo_link\n",
    "        # if photo_link value is NaN, replace it with empty string \n",
    "        if pd.isna(photo_link):\n",
    "            photo_link=''\n",
    "\n",
    "        item = {\n",
    "            \"id\": item_id, \n",
    "            \"category\": category, \n",
    "            \"title\": title, \n",
    "            \"link\": link,\n",
    "            \"photo_link\": photo_link\n",
    "        }\n",
    "\n",
    "        items.append(item)\n",
    "    \n",
    "    return items"
   ]
  },
  {
   "cell_type": "code",
   "execution_count": 7,
   "metadata": {},
   "outputs": [
    {
     "data": {
      "text/plain": [
       "item_id                                                  amov_20220929_1\n",
       "date                                                          2022-09-29\n",
       "title                                              紀曉君當天兵媽太自然  曝戲外愛對女兒耍寶\n",
       "content                歌手紀曉君和演員姚坤君在茁劇場新戲「誰說媽媽像月亮」是小情侶的冤家媽媽們，兩人今天在媒體茶敘...\n",
       "sentiment                                                            1.0\n",
       "summary                ['」紀曉君在「誰說媽媽像月亮」是名常對兒子搗亂的天兵媽媽', '歌手紀曉君和演員姚坤君在茁...\n",
       "top_key_freq           [('紀曉君', 14), ('媽媽', 10), ('姚坤君', 6), ('老師', 5...\n",
       "tokens                 ['歌手', '紀曉君', '和', '演員', '姚坤君', '在', '茁劇場', '新...\n",
       "tokens_rm_stopwords    ['歌手', '紀曉君', '演員', '姚坤君', '茁劇場', '媽媽', '月亮', ...\n",
       "entities               {(147, 150, 'PERSON', '紀曉君'), (37, 38, 'CARDIN...\n",
       "token_pos              [('歌手', 'Na'), ('紀曉君', 'Nb'), ('和', 'Caa'), ('...\n",
       "link                   https://www.cna.com.tw/news/amov/202209290356....\n",
       "photo_link             https://imgcdn.cna.com.tw/www/WebPhotos/200/20...\n",
       "category                                                              娛樂\n",
       "Name: 100, dtype: object"
      ]
     },
     "execution_count": 7,
     "metadata": {},
     "output_type": "execute_result"
    }
   ],
   "source": [
    "df_cate.iloc[0]"
   ]
  },
  {
   "cell_type": "code",
   "execution_count": 8,
   "metadata": {},
   "outputs": [
    {
     "data": {
      "text/plain": [
       "str"
      ]
     },
     "execution_count": 8,
     "metadata": {},
     "output_type": "execute_result"
    }
   ],
   "source": [
    "type(df_cate.iloc[0].item_id)"
   ]
  },
  {
   "cell_type": "code",
   "execution_count": 9,
   "metadata": {},
   "outputs": [
    {
     "data": {
      "text/plain": [
       "[{'id': 'aipl_20220929_16',\n",
       "  'category': '政治',\n",
       "  'title': '林為洲提竹北舊城區新地標  推增建國民運動中心',\n",
       "  'link': 'https://www.cna.com.tw/news/aipl/202209290239.aspx',\n",
       "  'photo_link': 'https://imgcdn.cna.com.tw/www/WebPhotos/200/20220929/1051x768_20220929000161.jpg'},\n",
       " {'id': 'aipl_20220929_17',\n",
       "  'category': '政治',\n",
       "  'title': '成立農漁會後援會 楊文科續推做好基層農村建設',\n",
       "  'link': 'https://www.cna.com.tw/news/aipl/202209290237.aspx',\n",
       "  'photo_link': 'https://imgcdn.cna.com.tw/www/WebPhotos/200/20220929/1188x768_20220929000168.jpg'},\n",
       " {'id': 'aipl_20220929_18',\n",
       "  'category': '政治',\n",
       "  'title': '18歲公民權修憲案公告期滿 11/26公民複決',\n",
       "  'link': 'https://www.cna.com.tw/news/aipl/202209290232.aspx',\n",
       "  'photo_link': 'https://imgcdn.cna.com.tw/www/webphotos/WebCover/420/20220929/800x600_643333227861.jpg'},\n",
       " {'id': 'aipl_20220929_19',\n",
       "  'category': '政治',\n",
       "  'title': '世界台商聯合總會閉幕  賴清德籲替民主台灣發聲',\n",
       "  'link': 'https://www.cna.com.tw/news/aipl/202209290224.aspx',\n",
       "  'photo_link': 'https://imgcdn.cna.com.tw/www/WebPhotos/200/20220929/1365x768_20220929000164.jpg'},\n",
       " {'id': 'aipl_20220929_20',\n",
       "  'category': '政治',\n",
       "  'title': '台美日澳聯大議期合辦GCTF會議  澳洲首度加入',\n",
       "  'link': 'https://www.cna.com.tw/news/aipl/202209290216.aspx',\n",
       "  'photo_link': 'https://imgcdn.cna.com.tw/www/WebPhotos/200/20220929/1365x768_20220929000167.jpg'}]"
      ]
     },
     "execution_count": 9,
     "metadata": {},
     "output_type": "execute_result"
    }
   ],
   "source": [
    "get_cate_latest_news(\"政治\")"
   ]
  },
  {
   "cell_type": "markdown",
   "metadata": {},
   "source": [
    "# Get news content for displaying on django website"
   ]
  },
  {
   "cell_type": "code",
   "execution_count": 10,
   "metadata": {},
   "outputs": [],
   "source": [
    "itemid = 'amov_20220929_1'"
   ]
  },
  {
   "cell_type": "code",
   "execution_count": 11,
   "metadata": {},
   "outputs": [
    {
     "data": {
      "text/html": [
       "<div>\n",
       "<style scoped>\n",
       "    .dataframe tbody tr th:only-of-type {\n",
       "        vertical-align: middle;\n",
       "    }\n",
       "\n",
       "    .dataframe tbody tr th {\n",
       "        vertical-align: top;\n",
       "    }\n",
       "\n",
       "    .dataframe thead th {\n",
       "        text-align: right;\n",
       "    }\n",
       "</style>\n",
       "<table border=\"1\" class=\"dataframe\">\n",
       "  <thead>\n",
       "    <tr style=\"text-align: right;\">\n",
       "      <th></th>\n",
       "      <th>item_id</th>\n",
       "      <th>date</th>\n",
       "      <th>title</th>\n",
       "      <th>content</th>\n",
       "      <th>sentiment</th>\n",
       "      <th>summary</th>\n",
       "      <th>top_key_freq</th>\n",
       "      <th>tokens</th>\n",
       "      <th>tokens_rm_stopwords</th>\n",
       "      <th>entities</th>\n",
       "      <th>token_pos</th>\n",
       "      <th>link</th>\n",
       "      <th>photo_link</th>\n",
       "      <th>category</th>\n",
       "    </tr>\n",
       "  </thead>\n",
       "  <tbody>\n",
       "    <tr>\n",
       "      <th>100</th>\n",
       "      <td>amov_20220929_1</td>\n",
       "      <td>2022-09-29</td>\n",
       "      <td>紀曉君當天兵媽太自然  曝戲外愛對女兒耍寶</td>\n",
       "      <td>歌手紀曉君和演員姚坤君在茁劇場新戲「誰說媽媽像月亮」是小情侶的冤家媽媽們，兩人今天在媒體茶敘...</td>\n",
       "      <td>1.0</td>\n",
       "      <td>['」紀曉君在「誰說媽媽像月亮」是名常對兒子搗亂的天兵媽媽', '歌手紀曉君和演員姚坤君在茁...</td>\n",
       "      <td>[('紀曉君', 14), ('媽媽', 10), ('姚坤君', 6), ('老師', 5...</td>\n",
       "      <td>['歌手', '紀曉君', '和', '演員', '姚坤君', '在', '茁劇場', '新...</td>\n",
       "      <td>['歌手', '紀曉君', '演員', '姚坤君', '茁劇場', '媽媽', '月亮', ...</td>\n",
       "      <td>{(147, 150, 'PERSON', '紀曉君'), (37, 38, 'CARDIN...</td>\n",
       "      <td>[('歌手', 'Na'), ('紀曉君', 'Nb'), ('和', 'Caa'), ('...</td>\n",
       "      <td>https://www.cna.com.tw/news/amov/202209290356....</td>\n",
       "      <td>https://imgcdn.cna.com.tw/www/WebPhotos/200/20...</td>\n",
       "      <td>娛樂</td>\n",
       "    </tr>\n",
       "  </tbody>\n",
       "</table>\n",
       "</div>"
      ],
      "text/plain": [
       "             item_id        date                  title  \\\n",
       "100  amov_20220929_1  2022-09-29  紀曉君當天兵媽太自然  曝戲外愛對女兒耍寶   \n",
       "\n",
       "                                               content  sentiment  \\\n",
       "100  歌手紀曉君和演員姚坤君在茁劇場新戲「誰說媽媽像月亮」是小情侶的冤家媽媽們，兩人今天在媒體茶敘...        1.0   \n",
       "\n",
       "                                               summary  \\\n",
       "100  ['」紀曉君在「誰說媽媽像月亮」是名常對兒子搗亂的天兵媽媽', '歌手紀曉君和演員姚坤君在茁...   \n",
       "\n",
       "                                          top_key_freq  \\\n",
       "100  [('紀曉君', 14), ('媽媽', 10), ('姚坤君', 6), ('老師', 5...   \n",
       "\n",
       "                                                tokens  \\\n",
       "100  ['歌手', '紀曉君', '和', '演員', '姚坤君', '在', '茁劇場', '新...   \n",
       "\n",
       "                                   tokens_rm_stopwords  \\\n",
       "100  ['歌手', '紀曉君', '演員', '姚坤君', '茁劇場', '媽媽', '月亮', ...   \n",
       "\n",
       "                                              entities  \\\n",
       "100  {(147, 150, 'PERSON', '紀曉君'), (37, 38, 'CARDIN...   \n",
       "\n",
       "                                             token_pos  \\\n",
       "100  [('歌手', 'Na'), ('紀曉君', 'Nb'), ('和', 'Caa'), ('...   \n",
       "\n",
       "                                                  link  \\\n",
       "100  https://www.cna.com.tw/news/amov/202209290356....   \n",
       "\n",
       "                                            photo_link category  \n",
       "100  https://imgcdn.cna.com.tw/www/WebPhotos/200/20...       娛樂  "
      ]
     },
     "execution_count": 11,
     "metadata": {},
     "output_type": "execute_result"
    }
   ],
   "source": [
    "df.loc[df.item_id == itemid]"
   ]
  },
  {
   "cell_type": "code",
   "execution_count": 12,
   "metadata": {},
   "outputs": [
    {
     "data": {
      "text/plain": [
       "100    amov_20220929_1\n",
       "Name: item_id, dtype: object"
      ]
     },
     "execution_count": 12,
     "metadata": {},
     "output_type": "execute_result"
    }
   ],
   "source": [
    "df.loc[df.item_id == itemid].item_id"
   ]
  },
  {
   "cell_type": "code",
   "execution_count": 13,
   "metadata": {},
   "outputs": [
    {
     "data": {
      "text/plain": [
       "['amov_20220929_1']"
      ]
     },
     "execution_count": 13,
     "metadata": {},
     "output_type": "execute_result"
    }
   ],
   "source": [
    "df.loc[df.item_id == itemid].item_id.tolist()"
   ]
  },
  {
   "cell_type": "code",
   "execution_count": 14,
   "metadata": {},
   "outputs": [
    {
     "data": {
      "text/plain": [
       "'amov_20220929_1'"
      ]
     },
     "execution_count": 14,
     "metadata": {},
     "output_type": "execute_result"
    }
   ],
   "source": [
    "df.loc[df.item_id == itemid].item_id.tolist()[0]"
   ]
  },
  {
   "cell_type": "markdown",
   "metadata": {},
   "source": [
    "## Define function: get_news_content()"
   ]
  },
  {
   "cell_type": "code",
   "execution_count": 15,
   "metadata": {},
   "outputs": [],
   "source": [
    "# -- Given a item_id, get document information\n",
    "def get_news_content(item_id):\n",
    "    df_item = df[df.item_id == item_id]\n",
    "    title = df_item.iloc[0].title\n",
    "    content = df_item.iloc[0].content\n",
    "    category = df_item.iloc[0].category\n",
    "    link = df_item.iloc[0].link\n",
    "    date = df_item.iloc[0].date\n",
    "    photo_link = df_item.iloc[0].photo_link\n",
    "    # if photo_link value is NaN, replace it with empty string \n",
    "    if pd.isna(photo_link):\n",
    "        photo_link=''\n",
    "\n",
    "    news_info = {\n",
    "        \"id\": item_id,\n",
    "        \"category\": category,\n",
    "        \"title\": title,\n",
    "        \"content\": content,\n",
    "        \"link\": link,\n",
    "        \"date\": date,\n",
    "        \"photo_link\": photo_link\n",
    "    }\n",
    "\n",
    "    return news_info"
   ]
  },
  {
   "cell_type": "code",
   "execution_count": 16,
   "metadata": {},
   "outputs": [
    {
     "data": {
      "text/plain": [
       "{'id': 'amov_20220929_1',\n",
       " 'category': '娛樂',\n",
       " 'title': '紀曉君當天兵媽太自然  曝戲外愛對女兒耍寶',\n",
       " 'content': '歌手紀曉君和演員姚坤君在茁劇場新戲「誰說媽媽像月亮」是小情侶的冤家媽媽們，兩人今天在媒體茶敘隔空合體，紀曉君更自曝戲裡戲外都是無厘頭媽媽，常在女兒做功課時旁邊大叫。紀曉君和姚坤君兩人分別飾演張耀仁和葛盈瑄的母親，兩人在戲中一見面就在高級茶館攤牌，姚坤君開了張支票，要張耀仁跟自己女兒分手。沒想到紀曉君根本不買帳，沒拿支票就走，還只付自己的茶錢，害姚坤君被服務生攔下買單。兩人笑言拍完都笑得要命。特別的是，紀曉君是「誰說媽媽像月亮」導演王小棣親自到台東請來演戲。她回憶，聽聞小棣老師要來，還特地煮了燒酒雞迎接貴客。當時表舅和叔公胡德夫都在現場，當她得知小棣老師和胡德夫都是淡江大學畢業，兩人也認識就卸下心防，願意把自己交給小棣老師，「那一刻起，我就把老師當家人，只要被我當家人，很多事我都願意聽。」在跟王小棣對戲及畫面講解時，紀曉君怕自己背不起台詞，乾脆直接把自己歸零，融入角色。身為表演老師的姚坤君也稱讚紀曉君的做法是對的，「拍戲第一要愛上導演，並且愛上自己的角色。如果妳都不愛，那就進入不了劇情和角色，痛苦的會是演員自己。」她也對紀曉君的角色挑戰很羨慕，「如果是我，我會跪求演出這角色。」紀曉君在「誰說媽媽像月亮」是名常對兒子搗亂的天兵媽媽，真實生活裡紀曉君也說自己真的是個無厘頭媽媽，「我女兒在做功課，我會跑去突然大叫或鬧她，她就說，不要這樣啦！有時候女兒還會被我嚇哭，那我就很開心，然後呼呼她！」紀曉君強調會在孩子面前耍神經、耍寶，但嚴格起來孩子是很怕她的，她對孩子有要求。在劇中兩名媽媽都是沒有登記結婚，紀曉君坦言自己很保守，不可能沒結婚就幫對方生孩子，「如果生了，也是跟我姓。」姚坤君說如果不登記，遇到未來誰生病必須對方簽字，就得自負責任。「誰說媽媽像月亮」將於10月1日起，每週六晚上9時在MyVideo、公視同步播出，晚上10時台視播出；隔天在中華電信MOD、Hami Video晚上8時上架。紀曉君紀曉君幽默扮無厘頭媽媽  王小棣赴台東邀戲',\n",
       " 'link': 'https://www.cna.com.tw/news/amov/202209290356.aspx',\n",
       " 'date': '2022-09-29',\n",
       " 'photo_link': 'https://imgcdn.cna.com.tw/www/WebPhotos/200/20220929/1407x768_20220929000211.jpg'}"
      ]
     },
     "execution_count": 16,
     "metadata": {},
     "output_type": "execute_result"
    }
   ],
   "source": [
    "get_news_content(itemid)"
   ]
  },
  {
   "cell_type": "markdown",
   "metadata": {},
   "source": [
    "# Load Doc2vec model"
   ]
  },
  {
   "cell_type": "raw",
   "metadata": {},
   "source": [
    "We must use Gensim with the same version"
   ]
  },
  {
   "cell_type": "code",
   "execution_count": 17,
   "metadata": {},
   "outputs": [],
   "source": [
    "from gensim.models.doc2vec import Doc2Vec\n",
    "model = Doc2Vec.load(\"cna_news_doc2vec.model\")"
   ]
  },
  {
   "cell_type": "markdown",
   "metadata": {},
   "source": [
    "# Given new keywords, find similar documents"
   ]
  },
  {
   "cell_type": "raw",
   "metadata": {},
   "source": [
    "Input: keywords\n",
    "\n",
    "Output: top n documents ranked by similarity\n",
    "\n",
    "Using model.docvecs.most_similar([ new_vector ])\n",
    "\n",
    "給幾個關鍵字，找出最相似的幾篇文章推薦"
   ]
  },
  {
   "cell_type": "code",
   "execution_count": 18,
   "metadata": {},
   "outputs": [],
   "source": [
    "keywords = ['智慧', '台灣' ]\n",
    "\n",
    "# infer vector of keywords from the word2vec model (vector space)\n",
    "new_vector = model.infer_vector( keywords )"
   ]
  },
  {
   "cell_type": "code",
   "execution_count": 19,
   "metadata": {},
   "outputs": [
    {
     "data": {
      "text/plain": [
       "array([-4.7160592e-03,  3.2768238e-03, -2.8133024e-03, -1.1807955e-03,\n",
       "       -1.1129719e-03, -1.6098281e-03, -7.6177780e-04, -6.0695346e-04,\n",
       "       -1.1695381e-03,  1.4763763e-03, -5.8485242e-04,  2.0626283e-03,\n",
       "       -1.7065278e-03, -1.1904420e-03,  4.1843337e-04, -3.8478917e-03,\n",
       "        1.0454564e-03, -4.3906411e-03, -1.1751567e-03, -2.8224788e-03,\n",
       "        3.7753198e-03,  7.0818508e-04,  1.9697328e-03,  1.3359085e-03,\n",
       "        6.2692817e-04,  1.5571113e-03, -1.2470703e-03,  1.7611852e-03,\n",
       "        7.9061632e-04,  1.4037122e-03,  3.3342693e-04,  1.3315830e-03,\n",
       "       -8.5431186e-04,  4.7459970e-03,  3.9913342e-03, -3.3691577e-03,\n",
       "        2.6052987e-04, -4.1371854e-03,  1.9337260e-04,  3.3068380e-03,\n",
       "        1.7197124e-03, -4.7526825e-03, -1.2931587e-03,  4.3095648e-03,\n",
       "       -1.3693612e-03,  7.2260341e-04,  4.2667063e-03, -8.4511604e-04,\n",
       "        2.6757994e-03,  2.4314271e-03,  9.1812562e-04,  6.7808194e-04,\n",
       "       -1.9683172e-03, -2.2587993e-03, -1.7412434e-03, -2.6634252e-03,\n",
       "        3.0012354e-03,  4.0328754e-03,  3.5537302e-03,  2.3456260e-03,\n",
       "        4.6323654e-03, -1.0069300e-03, -3.1257016e-03,  4.5186938e-03,\n",
       "       -3.3067004e-03, -4.2548189e-03, -4.3819244e-03,  2.2699421e-03,\n",
       "        3.2082042e-03,  4.9863444e-03, -4.2310632e-03, -3.5396458e-03,\n",
       "        1.2827460e-03, -1.6357629e-03, -3.1753210e-03, -1.2296374e-03,\n",
       "       -2.0754733e-03,  4.5377887e-03, -1.4671062e-03, -1.5478092e-03,\n",
       "        1.2695397e-03,  1.7408178e-03, -2.6521420e-06, -8.8833523e-04,\n",
       "        4.2719776e-03,  4.4178511e-03,  3.7705838e-03, -3.0674085e-03,\n",
       "       -3.5770903e-03,  1.8296128e-03, -3.9260024e-03,  1.9071233e-03,\n",
       "       -1.4912927e-03, -1.0514033e-03, -5.4505130e-04,  1.4917654e-03,\n",
       "        2.0448144e-03,  4.6074144e-03, -3.8636455e-03,  4.8572454e-03],\n",
       "      dtype=float32)"
      ]
     },
     "execution_count": 19,
     "metadata": {},
     "output_type": "execute_result"
    }
   ],
   "source": [
    "new_vector"
   ]
  },
  {
   "cell_type": "code",
   "execution_count": null,
   "metadata": {},
   "outputs": [],
   "source": []
  },
  {
   "cell_type": "code",
   "execution_count": 20,
   "metadata": {},
   "outputs": [
    {
     "name": "stderr",
     "output_type": "stream",
     "text": [
      "C:\\Users\\USER\\AppData\\Local\\Temp\\ipykernel_34216\\4240576568.py:2: DeprecationWarning: Call to deprecated `docvecs` (The `docvecs` property has been renamed `dv`.).\n",
      "  model.docvecs.most_similar( positive= [new_vector], topn=5  )\n"
     ]
    },
    {
     "data": {
      "text/plain": [
       "[('ahel_20220929_4', 0.18443980813026428),\n",
       " ('ahel_20220929_3', 0.1760752946138382),\n",
       " ('asc_20220930_2', 0.16297820210456848),\n",
       " ('asoc_20220929_1', 0.14656753838062286),\n",
       " ('aie_20220929_7', 0.122268907725811)]"
      ]
     },
     "execution_count": 20,
     "metadata": {},
     "output_type": "execute_result"
    }
   ],
   "source": [
    "# based on the vector, find several nearby tags (item_id) \n",
    "model.docvecs.most_similar(positive = [new_vector], topn = 5  )"
   ]
  },
  {
   "cell_type": "code",
   "execution_count": 22,
   "metadata": {},
   "outputs": [
    {
     "name": "stdout",
     "output_type": "stream",
     "text": [
      "運動 兄弟逆轉秀奪9連勝 與龍頭桃猿勝差剩1場[影]\n",
      "兩岸 中共20大前收緊輿論 官方掃蕩社群8萬多筆謠言\n",
      "科技 Meta：監察委員會設立2年來 收到逾百萬件申訴\n"
     ]
    },
    {
     "name": "stderr",
     "output_type": "stream",
     "text": [
      "C:\\Users\\USER\\AppData\\Local\\Temp\\ipykernel_34216\\2650097095.py:4: DeprecationWarning: Call to deprecated `docvecs` (The `docvecs` property has been renamed `dv`.).\n",
      "  for item in model.docvecs.most_similar( positive = [new_vector], topn =3 ):\n"
     ]
    }
   ],
   "source": [
    "keywords  = ['智慧', '農業' ]\n",
    "\n",
    "new_vector = model.infer_vector(keywords)\n",
    "for item in model.docvecs.most_similar( positive = [new_vector], topn =3 ):\n",
    "    df_item = df[df.item_id == item[0]]\n",
    "    title = df_item.iloc[0].title\n",
    "    content = df_item.iloc[0].content\n",
    "    category = df_item.iloc[0].category\n",
    "    link = df_item.iloc[0].link\n",
    "    print(category, title)"
   ]
  },
  {
   "cell_type": "markdown",
   "metadata": {},
   "source": [
    "## All-in-one function: get_keywords_most_similar()"
   ]
  },
  {
   "cell_type": "code",
   "execution_count": 23,
   "metadata": {},
   "outputs": [],
   "source": [
    "#--Given news keywords, find similar documents \n",
    "def get_keywords_most_similar(keywords):\n",
    "    new_vector = model.infer_vector(keywords)\n",
    "    similar_items = model.docvecs.most_similar(positive=[new_vector], topn=5)\n",
    "    items = []\n",
    "    for item_id, score in similar_items:\n",
    "        df_item = df[df.item_id == item_id]\n",
    "        \n",
    "        title = df_item.iloc[0].title\n",
    "        content = df_item.iloc[0].content\n",
    "        category = df_item.iloc[0].category\n",
    "        link = df_item.iloc[0].link\n",
    "        photo_link = df_item.iloc[0].photo_link\n",
    "        # if photo_link value is NaN, replace it with empty string \n",
    "        if pd.isna(photo_link):\n",
    "            photo_link=''\n",
    "\n",
    "        score = round(score, 2)\n",
    "        \n",
    "        item = {\n",
    "            \"id\": item_id, \n",
    "            \"category\": category, \n",
    "            \"title\": title, \n",
    "            \"link\": link,\n",
    "            'score': score, \n",
    "            \"photo_link\": photo_link\n",
    "            }\n",
    "        items.append(item)\n",
    "\n",
    "    return items"
   ]
  },
  {
   "cell_type": "code",
   "execution_count": 24,
   "metadata": {},
   "outputs": [
    {
     "name": "stderr",
     "output_type": "stream",
     "text": [
      "C:\\Users\\USER\\AppData\\Local\\Temp\\ipykernel_34216\\1528248073.py:4: DeprecationWarning: Call to deprecated `docvecs` (The `docvecs` property has been renamed `dv`.).\n",
      "  similar_items = model.docvecs.most_similar(positive=[new_vector], topn=5)\n"
     ]
    },
    {
     "data": {
      "text/plain": [
       "[{'id': 'aipl_20220929_18',\n",
       "  'category': '政治',\n",
       "  'title': '18歲公民權修憲案公告期滿 11/26公民複決',\n",
       "  'link': 'https://www.cna.com.tw/news/aipl/202209290232.aspx',\n",
       "  'score': 0.56,\n",
       "  'photo_link': 'https://imgcdn.cna.com.tw/www/webphotos/WebCover/420/20220929/800x600_643333227861.jpg'},\n",
       " {'id': 'acn_20220929_2',\n",
       "  'category': '兩岸',\n",
       "  'title': '刺激房市 中國階段性放寬首套住房貸款利率下限',\n",
       "  'link': 'https://www.cna.com.tw/news/acn/202209290381.aspx',\n",
       "  'score': 0.56,\n",
       "  'photo_link': ''},\n",
       " {'id': 'asc_20220929_4',\n",
       "  'category': '證卷',\n",
       "  'title': '土洋同步買超華新 外資9月大賣台積電和鴻海',\n",
       "  'link': 'https://www.cna.com.tw/news/afe/202209290276.aspx',\n",
       "  'score': 0.56,\n",
       "  'photo_link': ''},\n",
       " {'id': 'aopl_20220929_15',\n",
       "  'category': '國際',\n",
       "  'title': '賀錦麗剛離開南韓返美 北韓5天內3度射彈',\n",
       "  'link': 'https://www.cna.com.tw/news/aopl/202209290361.aspx',\n",
       "  'score': 0.55,\n",
       "  'photo_link': 'https://imgcdn.cna.com.tw/www/webphotos/WebCover/420/20220929/1134x851_83859563352.jpg'},\n",
       " {'id': 'ahel_20220929_9',\n",
       "  'category': '生活',\n",
       "  'title': '嘉義蒜頭糖廠五分車 延駛高鐵站完成履勘',\n",
       "  'link': 'https://www.cna.com.tw/news/ahel/202209290331.aspx',\n",
       "  'score': 0.55,\n",
       "  'photo_link': ''}]"
      ]
     },
     "execution_count": 24,
     "metadata": {},
     "output_type": "execute_result"
    }
   ],
   "source": [
    "keywords = ['台北', '農業' ]\n",
    "\n",
    "get_keywords_most_similar(keywords)"
   ]
  },
  {
   "cell_type": "markdown",
   "metadata": {},
   "source": [
    "# Given an item_id, find similar documents"
   ]
  },
  {
   "cell_type": "raw",
   "metadata": {},
   "source": [
    "Input: item_id (one of item_ids in the word2vec model)\n",
    "\n",
    "Output: top n documents ranked by similarity\n",
    "\n",
    "Using model.docvecs.most_similar([item_id])\n",
    "\n",
    "(在訓練資料集內的)某篇文件與 哪幾篇最相似？相似度多少？"
   ]
  },
  {
   "cell_type": "code",
   "execution_count": 25,
   "metadata": {},
   "outputs": [
    {
     "name": "stderr",
     "output_type": "stream",
     "text": [
      "C:\\Users\\USER\\AppData\\Local\\Temp\\ipykernel_34216\\165292357.py:4: DeprecationWarning: Call to deprecated `docvecs` (The `docvecs` property has been renamed `dv`.).\n",
      "  model.docvecs.most_similar([itemid], topn = 5)\n"
     ]
    },
    {
     "data": {
      "text/plain": [
       "[('aopl_20220929_6', 0.9602535963058472),\n",
       " ('ait_20220922_20', 0.9592099785804749),\n",
       " ('asc_20220929_6', 0.9583355784416199),\n",
       " ('ahel_20220929_10', 0.9576078057289124),\n",
       " ('aopl_20220929_8', 0.9561548829078674)]"
      ]
     },
     "execution_count": 25,
     "metadata": {},
     "output_type": "execute_result"
    }
   ],
   "source": [
    "# Find the top-N most similar documents\n",
    "\n",
    "# e.g., find similar documents for the first item_id\n",
    "model.docvecs.most_similar([itemid], topn = 5)"
   ]
  },
  {
   "cell_type": "markdown",
   "metadata": {},
   "source": [
    "## All-in-one function: get_itemid_most_similar()"
   ]
  },
  {
   "cell_type": "code",
   "execution_count": 26,
   "metadata": {},
   "outputs": [],
   "source": [
    "#-- Given item_id, get three similar news based on the doc2vec model\n",
    "def get_itemid_most_similar(item_id):\n",
    "    similar_items = model.docvecs.most_similar(positive=[item_id], topn=3)\n",
    "    items = []\n",
    "    for item_id, score in similar_items:\n",
    "        df_item = df[df.item_id == item_id]\n",
    "        title = df_item.iloc[0].title\n",
    "        content = df_item.iloc[0].content\n",
    "        category = df_item.iloc[0].category\n",
    "        link = df_item.iloc[0].link\n",
    "        photo_link = df_item.iloc[0].photo_link\n",
    "        # if photo_link value is NaN, replace it with empty string \n",
    "        if pd.isna(photo_link):\n",
    "            photo_link=''\n",
    "\n",
    "        score = round(score, 2)\n",
    "        item = {\n",
    "            \"category\": category, \n",
    "            \"title\": title, \n",
    "            \"link\": link,\n",
    "            \"id\": item_id, \n",
    "            'score': score, \n",
    "            \"photo_link\": photo_link\n",
    "            }\n",
    "        items.append(item)\n",
    "    return items"
   ]
  },
  {
   "cell_type": "code",
   "execution_count": 27,
   "metadata": {},
   "outputs": [
    {
     "name": "stderr",
     "output_type": "stream",
     "text": [
      "C:\\Users\\USER\\AppData\\Local\\Temp\\ipykernel_34216\\2521497023.py:3: DeprecationWarning: Call to deprecated `docvecs` (The `docvecs` property has been renamed `dv`.).\n",
      "  similar_items = model.docvecs.most_similar(positive=[item_id], topn=3)\n"
     ]
    },
    {
     "data": {
      "text/plain": [
       "[{'category': '國際',\n",
       "  'title': '北溪天然氣管線疑遭人為破壞  外媒分析一次看',\n",
       "  'link': 'https://www.cna.com.tw/news/aopl/202209290384.aspx',\n",
       "  'id': 'aopl_20220929_6',\n",
       "  'score': 0.96,\n",
       "  'photo_link': ''},\n",
       " {'category': '科技',\n",
       "  'title': '成功的人不一定最有才華 2022搞笑諾貝爾：運氣才是關鍵',\n",
       "  'link': 'https://www.cna.com.tw/news/ait/202209225011.aspx',\n",
       "  'id': 'ait_20220922_20',\n",
       "  'score': 0.96,\n",
       "  'photo_link': 'https://imgcdn.cna.com.tw/www/webphotos/WebCover/420/20220922/1778x1333_624960633396.jpg'},\n",
       " {'category': '證卷',\n",
       "  'title': '台股重返13500點 法人：觀察新台幣匯率與護盤政策',\n",
       "  'link': 'https://www.cna.com.tw/news/afe/202209290225.aspx',\n",
       "  'id': 'asc_20220929_6',\n",
       "  'score': 0.96,\n",
       "  'photo_link': ''}]"
      ]
     },
     "execution_count": 27,
     "metadata": {},
     "output_type": "execute_result"
    }
   ],
   "source": [
    "item_id =  itemid\n",
    "get_itemid_most_similar(item_id)"
   ]
  },
  {
   "cell_type": "markdown",
   "metadata": {},
   "source": [
    "# Django views.py"
   ]
  },
  {
   "cell_type": "code",
   "execution_count": null,
   "metadata": {},
   "outputs": [],
   "source": [
    "from django.shortcuts import render\n",
    "from django.http import JsonResponse\n",
    "import pandas as pd\n",
    "from django.views.decorators.csrf import csrf_exempt\n",
    "\n",
    "\n",
    "# Notice: using different gensim version will cause errors\n",
    "from gensim.models.doc2vec import Doc2Vec\n",
    "\n",
    "# Load news data\n",
    "import app_user_keyword.views as userkeyword_views\n",
    "def load_df_data_v2():\n",
    "    # import and use df from app_user_keyword \n",
    "    global df # global variable\n",
    "    df = userkeyword_views.df\n",
    "\n",
    "# call load data function when starting server\n",
    "load_df_data_v2()\n",
    "\n",
    "# Load doc2vec model\n",
    "def load_doc2vec_model():\n",
    "    global model # global variable \n",
    "    model = Doc2Vec.load(\"dataset/cna_news_doc2vec.model\")\n",
    "\n",
    "# call load model function when starting server\n",
    "load_doc2vec_model()\n",
    "\n",
    "#-- home page\n",
    "def home(request):\n",
    "    return render(request, \"app_news_rcmd/home.html\")\n",
    "\n",
    "#-- API (three APIs) 3個APIs\n",
    "#-- API: input category\n",
    "@csrf_exempt\n",
    "def api_cate_news(request):\n",
    "    cate = request.POST['category']\n",
    "    response = get_cate_latest_news(cate)\n",
    "    return JsonResponse({\"latest_news\": response})\n",
    "\n",
    "#-- API: input keywords, get top 5 similar news \n",
    "#@csrf_exempt\n",
    "def api_keywords_similar_news(request):\n",
    "    keywords = request.POST['tokens']\n",
    "    keywords = [t for t in keywords.split()]\n",
    "    response = get_keywords_most_similar(keywords)\n",
    "    return JsonResponse({\"data\": response})\n",
    "\n",
    "#-- API: input news_id, and then get news information\n",
    "@csrf_exempt\n",
    "def api_news_content(request):\n",
    "    item_id = request.POST['news_id']\n",
    "    content = get_news_content(item_id)\n",
    "    related = get_itemid_most_similar(item_id)\n",
    "    # print(related)\n",
    "    return JsonResponse({\"news_content\": content, \"related_news\": related})\n",
    "\n",
    "\n",
    "# -- Given a item_id, get document information\n",
    "def get_news_content(item_id):\n",
    "    df_item = df[df.item_id == item_id]\n",
    "    title = df_item.iloc[0].title\n",
    "    content = df_item.iloc[0].content\n",
    "    category = df_item.iloc[0].category\n",
    "    link = df_item.iloc[0].link\n",
    "    date = df_item.iloc[0].date\n",
    "    photo_link = df_item.iloc[0].photo_link\n",
    "    # if photo_link value is NaN, replace it with empty string \n",
    "    if pd.isna(photo_link):\n",
    "        photo_link=''\n",
    "\n",
    "    news_info = {\n",
    "        \"id\": item_id,\n",
    "        \"category\": category,\n",
    "        \"title\": title,\n",
    "        \"content\": content,\n",
    "        \"link\": link,\n",
    "        \"date\": date,\n",
    "        \"photo_link\": photo_link\n",
    "    }\n",
    "\n",
    "    return news_info\n",
    "\n",
    "#-- Given a category, get the latest news\n",
    "def get_cate_latest_news(cate):\n",
    "    items = []\n",
    "    df_cate = df[df.category == cate]\n",
    "\n",
    "    # get the last news (the latest news)\n",
    "    df_cate = df_cate.tail(5)  # Only 5 pieces\n",
    "    # only return 10 news\n",
    "\n",
    "    for i in range( len(df_cate)):\n",
    "        item_id = df_cate.iloc[i].item_id    \n",
    "        title = df_cate.iloc[i].title\n",
    "        content = df_cate.iloc[i].content\n",
    "        category = df_cate.iloc[i].category\n",
    "        link = df_cate.iloc[i].link\n",
    "        photo_link = df_cate.iloc[i].photo_link\n",
    "        # if photo_link value is NaN, replace it with empty string \n",
    "        if pd.isna(photo_link):\n",
    "            photo_link=\"\"\n",
    "\n",
    "        item = {\n",
    "            \"id\": item_id, \n",
    "            \"category\": category, \n",
    "            \"title\": title,\n",
    "            \"content\": content, \n",
    "            \"link\": link,\n",
    "            \"photo_link\": photo_link\n",
    "        }\n",
    "\n",
    "        items.append(item)\n",
    "    \n",
    "    return items\n",
    "\n",
    "#--Given news keywords, find similar documents \n",
    "def get_keywords_most_similar(keywords):\n",
    "    new_vector = model.infer_vector(keywords)\n",
    "    similar_items = model.docvecs.most_similar(positive=[new_vector], topn=5)\n",
    "    items = []\n",
    "    for item_id, score in similar_items:\n",
    "        df_item = df[df.item_id == item_id]\n",
    "        \n",
    "        title = df_item.iloc[0].title\n",
    "        content = df_item.iloc[0].content\n",
    "        category = df_item.iloc[0].category\n",
    "        link = df_item.iloc[0].link\n",
    "        photo_link = df_item.iloc[0].photo_link\n",
    "        # if photo_link value is NaN, replace it with empty string \n",
    "        if pd.isna(photo_link):\n",
    "            photo_link=''\n",
    "\n",
    "        score = round(score, 2)\n",
    "        \n",
    "        item = {\n",
    "            \"id\": item_id, \n",
    "            \"category\": category, \n",
    "            \"title\": title, \n",
    "            \"link\": link,\n",
    "            'score': score, \n",
    "            \"photo_link\": photo_link\n",
    "            }\n",
    "        items.append(item)\n",
    "\n",
    "    return items\n",
    "\n",
    "#-- Given item_id, get three similar news based on the doc2vec model\n",
    "def get_itemid_most_similar(item_id):\n",
    "    similar_items = model.docvecs.most_similar(positive=[item_id], topn=3)\n",
    "    items = []\n",
    "    for item_id, score in similar_items:\n",
    "        df_item = df[df.item_id == item_id]\n",
    "        title = df_item.iloc[0].title\n",
    "        content = df_item.iloc[0].content\n",
    "        category = df_item.iloc[0].category\n",
    "        link = df_item.iloc[0].link\n",
    "        photo_link = df_item.iloc[0].photo_link\n",
    "        # if photo_link value is NaN, replace it with empty string \n",
    "        if pd.isna(photo_link):\n",
    "            photo_link=''\n",
    "\n",
    "        score = round(score, 2)\n",
    "        item = {\n",
    "            \"category\": category, \n",
    "            \"title\": title, \n",
    "            \"link\": link,\n",
    "            \"id\": item_id, \n",
    "            'score': score, \n",
    "            \"photo_link\": photo_link\n",
    "            }\n",
    "        items.append(item)\n",
    "    return items\n",
    "\n",
    "print(\"app_doc2vec -- 今日新聞瀏覽與新聞推薦載入成功!\")\n"
   ]
  }
 ],
 "metadata": {
  "kernelspec": {
   "display_name": "Python 3.10.2 64-bit",
   "language": "python",
   "name": "python3"
  },
  "language_info": {
   "codemirror_mode": {
    "name": "ipython",
    "version": 3
   },
   "file_extension": ".py",
   "mimetype": "text/x-python",
   "name": "python",
   "nbconvert_exporter": "python",
   "pygments_lexer": "ipython3",
   "version": "3.10.2"
  },
  "toc": {
   "base_numbering": 1,
   "nav_menu": {},
   "number_sections": true,
   "sideBar": true,
   "skip_h1_title": false,
   "title_cell": "Table of Contents",
   "title_sidebar": "Contents",
   "toc_cell": false,
   "toc_position": {},
   "toc_section_display": true,
   "toc_window_display": true
  },
  "vscode": {
   "interpreter": {
    "hash": "df95319d8ce4e1d89f5365ae10992bc1f65da593082b1d264e8f529830ec2f02"
   }
  }
 },
 "nbformat": 4,
 "nbformat_minor": 4
}
