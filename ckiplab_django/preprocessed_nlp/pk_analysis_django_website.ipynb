{
 "cells": [
  {
   "cell_type": "markdown",
   "metadata": {},
   "source": [
    "# Politician and political party PK--人物與政黨PK"
   ]
  },
  {
   "cell_type": "markdown",
   "metadata": {},
   "source": [
    "# Load Data "
   ]
  },
  {
   "cell_type": "code",
   "execution_count": 107,
   "metadata": {},
   "outputs": [],
   "source": [
    "import pandas as pd\n",
    "from datetime import datetime, timedelta\n",
    "\n",
    "df = pd.read_csv('preprocessed_news_218posts.csv',sep='|')"
   ]
  },
  {
   "cell_type": "code",
   "execution_count": 108,
   "metadata": {},
   "outputs": [
    {
     "data": {
      "text/html": [
       "<div>\n",
       "<style scoped>\n",
       "    .dataframe tbody tr th:only-of-type {\n",
       "        vertical-align: middle;\n",
       "    }\n",
       "\n",
       "    .dataframe tbody tr th {\n",
       "        vertical-align: top;\n",
       "    }\n",
       "\n",
       "    .dataframe thead th {\n",
       "        text-align: right;\n",
       "    }\n",
       "</style>\n",
       "<table border=\"1\" class=\"dataframe\">\n",
       "  <thead>\n",
       "    <tr style=\"text-align: right;\">\n",
       "      <th></th>\n",
       "      <th>item_id</th>\n",
       "      <th>date</th>\n",
       "      <th>title</th>\n",
       "      <th>content</th>\n",
       "      <th>sentiment</th>\n",
       "      <th>summary</th>\n",
       "      <th>top_key_freq</th>\n",
       "      <th>tokens</th>\n",
       "      <th>tokens_rm_stopwords</th>\n",
       "      <th>entities</th>\n",
       "      <th>token_pos</th>\n",
       "      <th>link</th>\n",
       "      <th>photo_link</th>\n",
       "      <th>category</th>\n",
       "    </tr>\n",
       "  </thead>\n",
       "  <tbody>\n",
       "    <tr>\n",
       "      <th>0</th>\n",
       "      <td>aipl_20220929_1</td>\n",
       "      <td>2022-09-29</td>\n",
       "      <td>台灣國際漁業展、智慧農業週開幕 逾15國參展</td>\n",
       "      <td>外交部政次田中光今天出席2022年「台灣國際漁業展」與「台灣智慧農業週」聯合開幕儀式，他表示...</td>\n",
       "      <td>0.68</td>\n",
       "      <td>['外交部政次田中光今天出席2022年「台灣國際漁業展」與「台灣智慧農業週」聯合開幕儀式',...</td>\n",
       "      <td>[('展覽', 8), ('台灣', 6), ('廠商', 6), ('參展', 6), (...</td>\n",
       "      <td>['外交部', '政次', '田中光', '今天', '出席', '2022年', '「',...</td>\n",
       "      <td>['外交部', '政次', '田中光', '出席', '台灣', '國際', '漁業展', ...</td>\n",
       "      <td>{(657, 658, 'GPE', '台'), (143, 146, 'PERSON', ...</td>\n",
       "      <td>[('外交部', 'Nc'), ('政次', 'Na'), ('田中光', 'Nb'), (...</td>\n",
       "      <td>https://www.cna.com.tw/news/aipl/202209290375....</td>\n",
       "      <td>https://imgcdn.cna.com.tw/www/WebPhotos/200/20...</td>\n",
       "      <td>政治</td>\n",
       "    </tr>\n",
       "  </tbody>\n",
       "</table>\n",
       "</div>"
      ],
      "text/plain": [
       "           item_id        date                   title  \\\n",
       "0  aipl_20220929_1  2022-09-29  台灣國際漁業展、智慧農業週開幕 逾15國參展   \n",
       "\n",
       "                                             content  sentiment  \\\n",
       "0  外交部政次田中光今天出席2022年「台灣國際漁業展」與「台灣智慧農業週」聯合開幕儀式，他表示...       0.68   \n",
       "\n",
       "                                             summary  \\\n",
       "0  ['外交部政次田中光今天出席2022年「台灣國際漁業展」與「台灣智慧農業週」聯合開幕儀式',...   \n",
       "\n",
       "                                        top_key_freq  \\\n",
       "0  [('展覽', 8), ('台灣', 6), ('廠商', 6), ('參展', 6), (...   \n",
       "\n",
       "                                              tokens  \\\n",
       "0  ['外交部', '政次', '田中光', '今天', '出席', '2022年', '「',...   \n",
       "\n",
       "                                 tokens_rm_stopwords  \\\n",
       "0  ['外交部', '政次', '田中光', '出席', '台灣', '國際', '漁業展', ...   \n",
       "\n",
       "                                            entities  \\\n",
       "0  {(657, 658, 'GPE', '台'), (143, 146, 'PERSON', ...   \n",
       "\n",
       "                                           token_pos  \\\n",
       "0  [('外交部', 'Nc'), ('政次', 'Na'), ('田中光', 'Nb'), (...   \n",
       "\n",
       "                                                link  \\\n",
       "0  https://www.cna.com.tw/news/aipl/202209290375....   \n",
       "\n",
       "                                          photo_link category  \n",
       "0  https://imgcdn.cna.com.tw/www/WebPhotos/200/20...       政治  "
      ]
     },
     "execution_count": 108,
     "metadata": {},
     "output_type": "execute_result"
    }
   ],
   "source": [
    "df.head(1)"
   ]
  },
  {
   "cell_type": "markdown",
   "metadata": {},
   "source": [
    "# Filter news for a certain person or party: take '柯文哲' for example"
   ]
  },
  {
   "cell_type": "code",
   "execution_count": 160,
   "metadata": {},
   "outputs": [],
   "source": [
    "# end date: the date of the last record of news\n",
    "end_date = '2022-10-01'\n",
    "# start date\n",
    "weeks = 4 # week duration for analysis\n",
    "start_date = (datetime.strptime(end_date, '%Y-%m-%d').date() - timedelta(weeks = weeks)).strftime('%Y-%m-%d')"
   ]
  },
  {
   "cell_type": "code",
   "execution_count": 165,
   "metadata": {},
   "outputs": [],
   "source": [
    "keyword = ['民進黨']"
   ]
  },
  {
   "cell_type": "code",
   "execution_count": 166,
   "metadata": {},
   "outputs": [
    {
     "data": {
      "text/html": [
       "<div>\n",
       "<style scoped>\n",
       "    .dataframe tbody tr th:only-of-type {\n",
       "        vertical-align: middle;\n",
       "    }\n",
       "\n",
       "    .dataframe tbody tr th {\n",
       "        vertical-align: top;\n",
       "    }\n",
       "\n",
       "    .dataframe thead th {\n",
       "        text-align: right;\n",
       "    }\n",
       "</style>\n",
       "<table border=\"1\" class=\"dataframe\">\n",
       "  <thead>\n",
       "    <tr style=\"text-align: right;\">\n",
       "      <th></th>\n",
       "      <th>item_id</th>\n",
       "      <th>date</th>\n",
       "      <th>title</th>\n",
       "      <th>content</th>\n",
       "      <th>sentiment</th>\n",
       "      <th>summary</th>\n",
       "      <th>top_key_freq</th>\n",
       "      <th>tokens</th>\n",
       "      <th>tokens_rm_stopwords</th>\n",
       "      <th>entities</th>\n",
       "      <th>token_pos</th>\n",
       "      <th>link</th>\n",
       "      <th>photo_link</th>\n",
       "      <th>category</th>\n",
       "    </tr>\n",
       "  </thead>\n",
       "  <tbody>\n",
       "    <tr>\n",
       "      <th>2</th>\n",
       "      <td>aipl_20220929_3</td>\n",
       "      <td>2022-09-29</td>\n",
       "      <td>賴清德：支持林佳龍就是做總統後盾肯定蘇貞昌</td>\n",
       "      <td>民進黨新北市長參選人林佳龍今晚和立委余天合體造勢吸引擠爆支持民眾；副總統賴清德籲民眾支持林佳...</td>\n",
       "      <td>0.66</td>\n",
       "      <td>['副總統賴清德籲民眾支持林佳龍就是期待市政進步、願做總統蔡英文後盾及肯定行政院長蘇貞昌',...</td>\n",
       "      <td>[('林佳龍', 11), ('支持', 11), ('總統', 7), ('蘇貞昌', 7...</td>\n",
       "      <td>['民進黨', '新北市長', '參選人', '林佳龍', '今晚', '和', '立委',...</td>\n",
       "      <td>['民進黨', '新北市長', '參選人', '林佳龍', '立委', '余天合體', '造...</td>\n",
       "      <td>{(154, 157, 'PERSON', '余苑綺'), (299, 302, 'PERS...</td>\n",
       "      <td>[('民進黨', 'Nb'), ('新北市長', 'Na'), ('參選人', 'Na'),...</td>\n",
       "      <td>https://www.cna.com.tw/news/aipl/202209290368....</td>\n",
       "      <td>https://imgcdn.cna.com.tw/www/WebPhotos/200/20...</td>\n",
       "      <td>政治</td>\n",
       "    </tr>\n",
       "    <tr>\n",
       "      <th>4</th>\n",
       "      <td>aipl_20220929_5</td>\n",
       "      <td>2022-09-29</td>\n",
       "      <td>警械條例修法朝野共識 4種危急情境警員可逕行開槍</td>\n",
       "      <td>（中央社記者郭建伸、王承中台北29日電）台南殺警案促成立法院加速討論警械使用條例修法。朝野黨...</td>\n",
       "      <td>0.00</td>\n",
       "      <td>['明確規範警察人員認為犯罪嫌疑人將危及其自身或他人生命、身體時', '民進黨團修正動議羅列...</td>\n",
       "      <td>[('使用', 15), ('警械', 12), ('警察', 9), ('人員', 8),...</td>\n",
       "      <td>['（', '中央社', '記者', '郭建伸', '、', '王承中', '台北', '2...</td>\n",
       "      <td>['中央社', '記者', '郭建伸', '王承中', '台北', '台南', '殺警案',...</td>\n",
       "      <td>{(80, 81, 'CARDINAL', '4'), (10, 13, 'PERSON',...</td>\n",
       "      <td>[('（', 'PARENTHESISCATEGORY'), ('中央社', 'Nc'), ...</td>\n",
       "      <td>https://www.cna.com.tw/news/aipl/202209290358....</td>\n",
       "      <td>https://imgcdn.cna.com.tw/www/webphotos/WebCov...</td>\n",
       "      <td>政治</td>\n",
       "    </tr>\n",
       "    <tr>\n",
       "      <th>6</th>\n",
       "      <td>aipl_20220929_7</td>\n",
       "      <td>2022-09-29</td>\n",
       "      <td>黃偉哲推特秀蓬佩奧合照  遭中國網民出征</td>\n",
       "      <td>民進黨立委王定宇昨天中午邀請前美國國務卿蓬佩奧（Michael Pompeo）到台南餐敘，與...</td>\n",
       "      <td>0.00</td>\n",
       "      <td>['與會的台南市長黃偉哲隨後在推特（Twitter）秀出與蓬佩奧合照', '隨後黃偉哲於推特...</td>\n",
       "      <td>[('黃偉哲', 8), ('蓬佩奧', 6), ('台南', 5), ('中國', 4),...</td>\n",
       "      <td>['民進黨', '立委', '王定宇', '昨天', '中午', '邀請', '前', '美...</td>\n",
       "      <td>['民進黨', '立委', '王定宇', '邀請', '美國', '國務卿', '蓬佩奧',...</td>\n",
       "      <td>{(48, 52, 'ORG', '台南市長'), (20, 23, 'PERSON', '...</td>\n",
       "      <td>[('民進黨', 'Nb'), ('立委', 'Na'), ('王定宇', 'Nb'), (...</td>\n",
       "      <td>https://www.cna.com.tw/news/aipl/202209290339....</td>\n",
       "      <td>https://imgcdn.cna.com.tw/www/WebPhotos/200/20...</td>\n",
       "      <td>政治</td>\n",
       "    </tr>\n",
       "    <tr>\n",
       "      <th>9</th>\n",
       "      <td>aipl_20220929_10</td>\n",
       "      <td>2022-09-29</td>\n",
       "      <td>陳時中提北市社宅4年達5.7萬戶  租金採量能付費</td>\n",
       "      <td>民進黨台北市長參選人陳時中今天與民團進行住宅政策座談會，提出4年讓台北市社宅達到5.7萬戶目...</td>\n",
       "      <td>0.00</td>\n",
       "      <td>['民進黨台北市長參選人陳時中今天與民團進行住宅政策座談會', '他的目標是若卸任時台北已有...</td>\n",
       "      <td>[('陳時中', 13), ('社宅', 11), ('政府', 6), ('參選人', 5...</td>\n",
       "      <td>['民進黨', '台北市長', '參選人', '陳時中', '今天', '與', '民團',...</td>\n",
       "      <td>['民進黨', '台北市長', '參選人', '陳時中', '民團', '進行', '住宅'...</td>\n",
       "      <td>{(952, 956, 'CARDINAL', '1.1萬'), (408, 412, 'C...</td>\n",
       "      <td>[('民進黨', 'Nb'), ('台北市長', 'Na'), ('參選人', 'Na'),...</td>\n",
       "      <td>https://www.cna.com.tw/news/aipl/202209290285....</td>\n",
       "      <td>https://imgcdn.cna.com.tw/www/WebPhotos/200/20...</td>\n",
       "      <td>政治</td>\n",
       "    </tr>\n",
       "    <tr>\n",
       "      <th>132</th>\n",
       "      <td>ahel_20220929_13</td>\n",
       "      <td>2022-09-29</td>\n",
       "      <td>學校教官剩約1900人 採自然離退保障工作權</td>\n",
       "      <td>配合教官退出校園政策，教育部今天表示，已於民國106年起停止招考，現職教官則採「自然離退」方...</td>\n",
       "      <td>0.00</td>\n",
       "      <td>['校園教官人數會歸零或剩下個位數', '現職教官則採「自然離退」方式保障工作權', '估約...</td>\n",
       "      <td>[('教官', 17), ('校園', 7), ('柯建銘', 4), ('政策', 3),...</td>\n",
       "      <td>['配合', '教官', '退出', '校園', '政策', '，', '教育部', '今天...</td>\n",
       "      <td>['配合', '教官', '校園', '政策', '教育部', '招考', '教官', '方...</td>\n",
       "      <td>{(129, 136, 'ORG', '民進黨立院黨團'), (63, 67, 'CARDI...</td>\n",
       "      <td>[('配合', 'VC'), ('教官', 'Na'), ('退出', 'VCL'), ('...</td>\n",
       "      <td>https://www.cna.com.tw/news/ahel/202209290300....</td>\n",
       "      <td>NaN</td>\n",
       "      <td>生活</td>\n",
       "    </tr>\n",
       "    <tr>\n",
       "      <th>168</th>\n",
       "      <td>asoc_20220929_11</td>\n",
       "      <td>2022-09-29</td>\n",
       "      <td>林智堅論文風波 余正煌提起侵害著作權刑事自訴</td>\n",
       "      <td>台大今年8月間認定前新竹市長林智堅碩士論文抄襲調查官余正煌論文，撤銷林智堅碩士學位。余正煌今...</td>\n",
       "      <td>0.02</td>\n",
       "      <td>['台大：林智堅論文抄襲情節嚴重 撤銷碩士學位林智堅論文案 中華大學認定抄襲撤銷碩士學位林智...</td>\n",
       "      <td>[('林智堅', 19), ('論文', 10), ('余正煌', 10), ('碩士', ...</td>\n",
       "      <td>['台大', '今年', '8月', '間', '認定', '前', '新竹', '市長',...</td>\n",
       "      <td>['台大', '新竹', '市長', '林智堅', '碩士', '論文', '抄襲', '調...</td>\n",
       "      <td>{(128, 131, 'PERSON', '潘文忠'), (429, 432, 'PERS...</td>\n",
       "      <td>[('台大', 'Nc'), ('今年', 'Nd'), ('8月', 'Nd'), ('間...</td>\n",
       "      <td>https://www.cna.com.tw/news/asoc/202209290219....</td>\n",
       "      <td>https://imgcdn.cna.com.tw/www/webphotos/WebCov...</td>\n",
       "      <td>社會</td>\n",
       "    </tr>\n",
       "    <tr>\n",
       "      <th>172</th>\n",
       "      <td>asoc_20220929_15</td>\n",
       "      <td>2022-09-29</td>\n",
       "      <td>朝NCC大門潑漆 國民黨北市議員參選人無保請回</td>\n",
       "      <td>國民黨台北市議員參選人楊植斗因不滿國家通訊傳播委員會（NCC）針對媒體人周玉蔻及電視台裁罰等...</td>\n",
       "      <td>0.00</td>\n",
       "      <td>['警方將楊男移送台北地檢署', '楊男潑漆後在臉書（Facebook）上指出', '楊男因...</td>\n",
       "      <td>[('楊男', 5), ('潑漆', 4), ('警方', 3), ('台北市', 2), ...</td>\n",
       "      <td>['國民黨', '台北市', '議員', '參選人', '楊植斗', '因', '不滿', ...</td>\n",
       "      <td>['國民黨', '台北市', '議員', '參選人', '楊植斗', '國家', '通訊',...</td>\n",
       "      <td>{(120, 127, 'TIME', '清晨6時50分'), (3, 6, 'GPE', ...</td>\n",
       "      <td>[('國民黨', 'Nb'), ('台北市', 'Nc'), ('議員', 'Na'), (...</td>\n",
       "      <td>https://www.cna.com.tw/news/asoc/202209290094....</td>\n",
       "      <td>https://imgcdn.cna.com.tw/www/WebPhotos/200/20...</td>\n",
       "      <td>社會</td>\n",
       "    </tr>\n",
       "  </tbody>\n",
       "</table>\n",
       "</div>"
      ],
      "text/plain": [
       "              item_id        date                      title  \\\n",
       "2     aipl_20220929_3  2022-09-29      賴清德：支持林佳龍就是做總統後盾肯定蘇貞昌   \n",
       "4     aipl_20220929_5  2022-09-29   警械條例修法朝野共識 4種危急情境警員可逕行開槍   \n",
       "6     aipl_20220929_7  2022-09-29       黃偉哲推特秀蓬佩奧合照  遭中國網民出征   \n",
       "9    aipl_20220929_10  2022-09-29  陳時中提北市社宅4年達5.7萬戶  租金採量能付費   \n",
       "132  ahel_20220929_13  2022-09-29     學校教官剩約1900人 採自然離退保障工作權   \n",
       "168  asoc_20220929_11  2022-09-29     林智堅論文風波 余正煌提起侵害著作權刑事自訴   \n",
       "172  asoc_20220929_15  2022-09-29    朝NCC大門潑漆 國民黨北市議員參選人無保請回   \n",
       "\n",
       "                                               content  sentiment  \\\n",
       "2    民進黨新北市長參選人林佳龍今晚和立委余天合體造勢吸引擠爆支持民眾；副總統賴清德籲民眾支持林佳...       0.66   \n",
       "4    （中央社記者郭建伸、王承中台北29日電）台南殺警案促成立法院加速討論警械使用條例修法。朝野黨...       0.00   \n",
       "6    民進黨立委王定宇昨天中午邀請前美國國務卿蓬佩奧（Michael Pompeo）到台南餐敘，與...       0.00   \n",
       "9    民進黨台北市長參選人陳時中今天與民團進行住宅政策座談會，提出4年讓台北市社宅達到5.7萬戶目...       0.00   \n",
       "132  配合教官退出校園政策，教育部今天表示，已於民國106年起停止招考，現職教官則採「自然離退」方...       0.00   \n",
       "168  台大今年8月間認定前新竹市長林智堅碩士論文抄襲調查官余正煌論文，撤銷林智堅碩士學位。余正煌今...       0.02   \n",
       "172  國民黨台北市議員參選人楊植斗因不滿國家通訊傳播委員會（NCC）針對媒體人周玉蔻及電視台裁罰等...       0.00   \n",
       "\n",
       "                                               summary  \\\n",
       "2    ['副總統賴清德籲民眾支持林佳龍就是期待市政進步、願做總統蔡英文後盾及肯定行政院長蘇貞昌',...   \n",
       "4    ['明確規範警察人員認為犯罪嫌疑人將危及其自身或他人生命、身體時', '民進黨團修正動議羅列...   \n",
       "6    ['與會的台南市長黃偉哲隨後在推特（Twitter）秀出與蓬佩奧合照', '隨後黃偉哲於推特...   \n",
       "9    ['民進黨台北市長參選人陳時中今天與民團進行住宅政策座談會', '他的目標是若卸任時台北已有...   \n",
       "132  ['校園教官人數會歸零或剩下個位數', '現職教官則採「自然離退」方式保障工作權', '估約...   \n",
       "168  ['台大：林智堅論文抄襲情節嚴重 撤銷碩士學位林智堅論文案 中華大學認定抄襲撤銷碩士學位林智...   \n",
       "172  ['警方將楊男移送台北地檢署', '楊男潑漆後在臉書（Facebook）上指出', '楊男因...   \n",
       "\n",
       "                                          top_key_freq  \\\n",
       "2    [('林佳龍', 11), ('支持', 11), ('總統', 7), ('蘇貞昌', 7...   \n",
       "4    [('使用', 15), ('警械', 12), ('警察', 9), ('人員', 8),...   \n",
       "6    [('黃偉哲', 8), ('蓬佩奧', 6), ('台南', 5), ('中國', 4),...   \n",
       "9    [('陳時中', 13), ('社宅', 11), ('政府', 6), ('參選人', 5...   \n",
       "132  [('教官', 17), ('校園', 7), ('柯建銘', 4), ('政策', 3),...   \n",
       "168  [('林智堅', 19), ('論文', 10), ('余正煌', 10), ('碩士', ...   \n",
       "172  [('楊男', 5), ('潑漆', 4), ('警方', 3), ('台北市', 2), ...   \n",
       "\n",
       "                                                tokens  \\\n",
       "2    ['民進黨', '新北市長', '參選人', '林佳龍', '今晚', '和', '立委',...   \n",
       "4    ['（', '中央社', '記者', '郭建伸', '、', '王承中', '台北', '2...   \n",
       "6    ['民進黨', '立委', '王定宇', '昨天', '中午', '邀請', '前', '美...   \n",
       "9    ['民進黨', '台北市長', '參選人', '陳時中', '今天', '與', '民團',...   \n",
       "132  ['配合', '教官', '退出', '校園', '政策', '，', '教育部', '今天...   \n",
       "168  ['台大', '今年', '8月', '間', '認定', '前', '新竹', '市長',...   \n",
       "172  ['國民黨', '台北市', '議員', '參選人', '楊植斗', '因', '不滿', ...   \n",
       "\n",
       "                                   tokens_rm_stopwords  \\\n",
       "2    ['民進黨', '新北市長', '參選人', '林佳龍', '立委', '余天合體', '造...   \n",
       "4    ['中央社', '記者', '郭建伸', '王承中', '台北', '台南', '殺警案',...   \n",
       "6    ['民進黨', '立委', '王定宇', '邀請', '美國', '國務卿', '蓬佩奧',...   \n",
       "9    ['民進黨', '台北市長', '參選人', '陳時中', '民團', '進行', '住宅'...   \n",
       "132  ['配合', '教官', '校園', '政策', '教育部', '招考', '教官', '方...   \n",
       "168  ['台大', '新竹', '市長', '林智堅', '碩士', '論文', '抄襲', '調...   \n",
       "172  ['國民黨', '台北市', '議員', '參選人', '楊植斗', '國家', '通訊',...   \n",
       "\n",
       "                                              entities  \\\n",
       "2    {(154, 157, 'PERSON', '余苑綺'), (299, 302, 'PERS...   \n",
       "4    {(80, 81, 'CARDINAL', '4'), (10, 13, 'PERSON',...   \n",
       "6    {(48, 52, 'ORG', '台南市長'), (20, 23, 'PERSON', '...   \n",
       "9    {(952, 956, 'CARDINAL', '1.1萬'), (408, 412, 'C...   \n",
       "132  {(129, 136, 'ORG', '民進黨立院黨團'), (63, 67, 'CARDI...   \n",
       "168  {(128, 131, 'PERSON', '潘文忠'), (429, 432, 'PERS...   \n",
       "172  {(120, 127, 'TIME', '清晨6時50分'), (3, 6, 'GPE', ...   \n",
       "\n",
       "                                             token_pos  \\\n",
       "2    [('民進黨', 'Nb'), ('新北市長', 'Na'), ('參選人', 'Na'),...   \n",
       "4    [('（', 'PARENTHESISCATEGORY'), ('中央社', 'Nc'), ...   \n",
       "6    [('民進黨', 'Nb'), ('立委', 'Na'), ('王定宇', 'Nb'), (...   \n",
       "9    [('民進黨', 'Nb'), ('台北市長', 'Na'), ('參選人', 'Na'),...   \n",
       "132  [('配合', 'VC'), ('教官', 'Na'), ('退出', 'VCL'), ('...   \n",
       "168  [('台大', 'Nc'), ('今年', 'Nd'), ('8月', 'Nd'), ('間...   \n",
       "172  [('國民黨', 'Nb'), ('台北市', 'Nc'), ('議員', 'Na'), (...   \n",
       "\n",
       "                                                  link  \\\n",
       "2    https://www.cna.com.tw/news/aipl/202209290368....   \n",
       "4    https://www.cna.com.tw/news/aipl/202209290358....   \n",
       "6    https://www.cna.com.tw/news/aipl/202209290339....   \n",
       "9    https://www.cna.com.tw/news/aipl/202209290285....   \n",
       "132  https://www.cna.com.tw/news/ahel/202209290300....   \n",
       "168  https://www.cna.com.tw/news/asoc/202209290219....   \n",
       "172  https://www.cna.com.tw/news/asoc/202209290094....   \n",
       "\n",
       "                                            photo_link category  \n",
       "2    https://imgcdn.cna.com.tw/www/WebPhotos/200/20...       政治  \n",
       "4    https://imgcdn.cna.com.tw/www/webphotos/WebCov...       政治  \n",
       "6    https://imgcdn.cna.com.tw/www/WebPhotos/200/20...       政治  \n",
       "9    https://imgcdn.cna.com.tw/www/WebPhotos/200/20...       政治  \n",
       "132                                                NaN       生活  \n",
       "168  https://imgcdn.cna.com.tw/www/webphotos/WebCov...       社會  \n",
       "172  https://imgcdn.cna.com.tw/www/WebPhotos/200/20...       社會  "
      ]
     },
     "execution_count": 166,
     "metadata": {},
     "output_type": "execute_result"
    }
   ],
   "source": [
    "query_df = df[\n",
    "    (df['date'] >= start_date) & (df['date'] <= end_date) & df['tokens_rm_stopwords'].str.contains('|'.join(keyword))]\n",
    "query_df"
   ]
  },
  {
   "cell_type": "code",
   "execution_count": 141,
   "metadata": {},
   "outputs": [
    {
     "data": {
      "text/plain": [
       "0"
      ]
     },
     "execution_count": 141,
     "metadata": {},
     "output_type": "execute_result"
    }
   ],
   "source": [
    "len(query_df)"
   ]
  },
  {
   "cell_type": "markdown",
   "metadata": {},
   "source": [
    "# Count how many pieces of news containing these keywords計算各類別多少篇文章提到該關鍵字\n",
    "\n",
    "# Count how many times these keywords were mentioned in each category計算各類別出現關鍵字次數"
   ]
  },
  {
   "cell_type": "code",
   "execution_count": 167,
   "metadata": {},
   "outputs": [],
   "source": [
    "# **計算各類別多少篇文章提到該關鍵字\n",
    "# **計算各類別出現關鍵字次數\n",
    "\n",
    "news_categories = ['政治', '科技', '運動', '證卷', '產經', '娛樂', '生活', '國際', '社會', '文化', '兩岸', '全部']\n",
    "\n",
    "\n",
    "def count_keyword(query_df, keyword):\n",
    "    cate_occurence = {}\n",
    "    cate_freq = {}\n",
    "\n",
    "    for cate in news_categories:\n",
    "        cate_occurence[cate] = 0\n",
    "        cate_freq[cate] = 0\n",
    "\n",
    "    for idx, row in query_df.iterrows():\n",
    "        # count number of news\n",
    "        cate_occurence[row.category] += 1\n",
    "        cate_occurence['全部'] += 1\n",
    "        # count keyword frequency\n",
    "        tokens = eval(row.tokens_rm_stopwords)\n",
    "        freq = len([word for word in tokens if (word in keyword)])\n",
    "        cate_freq[row.category] += freq\n",
    "        cate_freq['全部'] += freq\n",
    "    return cate_freq, cate_occurence"
   ]
  },
  {
   "cell_type": "code",
   "execution_count": 168,
   "metadata": {},
   "outputs": [
    {
     "data": {
      "text/plain": [
       "({'政治': 4,\n",
       "  '科技': 0,\n",
       "  '運動': 0,\n",
       "  '證卷': 0,\n",
       "  '產經': 0,\n",
       "  '娛樂': 0,\n",
       "  '生活': 1,\n",
       "  '國際': 0,\n",
       "  '社會': 2,\n",
       "  '文化': 0,\n",
       "  '兩岸': 0,\n",
       "  '全部': 7},\n",
       " {'政治': 4,\n",
       "  '科技': 0,\n",
       "  '運動': 0,\n",
       "  '證卷': 0,\n",
       "  '產經': 0,\n",
       "  '娛樂': 0,\n",
       "  '生活': 1,\n",
       "  '國際': 0,\n",
       "  '社會': 2,\n",
       "  '文化': 0,\n",
       "  '兩岸': 0,\n",
       "  '全部': 7})"
      ]
     },
     "execution_count": 168,
     "metadata": {},
     "output_type": "execute_result"
    }
   ],
   "source": [
    "count_keyword(query_df, keyword)"
   ]
  },
  {
   "cell_type": "markdown",
   "metadata": {},
   "source": [
    "# Caclulate date-based reported frequency of these keywords計算被報導的次數以時間為基礎"
   ]
  },
  {
   "cell_type": "code",
   "execution_count": 169,
   "metadata": {},
   "outputs": [],
   "source": [
    "def get_key_time_freq(query_df, keyword):\n",
    "    date_samples = query_df.date\n",
    "    query_freq = pd.DataFrame({'date_index': pd.to_datetime(date_samples), 'freq': [1 for _ in range(len(query_df))]})\n",
    "    data = query_freq.groupby(pd.Grouper(key='date_index', freq='D')).sum()\n",
    "    time_data = []\n",
    "    for i, idx in enumerate(data.index):\n",
    "        row = {'x': idx.strftime('%Y-%m-%d'), 'y': int(data.iloc[i].freq)}\n",
    "        time_data.append(row)\n",
    "    return time_data"
   ]
  },
  {
   "cell_type": "code",
   "execution_count": 170,
   "metadata": {},
   "outputs": [
    {
     "data": {
      "text/plain": [
       "[{'x': '2022-09-29', 'y': 7}]"
      ]
     },
     "execution_count": 170,
     "metadata": {},
     "output_type": "execute_result"
    }
   ],
   "source": [
    "get_key_time_freq(query_df, keyword)"
   ]
  },
  {
   "cell_type": "markdown",
   "metadata": {},
   "source": [
    "# Sentimental polarity score計算整體情緒分數(影響力)"
   ]
  },
  {
   "cell_type": "code",
   "execution_count": 171,
   "metadata": {},
   "outputs": [],
   "source": [
    "# sentimental polarity score\n",
    "def get_article_sentiment(query_df ):\n",
    "    # query_df = df[df['tokens'].str.contains(query_key)]\n",
    "    sentiCount = {'pos': 0, 'neg': 0, 'obj': 0}\n",
    "    sentiPercnt = {'pos': 0, 'neg': 0, 'obj': 0}\n",
    "    numberOfArticle = len(query_df)\n",
    "    for senti in query_df.sentiment:\n",
    "        # 判斷文章的情緒極性\n",
    "        if senti >= 0.75:\n",
    "            sentiCount['pos'] += 1\n",
    "        elif senti <= 0.4:\n",
    "            sentiCount['neg'] += 1\n",
    "        else:\n",
    "            sentiCount['obj'] += 1\n",
    "    for polar in sentiCount :\n",
    "        if numberOfArticle != 0:\n",
    "            sentiPercnt[polar] = int(sentiCount[polar]/numberOfArticle*100)\n",
    "            # sentiPercnt[polar]=round(sentiCount[polar]/numberOfArticle,2)\n",
    "        else:\n",
    "            sentiPercnt[polar] = 0\n",
    "    return sentiCount, sentiPercnt\n"
   ]
  },
  {
   "cell_type": "code",
   "execution_count": 172,
   "metadata": {},
   "outputs": [
    {
     "data": {
      "text/plain": [
       "({'pos': 0, 'neg': 6, 'obj': 1}, {'pos': 0, 'neg': 85, 'obj': 14})"
      ]
     },
     "execution_count": 172,
     "metadata": {},
     "output_type": "execute_result"
    }
   ],
   "source": [
    "get_article_sentiment(query_df)"
   ]
  },
  {
   "cell_type": "markdown",
   "metadata": {},
   "source": [
    "# '台灣','美國','中國' PK"
   ]
  },
  {
   "cell_type": "markdown",
   "metadata": {},
   "source": [
    "## Define PK set "
   ]
  },
  {
   "cell_type": "code",
   "execution_count": 173,
   "metadata": {},
   "outputs": [],
   "source": [
    "pkName = ['台灣', '美國', '中國']\n",
    "pkset = [['台灣','臺灣'], ['美國'], ['中國']]\n",
    "color = ['pink', 'blue', 'red']\n",
    "freqByDate = []\n",
    "freqByCate = []\n",
    "sentiInfo = []\n",
    "photo = [\n",
    "    \"data:image/png;base64,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\",\n",
    "    \"data:image/png;base64,iVBORw0KGgoAAAANSUhEUgAAASwAAACeCAMAAAC/1seNAAAAb1BMVEWyIjT///88O2703uHKZnPcmqLiq7LEVWP67/Hr4eeXlrI/PnDu7vLr6/Dy8vWenberqsBLSnlUVICRkK3Pz9tXVoK4uMpEQ3RnZo5wb5XJyNeiorpQT32wsMRkY4xubZOHhqbY2OJ6eZyCgaJ1dZlZ8INYAAADpUlEQVR4nO3d2XLaUBAEUCQ7m8SqJQaDDQT+/xsjgRbQxbFm4lHXVfV5oCrzND3gxHRMMglBJj7isQR4LIFm+zh2ExnO0LlVmu3PZzec4QydW6XZ/u3NDWc4Q+dWqZePp1Pn68Zyhs6tctk8yYKLY94mM56hc6tUz/mizLG8ey3YztC5VeoksyCYdb5uTGfo3CrV7uvg9TVY34cznaFzq1S7bxdxmG7vw5nO0LlVqt13zUPxW3FiPwufPPTo7U6a2s/CwEOPjpVl9rNRHCuJouJP+EUUJXaz0Rwr/DMvx/OT5Ww0xwqTaRBME9vZaI61Kscr29lojnWY7dezg+3M+2PVxdyheBWsDrYz74+12TjPvuUMHVwDVv6hg2vAyj90cI3rsfLj9VfH9zaZ8ezZQyz/JOooZTEXdljO0LlVqt1Z/vVR7c7yr49q99tibrezn3l9rFuDlH/o3CoPcgxS/qFzq3Qy5FEUBUHxkNvNRnOswco/dG6Vboihyj90bhUnxUDlHzq3ipPiMD3vnQLvi2eFbx5yy7+0LOtS21noc+tQYvn3KZZ/Am35N3tQ1hnO0ME16p/8mxffDs3n2e3fJdvO0ME16vJvWf7i98vd68B0hon7f2DlHzq4Rlv+ZZlb1hnO0ME1YOUfOrhGfaykeWjLOsuZ18e6xZ/8+wCs/PvuIZZ/Et1nnOXfP3RDhHlZ1uW2s9Eci+Xfx5wUA5V/6NwqzfYDl3/o3CrN9gOXf+jcKs32/Njv5+rlhy7/0LlVLpsDyj90bpVrkpcHZZ3tDJ1bpY4ydPn3w0Ms/wSa8m8bx1G3rLOcoYNrsPwTYPknwI/9CsDKP3RwDeeVdbqWdanlbDTHGqr8QwfX4Md+BR6Wf5vZyXbm/bGasq74rmjXLfC+eOb9sfZ759m3nP300E35t3TDGc7QBYJKvTzLvx4um+d1MXf77aTtDJ1b5ZqE5V8vdRR+7LeHavf3sph7v89mOkPnVql23y7jeNEt6yxn6Nwq1e5589AynaFzq4Qg6NwqPJYAjyXAYwn8AkG/KdaYYMoOP/FYAjyWAI8lwGMJ8FgCPJYAjyXAYwnwWAI8lsAE/UOtPkG/jyciIiIiIrKC/sdwfMLWQYDHEuCxBHgsAR5LgMcS4LEEeCwBHkuAxxLgsQQm6P9Ewyfo9/FERERERERWnqk3tg4CPJYAjyXAYwnwWAI8lgCPJcBjCfBYAjyWAI8lMHmi3tDv44mIiIiIiAjvLw24O4/KQGb1AAAAAElFTkSuQmCC\",\n",
    "    \"data:image/png;base64,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\"\n",
    "         ]\n",
    "\n",
    "for keyword in pkset:\n",
    "    query_df = df[\n",
    "        (df['date'] >= start_date) & (df['date'] <= end_date) & df['tokens_rm_stopwords'].str.contains('|'.join(keyword))]\n",
    "    # query_df = df[df['tokens_rm_stopwords'].str.contains('|'.join(keyword))]\n",
    "    # print(len(query_df))\n",
    "    freqByDate.append(get_key_time_freq(query_df, keyword))\n",
    "\n",
    "    cate_freq, cate_occurence = count_keyword(query_df, keyword)\n",
    "\n",
    "    selectedCategories = ['全部', '政治', '兩岸', '產經', '生活', '社會']\n",
    "    # selectedCategories = ['政治', '產經', '生活', '國際', '社會', '兩岸','全部']\n",
    "\n",
    "    freq = [cate_occurence[k] for k in selectedCategories]\n",
    "    freqByCate.append(freq)\n",
    "\n",
    "    # sentiment information\n",
    "    sentiCount, sentiPercnt = get_article_sentiment(query_df)\n",
    "    #sentiInfo = '正向:{}%, 中立:{}%, 負向:{}%'.format(str(sentiPercnt['pos']), str(sentiPercnt['obj']),\n",
    "    #                                            str(sentiPercnt['neg']))\n",
    "    senti = [sentiPercnt[p] for p in ['pos','obj','neg']]\n",
    "    sentiInfo.append(senti)\n",
    "\n",
    "data_pk =  {'freqByDate': freqByDate,\n",
    "           'pkName': pkName,\n",
    "           'color': color,\n",
    "           'photo': photo,\n",
    "           'freqByCate': freqByCate,\n",
    "           'category': selectedCategories,\n",
    "           'sentiInfo': sentiInfo,\n",
    "           }"
   ]
  },
  {
   "cell_type": "code",
   "execution_count": 174,
   "metadata": {},
   "outputs": [
    {
     "data": {
      "text/plain": [
       "{'freqByDate': [[{'x': '2022-09-22', 'y': 2},\n",
       "   {'x': '2022-09-23', 'y': 0},\n",
       "   {'x': '2022-09-24', 'y': 0},\n",
       "   {'x': '2022-09-25', 'y': 0},\n",
       "   {'x': '2022-09-26', 'y': 0},\n",
       "   {'x': '2022-09-27', 'y': 2},\n",
       "   {'x': '2022-09-28', 'y': 11},\n",
       "   {'x': '2022-09-29', 'y': 63}],\n",
       "  [{'x': '2022-09-22', 'y': 1},\n",
       "   {'x': '2022-09-23', 'y': 1},\n",
       "   {'x': '2022-09-24', 'y': 1},\n",
       "   {'x': '2022-09-25', 'y': 1},\n",
       "   {'x': '2022-09-26', 'y': 0},\n",
       "   {'x': '2022-09-27', 'y': 4},\n",
       "   {'x': '2022-09-28', 'y': 6},\n",
       "   {'x': '2022-09-29', 'y': 40}],\n",
       "  [{'x': '2022-09-28', 'y': 4}, {'x': '2022-09-29', 'y': 27}]],\n",
       " 'pkName': ['台灣', '美國', '中國'],\n",
       " 'color': ['pink', 'blue', 'red'],\n",
       " 'photo': ['data:image/png;base64,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',\n",
       "  'data:image/png;base64,iVBORw0KGgoAAAANSUhEUgAAASwAAACeCAMAAAC/1seNAAAAb1BMVEWyIjT///88O2703uHKZnPcmqLiq7LEVWP67/Hr4eeXlrI/PnDu7vLr6/Dy8vWenberqsBLSnlUVICRkK3Pz9tXVoK4uMpEQ3RnZo5wb5XJyNeiorpQT32wsMRkY4xubZOHhqbY2OJ6eZyCgaJ1dZlZ8INYAAADpUlEQVR4nO3d2XLaUBAEUCQ7m8SqJQaDDQT+/xsjgRbQxbFm4lHXVfV5oCrzND3gxHRMMglBJj7isQR4LIFm+zh2ExnO0LlVmu3PZzec4QydW6XZ/u3NDWc4Q+dWqZePp1Pn68Zyhs6tctk8yYKLY94mM56hc6tUz/mizLG8ey3YztC5VeoksyCYdb5uTGfo3CrV7uvg9TVY34cznaFzq1S7bxdxmG7vw5nO0LlVqt13zUPxW3FiPwufPPTo7U6a2s/CwEOPjpVl9rNRHCuJouJP+EUUJXaz0Rwr/DMvx/OT5Ww0xwqTaRBME9vZaI61Kscr29lojnWY7dezg+3M+2PVxdyheBWsDrYz74+12TjPvuUMHVwDVv6hg2vAyj90cI3rsfLj9VfH9zaZ8ezZQyz/JOooZTEXdljO0LlVqt1Z/vVR7c7yr49q99tibrezn3l9rFuDlH/o3CoPcgxS/qFzq3Qy5FEUBUHxkNvNRnOswco/dG6Vboihyj90bhUnxUDlHzq3ipPiMD3vnQLvi2eFbx5yy7+0LOtS21noc+tQYvn3KZZ/Am35N3tQ1hnO0ME16p/8mxffDs3n2e3fJdvO0ME16vJvWf7i98vd68B0hon7f2DlHzq4Rlv+ZZlb1hnO0ME1YOUfOrhGfaykeWjLOsuZ18e6xZ/8+wCs/PvuIZZ/Et1nnOXfP3RDhHlZ1uW2s9Eci+Xfx5wUA5V/6NwqzfYDl3/o3CrN9gOXf+jcKs32/Njv5+rlhy7/0LlVLpsDyj90bpVrkpcHZZ3tDJ1bpY4ydPn3w0Ms/wSa8m8bx1G3rLOcoYNrsPwTYPknwI/9CsDKP3RwDeeVdbqWdanlbDTHGqr8QwfX4Md+BR6Wf5vZyXbm/bGasq74rmjXLfC+eOb9sfZ759m3nP300E35t3TDGc7QBYJKvTzLvx4um+d1MXf77aTtDJ1b5ZqE5V8vdRR+7LeHavf3sph7v89mOkPnVql23y7jeNEt6yxn6Nwq1e5589AynaFzq4Qg6NwqPJYAjyXAYwn8AkG/KdaYYMoOP/FYAjyWAI8lwGMJ8FgCPJYAjyXAYwnwWAI8lsAE/UOtPkG/jyciIiIiIrKC/sdwfMLWQYDHEuCxBHgsAR5LgMcS4LEEeCwBHkuAxxLgsQQm6P9Ewyfo9/FERERERERWnqk3tg4CPJYAjyXAYwnwWAI8lgCPJcBjCfBYAjyWAI8lMHmi3tDv44mIiIiIiAjvLw24O4/KQGb1AAAAAElFTkSuQmCC',\n",
       "  'data:image/png;base64,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'],\n",
       " 'freqByCate': [[78, 10, 4, 8, 7, 5],\n",
       "  [54, 5, 3, 3, 3, 0],\n",
       "  [31, 4, 15, 2, 0, 0]],\n",
       " 'category': ['全部', '政治', '兩岸', '產經', '生活', '社會'],\n",
       " 'sentiInfo': [[23, 2, 74], [24, 0, 75], [25, 3, 70]]}"
      ]
     },
     "execution_count": 174,
     "metadata": {},
     "output_type": "execute_result"
    }
   ],
   "source": [
    "data_pk"
   ]
  },
  {
   "cell_type": "markdown",
   "metadata": {},
   "source": [
    "## Save PK data to csv file\n",
    "\n",
    "類別新聞關鍵字存檔"
   ]
  },
  {
   "cell_type": "code",
   "execution_count": 175,
   "metadata": {},
   "outputs": [],
   "source": [
    "df_data_pk = pd.DataFrame(list(data_pk.items()),columns=['name','value'])"
   ]
  },
  {
   "cell_type": "code",
   "execution_count": 176,
   "metadata": {},
   "outputs": [
    {
     "data": {
      "text/html": [
       "<div>\n",
       "<style scoped>\n",
       "    .dataframe tbody tr th:only-of-type {\n",
       "        vertical-align: middle;\n",
       "    }\n",
       "\n",
       "    .dataframe tbody tr th {\n",
       "        vertical-align: top;\n",
       "    }\n",
       "\n",
       "    .dataframe thead th {\n",
       "        text-align: right;\n",
       "    }\n",
       "</style>\n",
       "<table border=\"1\" class=\"dataframe\">\n",
       "  <thead>\n",
       "    <tr style=\"text-align: right;\">\n",
       "      <th></th>\n",
       "      <th>name</th>\n",
       "      <th>value</th>\n",
       "    </tr>\n",
       "  </thead>\n",
       "  <tbody>\n",
       "    <tr>\n",
       "      <th>0</th>\n",
       "      <td>freqByDate</td>\n",
       "      <td>[[{'x': '2022-09-22', 'y': 2}, {'x': '2022-09-...</td>\n",
       "    </tr>\n",
       "    <tr>\n",
       "      <th>1</th>\n",
       "      <td>pkName</td>\n",
       "      <td>[台灣, 美國, 中國]</td>\n",
       "    </tr>\n",
       "    <tr>\n",
       "      <th>2</th>\n",
       "      <td>color</td>\n",
       "      <td>[pink, blue, red]</td>\n",
       "    </tr>\n",
       "    <tr>\n",
       "      <th>3</th>\n",
       "      <td>photo</td>\n",
       "      <td>[data:image/png;base64,iVBORw0KGgoAAAANSUhEUgA...</td>\n",
       "    </tr>\n",
       "    <tr>\n",
       "      <th>4</th>\n",
       "      <td>freqByCate</td>\n",
       "      <td>[[78, 10, 4, 8, 7, 5], [54, 5, 3, 3, 3, 0], [3...</td>\n",
       "    </tr>\n",
       "    <tr>\n",
       "      <th>5</th>\n",
       "      <td>category</td>\n",
       "      <td>[全部, 政治, 兩岸, 產經, 生活, 社會]</td>\n",
       "    </tr>\n",
       "    <tr>\n",
       "      <th>6</th>\n",
       "      <td>sentiInfo</td>\n",
       "      <td>[[23, 2, 74], [24, 0, 75], [25, 3, 70]]</td>\n",
       "    </tr>\n",
       "  </tbody>\n",
       "</table>\n",
       "</div>"
      ],
      "text/plain": [
       "         name                                              value\n",
       "0  freqByDate  [[{'x': '2022-09-22', 'y': 2}, {'x': '2022-09-...\n",
       "1      pkName                                       [台灣, 美國, 中國]\n",
       "2       color                                  [pink, blue, red]\n",
       "3       photo  [data:image/png;base64,iVBORw0KGgoAAAANSUhEUgA...\n",
       "4  freqByCate  [[78, 10, 4, 8, 7, 5], [54, 5, 3, 3, 3, 0], [3...\n",
       "5    category                           [全部, 政治, 兩岸, 產經, 生活, 社會]\n",
       "6   sentiInfo            [[23, 2, 74], [24, 0, 75], [25, 3, 70]]"
      ]
     },
     "execution_count": 176,
     "metadata": {},
     "output_type": "execute_result"
    }
   ],
   "source": [
    "df_data_pk"
   ]
  },
  {
   "cell_type": "code",
   "execution_count": 177,
   "metadata": {},
   "outputs": [],
   "source": [
    "## 存成csv格式檔案\n",
    "\n",
    "df_data_pk.to_csv('pk_nation.csv',sep='|', index = None)"
   ]
  },
  {
   "cell_type": "markdown",
   "metadata": {},
   "source": [
    "### Alternative way: using zip"
   ]
  },
  {
   "cell_type": "code",
   "execution_count": 178,
   "metadata": {},
   "outputs": [],
   "source": [
    "k = list(data_pk.keys())\n",
    "v = list(data_pk.values())"
   ]
  },
  {
   "cell_type": "code",
   "execution_count": 21,
   "metadata": {},
   "outputs": [],
   "source": [
    "#list(zip(k,v))"
   ]
  },
  {
   "cell_type": "code",
   "execution_count": 179,
   "metadata": {
    "scrolled": true
   },
   "outputs": [
    {
     "data": {
      "text/html": [
       "<div>\n",
       "<style scoped>\n",
       "    .dataframe tbody tr th:only-of-type {\n",
       "        vertical-align: middle;\n",
       "    }\n",
       "\n",
       "    .dataframe tbody tr th {\n",
       "        vertical-align: top;\n",
       "    }\n",
       "\n",
       "    .dataframe thead th {\n",
       "        text-align: right;\n",
       "    }\n",
       "</style>\n",
       "<table border=\"1\" class=\"dataframe\">\n",
       "  <thead>\n",
       "    <tr style=\"text-align: right;\">\n",
       "      <th></th>\n",
       "      <th>name</th>\n",
       "      <th>value</th>\n",
       "    </tr>\n",
       "  </thead>\n",
       "  <tbody>\n",
       "    <tr>\n",
       "      <th>0</th>\n",
       "      <td>freqByDate</td>\n",
       "      <td>[[{'x': '2022-09-22', 'y': 2}, {'x': '2022-09-...</td>\n",
       "    </tr>\n",
       "    <tr>\n",
       "      <th>1</th>\n",
       "      <td>pkName</td>\n",
       "      <td>[台灣, 美國, 中國]</td>\n",
       "    </tr>\n",
       "    <tr>\n",
       "      <th>2</th>\n",
       "      <td>color</td>\n",
       "      <td>[pink, blue, red]</td>\n",
       "    </tr>\n",
       "    <tr>\n",
       "      <th>3</th>\n",
       "      <td>photo</td>\n",
       "      <td>[data:image/png;base64,iVBORw0KGgoAAAANSUhEUgA...</td>\n",
       "    </tr>\n",
       "    <tr>\n",
       "      <th>4</th>\n",
       "      <td>freqByCate</td>\n",
       "      <td>[[78, 10, 4, 8, 7, 5], [54, 5, 3, 3, 3, 0], [3...</td>\n",
       "    </tr>\n",
       "    <tr>\n",
       "      <th>5</th>\n",
       "      <td>category</td>\n",
       "      <td>[全部, 政治, 兩岸, 產經, 生活, 社會]</td>\n",
       "    </tr>\n",
       "    <tr>\n",
       "      <th>6</th>\n",
       "      <td>sentiInfo</td>\n",
       "      <td>[[23, 2, 74], [24, 0, 75], [25, 3, 70]]</td>\n",
       "    </tr>\n",
       "  </tbody>\n",
       "</table>\n",
       "</div>"
      ],
      "text/plain": [
       "         name                                              value\n",
       "0  freqByDate  [[{'x': '2022-09-22', 'y': 2}, {'x': '2022-09-...\n",
       "1      pkName                                       [台灣, 美國, 中國]\n",
       "2       color                                  [pink, blue, red]\n",
       "3       photo  [data:image/png;base64,iVBORw0KGgoAAAANSUhEUgA...\n",
       "4  freqByCate  [[78, 10, 4, 8, 7, 5], [54, 5, 3, 3, 3, 0], [3...\n",
       "5    category                           [全部, 政治, 兩岸, 產經, 生活, 社會]\n",
       "6   sentiInfo            [[23, 2, 74], [24, 0, 75], [25, 3, 70]]"
      ]
     },
     "execution_count": 179,
     "metadata": {},
     "output_type": "execute_result"
    }
   ],
   "source": [
    "df_data_pk = pd.DataFrame(list(zip(k,v)),columns=['name','value'])\n",
    "df_data_pk"
   ]
  },
  {
   "cell_type": "markdown",
   "metadata": {},
   "source": [
    "## Read csv file and convert to dict format"
   ]
  },
  {
   "cell_type": "code",
   "execution_count": 180,
   "metadata": {},
   "outputs": [],
   "source": [
    "df_data_pk = pd.read_csv('pk_nation.csv',sep='|')"
   ]
  },
  {
   "cell_type": "code",
   "execution_count": 181,
   "metadata": {},
   "outputs": [
    {
     "data": {
      "text/html": [
       "<div>\n",
       "<style scoped>\n",
       "    .dataframe tbody tr th:only-of-type {\n",
       "        vertical-align: middle;\n",
       "    }\n",
       "\n",
       "    .dataframe tbody tr th {\n",
       "        vertical-align: top;\n",
       "    }\n",
       "\n",
       "    .dataframe thead th {\n",
       "        text-align: right;\n",
       "    }\n",
       "</style>\n",
       "<table border=\"1\" class=\"dataframe\">\n",
       "  <thead>\n",
       "    <tr style=\"text-align: right;\">\n",
       "      <th></th>\n",
       "      <th>name</th>\n",
       "      <th>value</th>\n",
       "    </tr>\n",
       "  </thead>\n",
       "  <tbody>\n",
       "    <tr>\n",
       "      <th>0</th>\n",
       "      <td>freqByDate</td>\n",
       "      <td>[[{'x': '2022-09-22', 'y': 2}, {'x': '2022-09-...</td>\n",
       "    </tr>\n",
       "    <tr>\n",
       "      <th>1</th>\n",
       "      <td>pkName</td>\n",
       "      <td>['台灣', '美國', '中國']</td>\n",
       "    </tr>\n",
       "    <tr>\n",
       "      <th>2</th>\n",
       "      <td>color</td>\n",
       "      <td>['pink', 'blue', 'red']</td>\n",
       "    </tr>\n",
       "    <tr>\n",
       "      <th>3</th>\n",
       "      <td>photo</td>\n",
       "      <td>['data:image/png;base64,iVBORw0KGgoAAAANSUhEUg...</td>\n",
       "    </tr>\n",
       "    <tr>\n",
       "      <th>4</th>\n",
       "      <td>freqByCate</td>\n",
       "      <td>[[78, 10, 4, 8, 7, 5], [54, 5, 3, 3, 3, 0], [3...</td>\n",
       "    </tr>\n",
       "    <tr>\n",
       "      <th>5</th>\n",
       "      <td>category</td>\n",
       "      <td>['全部', '政治', '兩岸', '產經', '生活', '社會']</td>\n",
       "    </tr>\n",
       "    <tr>\n",
       "      <th>6</th>\n",
       "      <td>sentiInfo</td>\n",
       "      <td>[[23, 2, 74], [24, 0, 75], [25, 3, 70]]</td>\n",
       "    </tr>\n",
       "  </tbody>\n",
       "</table>\n",
       "</div>"
      ],
      "text/plain": [
       "         name                                              value\n",
       "0  freqByDate  [[{'x': '2022-09-22', 'y': 2}, {'x': '2022-09-...\n",
       "1      pkName                                 ['台灣', '美國', '中國']\n",
       "2       color                            ['pink', 'blue', 'red']\n",
       "3       photo  ['data:image/png;base64,iVBORw0KGgoAAAANSUhEUg...\n",
       "4  freqByCate  [[78, 10, 4, 8, 7, 5], [54, 5, 3, 3, 3, 0], [3...\n",
       "5    category               ['全部', '政治', '兩岸', '產經', '生活', '社會']\n",
       "6   sentiInfo            [[23, 2, 74], [24, 0, 75], [25, 3, 70]]"
      ]
     },
     "execution_count": 181,
     "metadata": {},
     "output_type": "execute_result"
    }
   ],
   "source": [
    "df_data_pk "
   ]
  },
  {
   "cell_type": "code",
   "execution_count": 182,
   "metadata": {},
   "outputs": [
    {
     "data": {
      "text/plain": [
       "{'freqByDate': \"[[{'x': '2022-09-22', 'y': 2}, {'x': '2022-09-23', 'y': 0}, {'x': '2022-09-24', 'y': 0}, {'x': '2022-09-25', 'y': 0}, {'x': '2022-09-26', 'y': 0}, {'x': '2022-09-27', 'y': 2}, {'x': '2022-09-28', 'y': 11}, {'x': '2022-09-29', 'y': 63}], [{'x': '2022-09-22', 'y': 1}, {'x': '2022-09-23', 'y': 1}, {'x': '2022-09-24', 'y': 1}, {'x': '2022-09-25', 'y': 1}, {'x': '2022-09-26', 'y': 0}, {'x': '2022-09-27', 'y': 4}, {'x': '2022-09-28', 'y': 6}, {'x': '2022-09-29', 'y': 40}], [{'x': '2022-09-28', 'y': 4}, {'x': '2022-09-29', 'y': 27}]]\",\n",
       " 'pkName': \"['台灣', '美國', '中國']\",\n",
       " 'color': \"['pink', 'blue', 'red']\",\n",
       " 'photo': \"['data:image/png;base64,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', 'data:image/png;base64,iVBORw0KGgoAAAANSUhEUgAAASwAAACeCAMAAAC/1seNAAAAb1BMVEWyIjT///88O2703uHKZnPcmqLiq7LEVWP67/Hr4eeXlrI/PnDu7vLr6/Dy8vWenberqsBLSnlUVICRkK3Pz9tXVoK4uMpEQ3RnZo5wb5XJyNeiorpQT32wsMRkY4xubZOHhqbY2OJ6eZyCgaJ1dZlZ8INYAAADpUlEQVR4nO3d2XLaUBAEUCQ7m8SqJQaDDQT+/xsjgRbQxbFm4lHXVfV5oCrzND3gxHRMMglBJj7isQR4LIFm+zh2ExnO0LlVmu3PZzec4QydW6XZ/u3NDWc4Q+dWqZePp1Pn68Zyhs6tctk8yYKLY94mM56hc6tUz/mizLG8ey3YztC5VeoksyCYdb5uTGfo3CrV7uvg9TVY34cznaFzq1S7bxdxmG7vw5nO0LlVqt13zUPxW3FiPwufPPTo7U6a2s/CwEOPjpVl9rNRHCuJouJP+EUUJXaz0Rwr/DMvx/OT5Ww0xwqTaRBME9vZaI61Kscr29lojnWY7dezg+3M+2PVxdyheBWsDrYz74+12TjPvuUMHVwDVv6hg2vAyj90cI3rsfLj9VfH9zaZ8ezZQyz/JOooZTEXdljO0LlVqt1Z/vVR7c7yr49q99tibrezn3l9rFuDlH/o3CoPcgxS/qFzq3Qy5FEUBUHxkNvNRnOswco/dG6Vboihyj90bhUnxUDlHzq3ipPiMD3vnQLvi2eFbx5yy7+0LOtS21noc+tQYvn3KZZ/Am35N3tQ1hnO0ME16p/8mxffDs3n2e3fJdvO0ME16vJvWf7i98vd68B0hon7f2DlHzq4Rlv+ZZlb1hnO0ME1YOUfOrhGfaykeWjLOsuZ18e6xZ/8+wCs/PvuIZZ/Et1nnOXfP3RDhHlZ1uW2s9Eci+Xfx5wUA5V/6NwqzfYDl3/o3CrN9gOXf+jcKs32/Njv5+rlhy7/0LlVLpsDyj90bpVrkpcHZZ3tDJ1bpY4ydPn3w0Ms/wSa8m8bx1G3rLOcoYNrsPwTYPknwI/9CsDKP3RwDeeVdbqWdanlbDTHGqr8QwfX4Md+BR6Wf5vZyXbm/bGasq74rmjXLfC+eOb9sfZ759m3nP300E35t3TDGc7QBYJKvTzLvx4um+d1MXf77aTtDJ1b5ZqE5V8vdRR+7LeHavf3sph7v89mOkPnVql23y7jeNEt6yxn6Nwq1e5589AynaFzq4Qg6NwqPJYAjyXAYwn8AkG/KdaYYMoOP/FYAjyWAI8lwGMJ8FgCPJYAjyXAYwnwWAI8lsAE/UOtPkG/jyciIiIiIrKC/sdwfMLWQYDHEuCxBHgsAR5LgMcS4LEEeCwBHkuAxxLgsQQm6P9Ewyfo9/FERERERERWnqk3tg4CPJYAjyXAYwnwWAI8lgCPJcBjCfBYAjyWAI8lMHmi3tDv44mIiIiIiAjvLw24O4/KQGb1AAAAAElFTkSuQmCC', 'data:image/png;base64,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']\",\n",
       " 'freqByCate': '[[78, 10, 4, 8, 7, 5], [54, 5, 3, 3, 3, 0], [31, 4, 15, 2, 0, 0]]',\n",
       " 'category': \"['全部', '政治', '兩岸', '產經', '生活', '社會']\",\n",
       " 'sentiInfo': '[[23, 2, 74], [24, 0, 75], [25, 3, 70]]'}"
      ]
     },
     "execution_count": 182,
     "metadata": {},
     "output_type": "execute_result"
    }
   ],
   "source": [
    "# Convert to dictionary format\n",
    "dict(list(df_data_pk.values))"
   ]
  },
  {
   "cell_type": "markdown",
   "metadata": {},
   "source": [
    "## All-in-one function"
   ]
  },
  {
   "cell_type": "code",
   "execution_count": 190,
   "metadata": {},
   "outputs": [],
   "source": [
    "def pk_nation():\n",
    "\n",
    "    # end date: the date of the last record of news\n",
    "    end_date = '2022-10-01'\n",
    "    # start date\n",
    "    weeks = 4 # week duration for analysis\n",
    "    start_date = (datetime.strptime(end_date, '%Y-%m-%d').date() - timedelta(weeks=weeks)).strftime('%Y-%m-%d')\n",
    "\n",
    "    pkName = ['台灣', '美國', '中國']\n",
    "    pkset = [['台灣','臺灣'], ['美國'], ['中國']]\n",
    "    color = ['pink', 'blue', 'red']\n",
    "    freqByDate = []\n",
    "    freqByCate = []\n",
    "    sentiInfo = []\n",
    "    photo = [\n",
    "        \"data:image/png;base64,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\",\n",
    "        \"data:image/png;base64,iVBORw0KGgoAAAANSUhEUgAAASwAAACeCAMAAAC/1seNAAAAb1BMVEWyIjT///88O2703uHKZnPcmqLiq7LEVWP67/Hr4eeXlrI/PnDu7vLr6/Dy8vWenberqsBLSnlUVICRkK3Pz9tXVoK4uMpEQ3RnZo5wb5XJyNeiorpQT32wsMRkY4xubZOHhqbY2OJ6eZyCgaJ1dZlZ8INYAAADpUlEQVR4nO3d2XLaUBAEUCQ7m8SqJQaDDQT+/xsjgRbQxbFm4lHXVfV5oCrzND3gxHRMMglBJj7isQR4LIFm+zh2ExnO0LlVmu3PZzec4QydW6XZ/u3NDWc4Q+dWqZePp1Pn68Zyhs6tctk8yYKLY94mM56hc6tUz/mizLG8ey3YztC5VeoksyCYdb5uTGfo3CrV7uvg9TVY34cznaFzq1S7bxdxmG7vw5nO0LlVqt13zUPxW3FiPwufPPTo7U6a2s/CwEOPjpVl9rNRHCuJouJP+EUUJXaz0Rwr/DMvx/OT5Ww0xwqTaRBME9vZaI61Kscr29lojnWY7dezg+3M+2PVxdyheBWsDrYz74+12TjPvuUMHVwDVv6hg2vAyj90cI3rsfLj9VfH9zaZ8ezZQyz/JOooZTEXdljO0LlVqt1Z/vVR7c7yr49q99tibrezn3l9rFuDlH/o3CoPcgxS/qFzq3Qy5FEUBUHxkNvNRnOswco/dG6Vboihyj90bhUnxUDlHzq3ipPiMD3vnQLvi2eFbx5yy7+0LOtS21noc+tQYvn3KZZ/Am35N3tQ1hnO0ME16p/8mxffDs3n2e3fJdvO0ME16vJvWf7i98vd68B0hon7f2DlHzq4Rlv+ZZlb1hnO0ME1YOUfOrhGfaykeWjLOsuZ18e6xZ/8+wCs/PvuIZZ/Et1nnOXfP3RDhHlZ1uW2s9Eci+Xfx5wUA5V/6NwqzfYDl3/o3CrN9gOXf+jcKs32/Njv5+rlhy7/0LlVLpsDyj90bpVrkpcHZZ3tDJ1bpY4ydPn3w0Ms/wSa8m8bx1G3rLOcoYNrsPwTYPknwI/9CsDKP3RwDeeVdbqWdanlbDTHGqr8QwfX4Md+BR6Wf5vZyXbm/bGasq74rmjXLfC+eOb9sfZ759m3nP300E35t3TDGc7QBYJKvTzLvx4um+d1MXf77aTtDJ1b5ZqE5V8vdRR+7LeHavf3sph7v89mOkPnVql23y7jeNEt6yxn6Nwq1e5589AynaFzq4Qg6NwqPJYAjyXAYwn8AkG/KdaYYMoOP/FYAjyWAI8lwGMJ8FgCPJYAjyXAYwnwWAI8lsAE/UOtPkG/jyciIiIiIrKC/sdwfMLWQYDHEuCxBHgsAR5LgMcS4LEEeCwBHkuAxxLgsQQm6P9Ewyfo9/FERERERERWnqk3tg4CPJYAjyXAYwnwWAI8lgCPJcBjCfBYAjyWAI8lMHmi3tDv44mIiIiIiAjvLw24O4/KQGb1AAAAAElFTkSuQmCC\",\n",
    "        \"data:image/png;base64,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\"\n",
    "            ]\n",
    "\n",
    "    for keyword in pkset:\n",
    "        query_df = df[\n",
    "            (df['date'] >= start_date) & (df['date'] <= end_date) & df['tokens_rm_stopwords'].str.contains('|'.join(keyword))]\n",
    "        # query_df = df[df['tokens_rm_stopwords'].str.contains('|'.join(keyword))]\n",
    "        # print(len(query_df))\n",
    "        freqByDate.append(get_key_time_freq(query_df, keyword))\n",
    "\n",
    "        cate_freq, cate_occurence = count_keyword(query_df, keyword)\n",
    "\n",
    "        selectedCategories = ['全部', '政治', '兩岸', '產經', '生活', '社會']\n",
    "        # selectedCategories = ['政治', '產經', '生活', '國際', '社會', '兩岸','全部']\n",
    "\n",
    "        freq = [cate_occurence[k] for k in selectedCategories]\n",
    "        freqByCate.append(freq)\n",
    "\n",
    "        # sentiment information\n",
    "        sentiCount, sentiPercnt = get_article_sentiment(query_df)\n",
    "        #sentiInfo = '正向:{}%, 中立:{}%, 負向:{}%'.format(str(sentiPercnt['pos']), str(sentiPercnt['obj']),\n",
    "        #                                            str(sentiPercnt['neg']))\n",
    "        senti = [sentiPercnt[p] for p in ['pos','obj','neg']]\n",
    "        sentiInfo.append(senti)\n",
    "\n",
    "    data_pk =  {'freqByDate': freqByDate,\n",
    "               'pkName': pkName,\n",
    "               'color': color,\n",
    "               'photo': photo,\n",
    "               'freqByCate': freqByCate,\n",
    "               'category': selectedCategories,\n",
    "               'sentiInfo': sentiInfo,\n",
    "               }\n",
    "    \n",
    "    return data_pk"
   ]
  },
  {
   "cell_type": "code",
   "execution_count": 191,
   "metadata": {},
   "outputs": [],
   "source": [
    "data_pk = pk_nation()"
   ]
  },
  {
   "cell_type": "code",
   "execution_count": 202,
   "metadata": {},
   "outputs": [],
   "source": [
    "def pk_political_party():\n",
    "    \n",
    "    # end date: the date of the last record of news\n",
    "    end_date = '2022-10-01'\n",
    "    # start date\n",
    "    weeks = 4 # week duration for analysis\n",
    "    start_date = (datetime.strptime(end_date, '%Y-%m-%d').date() - timedelta(weeks=weeks)).strftime('%Y-%m-%d')\n",
    "    \n",
    "    pkName = ['國民黨', '民進黨', '民眾黨']\n",
    "    color = ['blue', 'green', 'red']\n",
    "    #pkset = [['國民黨'], ['民進黨'], ['民眾黨']]\n",
    "    pkset = [['國民黨', '中國國民黨'], ['民進黨', '民主進步黨'], ['民眾黨']]\n",
    "    freqByDate = []\n",
    "    freqByCate = []\n",
    "    sentiInfo = []\n",
    "    photo = [\n",
    "        \"https://upload.wikimedia.org/wikipedia/commons/thumb/a/a1/Emblem_of_the_Kuomintang.svg/225px-Emblem_of_the_Kuomintang.svg.png\",\n",
    "        \"https://upload.wikimedia.org/wikipedia/zh/thumb/c/c1/Emblem_of_Democratic_Progressive_Party_%28new%29.svg/225px-Emblem_of_Democratic_Progressive_Party_%28new%29.svg.png\",\n",
    "        \"https://upload.wikimedia.org/wikipedia/commons/thumb/0/0c/Emblem_of_Taiwan_People%27s_Party_2019.svg/225px-Emblem_of_Taiwan_People%27s_Party_2019.svg.png\"\n",
    "             ]\n",
    "\n",
    "    for keyword in pkset:\n",
    "        query_df = df[\n",
    "            (df['date'] >= start_date) & (df['date'] <= end_date) & df['tokens_rm_stopwords'].str.contains('|'.join(keyword))]\n",
    "        # query_df = df[df['tokens_rm_stopwords'].str.contains('|'.join(keyword))]\n",
    "        # print(len(query_df))\n",
    "        freqByDate.append(get_key_time_freq(query_df, keyword))\n",
    "\n",
    "        cate_freq, cate_occurence = count_keyword(query_df, keyword)\n",
    "\n",
    "        selectedCategories = ['全部', '政治', '兩岸', '產經', '生活', '社會']\n",
    "        # selectedCategories = ['政治', '產經', '生活', '國際', '社會', '兩岸','全部']\n",
    "\n",
    "        freq = [cate_occurence[k] for k in selectedCategories]\n",
    "        freqByCate.append(freq)\n",
    "\n",
    "        # sentiment information\n",
    "        sentiCount, sentiPercnt = get_article_sentiment(query_df)\n",
    "        #sentiInfo = '正向:{}%, 中立:{}%, 負向:{}%'.format(str(sentiPercnt['pos']), str(sentiPercnt['obj']),\n",
    "        #                                            str(sentiPercnt['neg']))\n",
    "        senti = [sentiPercnt[p] for p in ['pos','obj','neg']]\n",
    "        sentiInfo.append(senti)\n",
    "\n",
    "    data_pk =  {'freqByDate': freqByDate,\n",
    "               'pkName': pkName,\n",
    "               'color': color,\n",
    "               'photo': photo,\n",
    "               'freqByCate': freqByCate,\n",
    "               'category': selectedCategories,\n",
    "               'sentiInfo': sentiInfo,\n",
    "               }\n",
    "    return data_pk"
   ]
  },
  {
   "cell_type": "markdown",
   "metadata": {},
   "source": [
    "## 存成csv格式檔案"
   ]
  },
  {
   "cell_type": "code",
   "execution_count": 203,
   "metadata": {},
   "outputs": [],
   "source": [
    "data_pk_party = pk_political_party()"
   ]
  },
  {
   "cell_type": "code",
   "execution_count": 205,
   "metadata": {},
   "outputs": [
    {
     "data": {
      "text/plain": [
       "{'freqByDate': [[{'x': '2022-09-29', 'y': 8}],\n",
       "  [{'x': '2022-09-29', 'y': 7}],\n",
       "  [{'x': '2022-09-29', 'y': 1}]],\n",
       " 'pkName': ['國民黨', '民進黨', '民眾黨'],\n",
       " 'color': ['blue', 'green', 'red'],\n",
       " 'photo': ['https://upload.wikimedia.org/wikipedia/commons/thumb/a/a1/Emblem_of_the_Kuomintang.svg/225px-Emblem_of_the_Kuomintang.svg.png',\n",
       "  'https://upload.wikimedia.org/wikipedia/zh/thumb/c/c1/Emblem_of_Democratic_Progressive_Party_%28new%29.svg/225px-Emblem_of_Democratic_Progressive_Party_%28new%29.svg.png',\n",
       "  'https://upload.wikimedia.org/wikipedia/commons/thumb/0/0c/Emblem_of_Taiwan_People%27s_Party_2019.svg/225px-Emblem_of_Taiwan_People%27s_Party_2019.svg.png'],\n",
       " 'freqByCate': [[8, 5, 1, 0, 0, 2], [7, 4, 0, 0, 1, 2], [1, 0, 0, 1, 0, 0]],\n",
       " 'category': ['全部', '政治', '兩岸', '產經', '生活', '社會'],\n",
       " 'sentiInfo': [[12, 12, 75], [0, 14, 85], [0, 0, 100]]}"
      ]
     },
     "execution_count": 205,
     "metadata": {},
     "output_type": "execute_result"
    }
   ],
   "source": [
    "data_pk_party"
   ]
  },
  {
   "cell_type": "code",
   "execution_count": 206,
   "metadata": {},
   "outputs": [],
   "source": [
    "df_data_pk_party = pd.DataFrame(list(data_pk_party.items()), columns = ['name', 'value'])\n",
    "## 存成csv格式檔案\n",
    "df_data_pk_party.to_csv('pk_political_party.csv', sep='|', index = None)"
   ]
  },
  {
   "cell_type": "markdown",
   "metadata": {},
   "source": [
    "# views.py in Django"
   ]
  },
  {
   "cell_type": "raw",
   "metadata": {},
   "source": [
    "from django.http import JsonResponse\n",
    "from django.shortcuts import render\n",
    "import pandas as pd\n",
    "\n",
    "\n",
    "def load_data_pk():\n",
    "    # Read data from csv file\n",
    "    df_pk = pd.read_csv('app_leaderboard/dataset/pk_nation.csv', sep = '|')\n",
    "    \n",
    "    global twUsCh\n",
    "    twUsCh = dict(list(df_pk.values))\n",
    "\n",
    "    df_pk = pd.read_csv('app_leaderboard/dataset/pk_political_party.csv', sep = '|')\n",
    "\n",
    "    global tuc\n",
    "    tuc = dict(list(df_pk.values))\n",
    "    del df_pk\n",
    "\n",
    "# load pk data\n",
    "load_data_pk()\n",
    "\n",
    "def pk_nation(request):\n",
    "    return render(request,\n",
    "                  'app_leaderboard/home.html', twUsCh)\n",
    "\n",
    "def pk_political_party(request):\n",
    "    return render(request,\n",
    "                  'app_leaderboard/home.html', tuc)\n",
    "\n",
    "print('app_leaderboard -- 國家聲量載入成功!')\n",
    "print('app_leaderboard -- 政黨聲量載入成功!')\n"
   ]
  },
  {
   "cell_type": "markdown",
   "metadata": {},
   "source": [
    "# Saving PK data with other file format\n",
    "類別新聞關鍵字存檔"
   ]
  },
  {
   "cell_type": "markdown",
   "metadata": {},
   "source": [
    "## save to text file\n",
    "\n",
    "類別新聞關鍵字存檔"
   ]
  },
  {
   "cell_type": "raw",
   "metadata": {},
   "source": [
    "# Save data\n",
    "f = open('pk_politician.txt','w')\n",
    "f.write(str(data_pk))\n",
    "f.close()\n",
    "\n",
    "# Load data\n",
    "f = open('pk_politician.txt','r')\n",
    "data_pk = f.read()\n",
    "\n",
    "# dictionary format\n",
    "eval(data_pk)"
   ]
  },
  {
   "cell_type": "markdown",
   "metadata": {},
   "source": [
    "## save to json file\n",
    "\n",
    "類別新聞關鍵字存檔"
   ]
  },
  {
   "cell_type": "raw",
   "metadata": {},
   "source": [
    "import json\n",
    "\n",
    "# Save data\n",
    "with open('pk_politician.txt', 'w') as file:\n",
    "    json.dump( data_pk, file)\n",
    "\n",
    "# Load data\n",
    "with open('pk_politician.txt', 'r') as file:\n",
    "    data_pk = json.load(file)\n",
    "\n",
    "# dictionary format\n",
    "data_pk"
   ]
  },
  {
   "cell_type": "markdown",
   "metadata": {},
   "source": [
    "## save to mongoDb (A famous NoneSQL)"
   ]
  },
  {
   "cell_type": "raw",
   "metadata": {},
   "source": [
    "from pymongo import MongoClient\n",
    "\n",
    "# Save data\n",
    "client = MongoClient()\n",
    "database = client[\"cnaNews\"]  # SQL: Database Name\n",
    "table_KTH = database[\"pk_politicianTsaiHan\"]   # SQL: Table Name\n",
    "\n",
    "table_KTH.drop()\n",
    "table_KTH.insert_one(data)\n",
    "\n",
    "\n",
    "# Load data\n",
    "from pymongo import MongoClient\n",
    "client = MongoClient()\n",
    "database = client[\"cnaNews\"]  # SQL: Database Name\n",
    "table_KTH  = database[\"pkData\"]   # SQL: Table Name\n",
    "\n",
    "for x in table_KTH.find():\n",
    "    print(x)\n",
    "\n",
    "list(table_KTH.find({}, {'_id': False}))"
   ]
  }
 ],
 "metadata": {
  "kernelspec": {
   "display_name": "Python 3.10.2 64-bit",
   "language": "python",
   "name": "python3"
  },
  "language_info": {
   "codemirror_mode": {
    "name": "ipython",
    "version": 3
   },
   "file_extension": ".py",
   "mimetype": "text/x-python",
   "name": "python",
   "nbconvert_exporter": "python",
   "pygments_lexer": "ipython3",
   "version": "3.10.2"
  },
  "toc-autonumbering": true,
  "vscode": {
   "interpreter": {
    "hash": "df95319d8ce4e1d89f5365ae10992bc1f65da593082b1d264e8f529830ec2f02"
   }
  }
 },
 "nbformat": 4,
 "nbformat_minor": 4
}
