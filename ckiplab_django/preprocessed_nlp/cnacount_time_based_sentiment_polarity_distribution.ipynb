{
 "cells": [
  {
   "cell_type": "markdown",
   "metadata": {},
   "source": [
    "# Count time-based sentimental polarity distribution"
   ]
  },
  {
   "cell_type": "raw",
   "metadata": {},
   "source": [
    "To draw date-based line chart on a web page, we need to count time-based frequency.\n",
    "\n",
    "The data format for the line chart is as follows.\n",
    "\n",
    "[{'x': '2020-03-05', 'y': 1},\n",
    " {'x': '2020-03-06', 'y': 0},\n",
    " {'x': '2020-03-07', 'y': 0},\n",
    " {'x': '2020-03-08', 'y': 0},\n",
    " {'x': '2020-03-09', 'y': 0},\n",
    " {'x': '2020-03-10', 'y': 5},\n",
    " {'x': '2020-03-11', 'y': 5},\n",
    " {'x': '2020-03-12', 'y': 7},\n",
    " {'x': '2020-03-13', 'y': 62},\n",
    " {'x': '2020-03-14', 'y': 29}]"
   ]
  },
  {
   "cell_type": "markdown",
   "metadata": {},
   "source": [
    "# Load Data"
   ]
  },
  {
   "cell_type": "code",
   "execution_count": 2,
   "metadata": {},
   "outputs": [],
   "source": [
    "import pandas as pd"
   ]
  },
  {
   "cell_type": "code",
   "execution_count": 3,
   "metadata": {},
   "outputs": [],
   "source": [
    "df = pd.read_csv('preprocessed_news_218posts.csv', sep='|')"
   ]
  },
  {
   "cell_type": "code",
   "execution_count": 4,
   "metadata": {},
   "outputs": [
    {
     "data": {
      "text/html": [
       "<div>\n",
       "<style scoped>\n",
       "    .dataframe tbody tr th:only-of-type {\n",
       "        vertical-align: middle;\n",
       "    }\n",
       "\n",
       "    .dataframe tbody tr th {\n",
       "        vertical-align: top;\n",
       "    }\n",
       "\n",
       "    .dataframe thead th {\n",
       "        text-align: right;\n",
       "    }\n",
       "</style>\n",
       "<table border=\"1\" class=\"dataframe\">\n",
       "  <thead>\n",
       "    <tr style=\"text-align: right;\">\n",
       "      <th></th>\n",
       "      <th>item_id</th>\n",
       "      <th>date</th>\n",
       "      <th>title</th>\n",
       "      <th>content</th>\n",
       "      <th>sentiment</th>\n",
       "      <th>summary</th>\n",
       "      <th>top_key_freq</th>\n",
       "      <th>tokens</th>\n",
       "      <th>tokens_rm_stopwords</th>\n",
       "      <th>entities</th>\n",
       "      <th>token_pos</th>\n",
       "      <th>link</th>\n",
       "      <th>photo_link</th>\n",
       "      <th>category</th>\n",
       "    </tr>\n",
       "  </thead>\n",
       "  <tbody>\n",
       "    <tr>\n",
       "      <th>0</th>\n",
       "      <td>aipl_20220929_1</td>\n",
       "      <td>2022-09-29</td>\n",
       "      <td>台灣國際漁業展、智慧農業週開幕 逾15國參展</td>\n",
       "      <td>外交部政次田中光今天出席2022年「台灣國際漁業展」與「台灣智慧農業週」聯合開幕儀式，他表示...</td>\n",
       "      <td>0.68</td>\n",
       "      <td>['外交部政次田中光今天出席2022年「台灣國際漁業展」與「台灣智慧農業週」聯合開幕儀式',...</td>\n",
       "      <td>[('展覽', 8), ('台灣', 6), ('廠商', 6), ('參展', 6), (...</td>\n",
       "      <td>['外交部', '政次', '田中光', '今天', '出席', '2022年', '「',...</td>\n",
       "      <td>['外交部', '政次', '田中光', '出席', '台灣', '國際', '漁業展', ...</td>\n",
       "      <td>{(657, 658, 'GPE', '台'), (143, 146, 'PERSON', ...</td>\n",
       "      <td>[('外交部', 'Nc'), ('政次', 'Na'), ('田中光', 'Nb'), (...</td>\n",
       "      <td>https://www.cna.com.tw/news/aipl/202209290375....</td>\n",
       "      <td>https://imgcdn.cna.com.tw/www/WebPhotos/200/20...</td>\n",
       "      <td>政治</td>\n",
       "    </tr>\n",
       "  </tbody>\n",
       "</table>\n",
       "</div>"
      ],
      "text/plain": [
       "           item_id        date                   title  \\\n",
       "0  aipl_20220929_1  2022-09-29  台灣國際漁業展、智慧農業週開幕 逾15國參展   \n",
       "\n",
       "                                             content  sentiment  \\\n",
       "0  外交部政次田中光今天出席2022年「台灣國際漁業展」與「台灣智慧農業週」聯合開幕儀式，他表示...       0.68   \n",
       "\n",
       "                                             summary  \\\n",
       "0  ['外交部政次田中光今天出席2022年「台灣國際漁業展」與「台灣智慧農業週」聯合開幕儀式',...   \n",
       "\n",
       "                                        top_key_freq  \\\n",
       "0  [('展覽', 8), ('台灣', 6), ('廠商', 6), ('參展', 6), (...   \n",
       "\n",
       "                                              tokens  \\\n",
       "0  ['外交部', '政次', '田中光', '今天', '出席', '2022年', '「',...   \n",
       "\n",
       "                                 tokens_rm_stopwords  \\\n",
       "0  ['外交部', '政次', '田中光', '出席', '台灣', '國際', '漁業展', ...   \n",
       "\n",
       "                                            entities  \\\n",
       "0  {(657, 658, 'GPE', '台'), (143, 146, 'PERSON', ...   \n",
       "\n",
       "                                           token_pos  \\\n",
       "0  [('外交部', 'Nc'), ('政次', 'Na'), ('田中光', 'Nb'), (...   \n",
       "\n",
       "                                                link  \\\n",
       "0  https://www.cna.com.tw/news/aipl/202209290375....   \n",
       "\n",
       "                                          photo_link category  \n",
       "0  https://imgcdn.cna.com.tw/www/WebPhotos/200/20...       政治  "
      ]
     },
     "execution_count": 4,
     "metadata": {},
     "output_type": "execute_result"
    }
   ],
   "source": [
    "df.head(1)"
   ]
  },
  {
   "cell_type": "markdown",
   "metadata": {},
   "source": [
    "# Filter dataframe"
   ]
  },
  {
   "cell_type": "markdown",
   "metadata": {},
   "source": [
    "## All-in-one function: filter_dataFrame_fullText\n"
   ]
  },
  {
   "cell_type": "code",
   "execution_count": 5,
   "metadata": {},
   "outputs": [],
   "source": [
    "from datetime import datetime, timedelta\n",
    "\n",
    "def filter_dataFrame(user_keywords, cond, cate, weeks):\n",
    "\n",
    "    # end date: the date of the latest record of news\n",
    "    end_date = df.date.max()\n",
    "    \n",
    "    # start date\n",
    "    start_date = (datetime.strptime(end_date, '%Y-%m-%d').date() - timedelta(weeks=weeks)).strftime('%Y-%m-%d')\n",
    "\n",
    "    # proceed filtering\n",
    "    if (cate == \"全部\") & (cond == 'and'):\n",
    "        df_query = df[(df.date >= start_date) & (df.date <= end_date) & df.tokens_rm_stopwords.apply(\n",
    "            lambda row: all((qk in row) for qk in user_keywords))]\n",
    "    elif (cate == \"全部\") & (cond == 'or'):\n",
    "        queryKey = '|'.join(user_keywords)\n",
    "        df_query = df[(df['date'] >= start_date) & (df['date'] <= end_date) & df.tokens_rm_stopwords.str.contains(queryKey)]\n",
    "    elif (cond == 'and'):\n",
    "        df_query = df[(df.category == cate) & (df.date >= start_date) & (df.date <= end_date) & df.tokens_rm_stopwords.apply(\n",
    "            lambda row: all((qk in row) for qk in user_keywords))]\n",
    "    elif (cond == 'or'):\n",
    "        queryKey = '|'.join(user_keywords)\n",
    "        df_query = df[(df.category == cate) & (df['date'] >= start_date) & (df['date'] <= end_date) & df[\n",
    "            'tokens_rm_stopwords'].str.contains(queryKey)]\n",
    "\n",
    "    return df_query"
   ]
  },
  {
   "cell_type": "code",
   "execution_count": 6,
   "metadata": {},
   "outputs": [],
   "source": [
    "def filter_dataFrame_fullText(user_keywords, cond, cate,weeks):\n",
    "\n",
    "    # end date: the date of the latest record of news\n",
    "    end_date = df.date.max()\n",
    "    \n",
    "    # start date\n",
    "    start_date = (datetime.strptime(end_date, '%Y-%m-%d').date() - timedelta(weeks=weeks)).strftime('%Y-%m-%d')\n",
    "\n",
    "    # proceed filtering\n",
    "    if (cate == \"全部\") & (cond == 'and'):\n",
    "        df_query = df[(df.date >= start_date) & (df.date <= end_date) & df.content.apply(\n",
    "            lambda row: all((qk in row) for qk in user_keywords))]\n",
    "    elif (cate == \"全部\") & (cond == 'or'):\n",
    "        queryKey = '|'.join(user_keywords)\n",
    "        df_query = df[(df['date'] >= start_date) & (df['date'] <= end_date) & df.content.str.contains(queryKey)]\n",
    "    elif (cond == 'and'):\n",
    "        df_query = df[(df.category == cate) & (df.date >= start_date) & (df.date <= end_date) & df.content.apply(\n",
    "            lambda row: all((qk in row) for qk in user_keywords))]\n",
    "    elif (cond == 'or'):\n",
    "        queryKey = '|'.join(user_keywords)\n",
    "        df_query = df[(df.category == cate) & (df['date'] >= start_date) & (df['date'] <= end_date) & df[\n",
    "            'content'].str.contains(queryKey)]\n",
    "\n",
    "    return df_query"
   ]
  },
  {
   "cell_type": "code",
   "execution_count": 9,
   "metadata": {},
   "outputs": [],
   "source": [
    "user_keywords = ['智慧']\n",
    "cond = 'and'\n",
    "cate = '全部'\n",
    "weeks = 4\n",
    "df_query = filter_dataFrame(user_keywords, cond, cate, weeks)"
   ]
  },
  {
   "cell_type": "code",
   "execution_count": 10,
   "metadata": {},
   "outputs": [
    {
     "data": {
      "text/plain": [
       "11"
      ]
     },
     "execution_count": 10,
     "metadata": {},
     "output_type": "execute_result"
    }
   ],
   "source": [
    "len(df_query)"
   ]
  },
  {
   "cell_type": "markdown",
   "metadata": {},
   "source": [
    "# Count number of article with Positive, Negative, and Neutral polarity"
   ]
  },
  {
   "cell_type": "markdown",
   "metadata": {},
   "source": [
    "## All-in-one function: get_article_sentiment"
   ]
  },
  {
   "cell_type": "code",
   "execution_count": 11,
   "metadata": {},
   "outputs": [],
   "source": [
    "def get_article_sentiment(df_query):\n",
    "    sentiCount = {'Positive': 0, 'Negative': 0, 'Neutral': 0}\n",
    "    sentiPercnt = {'Positive': 0, 'Negative': 0, 'Neutral': 0}\n",
    "    numberOfArticle = len(df_query)\n",
    "    for senti in df_query.sentiment:\n",
    "        # determine sentimental polarity\n",
    "        if float(senti) >= 0.75:\n",
    "            sentiCount['Positive'] += 1\n",
    "        elif float(senti) <= 0.4:\n",
    "            sentiCount['Negative'] += 1\n",
    "        else:\n",
    "            sentiCount['Neutral'] += 1\n",
    "    for polar in sentiCount :\n",
    "        # calcuate percentage value\n",
    "        sentiPercnt[polar]=int(sentiCount[polar]/numberOfArticle*100)\n",
    "        #sentiPercnt[polar]=round(sentiCount[polar]/numberOfArticle,2)\n",
    "    return sentiCount, sentiPercnt\n"
   ]
  },
  {
   "cell_type": "code",
   "execution_count": 12,
   "metadata": {},
   "outputs": [
    {
     "data": {
      "text/plain": [
       "({'Positive': 4, 'Negative': 6, 'Neutral': 1},\n",
       " {'Positive': 36, 'Negative': 54, 'Neutral': 9})"
      ]
     },
     "execution_count": 12,
     "metadata": {},
     "output_type": "execute_result"
    }
   ],
   "source": [
    "get_article_sentiment(df_query)"
   ]
  },
  {
   "cell_type": "markdown",
   "metadata": {},
   "source": [
    "# Get frequency of news with negative and positive sentiment for line chart\n",
    "\n",
    "Count sentimental polarity distribution"
   ]
  },
  {
   "cell_type": "code",
   "execution_count": 13,
   "metadata": {},
   "outputs": [
    {
     "data": {
      "text/html": [
       "<div>\n",
       "<style scoped>\n",
       "    .dataframe tbody tr th:only-of-type {\n",
       "        vertical-align: middle;\n",
       "    }\n",
       "\n",
       "    .dataframe tbody tr th {\n",
       "        vertical-align: top;\n",
       "    }\n",
       "\n",
       "    .dataframe thead th {\n",
       "        text-align: right;\n",
       "    }\n",
       "</style>\n",
       "<table border=\"1\" class=\"dataframe\">\n",
       "  <thead>\n",
       "    <tr style=\"text-align: right;\">\n",
       "      <th></th>\n",
       "      <th>date_index</th>\n",
       "      <th>freq</th>\n",
       "    </tr>\n",
       "  </thead>\n",
       "  <tbody>\n",
       "    <tr>\n",
       "      <th>0</th>\n",
       "      <td>2022-09-29</td>\n",
       "      <td>1</td>\n",
       "    </tr>\n",
       "    <tr>\n",
       "      <th>3</th>\n",
       "      <td>2022-09-29</td>\n",
       "      <td>1</td>\n",
       "    </tr>\n",
       "    <tr>\n",
       "      <th>19</th>\n",
       "      <td>2022-09-29</td>\n",
       "      <td>1</td>\n",
       "    </tr>\n",
       "    <tr>\n",
       "      <th>24</th>\n",
       "      <td>2022-09-28</td>\n",
       "      <td>1</td>\n",
       "    </tr>\n",
       "    <tr>\n",
       "      <th>39</th>\n",
       "      <td>2022-09-22</td>\n",
       "      <td>1</td>\n",
       "    </tr>\n",
       "    <tr>\n",
       "      <th>44</th>\n",
       "      <td>2022-09-29</td>\n",
       "      <td>1</td>\n",
       "    </tr>\n",
       "    <tr>\n",
       "      <th>84</th>\n",
       "      <td>2022-09-29</td>\n",
       "      <td>1</td>\n",
       "    </tr>\n",
       "    <tr>\n",
       "      <th>99</th>\n",
       "      <td>2022-09-29</td>\n",
       "      <td>1</td>\n",
       "    </tr>\n",
       "    <tr>\n",
       "      <th>136</th>\n",
       "      <td>2022-09-29</td>\n",
       "      <td>1</td>\n",
       "    </tr>\n",
       "    <tr>\n",
       "      <th>168</th>\n",
       "      <td>2022-09-29</td>\n",
       "      <td>1</td>\n",
       "    </tr>\n",
       "    <tr>\n",
       "      <th>184</th>\n",
       "      <td>2022-09-29</td>\n",
       "      <td>1</td>\n",
       "    </tr>\n",
       "  </tbody>\n",
       "</table>\n",
       "</div>"
      ],
      "text/plain": [
       "    date_index  freq\n",
       "0   2022-09-29     1\n",
       "3   2022-09-29     1\n",
       "19  2022-09-29     1\n",
       "24  2022-09-28     1\n",
       "39  2022-09-22     1\n",
       "44  2022-09-29     1\n",
       "84  2022-09-29     1\n",
       "99  2022-09-29     1\n",
       "136 2022-09-29     1\n",
       "168 2022-09-29     1\n",
       "184 2022-09-29     1"
      ]
     },
     "execution_count": 13,
     "metadata": {},
     "output_type": "execute_result"
    }
   ],
   "source": [
    "# This is what we used to calulate daily freqncy of keyword in our previous app\n",
    "pd.DataFrame({'date_index':pd.to_datetime( df_query.date ),'freq':[1 for _ in range(len(df_query))]})"
   ]
  },
  {
   "cell_type": "code",
   "execution_count": 14,
   "metadata": {},
   "outputs": [
    {
     "data": {
      "text/html": [
       "<div>\n",
       "<style scoped>\n",
       "    .dataframe tbody tr th:only-of-type {\n",
       "        vertical-align: middle;\n",
       "    }\n",
       "\n",
       "    .dataframe tbody tr th {\n",
       "        vertical-align: top;\n",
       "    }\n",
       "\n",
       "    .dataframe thead th {\n",
       "        text-align: right;\n",
       "    }\n",
       "</style>\n",
       "<table border=\"1\" class=\"dataframe\">\n",
       "  <thead>\n",
       "    <tr style=\"text-align: right;\">\n",
       "      <th></th>\n",
       "      <th>date_index</th>\n",
       "      <th>pos</th>\n",
       "    </tr>\n",
       "  </thead>\n",
       "  <tbody>\n",
       "    <tr>\n",
       "      <th>0</th>\n",
       "      <td>2022-09-29</td>\n",
       "      <td>0</td>\n",
       "    </tr>\n",
       "    <tr>\n",
       "      <th>3</th>\n",
       "      <td>2022-09-29</td>\n",
       "      <td>0</td>\n",
       "    </tr>\n",
       "    <tr>\n",
       "      <th>19</th>\n",
       "      <td>2022-09-29</td>\n",
       "      <td>0</td>\n",
       "    </tr>\n",
       "    <tr>\n",
       "      <th>24</th>\n",
       "      <td>2022-09-28</td>\n",
       "      <td>1</td>\n",
       "    </tr>\n",
       "    <tr>\n",
       "      <th>39</th>\n",
       "      <td>2022-09-22</td>\n",
       "      <td>1</td>\n",
       "    </tr>\n",
       "    <tr>\n",
       "      <th>44</th>\n",
       "      <td>2022-09-29</td>\n",
       "      <td>1</td>\n",
       "    </tr>\n",
       "    <tr>\n",
       "      <th>84</th>\n",
       "      <td>2022-09-29</td>\n",
       "      <td>1</td>\n",
       "    </tr>\n",
       "    <tr>\n",
       "      <th>99</th>\n",
       "      <td>2022-09-29</td>\n",
       "      <td>0</td>\n",
       "    </tr>\n",
       "    <tr>\n",
       "      <th>136</th>\n",
       "      <td>2022-09-29</td>\n",
       "      <td>0</td>\n",
       "    </tr>\n",
       "    <tr>\n",
       "      <th>168</th>\n",
       "      <td>2022-09-29</td>\n",
       "      <td>0</td>\n",
       "    </tr>\n",
       "    <tr>\n",
       "      <th>184</th>\n",
       "      <td>2022-09-29</td>\n",
       "      <td>0</td>\n",
       "    </tr>\n",
       "  </tbody>\n",
       "</table>\n",
       "</div>"
      ],
      "text/plain": [
       "    date_index  pos\n",
       "0   2022-09-29    0\n",
       "3   2022-09-29    0\n",
       "19  2022-09-29    0\n",
       "24  2022-09-28    1\n",
       "39  2022-09-22    1\n",
       "44  2022-09-29    1\n",
       "84  2022-09-29    1\n",
       "99  2022-09-29    0\n",
       "136 2022-09-29    0\n",
       "168 2022-09-29    0\n",
       "184 2022-09-29    0"
      ]
     },
     "execution_count": 14,
     "metadata": {},
     "output_type": "execute_result"
    }
   ],
   "source": [
    "# Now we need to modify the above line as follows.\n",
    "pd.DataFrame({'date_index':pd.to_datetime( df_query.date ),'pos':[ (lambda x: 1 if x >= 0.7 else 0)(s) for s in df_query.sentiment]})"
   ]
  },
  {
   "cell_type": "code",
   "execution_count": 12,
   "metadata": {},
   "outputs": [],
   "source": [
    "# What is the following lambda function? It is a little bite hard to understand."
   ]
  },
  {
   "cell_type": "code",
   "execution_count": 15,
   "metadata": {},
   "outputs": [
    {
     "data": {
      "text/plain": [
       "[0, 0, 0, 1, 1, 1, 1, 0, 0, 0, 0]"
      ]
     },
     "execution_count": 15,
     "metadata": {},
     "output_type": "execute_result"
    }
   ],
   "source": [
    "[ (lambda x: 1 if x >= 0.7 else 0)(s) for s in df_query.sentiment]"
   ]
  },
  {
   "cell_type": "code",
   "execution_count": 16,
   "metadata": {
    "scrolled": true
   },
   "outputs": [
    {
     "data": {
      "text/plain": [
       "<function __main__.<lambda>(x)>"
      ]
     },
     "execution_count": 16,
     "metadata": {},
     "output_type": "execute_result"
    }
   ],
   "source": [
    "lambda x: 1 if x >= 0.7 else 0"
   ]
  },
  {
   "cell_type": "code",
   "execution_count": 17,
   "metadata": {},
   "outputs": [
    {
     "data": {
      "text/plain": [
       "1"
      ]
     },
     "execution_count": 17,
     "metadata": {},
     "output_type": "execute_result"
    }
   ],
   "source": [
    "(lambda x: 1 if x >= 0.7 else 0)(0.9)"
   ]
  },
  {
   "cell_type": "code",
   "execution_count": 18,
   "metadata": {},
   "outputs": [
    {
     "data": {
      "text/plain": [
       "0"
      ]
     },
     "execution_count": 18,
     "metadata": {},
     "output_type": "execute_result"
    }
   ],
   "source": [
    "(lambda x: 1 if x >= 0.7 else 0)(0.2)"
   ]
  },
  {
   "cell_type": "code",
   "execution_count": 19,
   "metadata": {},
   "outputs": [
    {
     "data": {
      "text/html": [
       "<div>\n",
       "<style scoped>\n",
       "    .dataframe tbody tr th:only-of-type {\n",
       "        vertical-align: middle;\n",
       "    }\n",
       "\n",
       "    .dataframe tbody tr th {\n",
       "        vertical-align: top;\n",
       "    }\n",
       "\n",
       "    .dataframe thead th {\n",
       "        text-align: right;\n",
       "    }\n",
       "</style>\n",
       "<table border=\"1\" class=\"dataframe\">\n",
       "  <thead>\n",
       "    <tr style=\"text-align: right;\">\n",
       "      <th></th>\n",
       "      <th>date_index</th>\n",
       "      <th>pos</th>\n",
       "    </tr>\n",
       "  </thead>\n",
       "  <tbody>\n",
       "    <tr>\n",
       "      <th>0</th>\n",
       "      <td>2022-09-29</td>\n",
       "      <td>0</td>\n",
       "    </tr>\n",
       "    <tr>\n",
       "      <th>3</th>\n",
       "      <td>2022-09-29</td>\n",
       "      <td>0</td>\n",
       "    </tr>\n",
       "    <tr>\n",
       "      <th>19</th>\n",
       "      <td>2022-09-29</td>\n",
       "      <td>0</td>\n",
       "    </tr>\n",
       "    <tr>\n",
       "      <th>24</th>\n",
       "      <td>2022-09-28</td>\n",
       "      <td>1</td>\n",
       "    </tr>\n",
       "    <tr>\n",
       "      <th>39</th>\n",
       "      <td>2022-09-22</td>\n",
       "      <td>1</td>\n",
       "    </tr>\n",
       "    <tr>\n",
       "      <th>44</th>\n",
       "      <td>2022-09-29</td>\n",
       "      <td>1</td>\n",
       "    </tr>\n",
       "    <tr>\n",
       "      <th>84</th>\n",
       "      <td>2022-09-29</td>\n",
       "      <td>1</td>\n",
       "    </tr>\n",
       "    <tr>\n",
       "      <th>99</th>\n",
       "      <td>2022-09-29</td>\n",
       "      <td>0</td>\n",
       "    </tr>\n",
       "    <tr>\n",
       "      <th>136</th>\n",
       "      <td>2022-09-29</td>\n",
       "      <td>0</td>\n",
       "    </tr>\n",
       "    <tr>\n",
       "      <th>168</th>\n",
       "      <td>2022-09-29</td>\n",
       "      <td>0</td>\n",
       "    </tr>\n",
       "    <tr>\n",
       "      <th>184</th>\n",
       "      <td>2022-09-29</td>\n",
       "      <td>0</td>\n",
       "    </tr>\n",
       "  </tbody>\n",
       "</table>\n",
       "</div>"
      ],
      "text/plain": [
       "    date_index  pos\n",
       "0   2022-09-29    0\n",
       "3   2022-09-29    0\n",
       "19  2022-09-29    0\n",
       "24  2022-09-28    1\n",
       "39  2022-09-22    1\n",
       "44  2022-09-29    1\n",
       "84  2022-09-29    1\n",
       "99  2022-09-29    0\n",
       "136 2022-09-29    0\n",
       "168 2022-09-29    0\n",
       "184 2022-09-29    0"
      ]
     },
     "execution_count": 19,
     "metadata": {},
     "output_type": "execute_result"
    }
   ],
   "source": [
    "pd.DataFrame({'date_index':pd.to_datetime( df_query.date ),'pos':[ (lambda x: 1 if x >= 0.7 else 0)(s) for s in df_query.sentiment]})"
   ]
  },
  {
   "cell_type": "code",
   "execution_count": 20,
   "metadata": {},
   "outputs": [
    {
     "data": {
      "text/plain": [
       "{'date_index': 0     2022-09-29\n",
       " 3     2022-09-29\n",
       " 19    2022-09-29\n",
       " 24    2022-09-28\n",
       " 39    2022-09-22\n",
       " 44    2022-09-29\n",
       " 84    2022-09-29\n",
       " 99    2022-09-29\n",
       " 136   2022-09-29\n",
       " 168   2022-09-29\n",
       " 184   2022-09-29\n",
       " Name: date, dtype: datetime64[ns],\n",
       " 'pos': [0, 0, 0, 1, 1, 1, 1, 0, 0, 0, 0]}"
      ]
     },
     "execution_count": 20,
     "metadata": {},
     "output_type": "execute_result"
    }
   ],
   "source": [
    "{'date_index':pd.to_datetime( df_query.date ),'pos':[ (lambda x: 1 if x >= 0.7 else 0)(s) for s in df_query.sentiment]}"
   ]
  },
  {
   "cell_type": "code",
   "execution_count": 21,
   "metadata": {},
   "outputs": [],
   "source": [
    "query_freq = pd.DataFrame({'date_index':pd.to_datetime( df_query.date ),'pos':[ (lambda x: 1 if x >= 0.7 else 0)(s) for s in df_query.sentiment]})"
   ]
  },
  {
   "cell_type": "code",
   "execution_count": 22,
   "metadata": {},
   "outputs": [],
   "source": [
    "data = query_freq.groupby(pd.Grouper(key='date_index',freq='D')).sum()"
   ]
  },
  {
   "cell_type": "code",
   "execution_count": 23,
   "metadata": {},
   "outputs": [
    {
     "data": {
      "text/html": [
       "<div>\n",
       "<style scoped>\n",
       "    .dataframe tbody tr th:only-of-type {\n",
       "        vertical-align: middle;\n",
       "    }\n",
       "\n",
       "    .dataframe tbody tr th {\n",
       "        vertical-align: top;\n",
       "    }\n",
       "\n",
       "    .dataframe thead th {\n",
       "        text-align: right;\n",
       "    }\n",
       "</style>\n",
       "<table border=\"1\" class=\"dataframe\">\n",
       "  <thead>\n",
       "    <tr style=\"text-align: right;\">\n",
       "      <th></th>\n",
       "      <th>pos</th>\n",
       "    </tr>\n",
       "    <tr>\n",
       "      <th>date_index</th>\n",
       "      <th></th>\n",
       "    </tr>\n",
       "  </thead>\n",
       "  <tbody>\n",
       "    <tr>\n",
       "      <th>2022-09-22</th>\n",
       "      <td>1</td>\n",
       "    </tr>\n",
       "    <tr>\n",
       "      <th>2022-09-23</th>\n",
       "      <td>0</td>\n",
       "    </tr>\n",
       "    <tr>\n",
       "      <th>2022-09-24</th>\n",
       "      <td>0</td>\n",
       "    </tr>\n",
       "    <tr>\n",
       "      <th>2022-09-25</th>\n",
       "      <td>0</td>\n",
       "    </tr>\n",
       "    <tr>\n",
       "      <th>2022-09-26</th>\n",
       "      <td>0</td>\n",
       "    </tr>\n",
       "    <tr>\n",
       "      <th>2022-09-27</th>\n",
       "      <td>0</td>\n",
       "    </tr>\n",
       "    <tr>\n",
       "      <th>2022-09-28</th>\n",
       "      <td>1</td>\n",
       "    </tr>\n",
       "    <tr>\n",
       "      <th>2022-09-29</th>\n",
       "      <td>2</td>\n",
       "    </tr>\n",
       "  </tbody>\n",
       "</table>\n",
       "</div>"
      ],
      "text/plain": [
       "            pos\n",
       "date_index     \n",
       "2022-09-22    1\n",
       "2022-09-23    0\n",
       "2022-09-24    0\n",
       "2022-09-25    0\n",
       "2022-09-26    0\n",
       "2022-09-27    0\n",
       "2022-09-28    1\n",
       "2022-09-29    2"
      ]
     },
     "execution_count": 23,
     "metadata": {},
     "output_type": "execute_result"
    }
   ],
   "source": [
    "data"
   ]
  },
  {
   "cell_type": "code",
   "execution_count": 24,
   "metadata": {},
   "outputs": [],
   "source": [
    "time_data = []\n",
    "for i, idx in enumerate(data.index):\n",
    "    row = {'x':idx.strftime('%Y-%m-%d'),'y':int(data.iloc[i].pos)}\n",
    "    time_data.append(row)"
   ]
  },
  {
   "cell_type": "code",
   "execution_count": 25,
   "metadata": {},
   "outputs": [
    {
     "data": {
      "text/plain": [
       "[{'x': '2022-09-22', 'y': 1},\n",
       " {'x': '2022-09-23', 'y': 0},\n",
       " {'x': '2022-09-24', 'y': 0},\n",
       " {'x': '2022-09-25', 'y': 0},\n",
       " {'x': '2022-09-26', 'y': 0},\n",
       " {'x': '2022-09-27', 'y': 0},\n",
       " {'x': '2022-09-28', 'y': 1},\n",
       " {'x': '2022-09-29', 'y': 2}]"
      ]
     },
     "execution_count": 25,
     "metadata": {},
     "output_type": "execute_result"
    }
   ],
   "source": [
    "time_data"
   ]
  },
  {
   "cell_type": "markdown",
   "metadata": {},
   "source": [
    "## All-in-one function: Get frequency of news with negative and positive sentiment "
   ]
  },
  {
   "cell_type": "code",
   "execution_count": 26,
   "metadata": {},
   "outputs": [],
   "source": [
    "def get_key_time_based_sentiment(df_query, freq_type='D'):\n",
    "    \n",
    "    # date samples\n",
    "    date_samples = df_query.date\n",
    "\n",
    "    # positive\n",
    "    pos_freq = pd.DataFrame({'date_index': pd.to_datetime(date_samples),\n",
    "                             'pos': [(lambda x: 1 if x >= 0.6 else 0)(s) for s in df_query.sentiment]})\n",
    "    data = pos_freq.groupby(pd.Grouper(key='date_index', freq= freq_type)).sum()\n",
    "    data_pos = []\n",
    "    for i, idx in enumerate(data.index):\n",
    "        row = {'x': idx.strftime('%Y-%m-%d'), 'y': int(data.iloc[i].pos)}\n",
    "        data_pos.append(row)\n",
    "\n",
    "    # negative\n",
    "    neg_freq = pd.DataFrame({'date_index': pd.to_datetime(date_samples),\n",
    "                             'neg': [(lambda x: 1 if x <= 0.4 else 0)(s) for s in df_query.sentiment]})\n",
    "    data = neg_freq.groupby(pd.Grouper(key='date_index', freq= freq_type)).sum()\n",
    "    data_neg = []\n",
    "    for i, idx in enumerate(data.index):\n",
    "        row = {'x': idx.strftime('%Y-%m-%d'), 'y': int(data.iloc[i].neg)}\n",
    "        data_neg.append(row)\n",
    "\n",
    "    return data_pos, data_neg"
   ]
  },
  {
   "cell_type": "code",
   "execution_count": null,
   "metadata": {},
   "outputs": [],
   "source": []
  },
  {
   "cell_type": "code",
   "execution_count": 27,
   "metadata": {},
   "outputs": [],
   "source": [
    "user_keywords = ['台灣']\n",
    "cond = 'and'\n",
    "cate = '全部'\n",
    "weeks = 4\n",
    "df_query = filter_dataFrame(user_keywords, cond, cate, weeks)"
   ]
  },
  {
   "cell_type": "code",
   "execution_count": 28,
   "metadata": {},
   "outputs": [],
   "source": [
    "result = get_key_time_based_sentiment(df_query)"
   ]
  },
  {
   "cell_type": "code",
   "execution_count": 29,
   "metadata": {},
   "outputs": [
    {
     "data": {
      "text/plain": [
       "([{'x': '2022-09-22', 'y': 0},\n",
       "  {'x': '2022-09-23', 'y': 0},\n",
       "  {'x': '2022-09-24', 'y': 0},\n",
       "  {'x': '2022-09-25', 'y': 0},\n",
       "  {'x': '2022-09-26', 'y': 0},\n",
       "  {'x': '2022-09-27', 'y': 1},\n",
       "  {'x': '2022-09-28', 'y': 4},\n",
       "  {'x': '2022-09-29', 'y': 15}],\n",
       " [{'x': '2022-09-22', 'y': 2},\n",
       "  {'x': '2022-09-23', 'y': 0},\n",
       "  {'x': '2022-09-24', 'y': 0},\n",
       "  {'x': '2022-09-25', 'y': 0},\n",
       "  {'x': '2022-09-26', 'y': 0},\n",
       "  {'x': '2022-09-27', 'y': 1},\n",
       "  {'x': '2022-09-28', 'y': 7},\n",
       "  {'x': '2022-09-29', 'y': 48}])"
      ]
     },
     "execution_count": 29,
     "metadata": {},
     "output_type": "execute_result"
    }
   ],
   "source": [
    "result"
   ]
  },
  {
   "cell_type": "code",
   "execution_count": 30,
   "metadata": {},
   "outputs": [],
   "source": [
    "data_pos, data_neg = get_key_time_based_sentiment(df_query)"
   ]
  },
  {
   "cell_type": "code",
   "execution_count": 31,
   "metadata": {},
   "outputs": [
    {
     "data": {
      "text/plain": [
       "[{'x': '2022-09-22', 'y': 0},\n",
       " {'x': '2022-09-23', 'y': 0},\n",
       " {'x': '2022-09-24', 'y': 0},\n",
       " {'x': '2022-09-25', 'y': 0},\n",
       " {'x': '2022-09-26', 'y': 0},\n",
       " {'x': '2022-09-27', 'y': 1},\n",
       " {'x': '2022-09-28', 'y': 4},\n",
       " {'x': '2022-09-29', 'y': 15}]"
      ]
     },
     "execution_count": 31,
     "metadata": {},
     "output_type": "execute_result"
    }
   ],
   "source": [
    "data_pos"
   ]
  },
  {
   "cell_type": "code",
   "execution_count": 31,
   "metadata": {},
   "outputs": [
    {
     "data": {
      "text/plain": [
       "[{'x': '2020-03-05', 'y': 1},\n",
       " {'x': '2020-03-06', 'y': 0},\n",
       " {'x': '2020-03-07', 'y': 0},\n",
       " {'x': '2020-03-08', 'y': 0},\n",
       " {'x': '2020-03-09', 'y': 0},\n",
       " {'x': '2020-03-10', 'y': 3},\n",
       " {'x': '2020-03-11', 'y': 4},\n",
       " {'x': '2020-03-12', 'y': 5},\n",
       " {'x': '2020-03-13', 'y': 50},\n",
       " {'x': '2020-03-14', 'y': 17}]"
      ]
     },
     "execution_count": 31,
     "metadata": {},
     "output_type": "execute_result"
    }
   ],
   "source": [
    "data_neg"
   ]
  },
  {
   "cell_type": "markdown",
   "metadata": {},
   "source": [
    "# Django views.py"
   ]
  },
  {
   "cell_type": "markdown",
   "metadata": {},
   "source": [
    "(1)app name: app_userkey_sentiment\n",
    "\n",
    "\n",
    "(2)namespace defined in urls.py: \n",
    "app_name=\"namespace_userkey_sentiment\"  \n",
    "or app_name=\"app_userkey_sentiment\"\n",
    "\n",
    "(3) home.html\n"
   ]
  },
  {
   "cell_type": "code",
   "execution_count": null,
   "metadata": {},
   "outputs": [],
   "source": [
    "from django.http import JsonResponse\n",
    "from django.shortcuts import render\n",
    "import pandas as pd\n",
    "from datetime import datetime, timedelta\n",
    "\n",
    "\n",
    "# Load news data\n",
    "# import from app_user_keyword.views and use df later\n",
    "import app_user_keyword.views as userkeyword_views\n",
    "def load_df_data():\n",
    "    # import and use df from app_user_keyword \n",
    "    global df # global variable\n",
    "    df = userkeyword_views.df\n",
    "\n",
    "# call load data function when starting server\n",
    "load_df_data()\n",
    "\n",
    "\n",
    "def home(request):\n",
    "    return render(request, 'app_userkey_sentiment/home.html')\n",
    "\n",
    "def api_get_userkey_sentiment(request):\n",
    "\n",
    "    userkey = request.GET['userkey']\n",
    "    cate = request.GET['cate']\n",
    "    cond = request.GET['cond']\n",
    "    weeks = int(request.GET['weeks'])\n",
    "\n",
    "    key = userkey.split()\n",
    "\n",
    "    # global variable\n",
    "    # global  df_query\n",
    "\n",
    "    # Proceed filtering\n",
    "    df_query = filter_dataFrame_fullText(key, cond, cate, weeks)\n",
    "    print(key)\n",
    "    print(len(df_query))\n",
    "    \n",
    "\n",
    "    sentiCount, sentiPercnt = get_article_sentiment(df_query)\n",
    "\n",
    "    if weeks <= 4:\n",
    "        freq_type = 'D'\n",
    "    else:\n",
    "        freq_type = 'W'\n",
    "\n",
    "    data_pos, data_neg = get_key_time_based_sentiment( df_query, freq_type )\n",
    "\n",
    "    response = {\n",
    "        'sentiCount': sentiCount,\n",
    "        'data_pos':data_pos,\n",
    "        'data_neg':data_neg,\n",
    "    }\n",
    "    return JsonResponse(response)\n",
    "\n",
    "def get_article_sentiment(df_query):\n",
    "    sentiCount = {'Positive': 0, 'Negative': 0, 'Neutral': 0}\n",
    "    sentiPercnt = {'Positive': 0, 'Negative': 0, 'Neutral': 0}\n",
    "    numberOfArticle = len(df_query)\n",
    "    for senti in df_query.sentiment:\n",
    "        # determine sentimental polarity\n",
    "        if float(senti) >= 0.75:\n",
    "            sentiCount['Positive'] += 1\n",
    "        elif float(senti) <= 0.4:\n",
    "            sentiCount['Negative'] += 1\n",
    "        else:\n",
    "            sentiCount['Neutral'] += 1\n",
    "    for polar in sentiCount :\n",
    "        sentiPercnt[polar]=int(sentiCount[polar]/numberOfArticle*100)\n",
    "        #sentiPercnt[polar]=round(sentiCount[polar]/numberOfArticle,2)\n",
    "    return sentiCount, sentiPercnt\n",
    "\n",
    "\n",
    "def get_key_time_based_sentiment(df_query, freq_type='D'):\n",
    "\n",
    "    # date samples\n",
    "    date_samples = df_query.date\n",
    "\n",
    "    # positive sn >= 0.6\n",
    "    pos_freq = pd.DataFrame({'date_index': pd.to_datetime(date_samples),\n",
    "                             'pos': [(lambda x: 1 if x >= 0.6 else 0)(s) for s in df_query.sentiment]})\n",
    "    data = pos_freq.groupby(pd.Grouper(key='date_index', freq= freq_type)).sum()\n",
    "    data_pos = []\n",
    "    for i, idx in enumerate(data.index):\n",
    "        row = {'x': idx.strftime('%Y-%m-%d'), 'y': int(data.iloc[i].pos)}\n",
    "        data_pos.append(row)\n",
    "\n",
    "    # negative sn <= 0.4\n",
    "    neg_freq = pd.DataFrame({'date_index': pd.to_datetime(date_samples),\n",
    "                             'neg': [(lambda x: 1 if x <= 0.4 else 0)(s) for s in df_query.sentiment]})\n",
    "    data = neg_freq.groupby(pd.Grouper(key='date_index', freq= freq_type)).sum()\n",
    "    data_neg = []\n",
    "    for i, idx in enumerate(data.index):\n",
    "        row = {'x': idx.strftime('%Y-%m-%d'), 'y': int(data.iloc[i].neg)}\n",
    "        data_neg.append(row)\n",
    "\n",
    "    return data_pos, data_neg\n",
    "\n",
    "def filter_dataFrame_fullText(user_keywords, cond, cate,weeks):\n",
    "\n",
    "    # end date: the date of the latest record of news\n",
    "    end_date = df.date.max()\n",
    "    \n",
    "    # start date\n",
    "    start_date = (datetime.strptime(end_date, '%Y-%m-%d').date() - timedelta(weeks=weeks)).strftime('%Y-%m-%d')\n",
    "\n",
    "    # proceed filtering\n",
    "    if (cate == \"全部\") & (cond == 'and'):\n",
    "        df_query = df[(df.date >= start_date) & (df.date <= end_date) & df.content.apply(\n",
    "            lambda row: all((qk in row) for qk in user_keywords))]\n",
    "    elif (cate == \"全部\") & (cond == 'or'):\n",
    "        queryKey = '|'.join(user_keywords)\n",
    "        df_query = df[(df['date'] >= start_date) & (df['date'] <= end_date) & df.content.str.contains(queryKey)]\n",
    "    elif (cond == 'and'):\n",
    "        df_query = df[(df.category == cate) & (df.date >= start_date) & (df.date <= end_date) & df.content.apply(\n",
    "            lambda row: all((qk in row) for qk in user_keywords))]\n",
    "    elif (cond == 'or'):\n",
    "        queryKey = '|'.join(user_keywords)\n",
    "        df_query = df[(df.category == cate) & (df['date'] >= start_date) & (df['date'] <= end_date) & df[\n",
    "            'content'].str.contains(queryKey)]\n",
    "\n",
    "    return df_query\n",
    "\n",
    "print(\"app_userkey_sentiment was loaded!\")\n"
   ]
  }
 ],
 "metadata": {
  "kernelspec": {
   "display_name": "Python 3.10.2 64-bit",
   "language": "python",
   "name": "python3"
  },
  "language_info": {
   "codemirror_mode": {
    "name": "ipython",
    "version": 3
   },
   "file_extension": ".py",
   "mimetype": "text/x-python",
   "name": "python",
   "nbconvert_exporter": "python",
   "pygments_lexer": "ipython3",
   "version": "3.10.2"
  },
  "toc": {
   "base_numbering": 1,
   "nav_menu": {},
   "number_sections": true,
   "sideBar": true,
   "skip_h1_title": false,
   "title_cell": "Table of Contents",
   "title_sidebar": "Contents",
   "toc_cell": false,
   "toc_position": {},
   "toc_section_display": true,
   "toc_window_display": true
  },
  "vscode": {
   "interpreter": {
    "hash": "df95319d8ce4e1d89f5365ae10992bc1f65da593082b1d264e8f529830ec2f02"
   }
  }
 },
 "nbformat": 4,
 "nbformat_minor": 2
}
