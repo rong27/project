{
 "cells": [
  {
   "cell_type": "markdown",
   "metadata": {},
   "source": [
    "# What is Word Embedding? \n",
    "\n",
    "## \"word embedding\" or \"word vector\"\n",
    "\n",
    "## \"詞嵌入\" or \"詞向量\""
   ]
  },
  {
   "cell_type": "raw",
   "metadata": {},
   "source": [
    "Word Embedding is a type of word representation that allows words with similar meaning to be understood by machine learning algorithms. \n",
    "\n",
    "Technically speaking, it is a mapping of words into vectors of real numbers using the neural network, probabilistic model, or dimension reduction on word co-occurrence matrix. \n",
    "\n",
    "It is language modeling and feature learning technique. Word embedding is a way to perform mapping using a neural network. \n",
    "\n",
    "There are various word embedding models available such as word2vec (Google), Glove (Stanford) and fastext (Facebook).\n",
    "\n",
    "Reference:\n",
    "https://www.guru99.com/word-embedding-word2vec.html"
   ]
  },
  {
   "cell_type": "markdown",
   "metadata": {},
   "source": [
    "![](https://adriancolyer.files.wordpress.com/2016/04/word2vec-king-queen-vectors.png?w=656&zoom=2)"
   ]
  },
  {
   "cell_type": "code",
   "execution_count": null,
   "metadata": {},
   "outputs": [],
   "source": []
  },
  {
   "cell_type": "markdown",
   "metadata": {},
   "source": [
    "# Cosine similarity between two vectors"
   ]
  },
  {
   "cell_type": "raw",
   "metadata": {},
   "source": [
    "# 計算兩兩圖形特徵之相似度  \n",
    "\n",
    "cosine值 介於-1 ~ 1 之間  \n",
    "\n",
    "cosine(0) = 1   0度表示最相近，所以cosine值越接近1 越相似!!\n",
    "\n",
    "cosine(0) = 0   表是兩者不相似\n",
    "\n",
    "cosine(0) = -1  表示兩者意見相左 相反 \n",
    "\n",
    "\n",
    "\n",
    "Since the cos(θ) value is in the range [−1,1] :\n",
    "\n",
    "−1 value will indicate strongly opposite vectors\n",
    "0 independent (orthogonal) vectors\n",
    "1 similar (positive co-linear) vectors. Intermediate values are used to assess the degree of similarity.\n",
    "Example : Let two user U1 and U2, and sim(U1,U2) the similarity between these two users according to their taste for movies:\n",
    "\n",
    "sim(U1,U2)=1 if the two users have exactly the same taste (or if U1=U2)\n",
    "sim(U1,U2)=0 if we do not find any correlation between the two users, e.g. if they have not seen any common movies\n",
    "sim(U1,U2)=−1 if users have opposed tastes, e.g. if they rated the same movies in an opposite way\n",
    "\n",
    "https://stats.stackexchange.com/questions/198810/interpreting-negative-cosine-similarity"
   ]
  },
  {
   "cell_type": "code",
   "execution_count": null,
   "metadata": {},
   "outputs": [],
   "source": []
  },
  {
   "cell_type": "markdown",
   "metadata": {},
   "source": [
    "<img src='https://pic3.zhimg.com/v2-fc17fd8286802d0ad2ff45e4068cc489_1200x500.jpg'>"
   ]
  },
  {
   "cell_type": "code",
   "execution_count": null,
   "metadata": {},
   "outputs": [],
   "source": []
  },
  {
   "cell_type": "raw",
   "metadata": {},
   "source": []
  },
  {
   "cell_type": "markdown",
   "metadata": {},
   "source": [
    "Given two vectors of attributes, A and B, the cosine similarity, cos(θ), is represented using a dot product and magnitude as\n",
    "\n",
    "![](https://i.stack.imgur.com/Qmq2w.png)\n",
    "\n",
    "where Ai and Bi are components of vector A and B respectively.\n",
    "\n",
    "The resulting similarity ranges from −1 meaning exactly opposite, to 1 meaning exactly the same, with 0 indicating orthogonality or decorrelation, while in-between values indicate intermediate similarity or dissimilarity.\n",
    "\n",
    "Reference:\n",
    "https://www.wikiwand.com/en/Cosine_similarity"
   ]
  },
  {
   "cell_type": "code",
   "execution_count": null,
   "metadata": {},
   "outputs": [],
   "source": []
  },
  {
   "cell_type": "markdown",
   "metadata": {},
   "source": [
    "# Reasoning with word vectors"
   ]
  },
  {
   "cell_type": "raw",
   "metadata": {},
   "source": [
    "The vectors are very good at answering analogy questions of the form a is to b as c is to ?. For example, man is to woman as uncle is to ? (aunt) using a simple vector offset method based on cosine distance.\n",
    "\n",
    "For example, here are vector offsets for three word pairs illustrating the gender relation:"
   ]
  },
  {
   "cell_type": "markdown",
   "metadata": {},
   "source": [
    "![](https://adriancolyer.files.wordpress.com/2016/04/word2vec-gender-relation.png?w=596&zoom=2)"
   ]
  },
  {
   "cell_type": "markdown",
   "metadata": {},
   "source": [
    "![](https://adriancolyer.files.wordpress.com/2016/04/word2vec-plural-relation.png?w=610&zoom=2)\n",
    "\n",
    "Reference: https://blog.acolyer.org/2016/04/21/the-amazing-power-of-word-vectors/"
   ]
  },
  {
   "cell_type": "code",
   "execution_count": null,
   "metadata": {},
   "outputs": [],
   "source": []
  },
  {
   "cell_type": "markdown",
   "metadata": {},
   "source": [
    "# Word2vec"
   ]
  },
  {
   "cell_type": "raw",
   "metadata": {},
   "source": [
    "Word2vec is a group of related models that are used to produce word embeddings. \n",
    "\n",
    "These models are shallow, two-layer neural networks that are trained to reconstruct linguistic contexts of words. \n",
    "\n",
    "Word2vec takes as its input a large corpus of text and produces a vector space, typically of several hundred dimensions, with each unique word in the corpus being assigned a corresponding vector in the space. \n",
    "\n",
    "Word vectors are positioned in the vector space such that words that share common contexts in the corpus are located close to one another in the space.\n",
    "\n",
    "Word2vec was created and published in 2013 by a team of researchers led by Tomas Mikolov at Google and patented.\n",
    "\n",
    "Reference:\n",
    "https://www.wikiwand.com/en/Word2vec"
   ]
  },
  {
   "cell_type": "markdown",
   "metadata": {},
   "source": [
    "![](https://media.springernature.com/lw785/springer-static/image/chp%3A10.1007%2F978-3-319-66808-6_16/MediaObjects/456304_1_En_16_Fig3_HTML.gif)"
   ]
  },
  {
   "cell_type": "markdown",
   "metadata": {},
   "source": [
    "![](https://miro.medium.com/max/1280/0*EGByb1WV6Uz8vjST.jpg)"
   ]
  },
  {
   "cell_type": "markdown",
   "metadata": {},
   "source": [
    "![](https://miro.medium.com/max/664/1*TRsyvDhPB6_KCimEk-2kWQ.png)"
   ]
  },
  {
   "cell_type": "markdown",
   "metadata": {},
   "source": [
    "Shallow vs. Deep learning\n",
    "\n",
    "![](https://www.guru99.com/images/1/111318_0826_WordEmbeddi1.png)"
   ]
  },
  {
   "cell_type": "raw",
   "metadata": {},
   "source": [
    "original paper:\n",
    "https://arxiv.org/pdf/1301.3781.pdf"
   ]
  },
  {
   "cell_type": "markdown",
   "metadata": {},
   "source": [
    "![](https://pbs.twimg.com/media/DXrYK-bXUAAhctK?format=jpg&name=large)"
   ]
  },
  {
   "cell_type": "markdown",
   "metadata": {},
   "source": [
    "# Doc2vec "
   ]
  },
  {
   "cell_type": "raw",
   "metadata": {},
   "source": [
    "Doc2vec has the following vectors\n",
    "(1)\n",
    "word vectors\n",
    "\n",
    "(2)\n",
    "paragraph (document) vectors"
   ]
  },
  {
   "cell_type": "raw",
   "metadata": {},
   "source": [
    "The concept that Mikilov and Le have used was simple, yet clever: they have used the word2vec model, and added another vector (Paragraph ID below), like so:"
   ]
  },
  {
   "cell_type": "markdown",
   "metadata": {},
   "source": [
    "![](https://media.springernature.com/lw785/springer-static/image/chp%3A10.1007%2F978-3-319-66808-6_16/MediaObjects/456304_1_En_16_Fig4_HTML.gif)"
   ]
  },
  {
   "cell_type": "markdown",
   "metadata": {},
   "source": [
    "Distributed Memory version of Paragraph Vector (PV-DM)\n",
    "\n",
    "![](https://miro.medium.com/max/972/0*x-gtU4UlO8FAsRvL.)"
   ]
  },
  {
   "cell_type": "markdown",
   "metadata": {},
   "source": [
    "Distributed Bag of Words version of Paragraph Vector (PV-DBOW)\n",
    "\n",
    "![](https://miro.medium.com/max/880/0*NtIsrbd4VQzUKVKr.)"
   ]
  },
  {
   "cell_type": "raw",
   "metadata": {},
   "source": [
    "original paper:\n",
    "https://cs.stanford.edu/~quocle/paragraph_vector.pdf"
   ]
  },
  {
   "cell_type": "markdown",
   "metadata": {},
   "source": [
    "![](https://www.researchgate.net/profile/Le-Lu-9/publication/303376372/figure/fig6/AS:668376489816091@1536364781736/Example-words-embedded-in-the-vector-space-using-word-to-vector-modeling.png)"
   ]
  },
  {
   "cell_type": "markdown",
   "metadata": {},
   "source": [
    "# Gensim doc2vec package"
   ]
  },
  {
   "cell_type": "raw",
   "metadata": {},
   "source": [
    "https://radimrehurek.com/gensim/index.html\n",
    "\n",
    "\n",
    "https://radimrehurek.com/gensim/models/doc2vec.html"
   ]
  },
  {
   "cell_type": "markdown",
   "metadata": {},
   "source": [
    "![](https://radimrehurek.com/gensim/_static/images/gensim.png)"
   ]
  },
  {
   "cell_type": "code",
   "execution_count": 1,
   "metadata": {},
   "outputs": [],
   "source": [
    "# install package\n",
    "# !pip install gensim==3.8.3"
   ]
  },
  {
   "cell_type": "markdown",
   "metadata": {},
   "source": [
    "# Prepare training data with TaggedDocument format"
   ]
  },
  {
   "cell_type": "raw",
   "metadata": {},
   "source": [
    "We need to prepare the following two things:\n",
    "\n",
    "(1) tokenized word list for a document  \n",
    "\n",
    "(2) tag id for a document\n",
    "\n",
    "Each TaggedDocument is as the following:\n",
    "\n",
    "TaggedDocument(words=['well', 'done!'], tags=['doc_0'])"
   ]
  },
  {
   "cell_type": "raw",
   "metadata": {},
   "source": [
    "Notice that we must use tags with string format, or we cannot query by using item_id (tag) from the word2vec model.\n",
    "We must use the item_id (string format) as the document tag. A string document tag is equivalent of a vocaburay object in the word2vec model. "
   ]
  },
  {
   "cell_type": "code",
   "execution_count": 1,
   "metadata": {},
   "outputs": [],
   "source": [
    "# define documents \n",
    "train_docs = [\n",
    "    'machine learning',\n",
    "    'deep learning',\n",
    "    'machine learning deep learning',\n",
    "    'good work',\n",
    "    'good job',\n",
    "    'good work good job'\n",
    "]"
   ]
  },
  {
   "cell_type": "code",
   "execution_count": 3,
   "metadata": {},
   "outputs": [],
   "source": [
    "from gensim.models.doc2vec import TaggedDocument"
   ]
  },
  {
   "cell_type": "code",
   "execution_count": 4,
   "metadata": {},
   "outputs": [],
   "source": [
    "documents = []\n",
    "for i, text in enumerate( train_docs ):\n",
    "    # prepare tokenized word list\n",
    "    words = text.lower().split()\n",
    "    # prepare document number\n",
    "    tags = ['doc_{}'.format(i)]\n",
    "    # prepare document format for Doc2vec training\n",
    "    documents.append(TaggedDocument(words, tags))"
   ]
  },
  {
   "cell_type": "code",
   "execution_count": 5,
   "metadata": {},
   "outputs": [
    {
     "data": {
      "text/plain": [
       "[TaggedDocument(words=['machine', 'learning'], tags=['doc_0']),\n",
       " TaggedDocument(words=['deep', 'learning'], tags=['doc_1']),\n",
       " TaggedDocument(words=['machine', 'learning', 'deep', 'learning'], tags=['doc_2']),\n",
       " TaggedDocument(words=['good', 'work'], tags=['doc_3']),\n",
       " TaggedDocument(words=['good', 'job'], tags=['doc_4']),\n",
       " TaggedDocument(words=['good', 'work', 'good', 'job'], tags=['doc_5'])]"
      ]
     },
     "execution_count": 5,
     "metadata": {},
     "output_type": "execute_result"
    }
   ],
   "source": [
    "documents"
   ]
  },
  {
   "cell_type": "code",
   "execution_count": 6,
   "metadata": {},
   "outputs": [
    {
     "data": {
      "text/plain": [
       "[['human', 'interface', 'computer'],\n",
       " ['survey', 'user', 'computer', 'system', 'response', 'time'],\n",
       " ['eps', 'user', 'interface', 'system'],\n",
       " ['system', 'human', 'system', 'eps'],\n",
       " ['user', 'response', 'time'],\n",
       " ['trees'],\n",
       " ['graph', 'trees'],\n",
       " ['graph', 'minors', 'trees'],\n",
       " ['graph', 'minors', 'survey']]"
      ]
     },
     "execution_count": 6,
     "metadata": {},
     "output_type": "execute_result"
    }
   ],
   "source": [
    "from gensim.test.utils import common_texts\n",
    "common_texts"
   ]
  },
  {
   "cell_type": "code",
   "execution_count": 7,
   "metadata": {},
   "outputs": [],
   "source": [
    "documents2 = [TaggedDocument(doc, [\"doc_{}\".format(i)]) for i, doc in enumerate(common_texts)]"
   ]
  },
  {
   "cell_type": "code",
   "execution_count": 8,
   "metadata": {},
   "outputs": [
    {
     "data": {
      "text/plain": [
       "[TaggedDocument(words=['human', 'interface', 'computer'], tags=['doc_0']),\n",
       " TaggedDocument(words=['survey', 'user', 'computer', 'system', 'response', 'time'], tags=['doc_1']),\n",
       " TaggedDocument(words=['eps', 'user', 'interface', 'system'], tags=['doc_2']),\n",
       " TaggedDocument(words=['system', 'human', 'system', 'eps'], tags=['doc_3']),\n",
       " TaggedDocument(words=['user', 'response', 'time'], tags=['doc_4']),\n",
       " TaggedDocument(words=['trees'], tags=['doc_5']),\n",
       " TaggedDocument(words=['graph', 'trees'], tags=['doc_6']),\n",
       " TaggedDocument(words=['graph', 'minors', 'trees'], tags=['doc_7']),\n",
       " TaggedDocument(words=['graph', 'minors', 'survey'], tags=['doc_8'])]"
      ]
     },
     "execution_count": 8,
     "metadata": {},
     "output_type": "execute_result"
    }
   ],
   "source": [
    "documents2 "
   ]
  },
  {
   "cell_type": "markdown",
   "metadata": {},
   "source": [
    "# Train the doc2vec model"
   ]
  },
  {
   "cell_type": "code",
   "execution_count": 9,
   "metadata": {},
   "outputs": [],
   "source": [
    "from gensim.models.doc2vec import Doc2Vec"
   ]
  },
  {
   "cell_type": "code",
   "execution_count": 10,
   "metadata": {},
   "outputs": [
    {
     "name": "stdout",
     "output_type": "stream",
     "text": [
      "CPU times: total: 15.6 ms\n",
      "Wall time: 100 ms\n"
     ]
    }
   ],
   "source": [
    "%%time\n",
    "# Train model\n",
    "# epochs = 5 \n",
    "model = Doc2Vec(documents, vector_size = 2, window = 5, min_count = 1, workers = 4, epochs = 7)"
   ]
  },
  {
   "cell_type": "raw",
   "metadata": {},
   "source": [
    "Some important parameters:\n",
    "\n",
    "class gensim.models.doc2vec.Doc2Vec(documents=None, size=300, alpha=0.025, window=8, min_count=5, max_vocab_size=None, sample=0, seed=1, workers=1, min_alpha=0.0001, dm=1, hs=1, negative=0, dbow_words=0, dm_mean=0, dm_concat=0, dm_tag_count=1, docvecs=None, docvecs_mapfile=None, comment=None, trim_rule=None, **kwargs)\n",
    "\n",
    "\n",
    "iter?\n",
    "------------------------------------\n",
    "iter = 10 is better than iter=5 ?\n",
    "\n",
    "A better training strategy:\n",
    "for epoch in range(10):\n",
    "    model.train(sentences)\n",
    "    model.alpha -= 0.002  # decrease the learning rate\n",
    "    model.min_alpha = model.alpha  # fix the learning rate, no decay"
   ]
  },
  {
   "cell_type": "markdown",
   "metadata": {},
   "source": [
    "# Save model"
   ]
  },
  {
   "cell_type": "raw",
   "metadata": {},
   "source": [
    "# The number of mdoel file will be one or there, depending on the size of model.\n",
    "\n",
    "Models with larger internal vector-arrays can't be saved via Python 'pickle' to a single file, so beyond a certain threshold, the gensim save() method will store subsidiary arrays in separate files, using the more-efficient raw format of numpy arrays (.npy format).\n"
   ]
  },
  {
   "cell_type": "code",
   "execution_count": 11,
   "metadata": {},
   "outputs": [],
   "source": [
    "model.save(\"./simple_doc2vec.model\")"
   ]
  },
  {
   "cell_type": "raw",
   "metadata": {},
   "source": [
    "Sometimes, you will need to save the model with the word2vec_format. With the model of word2vec_format, some functions cannot be used, such as  .infer_vector(). However, this function is very important to us. So we don't use save_word2vec_format() here.\n",
    "\n",
    "Save to word2vec_format model:\n",
    "model.save_word2vec_format(\"my_trained_d2v/simple_w2v_format\")\n",
    "\n",
    "Load the model\n",
    "model3 = Doc2Vec.load_word2vec_format(\"my_trained_d2v/simple_w2v_format\")"
   ]
  },
  {
   "cell_type": "markdown",
   "metadata": {},
   "source": [
    "# Load Doc2vec model"
   ]
  },
  {
   "cell_type": "raw",
   "metadata": {},
   "source": [
    "Gensim should be the same version"
   ]
  },
  {
   "cell_type": "code",
   "execution_count": 12,
   "metadata": {},
   "outputs": [],
   "source": [
    "from gensim.models.doc2vec import Doc2Vec\n",
    "model = Doc2Vec.load(\"./simple_doc2vec.model\")"
   ]
  },
  {
   "cell_type": "markdown",
   "metadata": {},
   "source": [
    "# Word vector and document vector"
   ]
  },
  {
   "cell_type": "markdown",
   "metadata": {},
   "source": [
    "## word vectors"
   ]
  },
  {
   "cell_type": "code",
   "execution_count": 16,
   "metadata": {},
   "outputs": [
    {
     "data": {
      "text/plain": [
       "['good', 'learning', 'job', 'work', 'deep', 'machine']"
      ]
     },
     "execution_count": 16,
     "metadata": {},
     "output_type": "execute_result"
    }
   ],
   "source": [
    "model.wv.index_to_key"
   ]
  },
  {
   "cell_type": "code",
   "execution_count": 17,
   "metadata": {},
   "outputs": [
    {
     "data": {
      "text/plain": [
       "array([[-0.02681136,  0.01182157],\n",
       "       [ 0.25516748,  0.45046365],\n",
       "       [-0.4651475 , -0.35584044],\n",
       "       [ 0.32294363,  0.4486494 ],\n",
       "       [-0.2507714 , -0.18816859],\n",
       "       [ 0.36902523, -0.07667357]], dtype=float32)"
      ]
     },
     "execution_count": 17,
     "metadata": {},
     "output_type": "execute_result"
    }
   ],
   "source": [
    "model.wv.vectors"
   ]
  },
  {
   "cell_type": "markdown",
   "metadata": {},
   "source": [
    "# get vector for a word"
   ]
  },
  {
   "cell_type": "code",
   "execution_count": 18,
   "metadata": {},
   "outputs": [
    {
     "name": "stderr",
     "output_type": "stream",
     "text": [
      "C:\\Users\\USER\\AppData\\Local\\Temp\\ipykernel_42052\\1097064260.py:1: DeprecationWarning: Call to deprecated `word_vec` (Use get_vector instead).\n",
      "  model.wv.word_vec('work')\n"
     ]
    },
    {
     "data": {
      "text/plain": [
       "array([0.32294363, 0.4486494 ], dtype=float32)"
      ]
     },
     "execution_count": 18,
     "metadata": {},
     "output_type": "execute_result"
    }
   ],
   "source": [
    "model.wv.word_vec('work')"
   ]
  },
  {
   "cell_type": "code",
   "execution_count": 19,
   "metadata": {},
   "outputs": [
    {
     "name": "stderr",
     "output_type": "stream",
     "text": [
      "C:\\Users\\USER\\AppData\\Local\\Temp\\ipykernel_42052\\4100944095.py:1: DeprecationWarning: Call to deprecated `word_vec` (Use get_vector instead).\n",
      "  model.wv.word_vec('good')\n"
     ]
    },
    {
     "data": {
      "text/plain": [
       "array([-0.02681136,  0.01182157], dtype=float32)"
      ]
     },
     "execution_count": 19,
     "metadata": {},
     "output_type": "execute_result"
    }
   ],
   "source": [
    "model.wv.word_vec('good')"
   ]
  },
  {
   "cell_type": "code",
   "execution_count": 8,
   "metadata": {},
   "outputs": [],
   "source": [
    "# if input word is not in the wordindex, error will arise\n",
    "# model.wv.word_vec('data')"
   ]
  },
  {
   "cell_type": "markdown",
   "metadata": {},
   "source": [
    "## document vectors"
   ]
  },
  {
   "cell_type": "code",
   "execution_count": 22,
   "metadata": {},
   "outputs": [
    {
     "name": "stderr",
     "output_type": "stream",
     "text": [
      "C:\\Users\\USER\\AppData\\Local\\Temp\\ipykernel_42052\\4164750585.py:1: DeprecationWarning: Call to deprecated `docvecs` (The `docvecs` property has been renamed `dv`.).\n",
      "  model.docvecs.index_to_key\n"
     ]
    },
    {
     "data": {
      "text/plain": [
       "['doc_0', 'doc_1', 'doc_2', 'doc_3', 'doc_4', 'doc_5']"
      ]
     },
     "execution_count": 22,
     "metadata": {},
     "output_type": "execute_result"
    }
   ],
   "source": [
    "model.docvecs.index_to_key"
   ]
  },
  {
   "cell_type": "code",
   "execution_count": 24,
   "metadata": {},
   "outputs": [
    {
     "name": "stderr",
     "output_type": "stream",
     "text": [
      "C:\\Users\\USER\\AppData\\Local\\Temp\\ipykernel_42052\\2727991311.py:1: DeprecationWarning: Call to deprecated `docvecs` (The `docvecs` property has been renamed `dv`.).\n",
      "  model.docvecs.vectors\n"
     ]
    },
    {
     "data": {
      "text/plain": [
       "array([[-0.26154077, -0.29895633],\n",
       "       [-0.49411625,  0.42764473],\n",
       "       [ 0.17838673,  0.01315755],\n",
       "       [-0.493913  , -0.25835383],\n",
       "       [-0.48611858,  0.10064545],\n",
       "       [ 0.14173782,  0.23219481]], dtype=float32)"
      ]
     },
     "execution_count": 24,
     "metadata": {},
     "output_type": "execute_result"
    }
   ],
   "source": [
    "model.docvecs.vectors"
   ]
  },
  {
   "cell_type": "code",
   "execution_count": 11,
   "metadata": {},
   "outputs": [],
   "source": [
    "# get vector for a document"
   ]
  },
  {
   "cell_type": "code",
   "execution_count": 25,
   "metadata": {},
   "outputs": [
    {
     "name": "stderr",
     "output_type": "stream",
     "text": [
      "C:\\Users\\USER\\AppData\\Local\\Temp\\ipykernel_42052\\1231349363.py:1: DeprecationWarning: Call to deprecated `docvecs` (The `docvecs` property has been renamed `dv`.).\n",
      "  model.docvecs['doc_0']\n"
     ]
    },
    {
     "data": {
      "text/plain": [
       "array([-0.26154077, -0.29895633], dtype=float32)"
      ]
     },
     "execution_count": 25,
     "metadata": {},
     "output_type": "execute_result"
    }
   ],
   "source": [
    "model.docvecs['doc_0']"
   ]
  },
  {
   "cell_type": "code",
   "execution_count": 26,
   "metadata": {},
   "outputs": [
    {
     "name": "stderr",
     "output_type": "stream",
     "text": [
      "C:\\Users\\USER\\AppData\\Local\\Temp\\ipykernel_42052\\651019407.py:1: DeprecationWarning: Call to deprecated `docvecs` (The `docvecs` property has been renamed `dv`.).\n",
      "  model.docvecs['doc_1']\n"
     ]
    },
    {
     "data": {
      "text/plain": [
       "array([-0.49411625,  0.42764473], dtype=float32)"
      ]
     },
     "execution_count": 26,
     "metadata": {},
     "output_type": "execute_result"
    }
   ],
   "source": [
    "model.docvecs['doc_1']"
   ]
  },
  {
   "cell_type": "markdown",
   "metadata": {},
   "source": [
    "# Draw 2D vectors"
   ]
  },
  {
   "cell_type": "code",
   "execution_count": 27,
   "metadata": {},
   "outputs": [],
   "source": [
    "from gensim.models import KeyedVectors\n",
    "import numpy as np\n",
    "from sklearn.manifold import TSNE\n",
    "import matplotlib.pyplot as plt"
   ]
  },
  {
   "cell_type": "code",
   "execution_count": 28,
   "metadata": {},
   "outputs": [],
   "source": [
    "def plot_with_labels(low_dim_embs, labels, filename = 'tsne.png'):\n",
    "    assert low_dim_embs.shape[0] >= len(labels), \"More labels than embeddings\"\n",
    "    # plt.figure(figsize=(10, 8))  # in inches (larger graph)\n",
    "    plt.figure(figsize=(8, 6))  # in inches\n",
    "    for i, label in enumerate(labels):\n",
    "        x, y = low_dim_embs[i, :]\n",
    "        plt.scatter(x, y)\n",
    "        plt.annotate(label,\n",
    "                 xy = (x, y),\n",
    "                 xytext = (5, 2),\n",
    "                 textcoords = 'offset points',\n",
    "                 ha = 'right',\n",
    "                 va = 'bottom')\n",
    "    plt.savefig(filename)"
   ]
  },
  {
   "cell_type": "markdown",
   "metadata": {},
   "source": [
    "## Draw word vectors"
   ]
  },
  {
   "cell_type": "code",
   "execution_count": 30,
   "metadata": {},
   "outputs": [],
   "source": [
    "words = model.wv.index_to_key"
   ]
  },
  {
   "cell_type": "code",
   "execution_count": 31,
   "metadata": {},
   "outputs": [],
   "source": [
    "vectors = model.wv.vectors"
   ]
  },
  {
   "cell_type": "code",
   "execution_count": 32,
   "metadata": {},
   "outputs": [],
   "source": [
    "# Creating the tsne plot \n",
    "tsne = TSNE(perplexity = 30.0, n_components = 2, init = 'pca', n_iter = 5000)"
   ]
  },
  {
   "cell_type": "code",
   "execution_count": 33,
   "metadata": {},
   "outputs": [
    {
     "name": "stderr",
     "output_type": "stream",
     "text": [
      "c:\\Users\\USER\\AppData\\Local\\Programs\\Python\\Python310\\lib\\site-packages\\sklearn\\manifold\\_t_sne.py:790: FutureWarning: The default learning rate in TSNE will change from 200.0 to 'auto' in 1.2.\n",
      "  warnings.warn(\n",
      "c:\\Users\\USER\\AppData\\Local\\Programs\\Python\\Python310\\lib\\site-packages\\sklearn\\manifold\\_t_sne.py:982: FutureWarning: The PCA initialization in TSNE will change to have the standard deviation of PC1 equal to 1e-4 in 1.2. This will ensure better convergence.\n",
      "  warnings.warn(\n"
     ]
    }
   ],
   "source": [
    "# It will take time\n",
    "two_dim_vectors = tsne.fit_transform(vectors)"
   ]
  },
  {
   "cell_type": "code",
   "execution_count": 34,
   "metadata": {},
   "outputs": [
    {
     "data": {
      "image/png": "[encoded data removed]",
      "text/plain": [
       "<Figure size 576x432 with 1 Axes>"
      ]
     },
     "metadata": {
      "needs_background": "light"
     },
     "output_type": "display_data"
    }
   ],
   "source": [
    "# Plotting and saving the fig \n",
    "plot_with_labels(two_dim_vectors, words)"
   ]
  },
  {
   "cell_type": "markdown",
   "metadata": {},
   "source": [
    "## Draw document vectors"
   ]
  },
  {
   "cell_type": "code",
   "execution_count": 35,
   "metadata": {},
   "outputs": [
    {
     "name": "stderr",
     "output_type": "stream",
     "text": [
      "C:\\Users\\USER\\AppData\\Local\\Temp\\ipykernel_42052\\1045885723.py:1: DeprecationWarning: Call to deprecated `docvecs` (The `docvecs` property has been renamed `dv`.).\n",
      "  words = model.docvecs.index_to_key\n"
     ]
    }
   ],
   "source": [
    "words = model.docvecs.index_to_key"
   ]
  },
  {
   "cell_type": "code",
   "execution_count": 37,
   "metadata": {},
   "outputs": [
    {
     "name": "stderr",
     "output_type": "stream",
     "text": [
      "C:\\Users\\USER\\AppData\\Local\\Temp\\ipykernel_42052\\3799227662.py:1: DeprecationWarning: Call to deprecated `docvecs` (The `docvecs` property has been renamed `dv`.).\n",
      "  vectors = model.docvecs.vectors\n"
     ]
    }
   ],
   "source": [
    "vectors = model.docvecs.vectors"
   ]
  },
  {
   "cell_type": "code",
   "execution_count": 38,
   "metadata": {},
   "outputs": [
    {
     "name": "stderr",
     "output_type": "stream",
     "text": [
      "c:\\Users\\USER\\AppData\\Local\\Programs\\Python\\Python310\\lib\\site-packages\\sklearn\\manifold\\_t_sne.py:790: FutureWarning: The default learning rate in TSNE will change from 200.0 to 'auto' in 1.2.\n",
      "  warnings.warn(\n",
      "c:\\Users\\USER\\AppData\\Local\\Programs\\Python\\Python310\\lib\\site-packages\\sklearn\\manifold\\_t_sne.py:982: FutureWarning: The PCA initialization in TSNE will change to have the standard deviation of PC1 equal to 1e-4 in 1.2. This will ensure better convergence.\n",
      "  warnings.warn(\n"
     ]
    }
   ],
   "source": [
    "# It will take time\n",
    "two_dim_vectors = tsne.fit_transform(vectors)"
   ]
  },
  {
   "cell_type": "code",
   "execution_count": 39,
   "metadata": {},
   "outputs": [
    {
     "data": {
      "image/png": "[encoded data removed]",
      "text/plain": [
       "<Figure size 576x432 with 1 Axes>"
      ]
     },
     "metadata": {
      "needs_background": "light"
     },
     "output_type": "display_data"
    }
   ],
   "source": [
    "# Plotting and saving the fig \n",
    "plot_with_labels(two_dim_vectors, words)"
   ]
  },
  {
   "cell_type": "markdown",
   "metadata": {},
   "source": [
    "# Find the most similar words"
   ]
  },
  {
   "cell_type": "raw",
   "metadata": {},
   "source": [
    "most_similar(positive=None, negative=None, topn=10, restrict_vocab=None, indexer=None)\n",
    "Find the top-N most similar words. Positive words contribute positively towards the similarity, negative words negatively.\n",
    "\n",
    "This method computes cosine similarity between a simple mean of the projection weight vectors of the given words and the vectors for each word in the model. The method corresponds to the word-analogy and distance scripts in the original word2vec implementation.\n",
    "\n",
    "Parameters\n",
    "positive (list of str, optional) – List of words that contribute positively.\n",
    "\n",
    "negative (list of str, optional) – List of words that contribute negatively.\n",
    "\n",
    "topn (int or None, optional) – Number of top-N similar words to return, when topn is int. When topn is None, then similarities for all words are returned.\n",
    "\n",
    "restrict_vocab (int, optional) – Optional integer which limits the range of vectors which are searched for most-similar values. For example, restrict_vocab=10000 would only check the first 10000 word vectors in the vocabulary order. (This may be meaningful if you’ve sorted the vocabulary by descending frequency.)\n",
    "\n",
    "Returns\n",
    "When topn is int, a sequence of (word, similarity) is returned. When topn is None, then similarities for all words are returned as a one-dimensional numpy array with the size of the vocabulary.\n",
    "\n",
    "Return type\n",
    "list of (str, float) or numpy.array\n",
    "\n",
    "https://radimrehurek.com/gensim/models/keyedvectors.html#gensim.models.keyedvectors.WordEmbeddingsKeyedVectors.most_similar"
   ]
  },
  {
   "cell_type": "markdown",
   "metadata": {},
   "source": [
    "## Cosine similarity from -1 to 1"
   ]
  },
  {
   "cell_type": "markdown",
   "metadata": {},
   "source": [
    "![](https://i.stack.imgur.com/5hD3g.png)"
   ]
  },
  {
   "cell_type": "raw",
   "metadata": {},
   "source": [
    "Cosine similarity can be interpreted as the dot product. \n",
    "\n",
    "Thus, if two words have 0 cosine similarity, they are completely orthogonal, meaning they have two different \"meanings\" and are completely unrelated. \n",
    "\n",
    "Whereas a negative similarity means the two words are related in component, but in an opposite (or negative) fashion."
   ]
  },
  {
   "cell_type": "raw",
   "metadata": {},
   "source": [
    "Since the cos(θ) value is in the range [−1,1] :\n",
    "\n",
    "−1 value will indicate strongly opposite vectors\n",
    "\n",
    "0 independent (orthogonal) vectors\n",
    "\n",
    "1 similar (positive co-linear) vectors. Intermediate values are used to assess the degree of similarity.\n",
    "\n",
    "Example : Let two user U1 and U2, and sim(U1,U2) the similarity between these two users according to their taste for movies:\n",
    "\n",
    "sim(U1,U2)=1 if the two users have exactly the same taste (or if U1=U2)\n",
    "\n",
    "sim(U1,U2)=0 if we do not find any correlation between the two users, e.g. if they have not seen any common movies\n",
    "\n",
    "sim(U1,U2)=−1 if users have opposed tastes, e.g. if they rated the same movies in an opposite way\n",
    "\n",
    "Reference:\n",
    "https://stats.stackexchange.com/questions/198810/interpreting-negative-cosine-similarity"
   ]
  },
  {
   "cell_type": "markdown",
   "metadata": {},
   "source": [
    "## similarity score"
   ]
  },
  {
   "cell_type": "code",
   "execution_count": 40,
   "metadata": {
    "scrolled": true
   },
   "outputs": [
    {
     "data": {
      "text/plain": [
       "[('work', 0.9941185116767883),\n",
       " ('machine', 0.305563747882843),\n",
       " ('good', -0.09994741529226303)]"
      ]
     },
     "execution_count": 40,
     "metadata": {},
     "output_type": "execute_result"
    }
   ],
   "source": [
    "model.wv.most_similar(['learning'], topn=3)"
   ]
  },
  {
   "cell_type": "code",
   "execution_count": 41,
   "metadata": {},
   "outputs": [
    {
     "data": {
      "text/plain": [
       "0.30556372"
      ]
     },
     "execution_count": 41,
     "metadata": {},
     "output_type": "execute_result"
    }
   ],
   "source": [
    "# similarity score\n",
    "model.wv.similarity('machine','learning')"
   ]
  },
  {
   "cell_type": "code",
   "execution_count": 42,
   "metadata": {
    "scrolled": true
   },
   "outputs": [
    {
     "data": {
      "text/plain": [
       "[('deep', 0.48973965644836426),\n",
       " ('job', 0.4816059172153473),\n",
       " ('learning', -0.09994742274284363)]"
      ]
     },
     "execution_count": 42,
     "metadata": {},
     "output_type": "execute_result"
    }
   ],
   "source": [
    "model.wv.most_similar(['good'], topn = 3)"
   ]
  },
  {
   "cell_type": "code",
   "execution_count": 43,
   "metadata": {},
   "outputs": [
    {
     "data": {
      "text/plain": [
       "0.4816059"
      ]
     },
     "execution_count": 43,
     "metadata": {},
     "output_type": "execute_result"
    }
   ],
   "source": [
    "model.wv.similarity('good','job')"
   ]
  },
  {
   "cell_type": "code",
   "execution_count": 44,
   "metadata": {},
   "outputs": [
    {
     "data": {
      "text/plain": [
       "-0.97794414"
      ]
     },
     "execution_count": 44,
     "metadata": {},
     "output_type": "execute_result"
    }
   ],
   "source": [
    "# the two words are not similar, because the similarity socre is small. \n",
    "model.wv.similarity('good','machine')"
   ]
  },
  {
   "cell_type": "markdown",
   "metadata": {},
   "source": [
    "### Find the most similar words based on a set of words"
   ]
  },
  {
   "cell_type": "code",
   "execution_count": 45,
   "metadata": {
    "scrolled": true
   },
   "outputs": [
    {
     "data": {
      "text/plain": [
       "[('good', 0.953560471534729),\n",
       " ('job', 0.19527064263820648),\n",
       " ('work', 0.0971737876534462)]"
      ]
     },
     "execution_count": 45,
     "metadata": {},
     "output_type": "execute_result"
    }
   ],
   "source": [
    "model.wv.most_similar(['deep','learning'], topn = 3)"
   ]
  },
  {
   "cell_type": "raw",
   "metadata": {},
   "source": [
    "# if word 'data' is not in vocabulary, error will arise\n",
    "# In this case, we should use infer_vector() in the next section\n",
    "# model.wv.most_similar(['deep','learning','data'], topn=3)"
   ]
  },
  {
   "cell_type": "markdown",
   "metadata": {},
   "source": [
    "### Positive and nagative similarity"
   ]
  },
  {
   "cell_type": "code",
   "execution_count": 46,
   "metadata": {},
   "outputs": [
    {
     "data": {
      "text/plain": [
       "[('deep', 0.8653990626335144),\n",
       " ('learning', -0.5925893783569336),\n",
       " ('work', -0.6763386130332947)]"
      ]
     },
     "execution_count": 46,
     "metadata": {},
     "output_type": "execute_result"
    }
   ],
   "source": [
    "model.wv.most_similar(positive=['good', 'job'], topn = 3)"
   ]
  },
  {
   "cell_type": "code",
   "execution_count": 47,
   "metadata": {},
   "outputs": [
    {
     "data": {
      "text/plain": [
       "[('deep', 0.9299444556236267), ('work', -0.7777612805366516)]"
      ]
     },
     "execution_count": 47,
     "metadata": {},
     "output_type": "execute_result"
    }
   ],
   "source": [
    "# find points in the vector space that are as close as possible to the positive vectors\n",
    "# and as far away as possible from the negative words\n",
    "model.wv.most_similar(positive=['good', 'job'], negative = ['machine', 'learning'], topn = 3)"
   ]
  },
  {
   "cell_type": "raw",
   "metadata": {},
   "source": [
    "It's not quite \"find points in the vector space that are as close as possible to the positive vectors and as far away as possible from the negative ones\". Rather, as described in the original word2vec papers, it performs vector arithmetic: adding the positive vectors, subtracting the negative, then from that resulting position, listing the known-vectors closest to that angle.\n",
    "\n",
    "That is sufficient to solve man : king :: woman :: ?-style analogies, via a call like:\n",
    "\n",
    "sims = wordvecs.most_similar(positive=['king', 'woman'], \n",
    "                             negative=['man'])\n",
    "(You can think of this as, \"start at 'king'-vector, add 'woman'-vector, subtract 'man'-vector, from where you wind up, report ranked word-vectors closest to that point.\")\n",
    "\n",
    "Reference:\n",
    "https://stackoverflow.com/questions/54580260/understanding-gensim-word2vecs-most-similar"
   ]
  },
  {
   "cell_type": "markdown",
   "metadata": {},
   "source": [
    "## Infer vector of keywords from the word2vec model (vector space) 輸入一個詞或多個詞，推論計算代表這一組詞的向量"
   ]
  },
  {
   "cell_type": "raw",
   "metadata": {},
   "source": [
    "infer_vector(doc_words, alpha=None, min_alpha=None, epochs=None, steps=None)\n",
    "\n",
    "Infer a vector for given post-bulk training document.\n",
    "\n",
    "Notes\n",
    "\n",
    "Subsequent calls to this function may infer different representations for the same document. For a more stable representation, increase the number of steps to assert a stricket convergence.\n",
    "\n",
    "Parameters\n",
    "doc_words (list of str) – A document for which the vector representation will be inferred.\n",
    "\n",
    "alpha (float, optional) – The initial learning rate. If unspecified, value from model initialization will be reused.\n",
    "\n",
    "min_alpha (float, optional) – Learning rate will linearly drop to min_alpha over all inference epochs. If unspecified, value from model initialization will be reused.\n",
    "\n",
    "epochs (int, optional) – Number of times to train the new document. Larger values take more time, but may improve quality and run-to-run stability of inferred vectors. If unspecified, the epochs value from model initialization will be reused.\n",
    "\n",
    "steps (int, optional, deprecated) – Previous name for epochs, still available for now for backward compatibility: if epochs is unspecified but steps is, the steps value will be used.\n",
    "\n",
    "Returns\n",
    "The inferred paragraph vector for the new document.\n",
    "\n",
    "Return type\n",
    "np.ndarray"
   ]
  },
  {
   "cell_type": "code",
   "execution_count": 48,
   "metadata": {},
   "outputs": [
    {
     "data": {
      "text/plain": [
       "array([-0.11741042, -0.19451982], dtype=float32)"
      ]
     },
     "execution_count": 48,
     "metadata": {},
     "output_type": "execute_result"
    }
   ],
   "source": [
    "# infer vector of keywords from the word2vec model (vector space)\n",
    "model.infer_vector(['machine'])"
   ]
  },
  {
   "cell_type": "code",
   "execution_count": 49,
   "metadata": {},
   "outputs": [
    {
     "name": "stderr",
     "output_type": "stream",
     "text": [
      "C:\\Users\\USER\\AppData\\Local\\Temp\\ipykernel_42052\\629783342.py:2: DeprecationWarning: Call to deprecated `word_vec` (Use get_vector instead).\n",
      "  model.wv.word_vec('machine')\n"
     ]
    },
    {
     "data": {
      "text/plain": [
       "array([ 0.36902523, -0.07667357], dtype=float32)"
      ]
     },
     "execution_count": 49,
     "metadata": {},
     "output_type": "execute_result"
    }
   ],
   "source": [
    "# \n",
    "model.wv.word_vec('machine')"
   ]
  },
  {
   "cell_type": "code",
   "execution_count": 50,
   "metadata": {},
   "outputs": [
    {
     "data": {
      "text/plain": [
       "array([ 0.18918513, -0.01227807], dtype=float32)"
      ]
     },
     "execution_count": 50,
     "metadata": {},
     "output_type": "execute_result"
    }
   ],
   "source": [
    "# given a set of words in a document, infer_vector() infers a new vector  \n",
    "model.infer_vector( ['machine', 'learning'] )"
   ]
  },
  {
   "cell_type": "code",
   "execution_count": 36,
   "metadata": {},
   "outputs": [],
   "source": [
    "# if some words are not in the word index, \n",
    "# infer_vecter() can deal with this, and it will not throw exception\n",
    "# for example:  ['machine', 'learning', 'data' ] \n",
    "# 'data' is not in the word index"
   ]
  },
  {
   "cell_type": "code",
   "execution_count": 51,
   "metadata": {},
   "outputs": [
    {
     "data": {
      "text/plain": [
       "array([ 0.23044683, -0.19492395], dtype=float32)"
      ]
     },
     "execution_count": 51,
     "metadata": {},
     "output_type": "execute_result"
    }
   ],
   "source": [
    "model.infer_vector(['machine', 'learning', 'data' ])"
   ]
  },
  {
   "cell_type": "markdown",
   "metadata": {},
   "source": [
    "## Given a set of new keywords, find similar documents輸入一個詞或多個詞，找出幾篇相似的文章給你"
   ]
  },
  {
   "cell_type": "raw",
   "metadata": {},
   "source": [
    "Input: keywords\n",
    "\n",
    "Output: top n documents ranked by similarity\n",
    "\n",
    "Using model.docvecs.most_similar([ new_vector ])"
   ]
  },
  {
   "cell_type": "code",
   "execution_count": 52,
   "metadata": {},
   "outputs": [],
   "source": [
    "keywords = ['machine', 'learning', 'job' ]\n",
    "\n",
    "# infer vector of keywords from the word2vec model (vector space)\n",
    "new_vector = model.infer_vector(keywords)"
   ]
  },
  {
   "cell_type": "code",
   "execution_count": 53,
   "metadata": {},
   "outputs": [
    {
     "data": {
      "text/plain": [
       "array([ 0.17611279, -0.05679075], dtype=float32)"
      ]
     },
     "execution_count": 53,
     "metadata": {},
     "output_type": "execute_result"
    }
   ],
   "source": [
    "new_vector"
   ]
  },
  {
   "cell_type": "code",
   "execution_count": 54,
   "metadata": {},
   "outputs": [
    {
     "name": "stderr",
     "output_type": "stream",
     "text": [
      "C:\\Users\\USER\\AppData\\Local\\Temp\\ipykernel_42052\\4240576568.py:2: DeprecationWarning: Call to deprecated `docvecs` (The `docvecs` property has been renamed `dv`.).\n",
      "  model.docvecs.most_similar( positive= [new_vector], topn=5  )\n"
     ]
    },
    {
     "data": {
      "text/plain": [
       "[('doc_2', 0.9265859127044678),\n",
       " ('doc_5', 0.2339228391647339),\n",
       " ('doc_0', -0.3956749439239502),\n",
       " ('doc_3', -0.7010857462882996),\n",
       " ('doc_1', -0.9204879403114319)]"
      ]
     },
     "execution_count": 54,
     "metadata": {},
     "output_type": "execute_result"
    }
   ],
   "source": [
    "# based on the vector, find several nearby tags (item_id) \n",
    "model.docvecs.most_similar(positive = [new_vector], topn =5)"
   ]
  },
  {
   "cell_type": "code",
   "execution_count": 56,
   "metadata": {},
   "outputs": [
    {
     "name": "stderr",
     "output_type": "stream",
     "text": [
      "C:\\Users\\USER\\AppData\\Local\\Temp\\ipykernel_42052\\659875514.py:5: DeprecationWarning: Call to deprecated `docvecs` (The `docvecs` property has been renamed `dv`.).\n",
      "  model.docvecs.most_similar(positive= [new_vector], topn =5 )\n"
     ]
    },
    {
     "data": {
      "text/plain": [
       "[('doc_2', 0.7138081789016724),\n",
       " ('doc_0', -0.01649193838238716),\n",
       " ('doc_5', -0.1535891443490982),\n",
       " ('doc_3', -0.37704989314079285),\n",
       " ('doc_4', -0.8784939646720886)]"
      ]
     },
     "execution_count": 56,
     "metadata": {},
     "output_type": "execute_result"
    }
   ],
   "source": [
    "# keywords can contain words which are not in the word index\n",
    "# infer_vecter() can deal with this, and it will not throw exception\n",
    "keywords = ['machine', 'learning', 'data' ]\n",
    "new_vector = model.infer_vector( keywords,  epochs = 20, alpha = 0.025)\n",
    "model.docvecs.most_similar(positive= [new_vector], topn =5 )"
   ]
  },
  {
   "cell_type": "markdown",
   "metadata": {},
   "source": [
    "# Find the most similar documents輸入一篇文章編號，找出幾篇相似的文章給你"
   ]
  },
  {
   "cell_type": "raw",
   "metadata": {},
   "source": [
    "docvecs.most_similar(positive=None, negative=None, topn=10, clip_start=0, clip_end=None, indexer=None)\n",
    "Find the top-N most similar docvecs from the training set. Positive docvecs contribute positively towards the similarity, negative docvecs negatively.\n",
    "\n",
    "This method computes cosine similarity between a simple mean of the projection weight vectors of the given docs. Docs may be specified as vectors, integer indexes of trained docvecs, or if the documents were originally presented with string tags, by the corresponding tags."
   ]
  },
  {
   "cell_type": "raw",
   "metadata": {},
   "source": [
    "docvecs.similarity(d1, d2)\n",
    "Compute cosine similarity between two docvecs from the training set.\n",
    "\n",
    "TODO: Accept vectors of out-of-training-set docs, as if from inference.\n",
    "\n",
    "Parameters:\t\n",
    "d1 ({int, str}) – Doctag/index of document.\n",
    "d2 ({int, str}) – Doctag/index of document.\n",
    "Returns:\t\n",
    "The cosine similarity between the vectors of the two documents.\n",
    "\n",
    "Return type:\t\n",
    "float"
   ]
  },
  {
   "cell_type": "markdown",
   "metadata": {},
   "source": [
    "## Given an item_id, find similar documents"
   ]
  },
  {
   "cell_type": "raw",
   "metadata": {},
   "source": [
    "Input: item_id (item_id in the word2vec model)\n",
    "\n",
    "Output: top n documents ranked by similarity\n",
    "\n",
    "Using model.docvecs.most_similar([item_id])"
   ]
  },
  {
   "cell_type": "code",
   "execution_count": 57,
   "metadata": {},
   "outputs": [
    {
     "name": "stderr",
     "output_type": "stream",
     "text": [
      "C:\\Users\\USER\\AppData\\Local\\Temp\\ipykernel_42052\\345565659.py:4: DeprecationWarning: Call to deprecated `docvecs` (The `docvecs` property has been renamed `dv`.).\n",
      "  model.docvecs.most_similar(['doc_0'], topn=5)\n"
     ]
    },
    {
     "data": {
      "text/plain": [
       "[('doc_3', 0.9322853088378906),\n",
       " ('doc_4', 0.49217653274536133),\n",
       " ('doc_1', 0.005333602894097567),\n",
       " ('doc_2', -0.7120180130004883),\n",
       " ('doc_5', -0.9854675531387329)]"
      ]
     },
     "execution_count": 57,
     "metadata": {},
     "output_type": "execute_result"
    }
   ],
   "source": [
    "# Find the top-N most similar documents\n",
    "\n",
    "# e.g., find similar documents for the first item_id\n",
    "model.docvecs.most_similar(['doc_0'], topn=5)"
   ]
  },
  {
   "cell_type": "code",
   "execution_count": 58,
   "metadata": {},
   "outputs": [
    {
     "name": "stderr",
     "output_type": "stream",
     "text": [
      "C:\\Users\\USER\\AppData\\Local\\Temp\\ipykernel_42052\\347376770.py:1: DeprecationWarning: Call to deprecated `docvecs` (The `docvecs` property has been renamed `dv`.).\n",
      "  model.docvecs.most_similar('doc_0')\n"
     ]
    },
    {
     "data": {
      "text/plain": [
       "[('doc_3', 0.9322853088378906),\n",
       " ('doc_4', 0.49217653274536133),\n",
       " ('doc_1', 0.005333602894097567),\n",
       " ('doc_2', -0.7120180130004883),\n",
       " ('doc_5', -0.9854675531387329)]"
      ]
     },
     "execution_count": 58,
     "metadata": {},
     "output_type": "execute_result"
    }
   ],
   "source": [
    "model.docvecs.most_similar('doc_0')"
   ]
  },
  {
   "cell_type": "code",
   "execution_count": 59,
   "metadata": {},
   "outputs": [
    {
     "name": "stderr",
     "output_type": "stream",
     "text": [
      "C:\\Users\\USER\\AppData\\Local\\Temp\\ipykernel_42052\\1102969423.py:1: DeprecationWarning: Call to deprecated `docvecs` (The `docvecs` property has been renamed `dv`.).\n",
      "  model.docvecs.similarity('doc_0','doc_5')\n"
     ]
    },
    {
     "data": {
      "text/plain": [
       "-0.98546743"
      ]
     },
     "execution_count": 59,
     "metadata": {},
     "output_type": "execute_result"
    }
   ],
   "source": [
    "model.docvecs.similarity('doc_0','doc_5')"
   ]
  },
  {
   "cell_type": "markdown",
   "metadata": {},
   "source": [
    "## find the most similar documents based on a set of documents輸入幾篇文章編號，找出幾篇相似的文章給你"
   ]
  },
  {
   "cell_type": "code",
   "execution_count": 60,
   "metadata": {},
   "outputs": [
    {
     "name": "stderr",
     "output_type": "stream",
     "text": [
      "C:\\Users\\USER\\AppData\\Local\\Temp\\ipykernel_42052\\1297811650.py:1: DeprecationWarning: Call to deprecated `docvecs` (The `docvecs` property has been renamed `dv`.).\n",
      "  model.docvecs.most_similar(['doc_0', 'doc_1'], topn = 3)\n"
     ]
    },
    {
     "data": {
      "text/plain": [
       "[('doc_4', 0.9628377556800842),\n",
       " ('doc_3', 0.9160753488540649),\n",
       " ('doc_5', -0.5788949728012085)]"
      ]
     },
     "execution_count": 60,
     "metadata": {},
     "output_type": "execute_result"
    }
   ],
   "source": [
    "model.docvecs.most_similar(['doc_0', 'doc_1'], topn = 3)"
   ]
  },
  {
   "cell_type": "code",
   "execution_count": 61,
   "metadata": {},
   "outputs": [
    {
     "name": "stderr",
     "output_type": "stream",
     "text": [
      "C:\\Users\\USER\\AppData\\Local\\Temp\\ipykernel_42052\\207899948.py:1: DeprecationWarning: Call to deprecated `docvecs` (The `docvecs` property has been renamed `dv`.).\n",
      "  model.docvecs.n_similarity( ['doc_0', 'doc_1'], ['doc_2'])\n"
     ]
    },
    {
     "data": {
      "text/plain": [
       "-0.97078705"
      ]
     },
     "execution_count": 61,
     "metadata": {},
     "output_type": "execute_result"
    }
   ],
   "source": [
    "model.docvecs.n_similarity( ['doc_0', 'doc_1'], ['doc_2'])"
   ]
  },
  {
   "cell_type": "code",
   "execution_count": 62,
   "metadata": {},
   "outputs": [
    {
     "name": "stderr",
     "output_type": "stream",
     "text": [
      "C:\\Users\\USER\\AppData\\Local\\Temp\\ipykernel_42052\\3554709847.py:1: DeprecationWarning: Call to deprecated `docvecs` (The `docvecs` property has been renamed `dv`.).\n",
      "  model.docvecs.n_similarity( ['doc_0', 'doc_1'], ['doc_5'])\n"
     ]
    },
    {
     "data": {
      "text/plain": [
       "-0.37033433"
      ]
     },
     "execution_count": 62,
     "metadata": {},
     "output_type": "execute_result"
    }
   ],
   "source": [
    "model.docvecs.n_similarity( ['doc_0', 'doc_1'], ['doc_5'])"
   ]
  },
  {
   "cell_type": "markdown",
   "metadata": {},
   "source": [
    "# For more information about word embeddings, visit the following links:"
   ]
  },
  {
   "cell_type": "raw",
   "metadata": {},
   "source": [
    "wevi: word embedding visual inspector\n",
    "https://ronxin.github.io/wevi/\n",
    "\n",
    "\n",
    "in Chinese:\n",
    "\n",
    "(1) https://fgc.stpi.narl.org.tw/activity/videoDetail/4b1141305ddf5522015de5479f4701b1\n",
    "(2) https://medium.com/datamixcontent-lab/%E8%B3%87%E6%96%99%E5%88%86%E6%9E%90%E5%B8%AB%E8%87%AA%E5%AD%B8%E7%AD%86%E8%A8%98-%E6%A6%82%E5%BF%B5-%E5%AF%A6%E4%BD%9C%E7%AF%87-%E8%87%AA%E7%84%B6%E8%AA%9E%E8%A8%80%E8%99%95%E7%90%86%E5%85%A5%E9%96%80-%E4%B9%8B-word2vec-doc2vec-%E6%AF%94%E8%BC%83-c94dd0a407c7\n",
    "(3) https://medium.com/@ddoo8059/%E8%AE%80paper%E4%B9%8B%E5%BF%83%E5%BE%97-word2vec-%E8%88%87-doc2vec-5c8b8daa7f12\n",
    "\n",
    "\n",
    "in English:\n",
    "\n",
    "(1) https://www.guru99.com/word-embedding-word2vec.html\n",
    "(2) https://blog.acolyer.org/2016/04/21/the-amazing-power-of-word-vectors/"
   ]
  }
 ],
 "metadata": {
  "kernelspec": {
   "display_name": "Python 3.10.2 64-bit",
   "language": "python",
   "name": "python3"
  },
  "language_info": {
   "codemirror_mode": {
    "name": "ipython",
    "version": 3
   },
   "file_extension": ".py",
   "mimetype": "text/x-python",
   "name": "python",
   "nbconvert_exporter": "python",
   "pygments_lexer": "ipython3",
   "version": "3.10.2"
  },
  "toc": {
   "base_numbering": 1,
   "nav_menu": {},
   "number_sections": true,
   "sideBar": true,
   "skip_h1_title": false,
   "title_cell": "Table of Contents",
   "title_sidebar": "Contents",
   "toc_cell": false,
   "toc_position": {
    "height": "calc(100% - 180px)",
    "left": "10px",
    "top": "150px",
    "width": "245.76px"
   },
   "toc_section_display": true,
   "toc_window_display": true
  },
  "toc-autonumbering": true,
  "vscode": {
   "interpreter": {
    "hash": "df95319d8ce4e1d89f5365ae10992bc1f65da593082b1d264e8f529830ec2f02"
   }
  }
 },
 "nbformat": 4,
 "nbformat_minor": 4
}
