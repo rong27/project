{
 "cells": [
  {
   "cell_type": "markdown",
   "metadata": {},
   "source": [
    "# There are 11 categories in CNA news\n",
    "\n",
    "Crawl links on a category's first page.\n",
    "\n",
    "中央社新聞爬蟲-11類別的新聞(只能爬第一頁的內容，沒有翻頁的功能)"
   ]
  },
  {
   "cell_type": "raw",
   "metadata": {},
   "source": [
    "政治\n",
    "https://www.cna.com.tw/list/aipl.aspx\n",
    "科技\n",
    "https://www.cna.com.tw/list/ait.aspx\n",
    "運動\n",
    "https://www.cna.com.tw/list/aspt.aspx\n",
    "證卷\n",
    "https://www.cna.com.tw/list/asc.aspx\n",
    "產經\n",
    "https://www.cna.com.tw/list/aie.aspx\n",
    "娛樂\n",
    "https://www.cna.com.tw/list/amov.aspx\n",
    "生活\n",
    "https://www.cna.com.tw/list/ahel.aspx\n",
    "國際\n",
    "https://www.cna.com.tw/list/aopl.aspx\n",
    "社會\n",
    "https://www.cna.com.tw/list/asoc.aspx\n",
    "文化\n",
    "https://www.cna.com.tw/list/acul.aspx\n",
    "\n",
    "\n",
    "兩岸\n",
    "https://www.cna.com.tw/list/acn.aspx"
   ]
  },
  {
   "cell_type": "code",
   "execution_count": null,
   "metadata": {},
   "outputs": [],
   "source": []
  },
  {
   "cell_type": "code",
   "execution_count": 1,
   "metadata": {},
   "outputs": [],
   "source": [
    "# 11 news categories\n",
    "news_links =['aipl', 'ait', 'aspt', 'asc', 'aie', 'amov','ahel','aopl','asoc','acul','acn']\n",
    "news_categories=['政治','科技','運動','證卷','產經','娛樂','生活','國際','社會','文化','兩岸']\n",
    "base_url = 'https://www.cna.com.tw/list/'"
   ]
  },
  {
   "cell_type": "code",
   "execution_count": null,
   "metadata": {},
   "outputs": [],
   "source": []
  },
  {
   "cell_type": "code",
   "execution_count": 3,
   "metadata": {},
   "outputs": [],
   "source": [
    "import requests\n",
    "import re\n",
    "from bs4 import BeautifulSoup\n",
    "import time\n",
    "import pandas as pd\n",
    "from datetime import datetime, timedelta"
   ]
  },
  {
   "cell_type": "code",
   "execution_count": null,
   "metadata": {},
   "outputs": [],
   "source": []
  },
  {
   "cell_type": "code",
   "execution_count": 7,
   "metadata": {},
   "outputs": [],
   "source": [
    "# item id 抓時間 當中有夾帶廣告 沒有時間欄位，可以判斷之並將之跳離這一筆!"
   ]
  },
  {
   "cell_type": "code",
   "execution_count": null,
   "metadata": {},
   "outputs": [],
   "source": [
    "%%time\n",
    "links = []\n",
    "titles = []\n",
    "dates = []\n",
    "contents = []\n",
    "categories = []\n",
    "item_id = []\n",
    "photo_links = []\n",
    "\n",
    "for i, url_short_name in enumerate(news_links):  #針對每一類 共有11類\n",
    "\n",
    "    full_url = base_url + url_short_name + '.aspx'\n",
    "    print(full_url)\n",
    "    req = requests.get(full_url)\n",
    "    page = BeautifulSoup(req.text, 'lxml')\n",
    "    #page.find('li',{'class':\"noPadding myEpaperInList\"}).decompose() #去除不要的一堆插入連結與文字\n",
    "\n",
    "    # 抓新聞列表\n",
    "    items = page.find('ul', {'id': re.compile(\"jsMainList\\w*\")}).findAll('li')\n",
    "\n",
    "    serial_no = 1\n",
    "    for j, item in enumerate(items):  #針對每一篇項目 抓其細節\n",
    "        title = item.find('h2').text  #抓標題\n",
    "        # print(title)\n",
    "        link = item.find('a').get('href')  #抓連結\n",
    "        #print(link)\n",
    "        dt = item.find('div', {'class': \"date\"}).text  #抓日期時間\n",
    "        #print(dt)\n",
    "        titles.append(title)\n",
    "        links.append(link)\n",
    "        categories.append(news_categories[i])  #類別名稱紀錄起來\n",
    "\n",
    "        #\n",
    "        # 抓時間 當中有夾帶廣告 沒有時間欄位，可以判斷之並將之跳離這一筆!\n",
    "        # 排除穿插廣告\n",
    "        try:\n",
    "            dt = item.find('div', {'class': \"date\"}).text  #抓日期時間\n",
    "            # 排除穿插廣告\n",
    "            news_time = datetime.strptime(dt, '%Y/%m/%d %H:%M')\n",
    "        except:\n",
    "            print('skip this item:', dt)\n",
    "            print(link)\n",
    "            continue\n",
    "\n",
    "        dates.append(news_time.date())\n",
    "\n",
    "        # item id\n",
    "        t = datetime.strptime(dt, '%Y/%m/%d %H:%M')\n",
    "        tstr = t.strftime(\"%Y%m%d\")\n",
    "\n",
    "        item_id.append(news_links[i] + \"_\" + tstr + \"_\" + str(serial_no))\n",
    "        serial_no += 1\n",
    "\n",
    "        try:\n",
    "            if item.find('img').has_attr('data-src'):\n",
    "                photo_link = item.find('img').get('data-src')\n",
    "            else:\n",
    "                photo_link = item.find('img').get('src')\n",
    "            #print(photo_link)\n",
    "        except:\n",
    "            photo_link = ''\n",
    "\n",
    "        photo_links.append(photo_link)\n",
    "\n",
    "        # There are some words we don't like to analyze, They should be removed.\n",
    "        page = BeautifulSoup(requests.get( link ).text,'lxml')\n",
    "        cont = page.find('div',{'class':\"paragraph\"}).text\n",
    "        cont = re.sub('（中央社記者\\w*）','', cont) # 去除不要的文字\n",
    "        cont = re.sub('（編輯：.*','', cont) \n",
    "        cont = re.sub('（譯者：.*','', cont) \n",
    "        cont = re.sub('（中央社\\w*）','', cont) \n",
    "    \n",
    "        contents.append(cont)\n",
    "        time.sleep(2)  # 遵守爬蟲禮節，請小睡一下"
   ]
  },
  {
   "cell_type": "code",
   "execution_count": null,
   "metadata": {},
   "outputs": [],
   "source": []
  },
  {
   "cell_type": "markdown",
   "metadata": {},
   "source": [
    "# Save data"
   ]
  },
  {
   "cell_type": "code",
   "execution_count": 15,
   "metadata": {},
   "outputs": [],
   "source": [
    "data = zip(item_id, dates, categories, titles, contents, links, photo_links)\n",
    "df = pd.DataFrame(list(data), columns=['item_id','date','category','title','content','link','photo_link'])"
   ]
  },
  {
   "cell_type": "code",
   "execution_count": 16,
   "metadata": {},
   "outputs": [
    {
     "data": {
      "text/html": [
       "<div>\n",
       "<style scoped>\n",
       "    .dataframe tbody tr th:only-of-type {\n",
       "        vertical-align: middle;\n",
       "    }\n",
       "\n",
       "    .dataframe tbody tr th {\n",
       "        vertical-align: top;\n",
       "    }\n",
       "\n",
       "    .dataframe thead th {\n",
       "        text-align: right;\n",
       "    }\n",
       "</style>\n",
       "<table border=\"1\" class=\"dataframe\">\n",
       "  <thead>\n",
       "    <tr style=\"text-align: right;\">\n",
       "      <th></th>\n",
       "      <th>item_id</th>\n",
       "      <th>date</th>\n",
       "      <th>category</th>\n",
       "      <th>title</th>\n",
       "      <th>content</th>\n",
       "      <th>link</th>\n",
       "      <th>photo_link</th>\n",
       "    </tr>\n",
       "  </thead>\n",
       "  <tbody>\n",
       "    <tr>\n",
       "      <th>0</th>\n",
       "      <td>aipl_20210315_1</td>\n",
       "      <td>2021-03-15</td>\n",
       "      <td>政治</td>\n",
       "      <td>遭限制帳號部分功能  潘忠政：接受臉書機制</td>\n",
       "      <td>珍愛藻礁公投連署領銜人潘忠政遭臉書限制帳號部分功能，潘忠政今天表示，他非常支持同志的行動，相...</td>\n",
       "      <td>https://www.cna.com.tw/news/aipl/202103150283....</td>\n",
       "      <td>https://imgcdn.cna.com.tw/www/WebPhotos/400/20...</td>\n",
       "    </tr>\n",
       "    <tr>\n",
       "      <th>1</th>\n",
       "      <td>aipl_20210315_2</td>\n",
       "      <td>2021-03-15</td>\n",
       "      <td>政治</td>\n",
       "      <td>共軍2架運8擾台 空軍兵力應對</td>\n",
       "      <td>空軍今天發布共機動態，1架運8技偵機、1架運8反潛機下午侵犯台灣西南防空識別區（ADIZ ）...</td>\n",
       "      <td>https://www.cna.com.tw/news/aipl/202103150331....</td>\n",
       "      <td></td>\n",
       "    </tr>\n",
       "  </tbody>\n",
       "</table>\n",
       "</div>"
      ],
      "text/plain": [
       "           item_id        date category                  title  \\\n",
       "0  aipl_20210315_1  2021-03-15       政治  遭限制帳號部分功能  潘忠政：接受臉書機制   \n",
       "1  aipl_20210315_2  2021-03-15       政治        共軍2架運8擾台 空軍兵力應對   \n",
       "\n",
       "                                             content  \\\n",
       "0  珍愛藻礁公投連署領銜人潘忠政遭臉書限制帳號部分功能，潘忠政今天表示，他非常支持同志的行動，相...   \n",
       "1  空軍今天發布共機動態，1架運8技偵機、1架運8反潛機下午侵犯台灣西南防空識別區（ADIZ ）...   \n",
       "\n",
       "                                                link  \\\n",
       "0  https://www.cna.com.tw/news/aipl/202103150283....   \n",
       "1  https://www.cna.com.tw/news/aipl/202103150331....   \n",
       "\n",
       "                                          photo_link  \n",
       "0  https://imgcdn.cna.com.tw/www/WebPhotos/400/20...  \n",
       "1                                                     "
      ]
     },
     "execution_count": 16,
     "metadata": {},
     "output_type": "execute_result"
    }
   ],
   "source": [
    "df.head(2)"
   ]
  },
  {
   "cell_type": "code",
   "execution_count": 17,
   "metadata": {},
   "outputs": [
    {
     "data": {
      "text/plain": [
       "(217, 7)"
      ]
     },
     "execution_count": 17,
     "metadata": {},
     "output_type": "execute_result"
    }
   ],
   "source": [
    "df.shape"
   ]
  },
  {
   "cell_type": "code",
   "execution_count": 21,
   "metadata": {},
   "outputs": [
    {
     "data": {
      "text/plain": [
       "'珍愛藻礁公投連署領銜人潘忠政遭臉書限制帳號部分功能，潘忠政今天表示，他非常支持同志的行動，相關文章其實已不存在，但無法阻止他人以此影射，他也接受臉書的相關機制。潘忠政下午出席立法院社會福利及衛生環境委員會，到桃園市觀音區考察觀塘工業區開發及第三天然氣接收站對大潭藻礁生態系統影響後接受記者聯訪表示，他發現這部分（疑似分享性別歧視言論）其實是維基百科上的內容，相關內容原貼已被刪除，這篇文章其實已不存在。潘忠政指出，有人影射他對同志不友善，其實他一直都非常支持同志的行動，也上街頭一起遊行，不斷告訴周圍的人這個新的價值觀，如果他人要以此影射，自己也沒辦法阻止。潘忠政說，他對於臉書（Facebook）認為這些文字不雅的相關機制也接受，他目前也不需要直播或做廣告，這件事情需要的話可以討論，不必造成社會尖銳的對立。潘忠政的臉書帳號成為已限制帳號，30天內不能直播、也不能發廣告。臉書今天回應，潘忠政因違反社群守則，已限制潘忠政帳號部分功能。'"
      ]
     },
     "execution_count": 21,
     "metadata": {},
     "output_type": "execute_result"
    }
   ],
   "source": [
    "df.content[0]"
   ]
  },
  {
   "cell_type": "code",
   "execution_count": 18,
   "metadata": {},
   "outputs": [],
   "source": [
    "df.to_csv(\"cna_news_200.csv\", sep=\"|\", index=False)"
   ]
  },
  {
   "cell_type": "code",
   "execution_count": null,
   "metadata": {},
   "outputs": [],
   "source": []
  }
 ],
 "metadata": {
  "kernelspec": {
   "display_name": "Python 3.10.2 64-bit",
   "language": "python",
   "name": "python3"
  },
  "language_info": {
   "codemirror_mode": {
    "name": "ipython",
    "version": 3
   },
   "file_extension": ".py",
   "mimetype": "text/x-python",
   "name": "python",
   "nbconvert_exporter": "python",
   "pygments_lexer": "ipython3",
   "version": "3.10.2"
  },
  "toc": {
   "base_numbering": 1,
   "nav_menu": {},
   "number_sections": true,
   "sideBar": true,
   "skip_h1_title": false,
   "title_cell": "Table of Contents",
   "title_sidebar": "Contents",
   "toc_cell": false,
   "toc_position": {},
   "toc_section_display": true,
   "toc_window_display": false
  },
  "vscode": {
   "interpreter": {
    "hash": "df95319d8ce4e1d89f5365ae10992bc1f65da593082b1d264e8f529830ec2f02"
   }
  }
 },
 "nbformat": 4,
 "nbformat_minor": 2
}
