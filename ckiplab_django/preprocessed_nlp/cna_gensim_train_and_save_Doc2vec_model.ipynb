{
 "cells": [
  {
   "cell_type": "markdown",
   "metadata": {},
   "source": [
    "# Gensim-Doc2vec Training"
   ]
  },
  {
   "cell_type": "code",
   "execution_count": 1,
   "metadata": {},
   "outputs": [],
   "source": [
    "import pandas as pd"
   ]
  },
  {
   "cell_type": "code",
   "execution_count": 2,
   "metadata": {},
   "outputs": [],
   "source": [
    "df = pd.read_csv('preprocessed_news_218posts.csv', sep='|')"
   ]
  },
  {
   "cell_type": "code",
   "execution_count": 3,
   "metadata": {},
   "outputs": [
    {
     "data": {
      "text/html": [
       "<div>\n",
       "<style scoped>\n",
       "    .dataframe tbody tr th:only-of-type {\n",
       "        vertical-align: middle;\n",
       "    }\n",
       "\n",
       "    .dataframe tbody tr th {\n",
       "        vertical-align: top;\n",
       "    }\n",
       "\n",
       "    .dataframe thead th {\n",
       "        text-align: right;\n",
       "    }\n",
       "</style>\n",
       "<table border=\"1\" class=\"dataframe\">\n",
       "  <thead>\n",
       "    <tr style=\"text-align: right;\">\n",
       "      <th></th>\n",
       "      <th>item_id</th>\n",
       "      <th>date</th>\n",
       "      <th>title</th>\n",
       "      <th>content</th>\n",
       "      <th>sentiment</th>\n",
       "      <th>summary</th>\n",
       "      <th>top_key_freq</th>\n",
       "      <th>tokens</th>\n",
       "      <th>tokens_rm_stopwords</th>\n",
       "      <th>entities</th>\n",
       "      <th>token_pos</th>\n",
       "      <th>link</th>\n",
       "      <th>photo_link</th>\n",
       "      <th>category</th>\n",
       "    </tr>\n",
       "  </thead>\n",
       "  <tbody>\n",
       "    <tr>\n",
       "      <th>0</th>\n",
       "      <td>aipl_20220929_1</td>\n",
       "      <td>2022-09-29</td>\n",
       "      <td>台灣國際漁業展、智慧農業週開幕 逾15國參展</td>\n",
       "      <td>外交部政次田中光今天出席2022年「台灣國際漁業展」與「台灣智慧農業週」聯合開幕儀式，他表示...</td>\n",
       "      <td>0.68</td>\n",
       "      <td>['外交部政次田中光今天出席2022年「台灣國際漁業展」與「台灣智慧農業週」聯合開幕儀式',...</td>\n",
       "      <td>[('展覽', 8), ('台灣', 6), ('廠商', 6), ('參展', 6), (...</td>\n",
       "      <td>['外交部', '政次', '田中光', '今天', '出席', '2022年', '「',...</td>\n",
       "      <td>['外交部', '政次', '田中光', '出席', '台灣', '國際', '漁業展', ...</td>\n",
       "      <td>{(657, 658, 'GPE', '台'), (143, 146, 'PERSON', ...</td>\n",
       "      <td>[('外交部', 'Nc'), ('政次', 'Na'), ('田中光', 'Nb'), (...</td>\n",
       "      <td>https://www.cna.com.tw/news/aipl/202209290375....</td>\n",
       "      <td>https://imgcdn.cna.com.tw/www/WebPhotos/200/20...</td>\n",
       "      <td>政治</td>\n",
       "    </tr>\n",
       "  </tbody>\n",
       "</table>\n",
       "</div>"
      ],
      "text/plain": [
       "           item_id        date                   title  \\\n",
       "0  aipl_20220929_1  2022-09-29  台灣國際漁業展、智慧農業週開幕 逾15國參展   \n",
       "\n",
       "                                             content  sentiment  \\\n",
       "0  外交部政次田中光今天出席2022年「台灣國際漁業展」與「台灣智慧農業週」聯合開幕儀式，他表示...       0.68   \n",
       "\n",
       "                                             summary  \\\n",
       "0  ['外交部政次田中光今天出席2022年「台灣國際漁業展」與「台灣智慧農業週」聯合開幕儀式',...   \n",
       "\n",
       "                                        top_key_freq  \\\n",
       "0  [('展覽', 8), ('台灣', 6), ('廠商', 6), ('參展', 6), (...   \n",
       "\n",
       "                                              tokens  \\\n",
       "0  ['外交部', '政次', '田中光', '今天', '出席', '2022年', '「',...   \n",
       "\n",
       "                                 tokens_rm_stopwords  \\\n",
       "0  ['外交部', '政次', '田中光', '出席', '台灣', '國際', '漁業展', ...   \n",
       "\n",
       "                                            entities  \\\n",
       "0  {(657, 658, 'GPE', '台'), (143, 146, 'PERSON', ...   \n",
       "\n",
       "                                           token_pos  \\\n",
       "0  [('外交部', 'Nc'), ('政次', 'Na'), ('田中光', 'Nb'), (...   \n",
       "\n",
       "                                                link  \\\n",
       "0  https://www.cna.com.tw/news/aipl/202209290375....   \n",
       "\n",
       "                                          photo_link category  \n",
       "0  https://imgcdn.cna.com.tw/www/WebPhotos/200/20...       政治  "
      ]
     },
     "execution_count": 3,
     "metadata": {},
     "output_type": "execute_result"
    }
   ],
   "source": [
    "df.head(1)"
   ]
  },
  {
   "cell_type": "markdown",
   "metadata": {},
   "source": [
    "# Prepare training data with TaggedDocument format"
   ]
  },
  {
   "cell_type": "code",
   "execution_count": 4,
   "metadata": {},
   "outputs": [],
   "source": [
    "import gensim"
   ]
  },
  {
   "cell_type": "code",
   "execution_count": 5,
   "metadata": {},
   "outputs": [],
   "source": [
    "from gensim.models.doc2vec import Doc2Vec, TaggedDocument"
   ]
  },
  {
   "cell_type": "markdown",
   "metadata": {},
   "source": [
    "## tokens_rm_stopwords and item_id are used to train the word2vec model \n",
    "\n",
    "Using tokens_rm_stopwords is better than tokens, because tokens_rm_stopwords contains only import keywords. The stop words and some unnecessary POS were removed."
   ]
  },
  {
   "cell_type": "code",
   "execution_count": 6,
   "metadata": {},
   "outputs": [
    {
     "data": {
      "text/plain": [
       "\"['外交部', '政次', '田中光', '出席', '台灣', '國際', '漁業展', '台灣', '智慧', '農業', '儀式', '廠商', '參展', '展覽', '規模', '參展', '國家', '國內外', '廠商', '使節', '出席', '展覽', '馬紹爾', '群島', '大使', '艾芮瓊', '聖文森', '格瑞那丁', '大使', '柏安卓', '德經', '辦事處長', '林百科', '馬來西亞', '友誼', '貿易', '中心', '代表', '何瑞萍', '台北', '印尼', '經濟', '貿易', '代表', '貿易', '主任', '蘇迪佑', '匈牙利', '貿易', '辦事處', '商務', '投資', '主任', '戴博斯', '田中光', '台灣', '智慧', '台灣', '國際', '漁業展', '台灣', '漁產', '業界', '國際性', '嘉年華', '展覽', '展覽', '規模', '參展', '國家', '國內外', '廠商', '參展', '廠商', '產學', '機構', '台灣', '漁業', '優質', '產品', '技術', '國際', '展覽', '訂閱', '世界', '電子報', '掌握', '天下', '輸入', '電子', '信箱', '格式', '訂閱', '訂閱', '田中光', '國家', '廠商', '參展', '吐瓦魯國', '大使館', '巴布亞', '紐幾內亞', '商務', '代表', '聖文森', '格瑞那丁', '大使館', '史瓦帝尼', '王國', '大使館', '匈牙利', '貿易', '辦事處', '參展', '攤位', '國際', '廠商', '外交團', '展覽', '國際性', '異國', '風采', '田中光', '世界', '經濟', 'COVID-19', '疫情', '衝擊', '實體', '展覽', '台灣版', '漁業', '經貿', '泡泡', '經營', '展覽', '規模', '田中光韓', '代表', '半導體業', '獲益', '印尼', '舉辦', '酒會', '代表', '經貿', '關係']\""
      ]
     },
     "execution_count": 6,
     "metadata": {},
     "output_type": "execute_result"
    }
   ],
   "source": [
    "df.tokens_rm_stopwords[0]"
   ]
  },
  {
   "cell_type": "code",
   "execution_count": 7,
   "metadata": {},
   "outputs": [
    {
     "data": {
      "text/plain": [
       "0      ['外交部', '政次', '田中光', '出席', '台灣', '國際', '漁業展', ...\n",
       "1      ['兩岸', '局勢', '美國', '國務卿', '蓬佩奧', '接受', '媒體', '...\n",
       "2      ['民進黨', '新北市長', '參選人', '林佳龍', '立委', '余天合體', '造...\n",
       "3      ['韓國', '代表', '鄭炳元', '韓國', '酒會', '致詞', '產業', '互...\n",
       "4      ['中央社', '記者', '郭建伸', '王承中', '台北', '台南', '殺警案',...\n",
       "                             ...                        \n",
       "213    ['香港', '立法會', '議員', '許智峯', '保釋', '期間', '逃亡', '...\n",
       "214    ['亞洲', '放寬', '邊境', '中國', '推動', '清零', '方針', '山西...\n",
       "215    ['出席', '日相', '安倍', '國葬', '中國', '政協', '副主席', '萬...\n",
       "216    ['中國', '本土', 'COVID-19', '病例', '北京', '陽性', '人員...\n",
       "217    ['中國', '大陸', '國台辦', '批評', '美國', '國務卿', '蓬佩奧', ...\n",
       "Name: tokens_rm_stopwords, Length: 218, dtype: object"
      ]
     },
     "execution_count": 7,
     "metadata": {},
     "output_type": "execute_result"
    }
   ],
   "source": [
    "df.tokens_rm_stopwords"
   ]
  },
  {
   "cell_type": "code",
   "execution_count": 8,
   "metadata": {},
   "outputs": [
    {
     "data": {
      "text/plain": [
       "218"
      ]
     },
     "execution_count": 8,
     "metadata": {},
     "output_type": "execute_result"
    }
   ],
   "source": [
    "len(df)"
   ]
  },
  {
   "cell_type": "markdown",
   "metadata": {},
   "source": [
    "## Prepare training data with TaggedDocument format"
   ]
  },
  {
   "cell_type": "raw",
   "metadata": {},
   "source": [
    "We need to define the following two things:\n",
    "\n",
    "(1) words of a document: tokens_v2   \n",
    "\n",
    "(2) tag name of a document: item_id\n",
    "\n",
    "Each TaggedDocument is as the following:\n",
    "\n",
    "TaggedDocument(words=['Desperate', 'scenes', 'north', 'country', 'hard-hit', 'Lombardy', 'region', 'infections', 'last', 'month', 'hospitals', 'thousands', 'cases', 'Chinese', 'medical', 'experts', 'Italy', 'deal', 'crisis', 'restrictions', 'Lombardy', 'strict', ..., 'assessor', 'Alessio', \"D'Amato\", 'Friday'], tags=['cnn_world_20200320_1'])"
   ]
  },
  {
   "cell_type": "raw",
   "metadata": {},
   "source": [
    "Notice that we must use tags with string format, or we cannot query by using item_id (tag) from the word2vec model.\n",
    "We must use the item_id (string format) as the document tag. A string document tag is equivalent of a vocaburay object in the word2vec model. "
   ]
  },
  {
   "cell_type": "code",
   "execution_count": 9,
   "metadata": {},
   "outputs": [],
   "source": [
    "# Prepare the tagged document \n",
    "from gensim.models.doc2vec import TaggedDocument\n",
    "documents = []\n",
    "for i in range( len(df) ):\n",
    "    tokens = df.iloc[i].tokens_rm_stopwords\n",
    "    words = eval( tokens ) # convert the format of tokens from string to list\n",
    "    item_id = df.iloc[i].item_id # item_id is with string format\n",
    "    tag_id = [item_id] # the tag_id should be placed in a list\n",
    "    documents.append(TaggedDocument(words, tag_id))"
   ]
  },
  {
   "cell_type": "code",
   "execution_count": 10,
   "metadata": {},
   "outputs": [
    {
     "data": {
      "text/plain": [
       "TaggedDocument(words=['外交部', '政次', '田中光', '出席', '台灣', '國際', '漁業展', '台灣', '智慧', '農業', '儀式', '廠商', '參展', '展覽', '規模', '參展', '國家', '國內外', '廠商', '使節', '出席', '展覽', '馬紹爾', '群島', '大使', '艾芮瓊', '聖文森', '格瑞那丁', '大使', '柏安卓', '德經', '辦事處長', '林百科', '馬來西亞', '友誼', '貿易', '中心', '代表', '何瑞萍', '台北', '印尼', '經濟', '貿易', '代表', '貿易', '主任', '蘇迪佑', '匈牙利', '貿易', '辦事處', '商務', '投資', '主任', '戴博斯', '田中光', '台灣', '智慧', '台灣', '國際', '漁業展', '台灣', '漁產', '業界', '國際性', '嘉年華', '展覽', '展覽', '規模', '參展', '國家', '國內外', '廠商', '參展', '廠商', '產學', '機構', '台灣', '漁業', '優質', '產品', '技術', '國際', '展覽', '訂閱', '世界', '電子報', '掌握', '天下', '輸入', '電子', '信箱', '格式', '訂閱', '訂閱', '田中光', '國家', '廠商', '參展', '吐瓦魯國', '大使館', '巴布亞', '紐幾內亞', '商務', '代表', '聖文森', '格瑞那丁', '大使館', '史瓦帝尼', '王國', '大使館', '匈牙利', '貿易', '辦事處', '參展', '攤位', '國際', '廠商', '外交團', '展覽', '國際性', '異國', '風采', '田中光', '世界', '經濟', 'COVID-19', '疫情', '衝擊', '實體', '展覽', '台灣版', '漁業', '經貿', '泡泡', '經營', '展覽', '規模', '田中光韓', '代表', '半導體業', '獲益', '印尼', '舉辦', '酒會', '代表', '經貿', '關係'], tags=['aipl_20220929_1'])"
      ]
     },
     "execution_count": 10,
     "metadata": {},
     "output_type": "execute_result"
    }
   ],
   "source": [
    "documents[0]"
   ]
  },
  {
   "cell_type": "markdown",
   "metadata": {},
   "source": [
    "## Train the doc2vec model"
   ]
  },
  {
   "cell_type": "code",
   "execution_count": 11,
   "metadata": {},
   "outputs": [],
   "source": [
    "from gensim.models.doc2vec import Doc2Vec"
   ]
  },
  {
   "cell_type": "code",
   "execution_count": 12,
   "metadata": {},
   "outputs": [
    {
     "name": "stdout",
     "output_type": "stream",
     "text": [
      "CPU times: total: 1.41 s\n",
      "Wall time: 723 ms\n"
     ]
    }
   ],
   "source": [
    "%%time\n",
    "# Train model\n",
    "# epochs = 5 \n",
    "model = Doc2Vec(documents, vector_size = 100, window = 5, min_count = 1, workers = 4, epochs = 20 )"
   ]
  },
  {
   "cell_type": "raw",
   "metadata": {},
   "source": [
    "Some important parameters:\n",
    "\n",
    "class gensim.models.doc2vec.Doc2Vec(documents=None, size=300, alpha=0.025, window=8, min_count=5, max_vocab_size=None, sample=0, seed=1, workers=1, min_alpha=0.0001, dm=1, hs=1, negative=0, dbow_words=0, dm_mean=0, dm_concat=0, dm_tag_count=1, docvecs=None, docvecs_mapfile=None, comment=None, trim_rule=None, **kwargs)\n",
    "\n",
    "\n",
    "iter?\n",
    "------------------------------------\n",
    "iter = 10 is better than iter=5 ?\n",
    "\n",
    "A better training strategy:\n",
    "for epoch in range(10):\n",
    "    model.train(sentences)\n",
    "    model.alpha -= 0.002  # decrease the learning rate\n",
    "    model.min_alpha = model.alpha  # fix the learning rate, no decay"
   ]
  },
  {
   "cell_type": "markdown",
   "metadata": {},
   "source": [
    "# Save model"
   ]
  },
  {
   "cell_type": "raw",
   "metadata": {},
   "source": [
    "# The number of mdoel file will be one or there, depending on the size of model.\n",
    "\n",
    "Models with larger internal vector-arrays can't be saved via Python 'pickle' to a single file, so beyond a certain threshold, the gensim save() method will store subsidiary arrays in separate files, using the more-efficient raw format of numpy arrays (.npy format).\n"
   ]
  },
  {
   "cell_type": "code",
   "execution_count": 13,
   "metadata": {},
   "outputs": [],
   "source": [
    "model.save(\"cna_news_doc2vec.model\")\n",
    "\n"
   ]
  },
  {
   "cell_type": "raw",
   "metadata": {},
   "source": [
    "# Sometimes, you will save the model with the word2vec_format. With the model of word2vec_format, some functions cannot be used, such as  .infer_vector(). This function is very important to us.\n",
    "\n",
    "# Save to word2vec_format model:\n",
    "model.save_word2vec_format(\"my_trained_d2v/simple_w2v_format\")\n",
    "\n",
    "# Load the model\n",
    "model3 = Doc2Vec.load_word2vec_format(\"my_trained_d2v/simple_w2v_format\")"
   ]
  }
 ],
 "metadata": {
  "kernelspec": {
   "display_name": "Python 3.10.2 64-bit",
   "language": "python",
   "name": "python3"
  },
  "language_info": {
   "codemirror_mode": {
    "name": "ipython",
    "version": 3
   },
   "file_extension": ".py",
   "mimetype": "text/x-python",
   "name": "python",
   "nbconvert_exporter": "python",
   "pygments_lexer": "ipython3",
   "version": "3.10.2"
  },
  "toc": {
   "base_numbering": 1,
   "nav_menu": {},
   "number_sections": true,
   "sideBar": true,
   "skip_h1_title": false,
   "title_cell": "Table of Contents",
   "title_sidebar": "Contents",
   "toc_cell": false,
   "toc_position": {},
   "toc_section_display": true,
   "toc_window_display": false
  },
  "vscode": {
   "interpreter": {
    "hash": "df95319d8ce4e1d89f5365ae10992bc1f65da593082b1d264e8f529830ec2f02"
   }
  }
 },
 "nbformat": 4,
 "nbformat_minor": 4
}
