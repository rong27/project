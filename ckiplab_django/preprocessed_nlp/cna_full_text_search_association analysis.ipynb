{
 "cells": [
  {
   "cell_type": "markdown",
   "metadata": {},
   "source": [
    "# Full text search and keyword association analysis\n",
    "\n",
    "全文檢索與關聯分析"
   ]
  },
  {
   "cell_type": "markdown",
   "metadata": {},
   "source": [
    "# Load preprocessed news dataset"
   ]
  },
  {
   "cell_type": "code",
   "execution_count": 1,
   "metadata": {},
   "outputs": [],
   "source": [
    "import pandas as pd"
   ]
  },
  {
   "cell_type": "code",
   "execution_count": 2,
   "metadata": {},
   "outputs": [],
   "source": [
    "df = pd.read_csv('preprocessed_news_218posts.csv',sep='|')"
   ]
  },
  {
   "cell_type": "code",
   "execution_count": 3,
   "metadata": {},
   "outputs": [
    {
     "data": {
      "text/html": [
       "<div>\n",
       "<style scoped>\n",
       "    .dataframe tbody tr th:only-of-type {\n",
       "        vertical-align: middle;\n",
       "    }\n",
       "\n",
       "    .dataframe tbody tr th {\n",
       "        vertical-align: top;\n",
       "    }\n",
       "\n",
       "    .dataframe thead th {\n",
       "        text-align: right;\n",
       "    }\n",
       "</style>\n",
       "<table border=\"1\" class=\"dataframe\">\n",
       "  <thead>\n",
       "    <tr style=\"text-align: right;\">\n",
       "      <th></th>\n",
       "      <th>item_id</th>\n",
       "      <th>date</th>\n",
       "      <th>title</th>\n",
       "      <th>content</th>\n",
       "      <th>sentiment</th>\n",
       "      <th>summary</th>\n",
       "      <th>top_key_freq</th>\n",
       "      <th>tokens</th>\n",
       "      <th>tokens_rm_stopwords</th>\n",
       "      <th>entities</th>\n",
       "      <th>token_pos</th>\n",
       "      <th>link</th>\n",
       "      <th>photo_link</th>\n",
       "      <th>category</th>\n",
       "    </tr>\n",
       "  </thead>\n",
       "  <tbody>\n",
       "    <tr>\n",
       "      <th>0</th>\n",
       "      <td>aipl_20220929_1</td>\n",
       "      <td>2022-09-29</td>\n",
       "      <td>台灣國際漁業展、智慧農業週開幕 逾15國參展</td>\n",
       "      <td>外交部政次田中光今天出席2022年「台灣國際漁業展」與「台灣智慧農業週」聯合開幕儀式，他表示...</td>\n",
       "      <td>0.68</td>\n",
       "      <td>['外交部政次田中光今天出席2022年「台灣國際漁業展」與「台灣智慧農業週」聯合開幕儀式',...</td>\n",
       "      <td>[('展覽', 8), ('台灣', 6), ('廠商', 6), ('參展', 6), (...</td>\n",
       "      <td>['外交部', '政次', '田中光', '今天', '出席', '2022年', '「',...</td>\n",
       "      <td>['外交部', '政次', '田中光', '出席', '台灣', '國際', '漁業展', ...</td>\n",
       "      <td>{(657, 658, 'GPE', '台'), (143, 146, 'PERSON', ...</td>\n",
       "      <td>[('外交部', 'Nc'), ('政次', 'Na'), ('田中光', 'Nb'), (...</td>\n",
       "      <td>https://www.cna.com.tw/news/aipl/202209290375....</td>\n",
       "      <td>https://imgcdn.cna.com.tw/www/WebPhotos/200/20...</td>\n",
       "      <td>政治</td>\n",
       "    </tr>\n",
       "  </tbody>\n",
       "</table>\n",
       "</div>"
      ],
      "text/plain": [
       "           item_id        date                   title  \\\n",
       "0  aipl_20220929_1  2022-09-29  台灣國際漁業展、智慧農業週開幕 逾15國參展   \n",
       "\n",
       "                                             content  sentiment  \\\n",
       "0  外交部政次田中光今天出席2022年「台灣國際漁業展」與「台灣智慧農業週」聯合開幕儀式，他表示...       0.68   \n",
       "\n",
       "                                             summary  \\\n",
       "0  ['外交部政次田中光今天出席2022年「台灣國際漁業展」與「台灣智慧農業週」聯合開幕儀式',...   \n",
       "\n",
       "                                        top_key_freq  \\\n",
       "0  [('展覽', 8), ('台灣', 6), ('廠商', 6), ('參展', 6), (...   \n",
       "\n",
       "                                              tokens  \\\n",
       "0  ['外交部', '政次', '田中光', '今天', '出席', '2022年', '「',...   \n",
       "\n",
       "                                 tokens_rm_stopwords  \\\n",
       "0  ['外交部', '政次', '田中光', '出席', '台灣', '國際', '漁業展', ...   \n",
       "\n",
       "                                            entities  \\\n",
       "0  {(657, 658, 'GPE', '台'), (143, 146, 'PERSON', ...   \n",
       "\n",
       "                                           token_pos  \\\n",
       "0  [('外交部', 'Nc'), ('政次', 'Na'), ('田中光', 'Nb'), (...   \n",
       "\n",
       "                                                link  \\\n",
       "0  https://www.cna.com.tw/news/aipl/202209290375....   \n",
       "\n",
       "                                          photo_link category  \n",
       "0  https://imgcdn.cna.com.tw/www/WebPhotos/200/20...       政治  "
      ]
     },
     "execution_count": 3,
     "metadata": {},
     "output_type": "execute_result"
    }
   ],
   "source": [
    "df.head(1)"
   ]
  },
  {
   "cell_type": "markdown",
   "metadata": {},
   "source": [
    "# Filter data by searching keywords from \"content\" column (全文檢索)"
   ]
  },
  {
   "cell_type": "code",
   "execution_count": 4,
   "metadata": {},
   "outputs": [],
   "source": [
    "queryKey = '智慧農業'\n",
    "df_query = df[df['content'].str.contains(queryKey)]"
   ]
  },
  {
   "cell_type": "code",
   "execution_count": 5,
   "metadata": {
    "scrolled": true
   },
   "outputs": [
    {
     "data": {
      "text/plain": [
       "(2, 14)"
      ]
     },
     "execution_count": 5,
     "metadata": {},
     "output_type": "execute_result"
    }
   ],
   "source": [
    "df_query.shape"
   ]
  },
  {
   "cell_type": "markdown",
   "metadata": {},
   "source": [
    "# Filter data using the following function"
   ]
  },
  {
   "cell_type": "code",
   "execution_count": 8,
   "metadata": {},
   "outputs": [],
   "source": [
    "from datetime import datetime, timedelta"
   ]
  },
  {
   "cell_type": "code",
   "execution_count": 9,
   "metadata": {},
   "outputs": [],
   "source": [
    "# This function filter data by searching keywords from \"content\" column. We have already used it in the previous App.\n",
    "def filter_dataFrame_fullText(user_keywords, cond, cate,weeks):\n",
    "\n",
    "    # end date: the date of the latest record of news\n",
    "    end_date = df.date.max()\n",
    "    \n",
    "    # start date\n",
    "    start_date = (datetime.strptime(end_date, '%Y-%m-%d').date() - timedelta(weeks=weeks)).strftime('%Y-%m-%d')\n",
    "\n",
    "    # proceed filtering\n",
    "    if (cate == \"全部\") & (cond == 'and'):\n",
    "        df_query = df[(df.date >= start_date) & (df.date <= end_date) & df.content.apply(\n",
    "            lambda row: all((qk in row) for qk in user_keywords))]\n",
    "    elif (cate == \"全部\") & (cond == 'or'):\n",
    "        queryKey = '|'.join(user_keywords)\n",
    "        df_query = df[(df['date'] >= start_date) & (df['date'] <= end_date) & df.content.str.contains(queryKey)]\n",
    "    elif (cond == 'and'):\n",
    "        df_query = df[(df.category == cate) & (df.date >= start_date) & (df.date <= end_date) & df.content.apply(\n",
    "            lambda row: all((qk in row) for qk in user_keywords))]\n",
    "    elif (cond == 'or'):\n",
    "        queryKey = '|'.join(user_keywords)\n",
    "        df_query = df[(df.category == cate) & (df['date'] >= start_date) & (df['date'] <= end_date) & df[\n",
    "            'content'].str.contains(queryKey)]\n",
    "\n",
    "    return df_query"
   ]
  },
  {
   "cell_type": "code",
   "execution_count": 10,
   "metadata": {},
   "outputs": [],
   "source": [
    "key = ['農業']\n",
    "cond = 'and'\n",
    "cate = '全部'\n",
    "weeks = 2"
   ]
  },
  {
   "cell_type": "code",
   "execution_count": 11,
   "metadata": {},
   "outputs": [],
   "source": [
    "df_query = filter_dataFrame_fullText(key, cond, cate,weeks)"
   ]
  },
  {
   "cell_type": "code",
   "execution_count": 12,
   "metadata": {},
   "outputs": [
    {
     "data": {
      "text/plain": [
       "(3, 14)"
      ]
     },
     "execution_count": 12,
     "metadata": {},
     "output_type": "execute_result"
    }
   ],
   "source": [
    "df_query.shape"
   ]
  },
  {
   "cell_type": "markdown",
   "metadata": {
    "toc-hr-collapsed": true
   },
   "source": [
    "# Get news title, category, and link"
   ]
  },
  {
   "cell_type": "code",
   "execution_count": 13,
   "metadata": {},
   "outputs": [],
   "source": [
    "key = ['智慧','農業']\n",
    "cond = 'and'\n",
    "cate = '全部'\n",
    "weeks = 2\n",
    "df_query = filter_dataFrame_fullText(queryKey, cond, cate, weeks)"
   ]
  },
  {
   "cell_type": "code",
   "execution_count": 15,
   "metadata": {},
   "outputs": [
    {
     "data": {
      "text/plain": [
       "2"
      ]
     },
     "execution_count": 15,
     "metadata": {},
     "output_type": "execute_result"
    }
   ],
   "source": [
    "len(df_query)"
   ]
  },
  {
   "cell_type": "code",
   "execution_count": 18,
   "metadata": {},
   "outputs": [
    {
     "name": "stdout",
     "output_type": "stream",
     "text": [
      "0\n",
      "政治\n",
      "台灣國際漁業展、智慧農業週開幕 逾15國參展\n",
      "https://www.cna.com.tw/news/aipl/202209290375.aspx\n",
      "https://imgcdn.cna.com.tw/www/WebPhotos/200/20220929/1024x768_20220929000213.jpg\n",
      "1\n",
      "政治\n",
      "韓駐台代表：台韓半導體業緊密相連使彼此獲益\n",
      "https://www.cna.com.tw/news/aipl/202209290365.aspx\n",
      "https://imgcdn.cna.com.tw/www/WebPhotos/200/20220929/977x768_20220929000216.jpg\n"
     ]
    }
   ],
   "source": [
    "for i in range(len(df_query)):   \n",
    "    print(i)\n",
    "    print(df_query.iloc[i]['category'])\n",
    "    print(df_query.iloc[i]['title'])\n",
    "    print(df_query.iloc[i].link)\n",
    "    print(df_query.iloc[i].photo_link)"
   ]
  },
  {
   "cell_type": "code",
   "execution_count": 19,
   "metadata": {},
   "outputs": [
    {
     "data": {
      "text/plain": [
       "'https://imgcdn.cna.com.tw/www/WebPhotos/200/20220929/1024x768_20220929000213.jpg'"
      ]
     },
     "execution_count": 19,
     "metadata": {},
     "output_type": "execute_result"
    }
   ],
   "source": [
    "df_query.iloc[0]['photo_link']"
   ]
  },
  {
   "cell_type": "markdown",
   "metadata": {},
   "source": [
    "## If the photo_link value is 'nan', it will be a problem when converted to json format on Django!"
   ]
  },
  {
   "cell_type": "raw",
   "metadata": {},
   "source": [
    "NaN cannot be represented in a JSON string. "
   ]
  },
  {
   "cell_type": "markdown",
   "metadata": {},
   "source": [
    "### Approach 1: test the photo_link is NaN or not and replace it with empty string"
   ]
  },
  {
   "cell_type": "raw",
   "metadata": {},
   "source": [
    "Here are three ways where you can test a variable is \"NaN\" or not."
   ]
  },
  {
   "cell_type": "code",
   "execution_count": 21,
   "metadata": {},
   "outputs": [
    {
     "name": "stdout",
     "output_type": "stream",
     "text": [
      "It's pd.isna  : True\n",
      "It's np.isnan  : True\n",
      "It's math.isnan : True\n"
     ]
    }
   ],
   "source": [
    "import pandas as pd\n",
    "import numpy as np\n",
    "import math\n",
    "\n",
    "# we can use pandas, numpy or math to check if photo_link is NaN\n",
    "x = float(\"nan\")\n",
    "\n",
    "print(f\"It's pd.isna  : {pd.isna(x)}\")\n",
    "print(f\"It's np.isnan  : {np.isnan(x)}\")\n",
    "print(f\"It's math.isnan : {math.isnan(x)}\")"
   ]
  },
  {
   "cell_type": "code",
   "execution_count": 22,
   "metadata": {},
   "outputs": [
    {
     "data": {
      "text/plain": [
       "'https://imgcdn.cna.com.tw/www/WebPhotos/200/20220929/1024x768_20220929000213.jpg'"
      ]
     },
     "execution_count": 22,
     "metadata": {},
     "output_type": "execute_result"
    }
   ],
   "source": [
    "df_query.iloc[0]['photo_link']"
   ]
  },
  {
   "cell_type": "code",
   "execution_count": 23,
   "metadata": {},
   "outputs": [],
   "source": [
    "photo_link = df_query.iloc[0]['photo_link']\n",
    "# if photo_link value is NaN, replace it with empty string \n",
    "if pd.isna(photo_link):\n",
    "    photo_link=''"
   ]
  },
  {
   "cell_type": "code",
   "execution_count": 24,
   "metadata": {},
   "outputs": [
    {
     "data": {
      "text/plain": [
       "'https://imgcdn.cna.com.tw/www/WebPhotos/200/20220929/1024x768_20220929000213.jpg'"
      ]
     },
     "execution_count": 24,
     "metadata": {},
     "output_type": "execute_result"
    }
   ],
   "source": [
    "photo_link"
   ]
  },
  {
   "cell_type": "markdown",
   "metadata": {},
   "source": [
    "### Approach 2: Replace nan with None"
   ]
  },
  {
   "cell_type": "markdown",
   "metadata": {},
   "source": [
    "## All-in-one function to return title, link, and category"
   ]
  },
  {
   "cell_type": "code",
   "execution_count": 25,
   "metadata": {},
   "outputs": [],
   "source": [
    "key = ['智慧','農業']\n",
    "cond = 'and'\n",
    "cate = '全部'\n",
    "weeks = 2\n",
    "df_query = filter_dataFrame_fullText(queryKey, cond, cate, weeks)"
   ]
  },
  {
   "cell_type": "code",
   "execution_count": 26,
   "metadata": {},
   "outputs": [],
   "source": [
    "\n",
    "# get titles and links from k pieces of news \n",
    "def get_title_link_topk(df_query, k = 25):\n",
    "    items = []\n",
    "    for i in range( len(df_query[0:k]) ): # show only 10 news\n",
    "        category = df_query.iloc[i]['category']\n",
    "        title = df_query.iloc[i]['title']\n",
    "        link = df_query.iloc[i]['link']\n",
    "        photo_link = df_query.iloc[i]['photo_link']\n",
    "\n",
    "        # if photo_link value is NaN, replace it with empty string \n",
    "        if pd.isna(photo_link):\n",
    "            photo_link=''\n",
    "        \n",
    "        item_info = {\n",
    "            'category': category, \n",
    "            'title': title, \n",
    "            'link': link, \n",
    "            'photo_link': photo_link\n",
    "        }\n",
    "\n",
    "        items.append(item_info)\n",
    "    return items \n"
   ]
  },
  {
   "cell_type": "code",
   "execution_count": 27,
   "metadata": {},
   "outputs": [
    {
     "data": {
      "text/plain": [
       "[{'category': '政治',\n",
       "  'title': '台灣國際漁業展、智慧農業週開幕 逾15國參展',\n",
       "  'link': 'https://www.cna.com.tw/news/aipl/202209290375.aspx',\n",
       "  'photo_link': 'https://imgcdn.cna.com.tw/www/WebPhotos/200/20220929/1024x768_20220929000213.jpg'},\n",
       " {'category': '政治',\n",
       "  'title': '韓駐台代表：台韓半導體業緊密相連使彼此獲益',\n",
       "  'link': 'https://www.cna.com.tw/news/aipl/202209290365.aspx',\n",
       "  'photo_link': 'https://imgcdn.cna.com.tw/www/WebPhotos/200/20220929/977x768_20220929000216.jpg'}]"
      ]
     },
     "execution_count": 27,
     "metadata": {},
     "output_type": "execute_result"
    }
   ],
   "source": [
    "get_title_link_topk(df_query, 5)"
   ]
  },
  {
   "cell_type": "markdown",
   "metadata": {
    "toc-hr-collapsed": true
   },
   "source": [
    "# Find words relating to the keywords"
   ]
  },
  {
   "cell_type": "markdown",
   "metadata": {},
   "source": [
    "## Find related words from the top_key_freq column\n",
    "\n",
    "相關詞有哪一些? 找出各篇文章的topk關鍵詞?"
   ]
  },
  {
   "cell_type": "code",
   "execution_count": 28,
   "metadata": {
    "scrolled": true
   },
   "outputs": [
    {
     "data": {
      "text/plain": [
       "0    [('展覽', 8), ('台灣', 6), ('廠商', 6), ('參展', 6), (...\n",
       "3    [('韓國', 11), ('台灣', 8), ('鄭炳元', 7), ('產業', 5),...\n",
       "Name: top_key_freq, dtype: object"
      ]
     },
     "execution_count": 28,
     "metadata": {},
     "output_type": "execute_result"
    }
   ],
   "source": [
    "df_query.top_key_freq"
   ]
  },
  {
   "cell_type": "markdown",
   "metadata": {},
   "source": [
    "### From the word_freq pairs, we sum frequency for each word"
   ]
  },
  {
   "cell_type": "code",
   "execution_count": 27,
   "metadata": {},
   "outputs": [],
   "source": [
    "# What is this line?\n",
    "# if w in all_pairs:"
   ]
  },
  {
   "cell_type": "code",
   "execution_count": 31,
   "metadata": {},
   "outputs": [
    {
     "data": {
      "text/plain": [
       "\"[('展覽', 8), ('台灣', 6), ('廠商', 6), ('參展', 6), ('貿易', 5), ('代表', 5), ('田中光', 4), ('國際', 4), ('規模', 3), ('國家', 3), ('訂閱', 3), ('大使館', 3), ('出席', 2), ('漁業展', 2), ('智慧', 2), ('國內外', 2), ('大使', 2), ('聖文森', 2), ('格瑞那丁', 2), ('印尼', 2), ('經濟', 2), ('主任', 2), ('匈牙利', 2), ('辦事處', 2), ('商務', 2), ('國際性', 2), ('漁業', 2), ('世界', 2), ('經貿', 2), ('外交部', 1), ('政次', 1), ('農業', 1), ('儀式', 1), ('使節', 1), ('馬紹爾', 1), ('群島', 1), ('艾芮瓊', 1), ('柏安卓', 1), ('德經', 1), ('辦事處長', 1), ('林百科', 1), ('馬來西亞', 1), ('友誼', 1), ('中心', 1), ('何瑞萍', 1), ('台北', 1), ('蘇迪佑', 1), ('投資', 1), ('戴博斯', 1), ('漁產', 1), ('業界', 1), ('嘉年華', 1), ('產學', 1), ('機構', 1), ('產品', 1), ('技術', 1), ('電子報', 1), ('掌握', 1), ('天下', 1), ('輸入', 1), ('電子', 1), ('信箱', 1), ('格式', 1), ('吐瓦魯國', 1), ('巴布亞', 1), ('紐幾內亞', 1), ('史瓦帝尼', 1), ('王國', 1), ('攤位', 1), ('外交團', 1), ('異國', 1), ('風采', 1), ('COVID-19', 1), ('疫情', 1), ('衝擊', 1), ('實體', 1), ('台灣版', 1), ('泡泡', 1), ('經營', 1), ('田中光韓', 1), ('半導體業', 1), ('獲益', 1), ('舉辦', 1), ('酒會', 1), ('關係', 1)]\""
      ]
     },
     "execution_count": 31,
     "metadata": {},
     "output_type": "execute_result"
    }
   ],
   "source": [
    "df_query.iloc[0].top_key_freq"
   ]
  },
  {
   "cell_type": "code",
   "execution_count": 32,
   "metadata": {},
   "outputs": [
    {
     "data": {
      "text/plain": [
       "[('展覽', 8),\n",
       " ('台灣', 6),\n",
       " ('廠商', 6),\n",
       " ('參展', 6),\n",
       " ('貿易', 5),\n",
       " ('代表', 5),\n",
       " ('田中光', 4),\n",
       " ('國際', 4),\n",
       " ('規模', 3),\n",
       " ('國家', 3),\n",
       " ('訂閱', 3),\n",
       " ('大使館', 3),\n",
       " ('出席', 2),\n",
       " ('漁業展', 2),\n",
       " ('智慧', 2),\n",
       " ('國內外', 2),\n",
       " ('大使', 2),\n",
       " ('聖文森', 2),\n",
       " ('格瑞那丁', 2),\n",
       " ('印尼', 2),\n",
       " ('經濟', 2),\n",
       " ('主任', 2),\n",
       " ('匈牙利', 2),\n",
       " ('辦事處', 2),\n",
       " ('商務', 2),\n",
       " ('國際性', 2),\n",
       " ('漁業', 2),\n",
       " ('世界', 2),\n",
       " ('經貿', 2),\n",
       " ('外交部', 1),\n",
       " ('政次', 1),\n",
       " ('農業', 1),\n",
       " ('儀式', 1),\n",
       " ('使節', 1),\n",
       " ('馬紹爾', 1),\n",
       " ('群島', 1),\n",
       " ('艾芮瓊', 1),\n",
       " ('柏安卓', 1),\n",
       " ('德經', 1),\n",
       " ('辦事處長', 1),\n",
       " ('林百科', 1),\n",
       " ('馬來西亞', 1),\n",
       " ('友誼', 1),\n",
       " ('中心', 1),\n",
       " ('何瑞萍', 1),\n",
       " ('台北', 1),\n",
       " ('蘇迪佑', 1),\n",
       " ('投資', 1),\n",
       " ('戴博斯', 1),\n",
       " ('漁產', 1),\n",
       " ('業界', 1),\n",
       " ('嘉年華', 1),\n",
       " ('產學', 1),\n",
       " ('機構', 1),\n",
       " ('產品', 1),\n",
       " ('技術', 1),\n",
       " ('電子報', 1),\n",
       " ('掌握', 1),\n",
       " ('天下', 1),\n",
       " ('輸入', 1),\n",
       " ('電子', 1),\n",
       " ('信箱', 1),\n",
       " ('格式', 1),\n",
       " ('吐瓦魯國', 1),\n",
       " ('巴布亞', 1),\n",
       " ('紐幾內亞', 1),\n",
       " ('史瓦帝尼', 1),\n",
       " ('王國', 1),\n",
       " ('攤位', 1),\n",
       " ('外交團', 1),\n",
       " ('異國', 1),\n",
       " ('風采', 1),\n",
       " ('COVID-19', 1),\n",
       " ('疫情', 1),\n",
       " ('衝擊', 1),\n",
       " ('實體', 1),\n",
       " ('台灣版', 1),\n",
       " ('泡泡', 1),\n",
       " ('經營', 1),\n",
       " ('田中光韓', 1),\n",
       " ('半導體業', 1),\n",
       " ('獲益', 1),\n",
       " ('舉辦', 1),\n",
       " ('酒會', 1),\n",
       " ('關係', 1)]"
      ]
     },
     "execution_count": 32,
     "metadata": {},
     "output_type": "execute_result"
    }
   ],
   "source": [
    "eval(df_query.iloc[0].top_key_freq)"
   ]
  },
  {
   "cell_type": "code",
   "execution_count": 33,
   "metadata": {},
   "outputs": [],
   "source": [
    "all_pairs = {}"
   ]
  },
  {
   "cell_type": "code",
   "execution_count": 34,
   "metadata": {},
   "outputs": [
    {
     "data": {
      "text/plain": [
       "{}"
      ]
     },
     "execution_count": 34,
     "metadata": {},
     "output_type": "execute_result"
    }
   ],
   "source": [
    "all_pairs"
   ]
  },
  {
   "cell_type": "code",
   "execution_count": 35,
   "metadata": {},
   "outputs": [],
   "source": [
    "# Process the first piece of news\n",
    "row = df_query.iloc[0].top_key_freq\n",
    "pairs = eval(row)\n",
    "for pair in pairs:\n",
    "    w,f = pair\n",
    "    if w in all_pairs:\n",
    "        all_pairs[w]+= f\n",
    "    else:\n",
    "        all_pairs[w] = f"
   ]
  },
  {
   "cell_type": "code",
   "execution_count": 36,
   "metadata": {},
   "outputs": [
    {
     "data": {
      "text/plain": [
       "{'展覽': 8,\n",
       " '台灣': 6,\n",
       " '廠商': 6,\n",
       " '參展': 6,\n",
       " '貿易': 5,\n",
       " '代表': 5,\n",
       " '田中光': 4,\n",
       " '國際': 4,\n",
       " '規模': 3,\n",
       " '國家': 3,\n",
       " '訂閱': 3,\n",
       " '大使館': 3,\n",
       " '出席': 2,\n",
       " '漁業展': 2,\n",
       " '智慧': 2,\n",
       " '國內外': 2,\n",
       " '大使': 2,\n",
       " '聖文森': 2,\n",
       " '格瑞那丁': 2,\n",
       " '印尼': 2,\n",
       " '經濟': 2,\n",
       " '主任': 2,\n",
       " '匈牙利': 2,\n",
       " '辦事處': 2,\n",
       " '商務': 2,\n",
       " '國際性': 2,\n",
       " '漁業': 2,\n",
       " '世界': 2,\n",
       " '經貿': 2,\n",
       " '外交部': 1,\n",
       " '政次': 1,\n",
       " '農業': 1,\n",
       " '儀式': 1,\n",
       " '使節': 1,\n",
       " '馬紹爾': 1,\n",
       " '群島': 1,\n",
       " '艾芮瓊': 1,\n",
       " '柏安卓': 1,\n",
       " '德經': 1,\n",
       " '辦事處長': 1,\n",
       " '林百科': 1,\n",
       " '馬來西亞': 1,\n",
       " '友誼': 1,\n",
       " '中心': 1,\n",
       " '何瑞萍': 1,\n",
       " '台北': 1,\n",
       " '蘇迪佑': 1,\n",
       " '投資': 1,\n",
       " '戴博斯': 1,\n",
       " '漁產': 1,\n",
       " '業界': 1,\n",
       " '嘉年華': 1,\n",
       " '產學': 1,\n",
       " '機構': 1,\n",
       " '產品': 1,\n",
       " '技術': 1,\n",
       " '電子報': 1,\n",
       " '掌握': 1,\n",
       " '天下': 1,\n",
       " '輸入': 1,\n",
       " '電子': 1,\n",
       " '信箱': 1,\n",
       " '格式': 1,\n",
       " '吐瓦魯國': 1,\n",
       " '巴布亞': 1,\n",
       " '紐幾內亞': 1,\n",
       " '史瓦帝尼': 1,\n",
       " '王國': 1,\n",
       " '攤位': 1,\n",
       " '外交團': 1,\n",
       " '異國': 1,\n",
       " '風采': 1,\n",
       " 'COVID-19': 1,\n",
       " '疫情': 1,\n",
       " '衝擊': 1,\n",
       " '實體': 1,\n",
       " '台灣版': 1,\n",
       " '泡泡': 1,\n",
       " '經營': 1,\n",
       " '田中光韓': 1,\n",
       " '半導體業': 1,\n",
       " '獲益': 1,\n",
       " '舉辦': 1,\n",
       " '酒會': 1,\n",
       " '關係': 1}"
      ]
     },
     "execution_count": 36,
     "metadata": {},
     "output_type": "execute_result"
    }
   ],
   "source": [
    "all_pairs"
   ]
  },
  {
   "cell_type": "code",
   "execution_count": 37,
   "metadata": {},
   "outputs": [],
   "source": [
    "# Process the second piece of news\n",
    "row = df_query.iloc[1].top_key_freq\n",
    "pairs = eval(row)\n",
    "for pair in pairs:\n",
    "    w,f = pair\n",
    "    if w in all_pairs:\n",
    "        all_pairs[w]+= f\n",
    "    else:\n",
    "        all_pairs[w] = f"
   ]
  },
  {
   "cell_type": "code",
   "execution_count": 38,
   "metadata": {},
   "outputs": [
    {
     "data": {
      "text/plain": [
       "{'展覽': 8,\n",
       " '台灣': 14,\n",
       " '廠商': 6,\n",
       " '參展': 7,\n",
       " '貿易': 8,\n",
       " '代表': 9,\n",
       " '田中光': 7,\n",
       " '國際': 6,\n",
       " '規模': 4,\n",
       " '國家': 5,\n",
       " '訂閱': 6,\n",
       " '大使館': 3,\n",
       " '出席': 4,\n",
       " '漁業展': 3,\n",
       " '智慧': 3,\n",
       " '國內外': 2,\n",
       " '大使': 2,\n",
       " '聖文森': 2,\n",
       " '格瑞那丁': 2,\n",
       " '印尼': 3,\n",
       " '經濟': 2,\n",
       " '主任': 2,\n",
       " '匈牙利': 2,\n",
       " '辦事處': 2,\n",
       " '商務': 2,\n",
       " '國際性': 2,\n",
       " '漁業': 2,\n",
       " '世界': 3,\n",
       " '經貿': 4,\n",
       " '外交部': 2,\n",
       " '政次': 1,\n",
       " '農業': 2,\n",
       " '儀式': 1,\n",
       " '使節': 2,\n",
       " '馬紹爾': 1,\n",
       " '群島': 1,\n",
       " '艾芮瓊': 1,\n",
       " '柏安卓': 1,\n",
       " '德經': 1,\n",
       " '辦事處長': 1,\n",
       " '林百科': 1,\n",
       " '馬來西亞': 1,\n",
       " '友誼': 1,\n",
       " '中心': 1,\n",
       " '何瑞萍': 1,\n",
       " '台北': 4,\n",
       " '蘇迪佑': 1,\n",
       " '投資': 1,\n",
       " '戴博斯': 1,\n",
       " '漁產': 1,\n",
       " '業界': 1,\n",
       " '嘉年華': 1,\n",
       " '產學': 1,\n",
       " '機構': 1,\n",
       " '產品': 1,\n",
       " '技術': 1,\n",
       " '電子報': 2,\n",
       " '掌握': 2,\n",
       " '天下': 2,\n",
       " '輸入': 2,\n",
       " '電子': 2,\n",
       " '信箱': 2,\n",
       " '格式': 2,\n",
       " '吐瓦魯國': 1,\n",
       " '巴布亞': 1,\n",
       " '紐幾內亞': 1,\n",
       " '史瓦帝尼': 1,\n",
       " '王國': 1,\n",
       " '攤位': 1,\n",
       " '外交團': 1,\n",
       " '異國': 1,\n",
       " '風采': 1,\n",
       " 'COVID-19': 1,\n",
       " '疫情': 1,\n",
       " '衝擊': 1,\n",
       " '實體': 1,\n",
       " '台灣版': 1,\n",
       " '泡泡': 1,\n",
       " '經營': 1,\n",
       " '田中光韓': 1,\n",
       " '半導體業': 2,\n",
       " '獲益': 3,\n",
       " '舉辦': 3,\n",
       " '酒會': 4,\n",
       " '關係': 3,\n",
       " '韓國': 11,\n",
       " '鄭炳元': 7,\n",
       " '產業': 5,\n",
       " '出口': 4,\n",
       " '致詞': 3,\n",
       " '半導體': 3,\n",
       " '區域': 3,\n",
       " '會議': 3,\n",
       " '互補性': 2,\n",
       " '代表部': 2,\n",
       " '舉行': 2,\n",
       " '談判': 2,\n",
       " '印太': 2,\n",
       " '朋友': 2,\n",
       " '文化': 2,\n",
       " '玉山': 2,\n",
       " '台灣人': 2,\n",
       " '寶藏': 2,\n",
       " '次長': 1,\n",
       " '總統府': 1,\n",
       " '秘書長': 1,\n",
       " '李大維': 1,\n",
       " '法務部長': 1,\n",
       " '蔡清祥': 1,\n",
       " '行政院': 1,\n",
       " '辦公室': 1,\n",
       " '總代表': 1,\n",
       " '鄧振中': 1,\n",
       " '親民黨': 1,\n",
       " '主席': 1,\n",
       " '宋楚瑜': 1,\n",
       " '情勢': 1,\n",
       " '極權': 1,\n",
       " '秩序': 1,\n",
       " '威脅': 1,\n",
       " '民主': 1,\n",
       " '休戚': 1,\n",
       " '基礎': 1,\n",
       " '自然': 1,\n",
       " '攀爬': 1,\n",
       " '造訪': 1,\n",
       " '高雄': 1,\n",
       " '澎湖': 1,\n",
       " '空檔': 1,\n",
       " '夜市': 1,\n",
       " '品嘗': 1,\n",
       " '小吃': 1,\n",
       " '印象': 1,\n",
       " '人情味': 1,\n",
       " '名言': 1,\n",
       " '對象': 1,\n",
       " '結構': 1,\n",
       " '競爭': 1,\n",
       " '比對': 1,\n",
       " '項目': 1,\n",
       " '舉例': 1,\n",
       " '韓流': 1,\n",
       " '戲劇': 1,\n",
       " '韓星': 1,\n",
       " '知名度': 1,\n",
       " '電視劇': 1,\n",
       " '引起': 1,\n",
       " '迴響': 1,\n",
       " '主角': 1,\n",
       " '許光漢': 1,\n",
       " '首爾': 1,\n",
       " '見面': 1,\n",
       " '粉絲': 1,\n",
       " '邊境': 1,\n",
       " '開放': 1,\n",
       " '加入': 1,\n",
       " '美方': 1,\n",
       " '主導': 1,\n",
       " '晶片': 1,\n",
       " '聯盟': 1,\n",
       " '矚目': 1,\n",
       " '韓聯社': 1,\n",
       " '韓方': 1,\n",
       " '首席': 1,\n",
       " '參與': 1,\n",
       " '工作': 1,\n",
       " '小組': 1,\n",
       " '瘋爬山': 1,\n",
       " '加拿大': 1,\n",
       " '頂台': 1,\n",
       " '觀光': 1,\n",
       " '登場': 1,\n",
       " '重啟': 1,\n",
       " '旅遊': 1,\n",
       " '準備': 1}"
      ]
     },
     "execution_count": 38,
     "metadata": {},
     "output_type": "execute_result"
    }
   ],
   "source": [
    "all_pairs"
   ]
  },
  {
   "cell_type": "code",
   "execution_count": 39,
   "metadata": {},
   "outputs": [],
   "source": [
    "from collections import Counter"
   ]
  },
  {
   "cell_type": "code",
   "execution_count": 40,
   "metadata": {},
   "outputs": [],
   "source": [
    "# Then we can get the most frequent words using Counter\n",
    "\n",
    "counter = Counter(all_pairs)"
   ]
  },
  {
   "cell_type": "code",
   "execution_count": 41,
   "metadata": {},
   "outputs": [
    {
     "data": {
      "text/plain": [
       "[('台灣', 14), ('韓國', 11), ('代表', 9), ('展覽', 8), ('貿易', 8)]"
      ]
     },
     "execution_count": 41,
     "metadata": {},
     "output_type": "execute_result"
    }
   ],
   "source": [
    "counter.most_common(5)"
   ]
  },
  {
   "cell_type": "markdown",
   "metadata": {},
   "source": [
    "## All-in-one function: Get related keywords"
   ]
  },
  {
   "cell_type": "code",
   "execution_count": 42,
   "metadata": {},
   "outputs": [],
   "source": [
    "key = ['智慧']\n",
    "cond = 'and'\n",
    "cate = '全部'\n",
    "weeks = 2"
   ]
  },
  {
   "cell_type": "code",
   "execution_count": 43,
   "metadata": {},
   "outputs": [],
   "source": [
    "df_query = filter_dataFrame_fullText(key, cond, cate,weeks)"
   ]
  },
  {
   "cell_type": "code",
   "execution_count": 44,
   "metadata": {},
   "outputs": [
    {
     "data": {
      "text/plain": [
       "(11, 14)"
      ]
     },
     "execution_count": 44,
     "metadata": {},
     "output_type": "execute_result"
    }
   ],
   "source": [
    "df_query.shape"
   ]
  },
  {
   "cell_type": "code",
   "execution_count": 45,
   "metadata": {},
   "outputs": [],
   "source": [
    "from collections import Counter\n",
    "\n",
    "# 相關詞有哪一些?找出各篇文章的topk關鍵詞加以彙整計算\n",
    "# 不能用 \"get_related_keys\"當函數名稱，因為這是Django系統用的名稱\n",
    "def get_related_words(df_query, key):\n",
    "    all_pairs={}\n",
    "    for idx in range(len(df_query)):\n",
    "        row = df_query.iloc[idx].top_key_freq\n",
    "        pairs = eval(row)\n",
    "        for pair in pairs:\n",
    "            w,f = pair\n",
    "            if w in all_pairs:\n",
    "                all_pairs[w]+= f\n",
    "            else:\n",
    "                all_pairs[w] = f\n",
    "\n",
    "    counter = Counter(all_pairs)\n",
    "    return counter.most_common(20) #return list format\n",
    "    #return dict(counter.most_common(20)) #return dict format"
   ]
  },
  {
   "cell_type": "code",
   "execution_count": 46,
   "metadata": {
    "scrolled": true
   },
   "outputs": [
    {
     "data": {
      "text/plain": [
       "[('台灣', 55),\n",
       " ('訂閱', 24),\n",
       " ('國際', 21),\n",
       " ('林智堅', 19),\n",
       " ('國家', 16),\n",
       " ('智慧', 15),\n",
       " ('代表', 13),\n",
       " ('論文', 13),\n",
       " ('台北', 12),\n",
       " ('技術', 12),\n",
       " ('產業', 12),\n",
       " ('韓國', 11),\n",
       " ('文化', 11),\n",
       " ('美國', 11),\n",
       " ('數據', 11),\n",
       " ('關鍵', 11),\n",
       " ('貿易', 10),\n",
       " ('世界', 10),\n",
       " ('醫療', 10),\n",
       " ('發表', 10)]"
      ]
     },
     "execution_count": 46,
     "metadata": {},
     "output_type": "execute_result"
    }
   ],
   "source": [
    "get_related_words(df_query, '智慧')"
   ]
  },
  {
   "cell_type": "markdown",
   "metadata": {},
   "source": [
    "## Process wordcloud data"
   ]
  },
  {
   "cell_type": "code",
   "execution_count": 47,
   "metadata": {},
   "outputs": [],
   "source": [
    "# Get related keywords by counting the top keywords of each news.\n",
    "# Notice:  do not name function as  \"get_related_keys\",\n",
    "# because this name is used in Django\n",
    "def get_related_words(df_query, key):\n",
    "\n",
    "    all_pairs = {}\n",
    "    for idx in range(len(df_query)):\n",
    "        row = df_query.iloc[idx].top_key_freq # column name may be top_keys_freq\n",
    "        pairs = eval(row)\n",
    "\n",
    "        # Get related keywords by counting the top keywords of each news.\n",
    "        for pair in pairs:\n",
    "            w, f = pair\n",
    "            if w in all_pairs:\n",
    "                all_pairs[w] += f\n",
    "            else:\n",
    "                all_pairs[w] = f\n",
    "    counter = Counter(all_pairs)\n",
    "\n",
    "    wf_pairs = counter.most_common(30)\n",
    "\n",
    "    # cloud chart data\n",
    "    # the minimum and maximum frequency of top words\n",
    "    min_ = wf_pairs[-1][1]  # the last line is smaller\n",
    "    max_ = wf_pairs[0][1]\n",
    "    # text size based on the value of word frequency for drawing cloud chart\n",
    "    textSizeMin = 20\n",
    "    textSizeMax = 120\n",
    "    # Scaling frequency value into an interval of from 20 to 120.\n",
    "    clouddata = [{'text': w, 'size': int(textSizeMin + (f - min_) / (max_ - min_) * (textSizeMax - textSizeMin))}\n",
    "                 for w, f in wf_pairs]\n",
    "\n",
    "    return   wf_pairs, clouddata "
   ]
  },
  {
   "cell_type": "code",
   "execution_count": 53,
   "metadata": {},
   "outputs": [
    {
     "data": {
      "text/plain": [
       "([('台灣', 55),\n",
       "  ('訂閱', 24),\n",
       "  ('國際', 21),\n",
       "  ('林智堅', 19),\n",
       "  ('國家', 16),\n",
       "  ('智慧', 15),\n",
       "  ('代表', 13),\n",
       "  ('論文', 13),\n",
       "  ('台北', 12),\n",
       "  ('技術', 12),\n",
       "  ('產業', 12),\n",
       "  ('韓國', 11),\n",
       "  ('文化', 11),\n",
       "  ('美國', 11),\n",
       "  ('數據', 11),\n",
       "  ('關鍵', 11),\n",
       "  ('貿易', 10),\n",
       "  ('世界', 10),\n",
       "  ('醫療', 10),\n",
       "  ('發表', 10),\n",
       "  ('國科會', 10),\n",
       "  ('余正煌', 10),\n",
       "  ('電子', 9),\n",
       "  ('舉辦', 9),\n",
       "  ('晶片', 9),\n",
       "  ('搞笑', 9),\n",
       "  ('研究', 9),\n",
       "  ('遠通', 9),\n",
       "  ('碩士', 9),\n",
       "  ('展覽', 8)],\n",
       " [{'text': '台灣', 'size': 120},\n",
       "  {'text': '訂閱', 'size': 54},\n",
       "  {'text': '國際', 'size': 47},\n",
       "  {'text': '林智堅', 'size': 43},\n",
       "  {'text': '國家', 'size': 37},\n",
       "  {'text': '智慧', 'size': 34},\n",
       "  {'text': '代表', 'size': 30},\n",
       "  {'text': '論文', 'size': 30},\n",
       "  {'text': '台北', 'size': 28},\n",
       "  {'text': '技術', 'size': 28},\n",
       "  {'text': '產業', 'size': 28},\n",
       "  {'text': '韓國', 'size': 26},\n",
       "  {'text': '文化', 'size': 26},\n",
       "  {'text': '美國', 'size': 26},\n",
       "  {'text': '數據', 'size': 26},\n",
       "  {'text': '關鍵', 'size': 26},\n",
       "  {'text': '貿易', 'size': 24},\n",
       "  {'text': '世界', 'size': 24},\n",
       "  {'text': '醫療', 'size': 24},\n",
       "  {'text': '發表', 'size': 24},\n",
       "  {'text': '國科會', 'size': 24},\n",
       "  {'text': '余正煌', 'size': 24},\n",
       "  {'text': '電子', 'size': 22},\n",
       "  {'text': '舉辦', 'size': 22},\n",
       "  {'text': '晶片', 'size': 22},\n",
       "  {'text': '搞笑', 'size': 22},\n",
       "  {'text': '研究', 'size': 22},\n",
       "  {'text': '遠通', 'size': 22},\n",
       "  {'text': '碩士', 'size': 22},\n",
       "  {'text': '展覽', 'size': 20}])"
      ]
     },
     "execution_count": 53,
     "metadata": {},
     "output_type": "execute_result"
    }
   ],
   "source": [
    "get_related_words(df_query, '台灣')"
   ]
  },
  {
   "cell_type": "markdown",
   "metadata": {
    "toc-hr-collapsed": true
   },
   "source": [
    "# Find paragraphs containing the keywords. "
   ]
  },
  {
   "cell_type": "markdown",
   "metadata": {},
   "source": [
    "There may be too many related paragraphs, so we display only some of them on our Django website"
   ]
  },
  {
   "cell_type": "raw",
   "metadata": {},
   "source": [
    "一一比對文章段落，找出關鍵詞所在的段落"
   ]
  },
  {
   "cell_type": "code",
   "execution_count": 62,
   "metadata": {},
   "outputs": [],
   "source": [
    "import re"
   ]
  },
  {
   "cell_type": "code",
   "execution_count": 61,
   "metadata": {},
   "outputs": [],
   "source": [
    "text = df_query.iloc[0].content"
   ]
  },
  {
   "cell_type": "code",
   "execution_count": 59,
   "metadata": {},
   "outputs": [
    {
     "data": {
      "text/plain": [
       "'外交部政次田中光今天出席2022年「台灣國際漁業展」與「台灣智慧農業週」聯合開幕儀式，他表示，今年有超過15國約270家廠商參展，展覽規模、參展國家與國內外廠商均逐年增加。多位駐台使節今天出席展覽，包括馬紹爾群島大使艾芮瓊（Neijon Rema Edwards）、聖文森及格瑞那丁大使柏安卓（Andrea Clare Bowman）、德經辦事處長林百科（Axel Limberg）、馬來西亞友誼及貿易中心代表何瑞萍（Sharon Ho Swee Peng）、駐台北印尼經濟貿易代表處貿易主任蘇迪佑（Sulistyono Tarno）、匈牙利貿易辦事處商務投資主任戴博斯（Balazs Szabo）等。田中光表示，台灣智慧農業週暨台灣國際漁業展是台灣農、漁產業界的國際性嘉年華展覽，已邁向第8年，展覽規模、參展的國家與國內外廠商均逐年增加，感謝參展廠商及產學研究機構的努力，將台灣農、漁業優質產品及技術在國際展覽中呈現。訂閱《早安世界》電子報 每天3分鐘掌握10件天下事 請輸入正確的電子信箱格式訂閱感謝您的訂閱！田中光指出，今年有超過15個國家、大約270家廠商參展，其中包括吐瓦魯國大使館、巴布亞紐幾內亞駐台商務代表處、聖文森及格瑞那丁大使館、史瓦帝尼王國大使館、匈牙利貿易辦事處的參展攤位，感謝國際廠商以及外交團的參與，使展覽更具國際性及異國風采。田中光表示，在世界經濟受到COVID-19疫情嚴重衝擊下，這項實體展覽，就像是台灣版的「農、漁業經貿泡泡」，期盼透過大家努力經營，使展覽規模更形壯大。田中光韓駐台代表：台韓半導體業緊密相連使彼此獲益印尼舉辦國慶酒會 駐台代表盼深化與台經貿關係'"
      ]
     },
     "execution_count": 59,
     "metadata": {},
     "output_type": "execute_result"
    }
   ],
   "source": [
    "text"
   ]
  },
  {
   "cell_type": "code",
   "execution_count": 63,
   "metadata": {},
   "outputs": [
    {
     "data": {
      "text/plain": [
       "['外交部政次田中光今天出席2022年「台灣國際漁業展」與「台灣智慧農業週」聯合開幕儀式，他表示，今年有超過15國約270家廠商參展，展覽規模、參展國家與國內外廠商均逐年增加',\n",
       " '多位駐台使節今天出席展覽，包括馬紹爾群島大使艾芮瓊（Neijon Rema Edwards）、聖文森及格瑞那丁大使柏安卓（Andrea Clare Bowman）、德經辦事處長林百科（Axel Limberg）、馬來西亞友誼及貿易中心代表何瑞萍（Sharon Ho Swee Peng）、駐台北印尼經濟貿易代表處貿易主任蘇迪佑（Sulistyono Tarno）、匈牙利貿易辦事處商務投資主任戴博斯（Balazs Szabo）等',\n",
       " '田中光表示，台灣智慧農業週暨台灣國際漁業展是台灣農、漁產業界的國際性嘉年華展覽，已邁向第8年，展覽規模、參展的國家與國內外廠商均逐年增加，感謝參展廠商及產學研究機構的努力，將台灣農、漁業優質產品及技術在國際展覽中呈現',\n",
       " '訂閱《早安世界》電子報 每天3分鐘掌握10件天下事 請輸入正確的電子信箱格式訂閱感謝您的訂閱',\n",
       " '田中光指出，今年有超過15個國家、大約270家廠商參展，其中包括吐瓦魯國大使館、巴布亞紐幾內亞駐台商務代表處、聖文森及格瑞那丁大使館、史瓦帝尼王國大使館、匈牙利貿易辦事處的參展攤位，感謝國際廠商以及外交團的參與，使展覽更具國際性及異國風采',\n",
       " '田中光表示，在世界經濟受到COVID-19疫情嚴重衝擊下，這項實體展覽，就像是台灣版的「農、漁業經貿泡泡」，期盼透過大家努力經營，使展覽規模更形壯大',\n",
       " '田中光韓駐台代表：台韓半導體業緊密相連使彼此獲益印尼舉辦國慶酒會 駐台代表盼深化與台經貿關係']"
      ]
     },
     "execution_count": 63,
     "metadata": {},
     "output_type": "execute_result"
    }
   ],
   "source": [
    "re.split(r'[。！!？?]', text) "
   ]
  },
  {
   "cell_type": "code",
   "execution_count": 64,
   "metadata": {},
   "outputs": [
    {
     "data": {
      "text/plain": [
       "['外交部政次田中光今天出席2022年「台灣國際漁業展」與「台灣智慧農業週」聯合開幕儀式，他表示，今年有超過15國約270家廠商參展，展覽規模、參展國家與國內外廠商均逐年增加',\n",
       " '多位駐台使節今天出席展覽，包括馬紹爾群島大使艾芮瓊（Neijon Rema Edwards）、聖文森及格瑞那丁大使柏安卓（Andrea Clare Bowman）、德經辦事處長林百科（Axel Limberg）、馬來西亞友誼及貿易中心代表何瑞萍（Sharon Ho Swee Peng）、駐台北印尼經濟貿易代表處貿易主任蘇迪佑（Sulistyono Tarno）、匈牙利貿易辦事處商務投資主任戴博斯（Balazs Szabo）等',\n",
       " '田中光表示，台灣智慧農業週暨台灣國際漁業展是台灣農、漁產業界的國際性嘉年華展覽，已邁向第8年，展覽規模、參展的國家與國內外廠商均逐年增加，感謝參展廠商及產學研究機構的努力，將台灣農、漁業優質產品及技術在國際展覽中呈現',\n",
       " '訂閱《早安世界》電子報 每天3分鐘掌握10件天下事 請輸入正確的電子信箱格式訂閱感謝您的訂閱',\n",
       " '田中光指出，今年有超過15個國家、大約270家廠商參展，其中包括吐瓦魯國大使館、巴布亞紐幾內亞駐台商務代表處、聖文森及格瑞那丁大使館、史瓦帝尼王國大使館、匈牙利貿易辦事處的參展攤位，感謝國際廠商以及外交團的參與，使展覽更具國際性及異國風采',\n",
       " '田中光表示，在世界經濟受到COVID-19疫情嚴重衝擊下，這項實體展覽，就像是台灣版的「農、漁業經貿泡泡」，期盼透過大家努力經營，使展覽規模更形壯大',\n",
       " '田中光韓駐台代表：台韓半導體業緊密相連使彼此獲益印尼舉辦國慶酒會 駐台代表盼深化與台經貿關係']"
      ]
     },
     "execution_count": 64,
     "metadata": {},
     "output_type": "execute_result"
    }
   ],
   "source": [
    "# the same result\n",
    "re.split(r'[。|！|!|？|?]', text) "
   ]
  },
  {
   "cell_type": "code",
   "execution_count": 65,
   "metadata": {},
   "outputs": [
    {
     "data": {
      "text/plain": [
       "['外交部政次田中光今天出席2022年「台灣國際漁業展」與「台灣智慧農業週」聯合開幕儀式，他表示，今年有超過15國約270家廠商參展，展覽規模、參展國家與國內外廠商均逐年增加',\n",
       " '多位駐台使節今天出席展覽，包括馬紹爾群島大使艾芮瓊（Neijon Rema Edwards）、聖文森及格瑞那丁大使柏安卓（Andrea Clare Bowman）、德經辦事處長林百科（Axel Limberg）、馬來西亞友誼及貿易中心代表何瑞萍（Sharon Ho Swee Peng）、駐台北印尼經濟貿易代表處貿易主任蘇迪佑（Sulistyono Tarno）、匈牙利貿易辦事處商務投資主任戴博斯（Balazs Szabo）等',\n",
       " '田中光表示，台灣智慧農業週暨台灣國際漁業展是台灣農、漁產業界的國際性嘉年華展覽，已邁向第8年，展覽規模、參展的國家與國內外廠商均逐年增加，感謝參展廠商及產學研究機構的努力，將台灣農、漁業優質產品及技術在國際展覽中呈現',\n",
       " '訂閱《早安世界》電子報 每天3分鐘掌握10件天下事 請輸入正確的電子信箱格式訂閱感謝您的訂閱',\n",
       " '田中光指出，今年有超過15個國家、大約270家廠商參展，其中包括吐瓦魯國大使館、巴布亞紐幾內亞駐台商務代表處、聖文森及格瑞那丁大使館、史瓦帝尼王國大使館、匈牙利貿易辦事處的參展攤位，感謝國際廠商以及外交團的參與，使展覽更具國際性及異國風采',\n",
       " '田中光表示，在世界經濟受到COVID-19疫情嚴重衝擊下，這項實體展覽，就像是台灣版的「農、漁業經貿泡泡」，期盼透過大家努力經營，使展覽規模更形壯大',\n",
       " '田中光韓駐台代表：台韓半導體業緊密相連使彼此獲益印尼舉辦國慶酒會 駐台代表盼深化與台經貿關係']"
      ]
     },
     "execution_count": 65,
     "metadata": {},
     "output_type": "execute_result"
    }
   ],
   "source": [
    "# the same result: using a backslash in front of ? and !\n",
    "re.split(r'[。|！|\\!|？|\\?]', text) "
   ]
  },
  {
   "cell_type": "markdown",
   "metadata": {},
   "source": [
    "## Define cut_paragraph() function"
   ]
  },
  {
   "cell_type": "code",
   "execution_count": 66,
   "metadata": {},
   "outputs": [],
   "source": [
    "# split paragraghes in text\n",
    "def cut_paragraph(text):\n",
    "    result = re.split(r'[。|！|!|？|?]', text)\n",
    "    result = list(filter(None, result))\n",
    "    return result"
   ]
  },
  {
   "cell_type": "code",
   "execution_count": 67,
   "metadata": {},
   "outputs": [],
   "source": [
    "paragraphs = cut_paragraph(text)"
   ]
  },
  {
   "cell_type": "code",
   "execution_count": 68,
   "metadata": {},
   "outputs": [
    {
     "data": {
      "text/plain": [
       "['外交部政次田中光今天出席2022年「台灣國際漁業展」與「台灣智慧農業週」聯合開幕儀式，他表示，今年有超過15國約270家廠商參展，展覽規模、參展國家與國內外廠商均逐年增加',\n",
       " '多位駐台使節今天出席展覽，包括馬紹爾群島大使艾芮瓊（Neijon Rema Edwards）、聖文森及格瑞那丁大使柏安卓（Andrea Clare Bowman）、德經辦事處長林百科（Axel Limberg）、馬來西亞友誼及貿易中心代表何瑞萍（Sharon Ho Swee Peng）、駐台北印尼經濟貿易代表處貿易主任蘇迪佑（Sulistyono Tarno）、匈牙利貿易辦事處商務投資主任戴博斯（Balazs Szabo）等',\n",
       " '田中光表示，台灣智慧農業週暨台灣國際漁業展是台灣農、漁產業界的國際性嘉年華展覽，已邁向第8年，展覽規模、參展的國家與國內外廠商均逐年增加，感謝參展廠商及產學研究機構的努力，將台灣農、漁業優質產品及技術在國際展覽中呈現',\n",
       " '訂閱《早安世界》電子報 每天3分鐘掌握10件天下事 請輸入正確的電子信箱格式訂閱感謝您的訂閱',\n",
       " '田中光指出，今年有超過15個國家、大約270家廠商參展，其中包括吐瓦魯國大使館、巴布亞紐幾內亞駐台商務代表處、聖文森及格瑞那丁大使館、史瓦帝尼王國大使館、匈牙利貿易辦事處的參展攤位，感謝國際廠商以及外交團的參與，使展覽更具國際性及異國風采',\n",
       " '田中光表示，在世界經濟受到COVID-19疫情嚴重衝擊下，這項實體展覽，就像是台灣版的「農、漁業經貿泡泡」，期盼透過大家努力經營，使展覽規模更形壯大',\n",
       " '田中光韓駐台代表：台韓半導體業緊密相連使彼此獲益印尼舉辦國慶酒會 駐台代表盼深化與台經貿關係']"
      ]
     },
     "execution_count": 68,
     "metadata": {},
     "output_type": "execute_result"
    }
   ],
   "source": [
    "paragraphs"
   ]
  },
  {
   "cell_type": "markdown",
   "metadata": {},
   "source": [
    "## All-in-one function: Find related paragraphs"
   ]
  },
  {
   "cell_type": "code",
   "execution_count": 69,
   "metadata": {},
   "outputs": [],
   "source": [
    "import re\n",
    "\n",
    "# split paragraghes in text\n",
    "def cut_paragraph(text):\n",
    "    result = re.split(r'[。|！|!|？|?]', text)\n",
    "    result = list(filter(None, result))\n",
    "    return result\n",
    "\n",
    "# Find out all paragraphs where multiple keywords occur.\n",
    "def get_same_para(df_query, key, cond, k = 30):\n",
    "    same_para=[]\n",
    "    for text in df_query.content:\n",
    "        #print(text)\n",
    "        paragraphs = cut_paragraph(text)\n",
    "        for para in paragraphs:\n",
    "            para += \"。\"\n",
    "            if cond=='and':\n",
    "                if all([re.search(kw, para) for kw in key]):\n",
    "                    same_para.append(para)\n",
    "            elif cond=='or':\n",
    "                if any([re.search(kw, para) for kw in key]):\n",
    "                    same_para.append(para)\n",
    "    return same_para[0:k]"
   ]
  },
  {
   "cell_type": "code",
   "execution_count": 73,
   "metadata": {},
   "outputs": [],
   "source": [
    "key = ['智慧','台灣']\n",
    "cond ='and'\n",
    "cate ='全部'\n",
    "weeks = 2"
   ]
  },
  {
   "cell_type": "code",
   "execution_count": 74,
   "metadata": {},
   "outputs": [],
   "source": [
    "df_query = filter_dataFrame_fullText(key, cond, cate, weeks)"
   ]
  },
  {
   "cell_type": "code",
   "execution_count": 75,
   "metadata": {},
   "outputs": [
    {
     "data": {
      "text/plain": [
       "9"
      ]
     },
     "execution_count": 75,
     "metadata": {},
     "output_type": "execute_result"
    }
   ],
   "source": [
    "len(df_query)"
   ]
  },
  {
   "cell_type": "code",
   "execution_count": 76,
   "metadata": {},
   "outputs": [
    {
     "data": {
      "text/plain": [
       "['外交部政次田中光今天出席2022年「台灣國際漁業展」與「台灣智慧農業週」聯合開幕儀式，他表示，今年有超過15國約270家廠商參展，展覽規模、參展國家與國內外廠商均逐年增加。',\n",
       " '田中光表示，台灣智慧農業週暨台灣國際漁業展是台灣農、漁產業界的國際性嘉年華展覽，已邁向第8年，展覽規模、參展的國家與國內外廠商均逐年增加，感謝參展廠商及產學研究機構的努力，將台灣農、漁業優質產品及技術在國際展覽中呈現。',\n",
       " '鄭炳元駐台使節瘋爬山 加拿大、韓國代表同登玉山頂台韓觀光交流會議登場  為重啟旅遊準備田中光台灣國際漁業展、智慧農業週開幕 逾15國參展印尼舉辦國慶酒會 駐台代表盼深化與台經貿關係。',\n",
       " '吳釗燮說，台灣致力於建構更好的新創環境，在製造業、人工智慧、再生能源及生物科技等產業都極具創造力，台灣也願意貢獻所長，為全球實踐2030年永續發展議程提出創見。',\n",
       " '台灣運彩xT1聯盟今天舉行新賽季啟動記者會，各隊總經理除暢談新賽季目標，也大談季外補強，而其中特攻則是各方焦點，除今年洋將鎖定克羅埃西亞與立陶宛的歐陸球員，就連本土「智慧型」中鋒代表曾文鼎，也在特攻鎖定的名單中。']"
      ]
     },
     "execution_count": 76,
     "metadata": {},
     "output_type": "execute_result"
    }
   ],
   "source": [
    "get_same_para(df_query, key, 'and', k=5)"
   ]
  },
  {
   "cell_type": "markdown",
   "metadata": {},
   "source": [
    "## All-in-one function: An alternative way for advanced users: using re.seach()"
   ]
  },
  {
   "cell_type": "code",
   "execution_count": 79,
   "metadata": {},
   "outputs": [],
   "source": [
    "import re"
   ]
  },
  {
   "cell_type": "code",
   "execution_count": 80,
   "metadata": {},
   "outputs": [],
   "source": [
    "# Find out all paragraphs where multiple keywords occur.\n",
    "def get_same_para(df_query, key, cond, k = 30):\n",
    "    same_para=[]\n",
    "    for text in df_query.content:\n",
    "        #print(text)\n",
    "        paragraphs = cut_paragraph(text)\n",
    "        for para in paragraphs:\n",
    "            para += \"。\"\n",
    "            if cond=='and':\n",
    "                if all([re.search(kw, para) for kw in key]):\n",
    "                    same_para.append(para)\n",
    "            elif cond=='or':\n",
    "                if any([re.search(kw, para) for kw in key]):\n",
    "                    same_para.append(para)\n",
    "    return same_para[0:k]\n"
   ]
  },
  {
   "cell_type": "markdown",
   "metadata": {},
   "source": [
    "# views.py in Django website"
   ]
  },
  {
   "cell_type": "markdown",
   "metadata": {},
   "source": [
    "To save memory, we just import df from the other app as follows.\n",
    "from app_user_keyword.views import df"
   ]
  },
  {
   "cell_type": "code",
   "execution_count": null,
   "metadata": {},
   "outputs": [],
   "source": [
    "from django.shortcuts import render\n",
    "from django.views.decorators.csrf import csrf_exempt\n",
    "from django.http import JsonResponse\n",
    "\n",
    "from datetime import datetime, timedelta\n",
    "import pandas as pd\n",
    "import math\n",
    "import re\n",
    "from collections import Counter\n",
    "\n",
    "# load data method 1\n",
    "# def load_df_data_v1():\n",
    "#     # global variable\n",
    "#     global  df\n",
    "#     df = pd.read_csv('app_user_keyword_association/dataset/preprocessed_news_218posts.csv', sep='|')\n",
    "\n",
    "# (3) df can be import from app_user_keyword\n",
    "# To save memory, we just import df from the other app as follows.\n",
    "# from app_user_keyword.views import df\n",
    "\n",
    "# load data method 2\n",
    "# (4) df can be import from app_user_keyword\n",
    "import app_user_keyword.views as userkeyword_views\n",
    "def load_df_data():\n",
    "    # import and use df from app_user_keyword \n",
    "    global df # global variable\n",
    "    df = userkeyword_views.df\n",
    "\n",
    "load_df_data()\n",
    "\n",
    "\n",
    "# For the key association analysis\n",
    "def home(request):\n",
    "    return render(request, 'app_user_keyword_association/home.html')\n",
    "\n",
    "# df_query should be global\n",
    "@csrf_exempt\n",
    "def api_get_userkey_associate(request):\n",
    "\n",
    "    userkey = request.POST.get('userkey')\n",
    "    cate = request.POST['cate'] # This is an alternative way to get POST data.\n",
    "    cond = request.POST.get('cond')\n",
    "    weeks = int(request.POST.get('weeks'))\n",
    "    key = userkey.split()\n",
    "\n",
    "    #global  df_query # global variable\n",
    "\n",
    "    df_query = filter_dataFrame_fullText(key, cond, cate,weeks)\n",
    "    print(key)\n",
    "    print(len(df_query))\n",
    "\n",
    "    if len(df_query) != 0:  # df_query is not empty\n",
    "        newslinks = get_title_link_topk(df_query, k = 25)\n",
    "        related_words, clouddata = get_related_words(df_query, key)\n",
    "        same_paragraph = get_same_para(df_query, key, cond, k = 30) # multiple keywords\n",
    "\n",
    "    else:\n",
    "        newslinks = []\n",
    "        related_words = []\n",
    "        same_paragraph = []\n",
    "        clouddata = []\n",
    "\n",
    "    response = {\n",
    "        'newslinks': newslinks,\n",
    "        'related_words': related_words,\n",
    "        'same_paragraph': same_paragraph,\n",
    "        'clouddata':clouddata,\n",
    "    }\n",
    "    return JsonResponse(response)\n",
    "\n",
    "\n",
    "def filter_dataFrame_fullText(key, cond, cate,weeks):\n",
    "\n",
    "    # end date: the date of the last record of news\n",
    "    end_date = df.date.max()\n",
    "    print('latest date for dataset:', end_date)\n",
    "\n",
    "    # start date\n",
    "    start_date = (datetime.strptime(end_date, '%Y-%m-%d').date() - timedelta(weeks=weeks)).strftime('%Y-%m-%d')\n",
    "\n",
    "    # filtering\n",
    "    if (cate == \"全部\") & (cond == 'and'):\n",
    "        df_query = df[(df.date >= start_date) & (df.date <= end_date) & df.content.apply(\n",
    "            lambda row: all((qk in row) for qk in key))]\n",
    "    elif (cate == \"全部\") & (cond == 'or'):\n",
    "        queryKey = '|'.join(key)\n",
    "        df_query = df[(df['date'] >= start_date) & (df['date'] <= end_date) & df.content.str.contains(queryKey)]\n",
    "    elif (cond == 'and'):\n",
    "        df_query = df[(df.category == cate) & (df.date >= start_date) & (df.date <= end_date) & df.content.apply(\n",
    "            lambda row: all((qk in row) for qk in key))]\n",
    "    elif (cond == 'or'):\n",
    "        queryKey = '|'.join(key)\n",
    "        df_query = df[(df.category == cate) & (df['date'] >= start_date) & (df['date'] <= end_date) & df[\n",
    "            'content'].str.contains(queryKey)]\n",
    "\n",
    "    return df_query\n",
    "\n",
    "\n",
    "# get titles and links from k pieces of news \n",
    "def get_title_link_topk(df_query, k = 25):\n",
    "    items = []\n",
    "    for i in range( len(df_query[0: k]) ): # show only 10 news\n",
    "        category = df_query.iloc[i]['category']\n",
    "        title = df_query.iloc[i]['title']\n",
    "        link = df_query.iloc[i]['link']\n",
    "        photo_link = df_query.iloc[i]['photo_link']\n",
    "        # if photo_link value is NaN, replace it with empty string \n",
    "        if pd.isna(photo_link):\n",
    "            photo_link=''\n",
    "        \n",
    "        item_info = {\n",
    "            'category': category, \n",
    "            'title': title, \n",
    "            'link': link, \n",
    "            'photo_link': photo_link\n",
    "        }\n",
    "\n",
    "        items.append(item_info)\n",
    "    return items \n",
    "\n",
    "# Get related keywords by counting the top keywords of each news.\n",
    "# Notice:  do not name function as  \"get_related_keys\",\n",
    "# because this name is used in Django\n",
    "def get_related_words(df_query, key):\n",
    "\n",
    "    all_pairs = {}\n",
    "    for idx in range(len(df_query)):\n",
    "        row = df_query.iloc[idx].top_key_freq # column name may be top_keys_freq\n",
    "        pairs = dict(eval(row))\n",
    "\n",
    "        # Get related keywords by counting the top keywords of each news.\n",
    "        for pair in pairs.items():\n",
    "            w, f = pair\n",
    "            if w in all_pairs:\n",
    "                all_pairs[w] += f\n",
    "            else:\n",
    "                all_pairs[w] = f\n",
    "    counter = Counter(all_pairs)\n",
    "\n",
    "    wf_pairs = counter.most_common(30)\n",
    "\n",
    "    # cloud chart data\n",
    "    # the minimum and maximum frequency of top words\n",
    "    min_ = wf_pairs[-1][1]  # the last line is smaller\n",
    "    max_ = wf_pairs[0][1]\n",
    "    # text size based on the value of word frequency for drawing cloud chart\n",
    "    textSizeMin = 20\n",
    "    textSizeMax = 120\n",
    "\n",
    "    clouddata = [{'text': w, 'size': int(textSizeMin + (f - min_) / (max_ - min_) * (textSizeMax - textSizeMin))}\n",
    "                 for w, f in wf_pairs]\n",
    "\n",
    "    return   wf_pairs, clouddata \n",
    "\n",
    "# split paragraphs\n",
    "def cut_paragraph(text):\n",
    "    result = re.split('[。|！|\\!|？|\\?]', text)\n",
    "    result = list(filter(None, result))\n",
    "    return result\n",
    "\n",
    "# Find out all paragraphs where multiple keywords occur.\n",
    "def get_same_para(df_query, key, cond, k=30):\n",
    "    same_para=[]\n",
    "    for text in df_query.content:\n",
    "        #print(text)\n",
    "        paragraphs = cut_paragraph(text)\n",
    "        for para in paragraphs:\n",
    "            para += \"。\"\n",
    "            if cond=='and':\n",
    "                if all([re.search(kw, para) for kw in key]):\n",
    "                    same_para.append(para)\n",
    "            elif cond=='or':\n",
    "                if any([re.search(kw, para) for kw in key]):\n",
    "                    same_para.append(para)\n",
    "    return same_para[0:k]\n",
    "\n",
    "    \n",
    "print(\"app_user_keyword_association -- 全文檢索與關聯新聞分析載入成功!\")"
   ]
  },
  {
   "cell_type": "markdown",
   "metadata": {},
   "source": [
    "# For reference"
   ]
  },
  {
   "cell_type": "raw",
   "metadata": {},
   "source": [
    "# A more complex way to split paragraphs\n",
    "# reference: https://blog.csdn.net/blmoistawinde/article/details/82379256\n",
    "# cut paragraghes from a news 切開文章段落\n",
    "def cut_paragraph(para):\n",
    "    para = re.sub('([。！？\\?])([^”’])', r\"\\1\\n\\2\", para)  # 单字符断句符\n",
    "    para = re.sub('(\\.{6})([^”’])', r\"\\1\\n\\2\", para)  # 英文省略号\n",
    "    para = re.sub('(\\…{2})([^”’])', r\"\\1\\n\\2\", para)  # 中文省略号\n",
    "    para = re.sub('([。！？\\?][”’])([^，。！？\\?])', r'\\1\\n\\2', para)\n",
    "    # 如果雙引號前有終止符，那麼雙引號才是句子的終點，把分句符\\n放到雙引號後，注意前面的幾句都小心保留了雙引號\n",
    "    para = para.rstrip()  # 段尾如果有多余的\\n就去掉它\n",
    "    # 分号忽略不计，破折号、英文双引号等同样忽略\n",
    "    return para.split(\"\\n\")"
   ]
  },
  {
   "cell_type": "raw",
   "metadata": {},
   "source": [
    "? in regex is a quantifier, it means 0 or 1 occurences.\n",
    "\n",
    "For example, applying the regex o? to the string foo? would match o.\n",
    "\n",
    "However, the regex o\\? in foo? would match o?, because it is searching for a literal question mark in the string, instead of an arbitrary quantifier.\n",
    "\n",
    "Applying the regex o*? to foo? would match oo."
   ]
  }
 ],
 "metadata": {
  "kernelspec": {
   "display_name": "Python 3.10.2 64-bit",
   "language": "python",
   "name": "python3"
  },
  "language_info": {
   "codemirror_mode": {
    "name": "ipython",
    "version": 3
   },
   "file_extension": ".py",
   "mimetype": "text/x-python",
   "name": "python",
   "nbconvert_exporter": "python",
   "pygments_lexer": "ipython3",
   "version": "3.10.2"
  },
  "toc": {
   "base_numbering": 1,
   "nav_menu": {},
   "number_sections": true,
   "sideBar": true,
   "skip_h1_title": false,
   "title_cell": "Table of Contents",
   "title_sidebar": "Contents",
   "toc_cell": false,
   "toc_position": {},
   "toc_section_display": true,
   "toc_window_display": true
  },
  "toc-autonumbering": true,
  "toc-showcode": false,
  "toc-showmarkdowntxt": false,
  "vscode": {
   "interpreter": {
    "hash": "df95319d8ce4e1d89f5365ae10992bc1f65da593082b1d264e8f529830ec2f02"
   }
  }
 },
 "nbformat": 4,
 "nbformat_minor": 4
}
