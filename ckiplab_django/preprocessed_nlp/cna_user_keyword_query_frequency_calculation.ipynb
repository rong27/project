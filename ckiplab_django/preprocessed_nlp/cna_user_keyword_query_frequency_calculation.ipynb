{
 "cells": [
  {
   "cell_type": "markdown",
   "metadata": {},
   "source": [
    "# User keyword query and its frequency calculation"
   ]
  },
  {
   "cell_type": "raw",
   "metadata": {},
   "source": [
    "Input 1: user keywords\n",
    "Input 2: condition--and, or\n",
    "\n",
    "Output: frequency of the keywords\n",
    "(1): How many times the keywords were mentioned?\n",
    "(2): How many pieces of news that mentioned the keywords"
   ]
  },
  {
   "cell_type": "markdown",
   "metadata": {},
   "source": [
    "# Load preprocessed news dataset"
   ]
  },
  {
   "cell_type": "code",
   "execution_count": 3,
   "metadata": {},
   "outputs": [],
   "source": [
    "import pandas as pd"
   ]
  },
  {
   "cell_type": "code",
   "execution_count": 5,
   "metadata": {},
   "outputs": [],
   "source": [
    "df = pd.read_csv('preprocessed_news_218posts.csv', sep = '|')"
   ]
  },
  {
   "cell_type": "code",
   "execution_count": 6,
   "metadata": {},
   "outputs": [
    {
     "data": {
      "text/html": [
       "<div>\n",
       "<style scoped>\n",
       "    .dataframe tbody tr th:only-of-type {\n",
       "        vertical-align: middle;\n",
       "    }\n",
       "\n",
       "    .dataframe tbody tr th {\n",
       "        vertical-align: top;\n",
       "    }\n",
       "\n",
       "    .dataframe thead th {\n",
       "        text-align: right;\n",
       "    }\n",
       "</style>\n",
       "<table border=\"1\" class=\"dataframe\">\n",
       "  <thead>\n",
       "    <tr style=\"text-align: right;\">\n",
       "      <th></th>\n",
       "      <th>item_id</th>\n",
       "      <th>date</th>\n",
       "      <th>title</th>\n",
       "      <th>content</th>\n",
       "      <th>sentiment</th>\n",
       "      <th>summary</th>\n",
       "      <th>top_key_freq</th>\n",
       "      <th>tokens</th>\n",
       "      <th>tokens_rm_stopwords</th>\n",
       "      <th>entities</th>\n",
       "      <th>token_pos</th>\n",
       "      <th>link</th>\n",
       "      <th>photo_link</th>\n",
       "      <th>category</th>\n",
       "    </tr>\n",
       "  </thead>\n",
       "  <tbody>\n",
       "    <tr>\n",
       "      <th>0</th>\n",
       "      <td>aipl_20220929_1</td>\n",
       "      <td>2022-09-29</td>\n",
       "      <td>台灣國際漁業展、智慧農業週開幕 逾15國參展</td>\n",
       "      <td>外交部政次田中光今天出席2022年「台灣國際漁業展」與「台灣智慧農業週」聯合開幕儀式，他表示...</td>\n",
       "      <td>0.68</td>\n",
       "      <td>['外交部政次田中光今天出席2022年「台灣國際漁業展」與「台灣智慧農業週」聯合開幕儀式',...</td>\n",
       "      <td>[('展覽', 8), ('台灣', 6), ('廠商', 6), ('參展', 6), (...</td>\n",
       "      <td>['外交部', '政次', '田中光', '今天', '出席', '2022年', '「',...</td>\n",
       "      <td>['外交部', '政次', '田中光', '出席', '台灣', '國際', '漁業展', ...</td>\n",
       "      <td>{(657, 658, 'GPE', '台'), (143, 146, 'PERSON', ...</td>\n",
       "      <td>[('外交部', 'Nc'), ('政次', 'Na'), ('田中光', 'Nb'), (...</td>\n",
       "      <td>https://www.cna.com.tw/news/aipl/202209290375....</td>\n",
       "      <td>https://imgcdn.cna.com.tw/www/WebPhotos/200/20...</td>\n",
       "      <td>政治</td>\n",
       "    </tr>\n",
       "  </tbody>\n",
       "</table>\n",
       "</div>"
      ],
      "text/plain": [
       "           item_id        date                   title  \\\n",
       "0  aipl_20220929_1  2022-09-29  台灣國際漁業展、智慧農業週開幕 逾15國參展   \n",
       "\n",
       "                                             content  sentiment  \\\n",
       "0  外交部政次田中光今天出席2022年「台灣國際漁業展」與「台灣智慧農業週」聯合開幕儀式，他表示...       0.68   \n",
       "\n",
       "                                             summary  \\\n",
       "0  ['外交部政次田中光今天出席2022年「台灣國際漁業展」與「台灣智慧農業週」聯合開幕儀式',...   \n",
       "\n",
       "                                        top_key_freq  \\\n",
       "0  [('展覽', 8), ('台灣', 6), ('廠商', 6), ('參展', 6), (...   \n",
       "\n",
       "                                              tokens  \\\n",
       "0  ['外交部', '政次', '田中光', '今天', '出席', '2022年', '「',...   \n",
       "\n",
       "                                 tokens_rm_stopwords  \\\n",
       "0  ['外交部', '政次', '田中光', '出席', '台灣', '國際', '漁業展', ...   \n",
       "\n",
       "                                            entities  \\\n",
       "0  {(657, 658, 'GPE', '台'), (143, 146, 'PERSON', ...   \n",
       "\n",
       "                                           token_pos  \\\n",
       "0  [('外交部', 'Nc'), ('政次', 'Na'), ('田中光', 'Nb'), (...   \n",
       "\n",
       "                                                link  \\\n",
       "0  https://www.cna.com.tw/news/aipl/202209290375....   \n",
       "\n",
       "                                          photo_link category  \n",
       "0  https://imgcdn.cna.com.tw/www/WebPhotos/200/20...       政治  "
      ]
     },
     "execution_count": 6,
     "metadata": {},
     "output_type": "execute_result"
    }
   ],
   "source": [
    "df.head(1)"
   ]
  },
  {
   "cell_type": "markdown",
   "metadata": {
    "_cell_guid": "f338bfd0-8985-6edf-95c0-ac529ce73d69"
   },
   "source": [
    "# How many news are related to \"台灣\" ?\n",
    "\n",
    "## Filter news using contains()"
   ]
  },
  {
   "cell_type": "raw",
   "metadata": {
    "_cell_guid": "f338bfd0-8985-6edf-95c0-ac529ce73d69"
   },
   "source": [
    "How many pieces of news mentioned \"台灣\"\n",
    "How many news are related to \"台灣\"?\n",
    "\n",
    "We can search from fields - tokens, tokens_rm_stopwords, or content. (they will get very similar results)\n",
    "\n",
    "We wil use tokens_rm_stopwords because it has been cleaned in the pre-process step."
   ]
  },
  {
   "cell_type": "code",
   "execution_count": 7,
   "metadata": {},
   "outputs": [
    {
     "data": {
      "text/plain": [
       "0      ['外交部', '政次', '田中光', '出席', '台灣', '國際', '漁業展', ...\n",
       "1      ['兩岸', '局勢', '美國', '國務卿', '蓬佩奧', '接受', '媒體', '...\n",
       "2      ['民進黨', '新北市長', '參選人', '林佳龍', '立委', '余天合體', '造...\n",
       "3      ['韓國', '代表', '鄭炳元', '韓國', '酒會', '致詞', '產業', '互...\n",
       "4      ['中央社', '記者', '郭建伸', '王承中', '台北', '台南', '殺警案',...\n",
       "                             ...                        \n",
       "213    ['香港', '立法會', '議員', '許智峯', '保釋', '期間', '逃亡', '...\n",
       "214    ['亞洲', '放寬', '邊境', '中國', '推動', '清零', '方針', '山西...\n",
       "215    ['出席', '日相', '安倍', '國葬', '中國', '政協', '副主席', '萬...\n",
       "216    ['中國', '本土', 'COVID-19', '病例', '北京', '陽性', '人員...\n",
       "217    ['中國', '大陸', '國台辦', '批評', '美國', '國務卿', '蓬佩奧', ...\n",
       "Name: tokens_rm_stopwords, Length: 218, dtype: object"
      ]
     },
     "execution_count": 7,
     "metadata": {},
     "output_type": "execute_result"
    }
   ],
   "source": [
    "df['tokens_rm_stopwords']"
   ]
  },
  {
   "cell_type": "code",
   "execution_count": 8,
   "metadata": {},
   "outputs": [
    {
     "data": {
      "text/plain": [
       "0    ['外交部', '政次', '田中光', '出席', '台灣', '國際', '漁業展', ...\n",
       "1    ['兩岸', '局勢', '美國', '國務卿', '蓬佩奧', '接受', '媒體', '...\n",
       "2    ['民進黨', '新北市長', '參選人', '林佳龍', '立委', '余天合體', '造...\n",
       "3    ['韓國', '代表', '鄭炳元', '韓國', '酒會', '致詞', '產業', '互...\n",
       "4    ['中央社', '記者', '郭建伸', '王承中', '台北', '台南', '殺警案',...\n",
       "Name: tokens_rm_stopwords, dtype: object"
      ]
     },
     "execution_count": 8,
     "metadata": {},
     "output_type": "execute_result"
    }
   ],
   "source": [
    "df['tokens_rm_stopwords'].head(5)"
   ]
  },
  {
   "cell_type": "markdown",
   "metadata": {},
   "source": [
    "## contains()"
   ]
  },
  {
   "cell_type": "code",
   "execution_count": 9,
   "metadata": {},
   "outputs": [
    {
     "data": {
      "text/plain": [
       "pandas.core.series.Series"
      ]
     },
     "execution_count": 9,
     "metadata": {},
     "output_type": "execute_result"
    }
   ],
   "source": [
    "type(df['tokens_rm_stopwords'])"
   ]
  },
  {
   "cell_type": "code",
   "execution_count": 10,
   "metadata": {},
   "outputs": [
    {
     "data": {
      "text/plain": [
       "str"
      ]
     },
     "execution_count": 10,
     "metadata": {},
     "output_type": "execute_result"
    }
   ],
   "source": [
    "type(df['tokens_rm_stopwords'][0])"
   ]
  },
  {
   "cell_type": "code",
   "execution_count": 11,
   "metadata": {},
   "outputs": [
    {
     "data": {
      "text/plain": [
       "<pandas.core.strings.accessor.StringMethods at 0x222994885b0>"
      ]
     },
     "execution_count": 11,
     "metadata": {},
     "output_type": "execute_result"
    }
   ],
   "source": [
    "df['tokens_rm_stopwords'].str"
   ]
  },
  {
   "cell_type": "code",
   "execution_count": 16,
   "metadata": {},
   "outputs": [
    {
     "data": {
      "text/plain": [
       "0       True\n",
       "1       True\n",
       "2       True\n",
       "3       True\n",
       "4      False\n",
       "       ...  \n",
       "213    False\n",
       "214    False\n",
       "215    False\n",
       "216    False\n",
       "217     True\n",
       "Name: tokens_rm_stopwords, Length: 218, dtype: bool"
      ]
     },
     "execution_count": 16,
     "metadata": {},
     "output_type": "execute_result"
    }
   ],
   "source": [
    "df['tokens_rm_stopwords'].str.contains(\"台灣\")"
   ]
  },
  {
   "cell_type": "code",
   "execution_count": 14,
   "metadata": {
    "_cell_guid": "fd91ea62-df05-f665-0427-34e5ca1c31cf",
    "scrolled": true
   },
   "outputs": [
    {
     "data": {
      "text/plain": [
       "78"
      ]
     },
     "execution_count": 14,
     "metadata": {},
     "output_type": "execute_result"
    }
   ],
   "source": [
    "len(df[df.tokens_rm_stopwords.str.contains('台灣')])"
   ]
  },
  {
   "cell_type": "code",
   "execution_count": 17,
   "metadata": {},
   "outputs": [
    {
     "data": {
      "text/plain": [
       "0       True\n",
       "1       True\n",
       "2       True\n",
       "3       True\n",
       "4      False\n",
       "       ...  \n",
       "213    False\n",
       "214    False\n",
       "215    False\n",
       "216    False\n",
       "217     True\n",
       "Name: tokens_rm_stopwords, Length: 218, dtype: bool"
      ]
     },
     "execution_count": 17,
     "metadata": {},
     "output_type": "execute_result"
    }
   ],
   "source": [
    "df['tokens_rm_stopwords'].str.contains('國際')"
   ]
  },
  {
   "cell_type": "code",
   "execution_count": 18,
   "metadata": {},
   "outputs": [
    {
     "data": {
      "text/html": [
       "<div>\n",
       "<style scoped>\n",
       "    .dataframe tbody tr th:only-of-type {\n",
       "        vertical-align: middle;\n",
       "    }\n",
       "\n",
       "    .dataframe tbody tr th {\n",
       "        vertical-align: top;\n",
       "    }\n",
       "\n",
       "    .dataframe thead th {\n",
       "        text-align: right;\n",
       "    }\n",
       "</style>\n",
       "<table border=\"1\" class=\"dataframe\">\n",
       "  <thead>\n",
       "    <tr style=\"text-align: right;\">\n",
       "      <th></th>\n",
       "      <th>item_id</th>\n",
       "      <th>date</th>\n",
       "      <th>title</th>\n",
       "      <th>content</th>\n",
       "      <th>sentiment</th>\n",
       "      <th>summary</th>\n",
       "      <th>top_key_freq</th>\n",
       "      <th>tokens</th>\n",
       "      <th>tokens_rm_stopwords</th>\n",
       "      <th>entities</th>\n",
       "      <th>token_pos</th>\n",
       "      <th>link</th>\n",
       "      <th>photo_link</th>\n",
       "      <th>category</th>\n",
       "    </tr>\n",
       "  </thead>\n",
       "  <tbody>\n",
       "    <tr>\n",
       "      <th>0</th>\n",
       "      <td>aipl_20220929_1</td>\n",
       "      <td>2022-09-29</td>\n",
       "      <td>台灣國際漁業展、智慧農業週開幕 逾15國參展</td>\n",
       "      <td>外交部政次田中光今天出席2022年「台灣國際漁業展」與「台灣智慧農業週」聯合開幕儀式，他表示...</td>\n",
       "      <td>0.68</td>\n",
       "      <td>['外交部政次田中光今天出席2022年「台灣國際漁業展」與「台灣智慧農業週」聯合開幕儀式',...</td>\n",
       "      <td>[('展覽', 8), ('台灣', 6), ('廠商', 6), ('參展', 6), (...</td>\n",
       "      <td>['外交部', '政次', '田中光', '今天', '出席', '2022年', '「',...</td>\n",
       "      <td>['外交部', '政次', '田中光', '出席', '台灣', '國際', '漁業展', ...</td>\n",
       "      <td>{(657, 658, 'GPE', '台'), (143, 146, 'PERSON', ...</td>\n",
       "      <td>[('外交部', 'Nc'), ('政次', 'Na'), ('田中光', 'Nb'), (...</td>\n",
       "      <td>https://www.cna.com.tw/news/aipl/202209290375....</td>\n",
       "      <td>https://imgcdn.cna.com.tw/www/WebPhotos/200/20...</td>\n",
       "      <td>政治</td>\n",
       "    </tr>\n",
       "  </tbody>\n",
       "</table>\n",
       "</div>"
      ],
      "text/plain": [
       "           item_id        date                   title  \\\n",
       "0  aipl_20220929_1  2022-09-29  台灣國際漁業展、智慧農業週開幕 逾15國參展   \n",
       "\n",
       "                                             content  sentiment  \\\n",
       "0  外交部政次田中光今天出席2022年「台灣國際漁業展」與「台灣智慧農業週」聯合開幕儀式，他表示...       0.68   \n",
       "\n",
       "                                             summary  \\\n",
       "0  ['外交部政次田中光今天出席2022年「台灣國際漁業展」與「台灣智慧農業週」聯合開幕儀式',...   \n",
       "\n",
       "                                        top_key_freq  \\\n",
       "0  [('展覽', 8), ('台灣', 6), ('廠商', 6), ('參展', 6), (...   \n",
       "\n",
       "                                              tokens  \\\n",
       "0  ['外交部', '政次', '田中光', '今天', '出席', '2022年', '「',...   \n",
       "\n",
       "                                 tokens_rm_stopwords  \\\n",
       "0  ['外交部', '政次', '田中光', '出席', '台灣', '國際', '漁業展', ...   \n",
       "\n",
       "                                            entities  \\\n",
       "0  {(657, 658, 'GPE', '台'), (143, 146, 'PERSON', ...   \n",
       "\n",
       "                                           token_pos  \\\n",
       "0  [('外交部', 'Nc'), ('政次', 'Na'), ('田中光', 'Nb'), (...   \n",
       "\n",
       "                                                link  \\\n",
       "0  https://www.cna.com.tw/news/aipl/202209290375....   \n",
       "\n",
       "                                          photo_link category  \n",
       "0  https://imgcdn.cna.com.tw/www/WebPhotos/200/20...       政治  "
      ]
     },
     "execution_count": 18,
     "metadata": {},
     "output_type": "execute_result"
    }
   ],
   "source": [
    "df[df['tokens_rm_stopwords'].str.contains('國際')].head(1)"
   ]
  },
  {
   "cell_type": "code",
   "execution_count": 19,
   "metadata": {
    "scrolled": true
   },
   "outputs": [
    {
     "data": {
      "text/plain": [
       "48"
      ]
     },
     "execution_count": 19,
     "metadata": {},
     "output_type": "execute_result"
    }
   ],
   "source": [
    "len(df[df['tokens_rm_stopwords'].str.contains('國際')])"
   ]
  },
  {
   "cell_type": "markdown",
   "metadata": {},
   "source": [
    "## Use query() to get the same result"
   ]
  },
  {
   "cell_type": "code",
   "execution_count": 20,
   "metadata": {},
   "outputs": [],
   "source": [
    "# Use query() to get the same result\n",
    "df_query = df.query(\"tokens_rm_stopwords.str.contains('國際')\")"
   ]
  },
  {
   "cell_type": "code",
   "execution_count": 21,
   "metadata": {},
   "outputs": [
    {
     "data": {
      "text/plain": [
       "48"
      ]
     },
     "execution_count": 21,
     "metadata": {},
     "output_type": "execute_result"
    }
   ],
   "source": [
    "len(df_query)"
   ]
  },
  {
   "cell_type": "markdown",
   "metadata": {},
   "source": [
    "# And OR condiction: multiple user keywords"
   ]
  },
  {
   "cell_type": "markdown",
   "metadata": {},
   "source": [
    "## or condition"
   ]
  },
  {
   "cell_type": "raw",
   "metadata": {},
   "source": [
    "in pandas, use '|'  don't use 'or'"
   ]
  },
  {
   "cell_type": "markdown",
   "metadata": {},
   "source": [
    "### approach 1"
   ]
  },
  {
   "cell_type": "code",
   "execution_count": 23,
   "metadata": {
    "scrolled": true
   },
   "outputs": [],
   "source": [
    "df_query = df[df['tokens_rm_stopwords'].str.contains('台灣|國際')]"
   ]
  },
  {
   "cell_type": "code",
   "execution_count": 24,
   "metadata": {},
   "outputs": [
    {
     "data": {
      "text/plain": [
       "98"
      ]
     },
     "execution_count": 24,
     "metadata": {},
     "output_type": "execute_result"
    }
   ],
   "source": [
    "len(df_query)"
   ]
  },
  {
   "cell_type": "markdown",
   "metadata": {},
   "source": [
    "### approach 2"
   ]
  },
  {
   "cell_type": "code",
   "execution_count": 25,
   "metadata": {},
   "outputs": [],
   "source": [
    "queryKey = ['台灣', '國際']"
   ]
  },
  {
   "cell_type": "code",
   "execution_count": 26,
   "metadata": {
    "scrolled": true
   },
   "outputs": [
    {
     "data": {
      "text/plain": [
       "98"
      ]
     },
     "execution_count": 26,
     "metadata": {},
     "output_type": "execute_result"
    }
   ],
   "source": [
    "# This is more flexible.\n",
    "df_query = df[df['tokens_rm_stopwords'].str.contains('|'.join(queryKey))]\n",
    "len(df_query)"
   ]
  },
  {
   "cell_type": "markdown",
   "metadata": {},
   "source": [
    "### approach 3"
   ]
  },
  {
   "cell_type": "code",
   "execution_count": 27,
   "metadata": {},
   "outputs": [],
   "source": [
    "df_query = df[(df.tokens_rm_stopwords.str.contains('台灣')) | (df.tokens_rm_stopwords.str.contains('國際'))]"
   ]
  },
  {
   "cell_type": "code",
   "execution_count": 28,
   "metadata": {},
   "outputs": [
    {
     "data": {
      "text/plain": [
       "98"
      ]
     },
     "execution_count": 28,
     "metadata": {},
     "output_type": "execute_result"
    }
   ],
   "source": [
    "len(df_query)"
   ]
  },
  {
   "cell_type": "markdown",
   "metadata": {},
   "source": [
    "## and condition"
   ]
  },
  {
   "cell_type": "raw",
   "metadata": {},
   "source": [
    "in pandas, use '&'  don't use 'and'"
   ]
  },
  {
   "cell_type": "code",
   "execution_count": 30,
   "metadata": {},
   "outputs": [],
   "source": [
    "df_query = df[(df.tokens_rm_stopwords.str.contains('台灣'))&(df.tokens_rm_stopwords.str.contains('國際'))]"
   ]
  },
  {
   "cell_type": "code",
   "execution_count": 31,
   "metadata": {},
   "outputs": [
    {
     "data": {
      "text/plain": [
       "28"
      ]
     },
     "execution_count": 31,
     "metadata": {},
     "output_type": "execute_result"
    }
   ],
   "source": [
    "len(df_query)"
   ]
  },
  {
   "cell_type": "markdown",
   "metadata": {},
   "source": [
    "## Why can't we use the 'and' operator in pandas?"
   ]
  },
  {
   "cell_type": "raw",
   "metadata": {},
   "source": [
    "In pandas the & operater is overrode (功能取代) to perform logical operation item by item.\n",
    "\n",
    "Therefore, we should use the '&' operator, instead of the 'and' operator.\n",
    "\n",
    "Please refer to the following link:\n",
    "https://stackoverflow.com/questions/21415661/logical-operators-for-boolean-indexing-in-pandas\n",
    "\n",
    "For example, if there are 218 items in df, and in the following command, the operator '&' will performs 218 logical operations for us. The python 'and' operator fails to do this, because python 'and' operator cannot be overrode.\n",
    "\n",
    "(df.tokens_v2.str.contains('肺炎')) & (df.tokens_v2.str.contains('冠狀'))"
   ]
  },
  {
   "cell_type": "markdown",
   "metadata": {},
   "source": [
    "# More flexible appraoch for And OR condiction\n",
    "\n",
    "User all()  any()"
   ]
  },
  {
   "cell_type": "raw",
   "metadata": {},
   "source": [
    "df = pd.DataFrame({'col': [\"apple is delicious\",\n",
    "                           \"banana is delicious\",\n",
    "                           \"apple and banana both are delicious\"]})\n",
    "\n",
    "targets = ['apple', 'banana']\n",
    "\n",
    "# Any word from `targets` are present in sentence.\n",
    ">>> df.col.apply(lambda sentence: any(word in sentence for word in targets))\n",
    "0    True\n",
    "1    True\n",
    "2    True\n",
    "Name: col, dtype: bool\n",
    "\n",
    "# All words from `targets` are present in sentence.\n",
    ">>> df.col.apply(lambda sentence: all(word in sentence for word in targets))\n",
    "0    False\n",
    "1    False\n",
    "2     True\n",
    "Name: col, dtype: bool"
   ]
  },
  {
   "cell_type": "markdown",
   "metadata": {},
   "source": [
    "## OR condition: any()"
   ]
  },
  {
   "cell_type": "code",
   "execution_count": 32,
   "metadata": {},
   "outputs": [],
   "source": [
    "queryKey = ['台灣','國際']"
   ]
  },
  {
   "cell_type": "code",
   "execution_count": 33,
   "metadata": {
    "scrolled": true
   },
   "outputs": [
    {
     "data": {
      "text/plain": [
       "98"
      ]
     },
     "execution_count": 33,
     "metadata": {},
     "output_type": "execute_result"
    }
   ],
   "source": [
    "# This is more flexible.\n",
    "len(df[df['tokens_rm_stopwords'].str.contains('|'.join(queryKey))])"
   ]
  },
  {
   "cell_type": "code",
   "execution_count": 34,
   "metadata": {},
   "outputs": [],
   "source": [
    "# get the same result with different commands\n",
    "df_query = df[df.tokens_rm_stopwords.apply(lambda row: any(word in row for word in queryKey))]"
   ]
  },
  {
   "cell_type": "markdown",
   "metadata": {},
   "source": [
    "## AND condition: all()"
   ]
  },
  {
   "cell_type": "code",
   "execution_count": 36,
   "metadata": {},
   "outputs": [],
   "source": [
    "queryKey = ['台灣','國際']"
   ]
  },
  {
   "cell_type": "code",
   "execution_count": 37,
   "metadata": {},
   "outputs": [],
   "source": [
    "df_query = df[df.tokens_rm_stopwords.apply(lambda row: all(word in row for word in queryKey))]"
   ]
  },
  {
   "cell_type": "code",
   "execution_count": 38,
   "metadata": {},
   "outputs": [
    {
     "data": {
      "text/plain": [
       "28"
      ]
     },
     "execution_count": 38,
     "metadata": {},
     "output_type": "execute_result"
    }
   ],
   "source": [
    "len(df_query)"
   ]
  },
  {
   "cell_type": "markdown",
   "metadata": {},
   "source": [
    "## lambda: how does it work?"
   ]
  },
  {
   "cell_type": "code",
   "execution_count": 34,
   "metadata": {},
   "outputs": [],
   "source": [
    "# lambda is a function with only one line"
   ]
  },
  {
   "cell_type": "code",
   "execution_count": 39,
   "metadata": {},
   "outputs": [],
   "source": [
    "func = lambda x: x+5"
   ]
  },
  {
   "cell_type": "code",
   "execution_count": 40,
   "metadata": {},
   "outputs": [
    {
     "data": {
      "text/plain": [
       "7"
      ]
     },
     "execution_count": 40,
     "metadata": {},
     "output_type": "execute_result"
    }
   ],
   "source": [
    "func(2)"
   ]
  },
  {
   "cell_type": "code",
   "execution_count": 41,
   "metadata": {},
   "outputs": [],
   "source": [
    "numbers = [1,2,3]"
   ]
  },
  {
   "cell_type": "code",
   "execution_count": 42,
   "metadata": {},
   "outputs": [
    {
     "data": {
      "text/plain": [
       "[6, 7, 8]"
      ]
     },
     "execution_count": 42,
     "metadata": {},
     "output_type": "execute_result"
    }
   ],
   "source": [
    "[func(x) for x in numbers]"
   ]
  },
  {
   "cell_type": "code",
   "execution_count": 43,
   "metadata": {},
   "outputs": [
    {
     "data": {
      "text/plain": [
       "[6, 7, 8]"
      ]
     },
     "execution_count": 43,
     "metadata": {},
     "output_type": "execute_result"
    }
   ],
   "source": [
    "numbers = [1,2,3]\n",
    "list(map(func, numbers))"
   ]
  },
  {
   "cell_type": "code",
   "execution_count": 44,
   "metadata": {},
   "outputs": [
    {
     "data": {
      "text/plain": [
       "[6, 7, 8]"
      ]
     },
     "execution_count": 44,
     "metadata": {},
     "output_type": "execute_result"
    }
   ],
   "source": [
    "numbers = [1,2,3]\n",
    "list(map(lambda x: x+5, numbers))"
   ]
  },
  {
   "cell_type": "markdown",
   "metadata": {},
   "source": [
    "### How to use pandas apply()?"
   ]
  },
  {
   "cell_type": "code",
   "execution_count": 45,
   "metadata": {},
   "outputs": [],
   "source": [
    "df_test = pd.DataFrame([1,2,3], columns = ['number'])"
   ]
  },
  {
   "cell_type": "code",
   "execution_count": 46,
   "metadata": {},
   "outputs": [
    {
     "data": {
      "text/html": [
       "<div>\n",
       "<style scoped>\n",
       "    .dataframe tbody tr th:only-of-type {\n",
       "        vertical-align: middle;\n",
       "    }\n",
       "\n",
       "    .dataframe tbody tr th {\n",
       "        vertical-align: top;\n",
       "    }\n",
       "\n",
       "    .dataframe thead th {\n",
       "        text-align: right;\n",
       "    }\n",
       "</style>\n",
       "<table border=\"1\" class=\"dataframe\">\n",
       "  <thead>\n",
       "    <tr style=\"text-align: right;\">\n",
       "      <th></th>\n",
       "      <th>number</th>\n",
       "    </tr>\n",
       "  </thead>\n",
       "  <tbody>\n",
       "    <tr>\n",
       "      <th>0</th>\n",
       "      <td>1</td>\n",
       "    </tr>\n",
       "    <tr>\n",
       "      <th>1</th>\n",
       "      <td>2</td>\n",
       "    </tr>\n",
       "    <tr>\n",
       "      <th>2</th>\n",
       "      <td>3</td>\n",
       "    </tr>\n",
       "  </tbody>\n",
       "</table>\n",
       "</div>"
      ],
      "text/plain": [
       "   number\n",
       "0       1\n",
       "1       2\n",
       "2       3"
      ]
     },
     "execution_count": 46,
     "metadata": {},
     "output_type": "execute_result"
    }
   ],
   "source": [
    "df_test"
   ]
  },
  {
   "cell_type": "code",
   "execution_count": 47,
   "metadata": {},
   "outputs": [
    {
     "data": {
      "text/plain": [
       "0    6\n",
       "1    7\n",
       "2    8\n",
       "Name: number, dtype: int64"
      ]
     },
     "execution_count": 47,
     "metadata": {},
     "output_type": "execute_result"
    }
   ],
   "source": [
    "df_test.number.apply(lambda x: x+5) # add 5 for each element in df_test.number"
   ]
  },
  {
   "cell_type": "code",
   "execution_count": 49,
   "metadata": {},
   "outputs": [],
   "source": [
    "row = df.tokens_rm_stopwords[0]\n",
    "# row = df.iloc[0].tokens_rm_stopwords # the same result"
   ]
  },
  {
   "cell_type": "code",
   "execution_count": 50,
   "metadata": {},
   "outputs": [
    {
     "data": {
      "text/plain": [
       "\"['外交部', '政次', '田中光', '出席', '台灣', '國際', '漁業展', '台灣', '智慧', '農業', '儀式', '廠商', '參展', '展覽', '規模', '參展', '國家', '國內外', '廠商', '使節', '出席', '展覽', '馬紹爾', '群島', '大使', '艾芮瓊', '聖文森', '格瑞那丁', '大使', '柏安卓', '德經', '辦事處長', '林百科', '馬來西亞', '友誼', '貿易', '中心', '代表', '何瑞萍', '台北', '印尼', '經濟', '貿易', '代表', '貿易', '主任', '蘇迪佑', '匈牙利', '貿易', '辦事處', '商務', '投資', '主任', '戴博斯', '田中光', '台灣', '智慧', '台灣', '國際', '漁業展', '台灣', '漁產', '業界', '國際性', '嘉年華', '展覽', '展覽', '規模', '參展', '國家', '國內外', '廠商', '參展', '廠商', '產學', '機構', '台灣', '漁業', '優質', '產品', '技術', '國際', '展覽', '訂閱', '世界', '電子報', '掌握', '天下', '輸入', '電子', '信箱', '格式', '訂閱', '訂閱', '田中光', '國家', '廠商', '參展', '吐瓦魯國', '大使館', '巴布亞', '紐幾內亞', '商務', '代表', '聖文森', '格瑞那丁', '大使館', '史瓦帝尼', '王國', '大使館', '匈牙利', '貿易', '辦事處', '參展', '攤位', '國際', '廠商', '外交團', '展覽', '國際性', '異國', '風采', '田中光', '世界', '經濟', 'COVID-19', '疫情', '衝擊', '實體', '展覽', '台灣版', '漁業', '經貿', '泡泡', '經營', '展覽', '規模', '田中光韓', '代表', '半導體業', '獲益', '印尼', '舉辦', '酒會', '代表', '經貿', '關係']\""
      ]
     },
     "execution_count": 50,
     "metadata": {},
     "output_type": "execute_result"
    }
   ],
   "source": [
    "row"
   ]
  },
  {
   "cell_type": "code",
   "execution_count": 51,
   "metadata": {},
   "outputs": [],
   "source": [
    "queryKey = ['台灣','國際']"
   ]
  },
  {
   "cell_type": "code",
   "execution_count": 52,
   "metadata": {},
   "outputs": [
    {
     "data": {
      "text/plain": [
       "[True, True]"
      ]
     },
     "execution_count": 52,
     "metadata": {},
     "output_type": "execute_result"
    }
   ],
   "source": [
    "[(qk in row) for qk in queryKey]"
   ]
  },
  {
   "cell_type": "code",
   "execution_count": 53,
   "metadata": {},
   "outputs": [
    {
     "data": {
      "text/plain": [
       "True"
      ]
     },
     "execution_count": 53,
     "metadata": {},
     "output_type": "execute_result"
    }
   ],
   "source": [
    "# all() performs AND operation\n",
    "all((qk in row) for qk in queryKey)"
   ]
  },
  {
   "cell_type": "code",
   "execution_count": 54,
   "metadata": {},
   "outputs": [
    {
     "data": {
      "text/plain": [
       "<function __main__.<lambda>(row)>"
      ]
     },
     "execution_count": 54,
     "metadata": {},
     "output_type": "execute_result"
    }
   ],
   "source": [
    "lambda row: all((qk in row) for qk in queryKey)"
   ]
  },
  {
   "cell_type": "code",
   "execution_count": 56,
   "metadata": {},
   "outputs": [
    {
     "data": {
      "text/plain": [
       "0       True\n",
       "1       True\n",
       "2       True\n",
       "3       True\n",
       "4      False\n",
       "       ...  \n",
       "213    False\n",
       "214    False\n",
       "215    False\n",
       "216    False\n",
       "217     True\n",
       "Name: tokens_rm_stopwords, Length: 218, dtype: bool"
      ]
     },
     "execution_count": 56,
     "metadata": {},
     "output_type": "execute_result"
    }
   ],
   "source": [
    "# for each element in df.tokens_rm_stopwords check if keyword is in the tokens_rm_stopwords.\n",
    "df.tokens_rm_stopwords.apply(lambda row: all((qk in row) for qk in queryKey))"
   ]
  },
  {
   "cell_type": "code",
   "execution_count": 57,
   "metadata": {},
   "outputs": [
    {
     "data": {
      "text/plain": [
       "28"
      ]
     },
     "execution_count": 57,
     "metadata": {},
     "output_type": "execute_result"
    }
   ],
   "source": [
    "len(df[df.tokens_rm_stopwords.apply(lambda row: all((qk in row) for qk in queryKey))])"
   ]
  },
  {
   "cell_type": "markdown",
   "metadata": {},
   "source": [
    "### What is all()  and any()?\n",
    "\n",
    "all: AND\n",
    "\n",
    "any: OR"
   ]
  },
  {
   "cell_type": "code",
   "execution_count": 63,
   "metadata": {},
   "outputs": [
    {
     "data": {
      "text/plain": [
       "True"
      ]
     },
     "execution_count": 63,
     "metadata": {},
     "output_type": "execute_result"
    }
   ],
   "source": [
    "all( [True, True] )"
   ]
  },
  {
   "cell_type": "code",
   "execution_count": 64,
   "metadata": {},
   "outputs": [
    {
     "data": {
      "text/plain": [
       "True"
      ]
     },
     "execution_count": 64,
     "metadata": {},
     "output_type": "execute_result"
    }
   ],
   "source": [
    "any( [True, True] )"
   ]
  },
  {
   "cell_type": "code",
   "execution_count": 65,
   "metadata": {},
   "outputs": [
    {
     "data": {
      "text/plain": [
       "False"
      ]
     },
     "execution_count": 65,
     "metadata": {},
     "output_type": "execute_result"
    }
   ],
   "source": [
    "all( [True, False] )"
   ]
  },
  {
   "cell_type": "code",
   "execution_count": 66,
   "metadata": {},
   "outputs": [
    {
     "data": {
      "text/plain": [
       "True"
      ]
     },
     "execution_count": 66,
     "metadata": {},
     "output_type": "execute_result"
    }
   ],
   "source": [
    "any( [True, False] )"
   ]
  },
  {
   "cell_type": "markdown",
   "metadata": {},
   "source": [
    "# Does it work for full text search on \"content\"? \n",
    "\n",
    "Yes! Get the same result."
   ]
  },
  {
   "cell_type": "code",
   "execution_count": 59,
   "metadata": {},
   "outputs": [],
   "source": [
    "row = df.iloc[0].content"
   ]
  },
  {
   "cell_type": "code",
   "execution_count": 60,
   "metadata": {},
   "outputs": [
    {
     "data": {
      "text/plain": [
       "'外交部政次田中光今天出席2022年「台灣國際漁業展」與「台灣智慧農業週」聯合開幕儀式，他表示，今年有超過15國約270家廠商參展，展覽規模、參展國家與國內外廠商均逐年增加。多位駐台使節今天出席展覽，包括馬紹爾群島大使艾芮瓊（Neijon Rema Edwards）、聖文森及格瑞那丁大使柏安卓（Andrea Clare Bowman）、德經辦事處長林百科（Axel Limberg）、馬來西亞友誼及貿易中心代表何瑞萍（Sharon Ho Swee Peng）、駐台北印尼經濟貿易代表處貿易主任蘇迪佑（Sulistyono Tarno）、匈牙利貿易辦事處商務投資主任戴博斯（Balazs Szabo）等。田中光表示，台灣智慧農業週暨台灣國際漁業展是台灣農、漁產業界的國際性嘉年華展覽，已邁向第8年，展覽規模、參展的國家與國內外廠商均逐年增加，感謝參展廠商及產學研究機構的努力，將台灣農、漁業優質產品及技術在國際展覽中呈現。訂閱《早安世界》電子報 每天3分鐘掌握10件天下事 請輸入正確的電子信箱格式訂閱感謝您的訂閱！田中光指出，今年有超過15個國家、大約270家廠商參展，其中包括吐瓦魯國大使館、巴布亞紐幾內亞駐台商務代表處、聖文森及格瑞那丁大使館、史瓦帝尼王國大使館、匈牙利貿易辦事處的參展攤位，感謝國際廠商以及外交團的參與，使展覽更具國際性及異國風采。田中光表示，在世界經濟受到COVID-19疫情嚴重衝擊下，這項實體展覽，就像是台灣版的「農、漁業經貿泡泡」，期盼透過大家努力經營，使展覽規模更形壯大。田中光韓駐台代表：台韓半導體業緊密相連使彼此獲益印尼舉辦國慶酒會 駐台代表盼深化與台經貿關係'"
      ]
     },
     "execution_count": 60,
     "metadata": {},
     "output_type": "execute_result"
    }
   ],
   "source": [
    "row"
   ]
  },
  {
   "cell_type": "code",
   "execution_count": 63,
   "metadata": {},
   "outputs": [
    {
     "data": {
      "text/plain": [
       "True"
      ]
     },
     "execution_count": 63,
     "metadata": {},
     "output_type": "execute_result"
    }
   ],
   "source": [
    "queryKey = ['台灣', '國際']\n",
    "all((qk in row) for qk in queryKey)"
   ]
  },
  {
   "cell_type": "code",
   "execution_count": 64,
   "metadata": {},
   "outputs": [
    {
     "data": {
      "text/plain": [
       "28"
      ]
     },
     "execution_count": 64,
     "metadata": {},
     "output_type": "execute_result"
    }
   ],
   "source": [
    "len(df[df.content.apply(lambda row: all((qk in row) for qk in queryKey))])"
   ]
  },
  {
   "cell_type": "markdown",
   "metadata": {},
   "source": [
    "## Pandas supports full text search for Chinese and English."
   ]
  },
  {
   "cell_type": "markdown",
   "metadata": {},
   "source": [
    "pandas supports full text search for both English and Chinese\n",
    "\n",
    "pandas can search news content which is not tokenized.\n",
    "\n",
    "You can input any text and pandas will search it for you. That's awesome!"
   ]
  },
  {
   "cell_type": "raw",
   "metadata": {},
   "source": [
    "df['content']"
   ]
  },
  {
   "cell_type": "code",
   "execution_count": 65,
   "metadata": {},
   "outputs": [
    {
     "data": {
      "text/html": [
       "<div>\n",
       "<style scoped>\n",
       "    .dataframe tbody tr th:only-of-type {\n",
       "        vertical-align: middle;\n",
       "    }\n",
       "\n",
       "    .dataframe tbody tr th {\n",
       "        vertical-align: top;\n",
       "    }\n",
       "\n",
       "    .dataframe thead th {\n",
       "        text-align: right;\n",
       "    }\n",
       "</style>\n",
       "<table border=\"1\" class=\"dataframe\">\n",
       "  <thead>\n",
       "    <tr style=\"text-align: right;\">\n",
       "      <th></th>\n",
       "      <th>item_id</th>\n",
       "      <th>date</th>\n",
       "      <th>title</th>\n",
       "      <th>content</th>\n",
       "      <th>sentiment</th>\n",
       "      <th>summary</th>\n",
       "      <th>top_key_freq</th>\n",
       "      <th>tokens</th>\n",
       "      <th>tokens_rm_stopwords</th>\n",
       "      <th>entities</th>\n",
       "      <th>token_pos</th>\n",
       "      <th>link</th>\n",
       "      <th>photo_link</th>\n",
       "      <th>category</th>\n",
       "    </tr>\n",
       "  </thead>\n",
       "  <tbody>\n",
       "    <tr>\n",
       "      <th>9</th>\n",
       "      <td>aipl_20220929_10</td>\n",
       "      <td>2022-09-29</td>\n",
       "      <td>陳時中提北市社宅4年達5.7萬戶  租金採量能付費</td>\n",
       "      <td>民進黨台北市長參選人陳時中今天與民團進行住宅政策座談會，提出4年讓台北市社宅達到5.7萬戶目...</td>\n",
       "      <td>0.0</td>\n",
       "      <td>['民進黨台北市長參選人陳時中今天與民團進行住宅政策座談會', '他的目標是若卸任時台北已有...</td>\n",
       "      <td>[('陳時中', 13), ('社宅', 11), ('政府', 6), ('參選人', 5...</td>\n",
       "      <td>['民進黨', '台北市長', '參選人', '陳時中', '今天', '與', '民團',...</td>\n",
       "      <td>['民進黨', '台北市長', '參選人', '陳時中', '民團', '進行', '住宅'...</td>\n",
       "      <td>{(952, 956, 'CARDINAL', '1.1萬'), (408, 412, 'C...</td>\n",
       "      <td>[('民進黨', 'Nb'), ('台北市長', 'Na'), ('參選人', 'Na'),...</td>\n",
       "      <td>https://www.cna.com.tw/news/aipl/202209290285....</td>\n",
       "      <td>https://imgcdn.cna.com.tw/www/WebPhotos/200/20...</td>\n",
       "      <td>政治</td>\n",
       "    </tr>\n",
       "  </tbody>\n",
       "</table>\n",
       "</div>"
      ],
      "text/plain": [
       "            item_id        date                      title  \\\n",
       "9  aipl_20220929_10  2022-09-29  陳時中提北市社宅4年達5.7萬戶  租金採量能付費   \n",
       "\n",
       "                                             content  sentiment  \\\n",
       "9  民進黨台北市長參選人陳時中今天與民團進行住宅政策座談會，提出4年讓台北市社宅達到5.7萬戶目...        0.0   \n",
       "\n",
       "                                             summary  \\\n",
       "9  ['民進黨台北市長參選人陳時中今天與民團進行住宅政策座談會', '他的目標是若卸任時台北已有...   \n",
       "\n",
       "                                        top_key_freq  \\\n",
       "9  [('陳時中', 13), ('社宅', 11), ('政府', 6), ('參選人', 5...   \n",
       "\n",
       "                                              tokens  \\\n",
       "9  ['民進黨', '台北市長', '參選人', '陳時中', '今天', '與', '民團',...   \n",
       "\n",
       "                                 tokens_rm_stopwords  \\\n",
       "9  ['民進黨', '台北市長', '參選人', '陳時中', '民團', '進行', '住宅'...   \n",
       "\n",
       "                                            entities  \\\n",
       "9  {(952, 956, 'CARDINAL', '1.1萬'), (408, 412, 'C...   \n",
       "\n",
       "                                           token_pos  \\\n",
       "9  [('民進黨', 'Nb'), ('台北市長', 'Na'), ('參選人', 'Na'),...   \n",
       "\n",
       "                                                link  \\\n",
       "9  https://www.cna.com.tw/news/aipl/202209290285....   \n",
       "\n",
       "                                          photo_link category  \n",
       "9  https://imgcdn.cna.com.tw/www/WebPhotos/200/20...       政治  "
      ]
     },
     "execution_count": 65,
     "metadata": {},
     "output_type": "execute_result"
    }
   ],
   "source": [
    "df[df.content.str.contains('陳時中')]"
   ]
  },
  {
   "cell_type": "code",
   "execution_count": 66,
   "metadata": {},
   "outputs": [
    {
     "data": {
      "text/html": [
       "<div>\n",
       "<style scoped>\n",
       "    .dataframe tbody tr th:only-of-type {\n",
       "        vertical-align: middle;\n",
       "    }\n",
       "\n",
       "    .dataframe tbody tr th {\n",
       "        vertical-align: top;\n",
       "    }\n",
       "\n",
       "    .dataframe thead th {\n",
       "        text-align: right;\n",
       "    }\n",
       "</style>\n",
       "<table border=\"1\" class=\"dataframe\">\n",
       "  <thead>\n",
       "    <tr style=\"text-align: right;\">\n",
       "      <th></th>\n",
       "      <th>item_id</th>\n",
       "      <th>date</th>\n",
       "      <th>title</th>\n",
       "      <th>content</th>\n",
       "      <th>sentiment</th>\n",
       "      <th>summary</th>\n",
       "      <th>top_key_freq</th>\n",
       "      <th>tokens</th>\n",
       "      <th>tokens_rm_stopwords</th>\n",
       "      <th>entities</th>\n",
       "      <th>token_pos</th>\n",
       "      <th>link</th>\n",
       "      <th>photo_link</th>\n",
       "      <th>category</th>\n",
       "    </tr>\n",
       "  </thead>\n",
       "  <tbody>\n",
       "    <tr>\n",
       "      <th>9</th>\n",
       "      <td>aipl_20220929_10</td>\n",
       "      <td>2022-09-29</td>\n",
       "      <td>陳時中提北市社宅4年達5.7萬戶  租金採量能付費</td>\n",
       "      <td>民進黨台北市長參選人陳時中今天與民團進行住宅政策座談會，提出4年讓台北市社宅達到5.7萬戶目...</td>\n",
       "      <td>0.0</td>\n",
       "      <td>['民進黨台北市長參選人陳時中今天與民團進行住宅政策座談會', '他的目標是若卸任時台北已有...</td>\n",
       "      <td>[('陳時中', 13), ('社宅', 11), ('政府', 6), ('參選人', 5...</td>\n",
       "      <td>['民進黨', '台北市長', '參選人', '陳時中', '今天', '與', '民團',...</td>\n",
       "      <td>['民進黨', '台北市長', '參選人', '陳時中', '民團', '進行', '住宅'...</td>\n",
       "      <td>{(952, 956, 'CARDINAL', '1.1萬'), (408, 412, 'C...</td>\n",
       "      <td>[('民進黨', 'Nb'), ('台北市長', 'Na'), ('參選人', 'Na'),...</td>\n",
       "      <td>https://www.cna.com.tw/news/aipl/202209290285....</td>\n",
       "      <td>https://imgcdn.cna.com.tw/www/WebPhotos/200/20...</td>\n",
       "      <td>政治</td>\n",
       "    </tr>\n",
       "  </tbody>\n",
       "</table>\n",
       "</div>"
      ],
      "text/plain": [
       "            item_id        date                      title  \\\n",
       "9  aipl_20220929_10  2022-09-29  陳時中提北市社宅4年達5.7萬戶  租金採量能付費   \n",
       "\n",
       "                                             content  sentiment  \\\n",
       "9  民進黨台北市長參選人陳時中今天與民團進行住宅政策座談會，提出4年讓台北市社宅達到5.7萬戶目...        0.0   \n",
       "\n",
       "                                             summary  \\\n",
       "9  ['民進黨台北市長參選人陳時中今天與民團進行住宅政策座談會', '他的目標是若卸任時台北已有...   \n",
       "\n",
       "                                        top_key_freq  \\\n",
       "9  [('陳時中', 13), ('社宅', 11), ('政府', 6), ('參選人', 5...   \n",
       "\n",
       "                                              tokens  \\\n",
       "9  ['民進黨', '台北市長', '參選人', '陳時中', '今天', '與', '民團',...   \n",
       "\n",
       "                                 tokens_rm_stopwords  \\\n",
       "9  ['民進黨', '台北市長', '參選人', '陳時中', '民團', '進行', '住宅'...   \n",
       "\n",
       "                                            entities  \\\n",
       "9  {(952, 956, 'CARDINAL', '1.1萬'), (408, 412, 'C...   \n",
       "\n",
       "                                           token_pos  \\\n",
       "9  [('民進黨', 'Nb'), ('台北市長', 'Na'), ('參選人', 'Na'),...   \n",
       "\n",
       "                                                link  \\\n",
       "9  https://www.cna.com.tw/news/aipl/202209290285....   \n",
       "\n",
       "                                          photo_link category  \n",
       "9  https://imgcdn.cna.com.tw/www/WebPhotos/200/20...       政治  "
      ]
     },
     "execution_count": 66,
     "metadata": {},
     "output_type": "execute_result"
    }
   ],
   "source": [
    "df[df.content.str.contains('住宅政策')]"
   ]
  },
  {
   "cell_type": "code",
   "execution_count": 68,
   "metadata": {
    "scrolled": true
   },
   "outputs": [
    {
     "data": {
      "text/html": [
       "<div>\n",
       "<style scoped>\n",
       "    .dataframe tbody tr th:only-of-type {\n",
       "        vertical-align: middle;\n",
       "    }\n",
       "\n",
       "    .dataframe tbody tr th {\n",
       "        vertical-align: top;\n",
       "    }\n",
       "\n",
       "    .dataframe thead th {\n",
       "        text-align: right;\n",
       "    }\n",
       "</style>\n",
       "<table border=\"1\" class=\"dataframe\">\n",
       "  <thead>\n",
       "    <tr style=\"text-align: right;\">\n",
       "      <th></th>\n",
       "      <th>item_id</th>\n",
       "      <th>date</th>\n",
       "      <th>title</th>\n",
       "      <th>content</th>\n",
       "      <th>sentiment</th>\n",
       "      <th>summary</th>\n",
       "      <th>top_key_freq</th>\n",
       "      <th>tokens</th>\n",
       "      <th>tokens_rm_stopwords</th>\n",
       "      <th>entities</th>\n",
       "      <th>token_pos</th>\n",
       "      <th>link</th>\n",
       "      <th>photo_link</th>\n",
       "      <th>category</th>\n",
       "    </tr>\n",
       "  </thead>\n",
       "  <tbody>\n",
       "    <tr>\n",
       "      <th>94</th>\n",
       "      <td>aie_20220929_15</td>\n",
       "      <td>2022-09-29</td>\n",
       "      <td>數位部秀台灣雲市集推動成果 3.2萬家企業響應</td>\n",
       "      <td>數位部數位產業署今天舉行「台灣雲市集推動成果記者會」，數位產業署表示，截至8月底止，已超過3...</td>\n",
       "      <td>0.0</td>\n",
       "      <td>['已超過3.2萬家企業選購台灣雲市集上架的雲端軟體', '每家企業最高補助新台幣3萬元點數...</td>\n",
       "      <td>[('雲端', 7), ('企業', 6), ('台灣', 5), ('產業署', 4), ...</td>\n",
       "      <td>['數位部', '數位', '產業署', '今天', '舉行', '「', '台灣', '雲...</td>\n",
       "      <td>['數位部', '數位', '產業署', '舉行', '台灣', '雲市集', '推動', ...</td>\n",
       "      <td>{(376, 380, 'WORK_OF_ART', '早安世界'), (114, 119,...</td>\n",
       "      <td>[('數位部', 'Nc'), ('數位', 'A'), ('產業署', 'Nc'), ('...</td>\n",
       "      <td>https://www.cna.com.tw/news/afe/202209290278.aspx</td>\n",
       "      <td>https://imgcdn.cna.com.tw/www/WebPhotos/200/20...</td>\n",
       "      <td>產經</td>\n",
       "    </tr>\n",
       "    <tr>\n",
       "      <th>95</th>\n",
       "      <td>aie_20220929_16</td>\n",
       "      <td>2022-09-29</td>\n",
       "      <td>台台併NCC關注低資費減少 台灣大承諾保留</td>\n",
       "      <td>（中央社記者蘇思云、江明晏台北29日電）NCC委員今天在「台台併」聽證會提問，關注合併案通過...</td>\n",
       "      <td>0.0</td>\n",
       "      <td>['也關注低頻段頻譜集中對市場競爭影響', '可以看到台灣大哥大合併後在1GHz以下可使用頻...</td>\n",
       "      <td>[('台灣', 21), ('市場', 13), ('電信', 10), ('業者', 9)...</td>\n",
       "      <td>['（', '中央社', '記者', '蘇思云', '、', '江明晏', '台北', '2...</td>\n",
       "      <td>['中央社', '記者', '蘇思云', '江明晏', '台北', '委員', '台併', ...</td>\n",
       "      <td>{(173, 176, 'PERSON', '賴弦五'), (519, 522, 'ORG'...</td>\n",
       "      <td>[('（', 'PARENTHESISCATEGORY'), ('中央社', 'Nc'), ...</td>\n",
       "      <td>https://www.cna.com.tw/news/afe/202209290268.aspx</td>\n",
       "      <td>https://imgcdn.cna.com.tw/www/WebPhotos/200/20...</td>\n",
       "      <td>產經</td>\n",
       "    </tr>\n",
       "    <tr>\n",
       "      <th>110</th>\n",
       "      <td>amov_20220928_11</td>\n",
       "      <td>2022-09-28</td>\n",
       "      <td>導演關錦鵬籌備香港台北故事 盼與張孝全合作</td>\n",
       "      <td>電影「阮玲玉」4K數位修復導演版將在台上映，導演關錦鵬今天表示，近10年沒和女主角張曼玉見面...</td>\n",
       "      <td>1.0</td>\n",
       "      <td>['「阮玲玉」由關錦鵬執導', '關錦鵬開心許多年輕香港導演獲得肯定', '導演關錦鵬今天表...</td>\n",
       "      <td>[('張曼玉', 10), ('關錦鵬', 8), ('阮玲玉', 6), ('香港', 5...</td>\n",
       "      <td>['電影', '「', '阮玲玉', '」', '4K', '數位', '修復', '導演版...</td>\n",
       "      <td>['電影', '阮玲玉', '數位', '修復', '導演版', '上映', '導演', '...</td>\n",
       "      <td>{(228, 231, 'PERSON', '張曼玉'), (116, 119, 'PERS...</td>\n",
       "      <td>[('電影', 'Na'), ('「', 'PARENTHESISCATEGORY'), (...</td>\n",
       "      <td>https://www.cna.com.tw/news/amov/202209280319....</td>\n",
       "      <td>https://imgcdn.cna.com.tw/www/WebPhotos/200/20...</td>\n",
       "      <td>娛樂</td>\n",
       "    </tr>\n",
       "    <tr>\n",
       "      <th>136</th>\n",
       "      <td>ahel_20220929_17</td>\n",
       "      <td>2022-09-29</td>\n",
       "      <td>ETC產業輸出海外 遠通電收總經理張永昌獲獎</td>\n",
       "      <td>遠通電收今天表示，遠通電收總經理兼執行董事張永昌，因帶領台灣國道電子收費數位轉型、並推動智慧...</td>\n",
       "      <td>0.0</td>\n",
       "      <td>['因帶領台灣國道電子收費數位轉型、並推動智慧交通產業化外銷國際', '帶領台灣國道電子收費...</td>\n",
       "      <td>[('遠通', 9), ('電收', 7), ('張永昌', 4), ('領袖', 4), ...</td>\n",
       "      <td>['遠通', '電收', '今天', '表示', '，', '遠通', '電收', '總經理...</td>\n",
       "      <td>['遠通', '電收', '遠通', '電收', '總經理', '董事', '張永昌', '...</td>\n",
       "      <td>{(4, 6, 'DATE', '今天'), (334, 336, 'ORG', '遠通')...</td>\n",
       "      <td>[('遠通', 'Nb'), ('電收', 'Nb'), ('今天', 'Nd'), ('表...</td>\n",
       "      <td>https://www.cna.com.tw/news/ahel/202209290274....</td>\n",
       "      <td>NaN</td>\n",
       "      <td>生活</td>\n",
       "    </tr>\n",
       "  </tbody>\n",
       "</table>\n",
       "</div>"
      ],
      "text/plain": [
       "              item_id        date                    title  \\\n",
       "94    aie_20220929_15  2022-09-29  數位部秀台灣雲市集推動成果 3.2萬家企業響應   \n",
       "95    aie_20220929_16  2022-09-29    台台併NCC關注低資費減少 台灣大承諾保留   \n",
       "110  amov_20220928_11  2022-09-28    導演關錦鵬籌備香港台北故事 盼與張孝全合作   \n",
       "136  ahel_20220929_17  2022-09-29   ETC產業輸出海外 遠通電收總經理張永昌獲獎   \n",
       "\n",
       "                                               content  sentiment  \\\n",
       "94   數位部數位產業署今天舉行「台灣雲市集推動成果記者會」，數位產業署表示，截至8月底止，已超過3...        0.0   \n",
       "95   （中央社記者蘇思云、江明晏台北29日電）NCC委員今天在「台台併」聽證會提問，關注合併案通過...        0.0   \n",
       "110  電影「阮玲玉」4K數位修復導演版將在台上映，導演關錦鵬今天表示，近10年沒和女主角張曼玉見面...        1.0   \n",
       "136  遠通電收今天表示，遠通電收總經理兼執行董事張永昌，因帶領台灣國道電子收費數位轉型、並推動智慧...        0.0   \n",
       "\n",
       "                                               summary  \\\n",
       "94   ['已超過3.2萬家企業選購台灣雲市集上架的雲端軟體', '每家企業最高補助新台幣3萬元點數...   \n",
       "95   ['也關注低頻段頻譜集中對市場競爭影響', '可以看到台灣大哥大合併後在1GHz以下可使用頻...   \n",
       "110  ['「阮玲玉」由關錦鵬執導', '關錦鵬開心許多年輕香港導演獲得肯定', '導演關錦鵬今天表...   \n",
       "136  ['因帶領台灣國道電子收費數位轉型、並推動智慧交通產業化外銷國際', '帶領台灣國道電子收費...   \n",
       "\n",
       "                                          top_key_freq  \\\n",
       "94   [('雲端', 7), ('企業', 6), ('台灣', 5), ('產業署', 4), ...   \n",
       "95   [('台灣', 21), ('市場', 13), ('電信', 10), ('業者', 9)...   \n",
       "110  [('張曼玉', 10), ('關錦鵬', 8), ('阮玲玉', 6), ('香港', 5...   \n",
       "136  [('遠通', 9), ('電收', 7), ('張永昌', 4), ('領袖', 4), ...   \n",
       "\n",
       "                                                tokens  \\\n",
       "94   ['數位部', '數位', '產業署', '今天', '舉行', '「', '台灣', '雲...   \n",
       "95   ['（', '中央社', '記者', '蘇思云', '、', '江明晏', '台北', '2...   \n",
       "110  ['電影', '「', '阮玲玉', '」', '4K', '數位', '修復', '導演版...   \n",
       "136  ['遠通', '電收', '今天', '表示', '，', '遠通', '電收', '總經理...   \n",
       "\n",
       "                                   tokens_rm_stopwords  \\\n",
       "94   ['數位部', '數位', '產業署', '舉行', '台灣', '雲市集', '推動', ...   \n",
       "95   ['中央社', '記者', '蘇思云', '江明晏', '台北', '委員', '台併', ...   \n",
       "110  ['電影', '阮玲玉', '數位', '修復', '導演版', '上映', '導演', '...   \n",
       "136  ['遠通', '電收', '遠通', '電收', '總經理', '董事', '張永昌', '...   \n",
       "\n",
       "                                              entities  \\\n",
       "94   {(376, 380, 'WORK_OF_ART', '早安世界'), (114, 119,...   \n",
       "95   {(173, 176, 'PERSON', '賴弦五'), (519, 522, 'ORG'...   \n",
       "110  {(228, 231, 'PERSON', '張曼玉'), (116, 119, 'PERS...   \n",
       "136  {(4, 6, 'DATE', '今天'), (334, 336, 'ORG', '遠通')...   \n",
       "\n",
       "                                             token_pos  \\\n",
       "94   [('數位部', 'Nc'), ('數位', 'A'), ('產業署', 'Nc'), ('...   \n",
       "95   [('（', 'PARENTHESISCATEGORY'), ('中央社', 'Nc'), ...   \n",
       "110  [('電影', 'Na'), ('「', 'PARENTHESISCATEGORY'), (...   \n",
       "136  [('遠通', 'Nb'), ('電收', 'Nb'), ('今天', 'Nd'), ('表...   \n",
       "\n",
       "                                                  link  \\\n",
       "94   https://www.cna.com.tw/news/afe/202209290278.aspx   \n",
       "95   https://www.cna.com.tw/news/afe/202209290268.aspx   \n",
       "110  https://www.cna.com.tw/news/amov/202209280319....   \n",
       "136  https://www.cna.com.tw/news/ahel/202209290274....   \n",
       "\n",
       "                                            photo_link category  \n",
       "94   https://imgcdn.cna.com.tw/www/WebPhotos/200/20...       產經  \n",
       "95   https://imgcdn.cna.com.tw/www/WebPhotos/200/20...       產經  \n",
       "110  https://imgcdn.cna.com.tw/www/WebPhotos/200/20...       娛樂  \n",
       "136                                                NaN       生活  "
      ]
     },
     "execution_count": 68,
     "metadata": {},
     "output_type": "execute_result"
    }
   ],
   "source": [
    "df[df.content.str.contains('台灣')&df.content.str.contains('數位')]"
   ]
  },
  {
   "cell_type": "markdown",
   "metadata": {},
   "source": [
    "# How is the result by category\n",
    "\n",
    "Define count_keyword() function"
   ]
  },
  {
   "cell_type": "code",
   "execution_count": 70,
   "metadata": {},
   "outputs": [],
   "source": [
    "queryKey = ['台灣','國際']"
   ]
  },
  {
   "cell_type": "code",
   "execution_count": 78,
   "metadata": {},
   "outputs": [],
   "source": [
    "df_query = df[df.tokens_rm_stopwords.apply(lambda row: all(word in row for word in queryKey))]"
   ]
  },
  {
   "cell_type": "code",
   "execution_count": 79,
   "metadata": {},
   "outputs": [
    {
     "data": {
      "text/plain": [
       "28"
      ]
     },
     "execution_count": 79,
     "metadata": {},
     "output_type": "execute_result"
    }
   ],
   "source": [
    "len(df_query)"
   ]
  },
  {
   "cell_type": "code",
   "execution_count": 80,
   "metadata": {},
   "outputs": [],
   "source": [
    "# For the query_df, count the occurence and frequency for each category.\n",
    "\n",
    "# (1) cate_occurence = {}  How many pieces of news containing the keyword \n",
    "# (2) cate_freq = {}       How many times the keywords were mentioned\n",
    "\n",
    "\n",
    "news_categories = ['政治', '科技', '運動', '證卷', '產經', '娛樂', '生活', '國際', '社會', '文化', '兩岸', '全部']\n",
    "\n",
    "def count_keyword(query_df, user_keywords):\n",
    "    cate_occurence = {}\n",
    "    cate_freq = {}\n",
    "\n",
    "    for cate in news_categories:\n",
    "        cate_occurence[cate] = 0\n",
    "        cate_freq[cate] = 0\n",
    "\n",
    "    for idx, row in query_df.iterrows():\n",
    "        # count number of news\n",
    "        cate_occurence[row.category] += 1\n",
    "        cate_occurence['全部'] += 1\n",
    "        \n",
    "        # count user keyword frequency by checking every word in tokens_rm_stopwords\n",
    "        tokens = eval(row.tokens_rm_stopwords)\n",
    "        freq =  len([word for word in tokens if (word in user_keywords)])\n",
    "        cate_freq[row.category] += freq\n",
    "        cate_freq['全部'] += freq\n",
    "        \n",
    "    return cate_freq, cate_occurence"
   ]
  },
  {
   "cell_type": "code",
   "execution_count": 81,
   "metadata": {},
   "outputs": [
    {
     "data": {
      "text/plain": [
       "({'政治': 89,\n",
       "  '科技': 8,\n",
       "  '運動': 17,\n",
       "  '證卷': 5,\n",
       "  '產經': 46,\n",
       "  '娛樂': 3,\n",
       "  '生活': 43,\n",
       "  '國際': 9,\n",
       "  '社會': 0,\n",
       "  '文化': 41,\n",
       "  '兩岸': 12,\n",
       "  '全部': 273},\n",
       " {'政治': 7,\n",
       "  '科技': 1,\n",
       "  '運動': 2,\n",
       "  '證卷': 2,\n",
       "  '產經': 3,\n",
       "  '娛樂': 1,\n",
       "  '生活': 5,\n",
       "  '國際': 2,\n",
       "  '社會': 0,\n",
       "  '文化': 4,\n",
       "  '兩岸': 1,\n",
       "  '全部': 28})"
      ]
     },
     "execution_count": 81,
     "metadata": {},
     "output_type": "execute_result"
    }
   ],
   "source": [
    "queryKey=['台灣','國際']\n",
    "\n",
    "count_keyword(df_query, queryKey)"
   ]
  },
  {
   "cell_type": "markdown",
   "metadata": {},
   "source": [
    "# Fuction: filtering dataframe for Django"
   ]
  },
  {
   "cell_type": "code",
   "execution_count": 82,
   "metadata": {},
   "outputs": [],
   "source": [
    "from datetime import datetime, timedelta\n",
    "\n",
    "# (關鍵字、判斷式、類別、週)\n",
    "def filter_dataFrame(user_keywords, cond, cate, weeks):\n",
    "\n",
    "    # end date: the date of the latest record of news\n",
    "    end_date = df.date.max()\n",
    "    \n",
    "    # start date\n",
    "    start_date = (datetime.strptime(end_date, '%Y-%m-%d').date() - timedelta(weeks = weeks)).strftime('%Y-%m-%d')\n",
    "\n",
    "    # proceed filtering\n",
    "    if (cate == \"全部\") & (cond == 'and'):\n",
    "        query_df = df[(df.date >= start_date) & (df.date <= end_date) & df.tokens_rm_stopwords.apply(\n",
    "            lambda row: all((qk in row) for qk in user_keywords))]\n",
    "    \n",
    "    elif (cate == \"全部\") & (cond == 'or'):\n",
    "        queryKey = '|'.join(user_keywords)\n",
    "        query_df = df[(df['date'] >= start_date) & (df['date'] <= end_date) & df.tokens_rm_stopwords.str.contains(queryKey)]\n",
    "    \n",
    "    elif (cond == 'and'):\n",
    "        query_df = df[(df.category == cate) & (df.date >= start_date) & (df.date <= end_date) & df.tokens_rm_stopwords.apply(\n",
    "            lambda row: all((qk in row) for qk in user_keywords))]\n",
    "   \n",
    "    elif (cond == 'or'):\n",
    "        queryKey = '|'.join(user_keywords)\n",
    "        query_df = df[(df.category == cate) & (df['date'] >= start_date) & (df['date'] <= end_date) & df[\n",
    "            'tokens_rm_stopwords'].str.contains(queryKey)]\n",
    "\n",
    "    return query_df"
   ]
  },
  {
   "cell_type": "code",
   "execution_count": 84,
   "metadata": {},
   "outputs": [],
   "source": [
    "def filter_dataFrame_fullText(user_keywords, cond, cate,weeks):\n",
    "\n",
    "    # end date: the date of the latest record of news\n",
    "    end_date = df.date.max()\n",
    "    \n",
    "    # start date\n",
    "    start_date = (datetime.strptime(end_date, '%Y-%m-%d').date() - timedelta(weeks=weeks)).strftime('%Y-%m-%d')\n",
    "\n",
    "    # proceed filtering\n",
    "    if (cate == \"全部\") & (cond == 'and'):\n",
    "        query_df = df[(df.date >= start_date) & (df.date <= end_date) & df.content.apply(\n",
    "            lambda row: all((qk in row) for qk in user_keywords))]\n",
    "\n",
    "    elif (cate == \"全部\") & (cond == 'or'):\n",
    "        queryKey = '|'.join(user_keywords)\n",
    "        query_df = df[(df['date'] >= start_date) & (df['date'] <= end_date) & df.content.str.contains(queryKey)]\n",
    "\n",
    "    elif (cond == 'and'):\n",
    "        query_df = df[(df.category == cate) & (df.date >= start_date) & (df.date <= end_date) & df.content.apply(\n",
    "            lambda row: all((qk in row) for qk in user_keywords))]\n",
    "            \n",
    "    elif (cond == 'or'):\n",
    "        queryKey = '|'.join(user_keywords)\n",
    "        query_df = df[(df.category == cate) & (df['date'] >= start_date) & (df['date'] <= end_date) & df[\n",
    "            'content'].str.contains(queryKey)]\n",
    "\n",
    "    return query_df"
   ]
  },
  {
   "cell_type": "markdown",
   "metadata": {},
   "source": [
    "## Now we can conveniently call those functions"
   ]
  },
  {
   "cell_type": "code",
   "execution_count": 85,
   "metadata": {},
   "outputs": [],
   "source": [
    "user_keywords = ['台灣','國際']\n",
    "cond = 'and'\n",
    "cate = '政治'\n",
    "weeks = 2\n",
    "df_query = filter_dataFrame(user_keywords, cond, cate, weeks)"
   ]
  },
  {
   "cell_type": "code",
   "execution_count": 86,
   "metadata": {},
   "outputs": [
    {
     "data": {
      "text/plain": [
       "7"
      ]
     },
     "execution_count": 86,
     "metadata": {},
     "output_type": "execute_result"
    }
   ],
   "source": [
    "len(df_query)"
   ]
  },
  {
   "cell_type": "code",
   "execution_count": 87,
   "metadata": {},
   "outputs": [],
   "source": [
    "user_keywords = ['台灣','國際']\n",
    "cond = 'and'\n",
    "cate = '政治'\n",
    "weeks = 2\n",
    "df_query = filter_dataFrame_fullText(user_keywords, cond, cate, weeks)"
   ]
  },
  {
   "cell_type": "code",
   "execution_count": 88,
   "metadata": {},
   "outputs": [
    {
     "data": {
      "text/plain": [
       "7"
      ]
     },
     "execution_count": 88,
     "metadata": {},
     "output_type": "execute_result"
    }
   ],
   "source": [
    "len(df_query)"
   ]
  },
  {
   "cell_type": "code",
   "execution_count": 89,
   "metadata": {},
   "outputs": [
    {
     "data": {
      "text/plain": [
       "({'政治': 89,\n",
       "  '科技': 0,\n",
       "  '運動': 0,\n",
       "  '證卷': 0,\n",
       "  '產經': 0,\n",
       "  '娛樂': 0,\n",
       "  '生活': 0,\n",
       "  '國際': 0,\n",
       "  '社會': 0,\n",
       "  '文化': 0,\n",
       "  '兩岸': 0,\n",
       "  '全部': 89},\n",
       " {'政治': 7,\n",
       "  '科技': 0,\n",
       "  '運動': 0,\n",
       "  '證卷': 0,\n",
       "  '產經': 0,\n",
       "  '娛樂': 0,\n",
       "  '生活': 0,\n",
       "  '國際': 0,\n",
       "  '社會': 0,\n",
       "  '文化': 0,\n",
       "  '兩岸': 0,\n",
       "  '全部': 7})"
      ]
     },
     "execution_count": 89,
     "metadata": {},
     "output_type": "execute_result"
    }
   ],
   "source": [
    "count_keyword(df_query, user_keywords)"
   ]
  },
  {
   "cell_type": "markdown",
   "metadata": {},
   "source": [
    "# views.py for app_user_keyword"
   ]
  },
  {
   "cell_type": "raw",
   "metadata": {},
   "source": [
    "from django.shortcuts import render\n",
    "import pandas as pd\n",
    "from django.http import JsonResponse\n",
    "from django.views.decorators.csrf import csrf_exempt\n",
    "from datetime import datetime, timedelta\n",
    "\n",
    "# (1) we can load data using read_csv()\n",
    "# global variable\n",
    "# df = pd.read_csv('dataset/preprocessed_news_218posts.csv', sep = '|')\n",
    "\n",
    "# (2) we can load data using reload_df_data() function\n",
    "def reload_df_data():\n",
    "    # global variable\n",
    "    global  df\n",
    "    df = pd.read_csv('dataset/preprocessed_news_218posts.csv', sep = '|')\n",
    "\n",
    "# We should reload df when necessary\n",
    "reload_df_data() \n",
    "\n",
    "def home(request):\n",
    "    return render(request, 'app_user_keyword/home.html')\n",
    "\n",
    "# When POST is used, make this function be exempted from the csrf \n",
    "@csrf_exempt\n",
    "def api_get_top_userkey(request):\n",
    "    # (1) get keywords, category, condition, and weeks passed from frontend\n",
    "    userkey = request.POST['userkey']\n",
    "    cate = request.POST['cate']\n",
    "    cond = request.POST['cond']\n",
    "    weeks = int(request.POST['weeks'])\n",
    "    key = userkey.split()\n",
    "    \n",
    "    # (2) make df_query global, so it can be used by other functions\n",
    "    global  df_query \n",
    "\n",
    "    # (3) filter dataframe\n",
    "    df_query = filter_dataFrame(key, cond, cate,weeks)\n",
    "    #print(len(df_query))\n",
    "\n",
    "    # (4) get frequency data\n",
    "    key_freq_cat, key_occurrence_cat = count_keyword(df_query, key)\n",
    "    print(key_occurrence_cat)\n",
    "    \n",
    "    # (5) get line chart data\n",
    "    # key_time_freq = [\n",
    "    # '{\"x\": \"2019-03-07\", \"y\": 2}',\n",
    "    # '{\"x\": \"2019-03-08\", \"y\": 2}',\n",
    "    # '{\"x\": \"2019-03-09\", \"y\": 13}']\n",
    "    key_time_freq = get_keyword_time_based_freq(df_query)\n",
    "\n",
    "    # (6) response all data to frontend home page\n",
    "    response = {\n",
    "    'key_occurrence_cat': key_occurrence_cat,\n",
    "    'key_freq_cat': key_freq_cat,\n",
    "    'key_time_freq': key_time_freq, }\n",
    "\n",
    "    return JsonResponse(response)\n",
    "\n",
    "def filter_dataFrame(key, cond, cate,weeks):\n",
    "    # end date: the date of the latest record of news\n",
    "    end_date = df.date.max()\n",
    "    print('latest date for dataset:', end_date)\n",
    "\n",
    "    # start date\n",
    "    start_date = (datetime.strptime(end_date, '%Y-%m-%d').date() - timedelta(weeks=weeks)).strftime('%Y-%m-%d')\n",
    "\n",
    "    # proceed filtering\n",
    "    if (cate == \"全部\") & (cond == 'and'):\n",
    "        query_df = df[(df.date >= start_date) & (df.date <= end_date) & df.tokens_rm_stopwords.apply(\n",
    "            lambda row: all((qk in row) for qk in key))]\n",
    "            \n",
    "    elif (cate == \"全部\") & (cond == 'or'):\n",
    "        queryKey = '|'.join(key)\n",
    "        query_df = df[(df['date'] >= start_date) & (df['date'] <= end_date) & df.tokens_rm_stopwords.str.contains(queryKey)]\n",
    "    elif (cond == 'and'):\n",
    "        query_df = df[(df.category == cate) & (df.date >= start_date) & (df.date <= end_date) & df.tokens_rm_stopwords.apply(\n",
    "            lambda row: all((qk in row) for qk in key))]\n",
    "    elif (cond == 'or'):\n",
    "        queryKey = '|'.join(key)\n",
    "        query_df = df[(df.category == cate) & (df['date'] >= start_date) & (df['date'] <= end_date) & df[\n",
    "            'tokens_rm_stopwords'].str.contains(queryKey)]\n",
    "\n",
    "    return query_df\n",
    "\n",
    "\n",
    "# ** How many pieces of news containing the keyword(s)?\n",
    "# ** How many times were the keyword(s) mentioned?\n",
    "\n",
    "# For the df_query, count the occurence and frequency for every category:\n",
    "# (1) cate_occurence={}  number of pieces of news\n",
    "# (2) cate_freq={}       number of times the keywords were mentioned\n",
    "\n",
    "news_categories = ['全部','政治', '科技', '運動', '證卷', '產經', '娛樂', '生活', '國際', '社會', '文化', '兩岸']\n",
    "\n",
    "def count_keyword(df_query, key):\n",
    "    cate_occurence = {}\n",
    "    cate_freq = {}\n",
    "\n",
    "    for cate in news_categories:\n",
    "        cate_occurence[cate] = 0\n",
    "        cate_freq[cate] = 0\n",
    "\n",
    "    for idx, row in df_query.iterrows():\n",
    "        # count pieces of news\n",
    "        cate_occurence[row.category] += 1\n",
    "        cate_occurence['全部'] += 1\n",
    "        # count keyword frequency\n",
    "        tokens = eval(row.tokens_rm_stopwords)\n",
    "        freq =  len([word for word in tokens if (word in key)])\n",
    "        cate_freq[row.category] += freq\n",
    "        cate_freq['全部'] += freq\n",
    "    return cate_freq, cate_occurence\n",
    "\n",
    "def get_keyword_time_based_freq(df_query):\n",
    "    date_samples = df_query.date\n",
    "    query_freq = pd.DataFrame({'date_index': pd.to_datetime(date_samples), 'freq': [1 for _ in range(len(df_query))]})\n",
    "    data = query_freq.groupby(pd.Grouper(key='date_index', freq='D')).sum()\n",
    "    time_data = []\n",
    "    for i, idx in enumerate(data.index):\n",
    "        row = {'x': idx.strftime('%Y-%m-%d'), 'y': int(data.iloc[i].freq)}\n",
    "        time_data.append(row)\n",
    "    return time_data\n",
    "\n",
    "print(\"app_user_keyword -- 關鍵詞熱門度分析載入成功!\")\n",
    "\n"
   ]
  }
 ],
 "metadata": {
  "kernelspec": {
   "display_name": "Python 3.10.2 64-bit",
   "language": "python",
   "name": "python3"
  },
  "language_info": {
   "codemirror_mode": {
    "name": "ipython",
    "version": 3
   },
   "file_extension": ".py",
   "mimetype": "text/x-python",
   "name": "python",
   "nbconvert_exporter": "python",
   "pygments_lexer": "ipython3",
   "version": "3.10.2"
  },
  "toc": {
   "base_numbering": 1,
   "nav_menu": {},
   "number_sections": true,
   "sideBar": true,
   "skip_h1_title": false,
   "title_cell": "Table of Contents",
   "title_sidebar": "Contents",
   "toc_cell": false,
   "toc_position": {},
   "toc_section_display": true,
   "toc_window_display": true
  },
  "vscode": {
   "interpreter": {
    "hash": "df95319d8ce4e1d89f5365ae10992bc1f65da593082b1d264e8f529830ec2f02"
   }
  }
 },
 "nbformat": 4,
 "nbformat_minor": 2
}
